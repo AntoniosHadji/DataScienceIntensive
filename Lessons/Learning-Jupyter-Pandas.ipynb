{
 "cells": [
  {
   "cell_type": "code",
   "execution_count": 1,
   "metadata": {
    "collapsed": true
   },
   "outputs": [],
   "source": [
    "a=10"
   ]
  },
  {
   "cell_type": "code",
   "execution_count": 2,
   "metadata": {
    "collapsed": false
   },
   "outputs": [
    {
     "name": "stdout",
     "output_type": "stream",
     "text": [
      "10\n"
     ]
    }
   ],
   "source": [
    "print(a)"
   ]
  },
  {
   "cell_type": "code",
   "execution_count": 3,
   "metadata": {
    "collapsed": false
   },
   "outputs": [
    {
     "name": "stdout",
     "output_type": "stream",
     "text": [
      "100\n"
     ]
    }
   ],
   "source": [
    "print(a*10)"
   ]
  },
  {
   "cell_type": "code",
   "execution_count": 4,
   "metadata": {
    "collapsed": false
   },
   "outputs": [
    {
     "data": {
      "text/plain": [
       "u'/home/antonios/Documents/Projects/MySlideRule'"
      ]
     },
     "execution_count": 4,
     "metadata": {},
     "output_type": "execute_result"
    }
   ],
   "source": [
    "pwd"
   ]
  },
  {
   "cell_type": "code",
   "execution_count": 5,
   "metadata": {
    "collapsed": false
   },
   "outputs": [
    {
     "name": "stdout",
     "output_type": "stream",
     "text": [
      "Testing.ipynb  \u001b[0m\u001b[01;35miPython-Notebooks\u001b[0m/  \u001b[01;35mnotebook-master\u001b[0m/\r\n"
     ]
    }
   ],
   "source": [
    "ls"
   ]
  },
  {
   "cell_type": "code",
   "execution_count": 6,
   "metadata": {
    "collapsed": false
   },
   "outputs": [
    {
     "name": "stdout",
     "output_type": "stream",
     "text": [
      "Populating the interactive namespace from numpy and matplotlib\n"
     ]
    }
   ],
   "source": []
  },
  {
   "cell_type": "code",
   "execution_count": 7,
   "metadata": {
    "collapsed": false,
    "scrolled": true
   },
   "outputs": [
    {
     "data": {
      "text/plain": [
       "[<matplotlib.lines.Line2D at 0x7fe8bc4ee210>]"
      ]
     },
     "execution_count": 7,
     "metadata": {},
     "output_type": "execute_result"
    },
    {
     "data": {
      "image/png": "[encoded data removed]",
      "text/plain": [
       "<matplotlib.figure.Figure at 0x7fe8bd60b050>"
      ]
     },
     "metadata": {},
     "output_type": "display_data"
    }
   ],
   "source": [
    "x = 1.0\n",
    "y = array([1.0,2.0])\n",
    "z = randn(10,10)\n",
    "plot(mean(z,0))\n"
   ]
  },
  {
   "cell_type": "code",
   "execution_count": 8,
   "metadata": {
    "collapsed": false
   },
   "outputs": [
    {
     "data": {
      "text/plain": [
       "[<matplotlib.lines.Line2D at 0x7fe8bc400190>]"
      ]
     },
     "execution_count": 8,
     "metadata": {},
     "output_type": "execute_result"
    },
    {
     "data": {
      "image/png": "[encoded data removed]",
      "text/plain": [
       "<matplotlib.figure.Figure at 0x7fe8bc46ca50>"
      ]
     },
     "metadata": {},
     "output_type": "display_data"
    }
   ],
   "source": [
    "plot(x)"
   ]
  },
  {
   "cell_type": "code",
   "execution_count": 9,
   "metadata": {
    "collapsed": false
   },
   "outputs": [
    {
     "data": {
      "text/plain": [
       "[<matplotlib.lines.Line2D at 0x7fe8bc32f410>]"
      ]
     },
     "execution_count": 9,
     "metadata": {},
     "output_type": "execute_result"
    },
    {
     "data": {
      "image/png": "[encoded data removed]",
      "text/plain": [
       "<matplotlib.figure.Figure at 0x7fe8bc3b1d90>"
      ]
     },
     "metadata": {},
     "output_type": "display_data"
    }
   ],
   "source": [
    "plot(y)"
   ]
  },
  {
   "cell_type": "markdown",
   "metadata": {},
   "source": [
    "using  \n",
    "```from __future__ import print_function```  \n",
    "to force requirement of parentheses"
   ]
  },
  {
   "cell_type": "code",
   "execution_count": 13,
   "metadata": {
    "collapsed": false
   },
   "outputs": [
    {
     "name": "stdout",
     "output_type": "stream",
     "text": [
      "10\n"
     ]
    }
   ],
   "source": [
    "print(a)"
   ]
  },
  {
   "cell_type": "code",
   "execution_count": 14,
   "metadata": {
    "collapsed": true
   },
   "outputs": [],
   "source": [
    "s = pd.Series([1,3,5,np.nan,6,8])"
   ]
  },
  {
   "cell_type": "code",
   "execution_count": 15,
   "metadata": {
    "collapsed": false
   },
   "outputs": [
    {
     "data": {
      "text/plain": [
       "0     1\n",
       "1     3\n",
       "2     5\n",
       "3   NaN\n",
       "4     6\n",
       "5     8\n",
       "dtype: float64"
      ]
     },
     "execution_count": 15,
     "metadata": {},
     "output_type": "execute_result"
    }
   ],
   "source": [
    "s"
   ]
  },
  {
   "cell_type": "code",
   "execution_count": 16,
   "metadata": {
    "collapsed": true
   },
   "outputs": [],
   "source": [
    "dates = pd.date_range('20130101', periods=6)"
   ]
  },
  {
   "cell_type": "code",
   "execution_count": 17,
   "metadata": {
    "collapsed": false
   },
   "outputs": [
    {
     "data": {
      "text/plain": [
       "DatetimeIndex(['2013-01-01', '2013-01-02', '2013-01-03', '2013-01-04',\n",
       "               '2013-01-05', '2013-01-06'],\n",
       "              dtype='datetime64[ns]', freq='D')"
      ]
     },
     "execution_count": 17,
     "metadata": {},
     "output_type": "execute_result"
    }
   ],
   "source": [
    "dates"
   ]
  },
  {
   "cell_type": "code",
   "execution_count": 18,
   "metadata": {
    "collapsed": true
   },
   "outputs": [],
   "source": [
    "df = pd.DataFrame(np.random.randn(6,4), index=dates, columns=list('ABCD'))"
   ]
  },
  {
   "cell_type": "code",
   "execution_count": 19,
   "metadata": {
    "collapsed": false
   },
   "outputs": [
    {
     "data": {
      "text/html": [
       "<div>\n",
       "<table border=\"1\" class=\"dataframe\">\n",
       "  <thead>\n",
       "    <tr style=\"text-align: right;\">\n",
       "      <th></th>\n",
       "      <th>A</th>\n",
       "      <th>B</th>\n",
       "      <th>C</th>\n",
       "      <th>D</th>\n",
       "    </tr>\n",
       "  </thead>\n",
       "  <tbody>\n",
       "    <tr>\n",
       "      <th>2013-01-01</th>\n",
       "      <td>0.421547</td>\n",
       "      <td>-0.399598</td>\n",
       "      <td>2.249961</td>\n",
       "      <td>0.275306</td>\n",
       "    </tr>\n",
       "    <tr>\n",
       "      <th>2013-01-02</th>\n",
       "      <td>-0.293990</td>\n",
       "      <td>-2.297270</td>\n",
       "      <td>-0.202764</td>\n",
       "      <td>0.862306</td>\n",
       "    </tr>\n",
       "    <tr>\n",
       "      <th>2013-01-03</th>\n",
       "      <td>2.523310</td>\n",
       "      <td>0.269481</td>\n",
       "      <td>-0.207063</td>\n",
       "      <td>1.361376</td>\n",
       "    </tr>\n",
       "    <tr>\n",
       "      <th>2013-01-04</th>\n",
       "      <td>0.117594</td>\n",
       "      <td>-1.006054</td>\n",
       "      <td>-1.120879</td>\n",
       "      <td>-1.548164</td>\n",
       "    </tr>\n",
       "    <tr>\n",
       "      <th>2013-01-05</th>\n",
       "      <td>-1.231400</td>\n",
       "      <td>0.679527</td>\n",
       "      <td>-0.578231</td>\n",
       "      <td>1.518854</td>\n",
       "    </tr>\n",
       "    <tr>\n",
       "      <th>2013-01-06</th>\n",
       "      <td>-0.739334</td>\n",
       "      <td>-1.297759</td>\n",
       "      <td>1.557869</td>\n",
       "      <td>0.439467</td>\n",
       "    </tr>\n",
       "  </tbody>\n",
       "</table>\n",
       "</div>"
      ],
      "text/plain": [
       "                   A         B         C         D\n",
       "2013-01-01  0.421547 -0.399598  2.249961  0.275306\n",
       "2013-01-02 -0.293990 -2.297270 -0.202764  0.862306\n",
       "2013-01-03  2.523310  0.269481 -0.207063  1.361376\n",
       "2013-01-04  0.117594 -1.006054 -1.120879 -1.548164\n",
       "2013-01-05 -1.231400  0.679527 -0.578231  1.518854\n",
       "2013-01-06 -0.739334 -1.297759  1.557869  0.439467"
      ]
     },
     "execution_count": 19,
     "metadata": {},
     "output_type": "execute_result"
    }
   ],
   "source": [
    "df"
   ]
  },
  {
   "cell_type": "code",
   "execution_count": 21,
   "metadata": {
    "collapsed": false
   },
   "outputs": [],
   "source": [
    "tmp = pd.DataFrame(np.random.randn(100,20),index=pd.date_range('20151206', periods=100))"
   ]
  },
  {
   "cell_type": "code",
   "execution_count": 22,
   "metadata": {
    "collapsed": false,
    "scrolled": true
   },
   "outputs": [
    {
     "data": {
      "text/html": [
       "<div>\n",
       "<table border=\"1\" class=\"dataframe\">\n",
       "  <thead>\n",
       "    <tr style=\"text-align: right;\">\n",
       "      <th></th>\n",
       "      <th>0</th>\n",
       "      <th>1</th>\n",
       "      <th>2</th>\n",
       "      <th>3</th>\n",
       "      <th>4</th>\n",
       "      <th>5</th>\n",
       "      <th>6</th>\n",
       "      <th>7</th>\n",
       "      <th>8</th>\n",
       "      <th>9</th>\n",
       "      <th>10</th>\n",
       "      <th>11</th>\n",
       "      <th>12</th>\n",
       "      <th>13</th>\n",
       "      <th>14</th>\n",
       "      <th>15</th>\n",
       "      <th>16</th>\n",
       "      <th>17</th>\n",
       "      <th>18</th>\n",
       "      <th>19</th>\n",
       "    </tr>\n",
       "  </thead>\n",
       "  <tbody>\n",
       "    <tr>\n",
       "      <th>2015-12-06</th>\n",
       "      <td>-1.149247</td>\n",
       "      <td>-0.636150</td>\n",
       "      <td>-0.162294</td>\n",
       "      <td>0.282216</td>\n",
       "      <td>-0.270644</td>\n",
       "      <td>1.108003</td>\n",
       "      <td>1.475885</td>\n",
       "      <td>-0.396552</td>\n",
       "      <td>-1.020310</td>\n",
       "      <td>0.273131</td>\n",
       "      <td>0.010416</td>\n",
       "      <td>-0.773053</td>\n",
       "      <td>-0.198081</td>\n",
       "      <td>1.320910</td>\n",
       "      <td>0.292807</td>\n",
       "      <td>-0.463693</td>\n",
       "      <td>-2.163611</td>\n",
       "      <td>0.590931</td>\n",
       "      <td>-2.046140</td>\n",
       "      <td>0.942972</td>\n",
       "    </tr>\n",
       "    <tr>\n",
       "      <th>2015-12-07</th>\n",
       "      <td>0.185169</td>\n",
       "      <td>-0.372468</td>\n",
       "      <td>0.225059</td>\n",
       "      <td>0.279114</td>\n",
       "      <td>1.521005</td>\n",
       "      <td>0.389534</td>\n",
       "      <td>-1.706860</td>\n",
       "      <td>-1.032085</td>\n",
       "      <td>-0.021650</td>\n",
       "      <td>1.283660</td>\n",
       "      <td>0.687195</td>\n",
       "      <td>1.159389</td>\n",
       "      <td>-1.359078</td>\n",
       "      <td>-0.181402</td>\n",
       "      <td>0.287833</td>\n",
       "      <td>0.222008</td>\n",
       "      <td>-0.118335</td>\n",
       "      <td>0.405188</td>\n",
       "      <td>-1.892934</td>\n",
       "      <td>1.292700</td>\n",
       "    </tr>\n",
       "    <tr>\n",
       "      <th>2015-12-08</th>\n",
       "      <td>-1.255987</td>\n",
       "      <td>0.509433</td>\n",
       "      <td>1.304981</td>\n",
       "      <td>-1.176917</td>\n",
       "      <td>0.737922</td>\n",
       "      <td>-0.866630</td>\n",
       "      <td>0.124080</td>\n",
       "      <td>-0.353183</td>\n",
       "      <td>0.567491</td>\n",
       "      <td>0.579106</td>\n",
       "      <td>1.097794</td>\n",
       "      <td>-0.248557</td>\n",
       "      <td>-1.039601</td>\n",
       "      <td>1.237936</td>\n",
       "      <td>-2.135005</td>\n",
       "      <td>-0.004943</td>\n",
       "      <td>0.317498</td>\n",
       "      <td>-0.260883</td>\n",
       "      <td>0.151863</td>\n",
       "      <td>0.225281</td>\n",
       "    </tr>\n",
       "    <tr>\n",
       "      <th>2015-12-09</th>\n",
       "      <td>0.863802</td>\n",
       "      <td>0.501561</td>\n",
       "      <td>0.905936</td>\n",
       "      <td>-0.645350</td>\n",
       "      <td>1.095128</td>\n",
       "      <td>-0.500861</td>\n",
       "      <td>-0.839185</td>\n",
       "      <td>0.705495</td>\n",
       "      <td>1.063792</td>\n",
       "      <td>2.071751</td>\n",
       "      <td>0.398380</td>\n",
       "      <td>0.439163</td>\n",
       "      <td>-1.472272</td>\n",
       "      <td>0.261893</td>\n",
       "      <td>0.091948</td>\n",
       "      <td>0.702810</td>\n",
       "      <td>-0.763010</td>\n",
       "      <td>0.919481</td>\n",
       "      <td>0.665613</td>\n",
       "      <td>0.212056</td>\n",
       "    </tr>\n",
       "    <tr>\n",
       "      <th>2015-12-10</th>\n",
       "      <td>-0.202383</td>\n",
       "      <td>-1.558575</td>\n",
       "      <td>0.015473</td>\n",
       "      <td>-0.169998</td>\n",
       "      <td>-0.300309</td>\n",
       "      <td>-0.389737</td>\n",
       "      <td>-1.442782</td>\n",
       "      <td>-0.297881</td>\n",
       "      <td>-0.505463</td>\n",
       "      <td>0.951467</td>\n",
       "      <td>-0.736704</td>\n",
       "      <td>0.673466</td>\n",
       "      <td>-1.812211</td>\n",
       "      <td>-0.393966</td>\n",
       "      <td>-0.010039</td>\n",
       "      <td>0.005443</td>\n",
       "      <td>-1.501431</td>\n",
       "      <td>1.294987</td>\n",
       "      <td>1.277664</td>\n",
       "      <td>-1.768233</td>\n",
       "    </tr>\n",
       "    <tr>\n",
       "      <th>2015-12-11</th>\n",
       "      <td>1.106984</td>\n",
       "      <td>0.067781</td>\n",
       "      <td>0.978133</td>\n",
       "      <td>0.591218</td>\n",
       "      <td>0.544218</td>\n",
       "      <td>1.101986</td>\n",
       "      <td>-0.648621</td>\n",
       "      <td>-0.952321</td>\n",
       "      <td>-0.370177</td>\n",
       "      <td>-0.978955</td>\n",
       "      <td>-0.320883</td>\n",
       "      <td>-0.740770</td>\n",
       "      <td>0.450153</td>\n",
       "      <td>-1.130198</td>\n",
       "      <td>0.255105</td>\n",
       "      <td>-1.810397</td>\n",
       "      <td>-2.483143</td>\n",
       "      <td>2.040635</td>\n",
       "      <td>1.067756</td>\n",
       "      <td>-0.911812</td>\n",
       "    </tr>\n",
       "    <tr>\n",
       "      <th>2015-12-12</th>\n",
       "      <td>-0.351675</td>\n",
       "      <td>-0.247210</td>\n",
       "      <td>0.217234</td>\n",
       "      <td>0.714411</td>\n",
       "      <td>0.041781</td>\n",
       "      <td>-0.806134</td>\n",
       "      <td>0.784507</td>\n",
       "      <td>0.044681</td>\n",
       "      <td>1.928385</td>\n",
       "      <td>0.549531</td>\n",
       "      <td>1.005469</td>\n",
       "      <td>-0.637827</td>\n",
       "      <td>-0.510244</td>\n",
       "      <td>1.863993</td>\n",
       "      <td>0.555824</td>\n",
       "      <td>-1.347709</td>\n",
       "      <td>-0.470388</td>\n",
       "      <td>0.674198</td>\n",
       "      <td>0.428585</td>\n",
       "      <td>-0.098137</td>\n",
       "    </tr>\n",
       "    <tr>\n",
       "      <th>2015-12-13</th>\n",
       "      <td>0.137736</td>\n",
       "      <td>-1.338881</td>\n",
       "      <td>-0.917816</td>\n",
       "      <td>0.958439</td>\n",
       "      <td>0.230650</td>\n",
       "      <td>0.691083</td>\n",
       "      <td>-0.087255</td>\n",
       "      <td>-1.780057</td>\n",
       "      <td>0.620974</td>\n",
       "      <td>0.250469</td>\n",
       "      <td>-1.749354</td>\n",
       "      <td>-0.163382</td>\n",
       "      <td>-1.874600</td>\n",
       "      <td>-0.292240</td>\n",
       "      <td>-0.043570</td>\n",
       "      <td>-1.099853</td>\n",
       "      <td>0.301077</td>\n",
       "      <td>1.502314</td>\n",
       "      <td>0.068799</td>\n",
       "      <td>0.178600</td>\n",
       "    </tr>\n",
       "    <tr>\n",
       "      <th>2015-12-14</th>\n",
       "      <td>-0.532286</td>\n",
       "      <td>0.227331</td>\n",
       "      <td>0.245498</td>\n",
       "      <td>-0.654819</td>\n",
       "      <td>0.717397</td>\n",
       "      <td>0.673317</td>\n",
       "      <td>-2.383271</td>\n",
       "      <td>1.115394</td>\n",
       "      <td>-1.181173</td>\n",
       "      <td>-1.286650</td>\n",
       "      <td>1.194831</td>\n",
       "      <td>-1.177970</td>\n",
       "      <td>-0.754295</td>\n",
       "      <td>-0.559770</td>\n",
       "      <td>1.207564</td>\n",
       "      <td>-1.310946</td>\n",
       "      <td>0.152221</td>\n",
       "      <td>-0.778813</td>\n",
       "      <td>-0.819630</td>\n",
       "      <td>0.536611</td>\n",
       "    </tr>\n",
       "    <tr>\n",
       "      <th>2015-12-15</th>\n",
       "      <td>-0.459250</td>\n",
       "      <td>1.333797</td>\n",
       "      <td>0.121432</td>\n",
       "      <td>0.858905</td>\n",
       "      <td>-0.430736</td>\n",
       "      <td>0.115372</td>\n",
       "      <td>-0.270588</td>\n",
       "      <td>-0.425565</td>\n",
       "      <td>-0.545965</td>\n",
       "      <td>0.150297</td>\n",
       "      <td>0.350933</td>\n",
       "      <td>-0.002657</td>\n",
       "      <td>1.600033</td>\n",
       "      <td>1.775020</td>\n",
       "      <td>-1.512061</td>\n",
       "      <td>-0.614227</td>\n",
       "      <td>0.238024</td>\n",
       "      <td>1.127820</td>\n",
       "      <td>-0.145281</td>\n",
       "      <td>-0.226879</td>\n",
       "    </tr>\n",
       "    <tr>\n",
       "      <th>2015-12-16</th>\n",
       "      <td>0.059211</td>\n",
       "      <td>0.597236</td>\n",
       "      <td>1.750530</td>\n",
       "      <td>-0.269099</td>\n",
       "      <td>-0.729726</td>\n",
       "      <td>1.455710</td>\n",
       "      <td>0.824932</td>\n",
       "      <td>-1.579704</td>\n",
       "      <td>-0.723046</td>\n",
       "      <td>-1.110263</td>\n",
       "      <td>-0.522184</td>\n",
       "      <td>0.851379</td>\n",
       "      <td>-0.011714</td>\n",
       "      <td>-1.283695</td>\n",
       "      <td>0.502477</td>\n",
       "      <td>0.185574</td>\n",
       "      <td>1.075477</td>\n",
       "      <td>-1.794936</td>\n",
       "      <td>0.585335</td>\n",
       "      <td>-0.417431</td>\n",
       "    </tr>\n",
       "    <tr>\n",
       "      <th>2015-12-17</th>\n",
       "      <td>0.000499</td>\n",
       "      <td>0.971580</td>\n",
       "      <td>-0.206004</td>\n",
       "      <td>-1.215444</td>\n",
       "      <td>0.234720</td>\n",
       "      <td>-3.072067</td>\n",
       "      <td>1.131394</td>\n",
       "      <td>-0.357683</td>\n",
       "      <td>-0.382992</td>\n",
       "      <td>-1.575039</td>\n",
       "      <td>0.062728</td>\n",
       "      <td>-1.613258</td>\n",
       "      <td>-0.213606</td>\n",
       "      <td>-0.490709</td>\n",
       "      <td>1.329094</td>\n",
       "      <td>-1.368453</td>\n",
       "      <td>-0.378589</td>\n",
       "      <td>1.040776</td>\n",
       "      <td>2.259242</td>\n",
       "      <td>-0.647850</td>\n",
       "    </tr>\n",
       "    <tr>\n",
       "      <th>2015-12-18</th>\n",
       "      <td>2.194464</td>\n",
       "      <td>-0.912357</td>\n",
       "      <td>-0.777632</td>\n",
       "      <td>-0.089711</td>\n",
       "      <td>0.508651</td>\n",
       "      <td>0.465710</td>\n",
       "      <td>-0.839127</td>\n",
       "      <td>0.369604</td>\n",
       "      <td>0.013762</td>\n",
       "      <td>2.331749</td>\n",
       "      <td>0.333358</td>\n",
       "      <td>0.938555</td>\n",
       "      <td>-0.542398</td>\n",
       "      <td>0.793762</td>\n",
       "      <td>1.531488</td>\n",
       "      <td>-1.768101</td>\n",
       "      <td>-0.414599</td>\n",
       "      <td>-0.114880</td>\n",
       "      <td>0.737763</td>\n",
       "      <td>0.334905</td>\n",
       "    </tr>\n",
       "    <tr>\n",
       "      <th>2015-12-19</th>\n",
       "      <td>0.269327</td>\n",
       "      <td>0.618974</td>\n",
       "      <td>-1.311083</td>\n",
       "      <td>-0.952249</td>\n",
       "      <td>0.500464</td>\n",
       "      <td>0.820934</td>\n",
       "      <td>0.352490</td>\n",
       "      <td>2.102774</td>\n",
       "      <td>0.664671</td>\n",
       "      <td>1.008360</td>\n",
       "      <td>0.295154</td>\n",
       "      <td>0.423138</td>\n",
       "      <td>-0.496727</td>\n",
       "      <td>0.388526</td>\n",
       "      <td>-1.930719</td>\n",
       "      <td>0.167084</td>\n",
       "      <td>2.066807</td>\n",
       "      <td>1.401847</td>\n",
       "      <td>1.035928</td>\n",
       "      <td>0.584497</td>\n",
       "    </tr>\n",
       "    <tr>\n",
       "      <th>2015-12-20</th>\n",
       "      <td>-1.432277</td>\n",
       "      <td>-0.686135</td>\n",
       "      <td>-2.585452</td>\n",
       "      <td>1.737167</td>\n",
       "      <td>-1.090794</td>\n",
       "      <td>-0.381113</td>\n",
       "      <td>1.334461</td>\n",
       "      <td>1.035138</td>\n",
       "      <td>0.785228</td>\n",
       "      <td>0.318040</td>\n",
       "      <td>1.559659</td>\n",
       "      <td>0.222578</td>\n",
       "      <td>2.154184</td>\n",
       "      <td>1.601341</td>\n",
       "      <td>-0.544504</td>\n",
       "      <td>-0.033792</td>\n",
       "      <td>0.732845</td>\n",
       "      <td>0.531905</td>\n",
       "      <td>-1.809884</td>\n",
       "      <td>-0.064509</td>\n",
       "    </tr>\n",
       "    <tr>\n",
       "      <th>2015-12-21</th>\n",
       "      <td>-0.431249</td>\n",
       "      <td>1.300989</td>\n",
       "      <td>-0.037432</td>\n",
       "      <td>0.040301</td>\n",
       "      <td>0.098610</td>\n",
       "      <td>-0.386053</td>\n",
       "      <td>-0.679488</td>\n",
       "      <td>0.336636</td>\n",
       "      <td>0.352707</td>\n",
       "      <td>0.323815</td>\n",
       "      <td>1.221242</td>\n",
       "      <td>2.344689</td>\n",
       "      <td>-1.013926</td>\n",
       "      <td>-0.177761</td>\n",
       "      <td>-0.572638</td>\n",
       "      <td>-1.655589</td>\n",
       "      <td>1.370355</td>\n",
       "      <td>1.670750</td>\n",
       "      <td>-0.689629</td>\n",
       "      <td>0.585794</td>\n",
       "    </tr>\n",
       "    <tr>\n",
       "      <th>2015-12-22</th>\n",
       "      <td>-0.767904</td>\n",
       "      <td>-1.714347</td>\n",
       "      <td>0.432865</td>\n",
       "      <td>0.314823</td>\n",
       "      <td>0.427768</td>\n",
       "      <td>-1.060053</td>\n",
       "      <td>-1.022271</td>\n",
       "      <td>0.645045</td>\n",
       "      <td>-1.119648</td>\n",
       "      <td>0.390992</td>\n",
       "      <td>-0.105786</td>\n",
       "      <td>-0.839734</td>\n",
       "      <td>-1.786439</td>\n",
       "      <td>1.081041</td>\n",
       "      <td>1.364852</td>\n",
       "      <td>-1.152506</td>\n",
       "      <td>0.053202</td>\n",
       "      <td>0.028216</td>\n",
       "      <td>1.251561</td>\n",
       "      <td>0.837250</td>\n",
       "    </tr>\n",
       "    <tr>\n",
       "      <th>2015-12-23</th>\n",
       "      <td>-0.263558</td>\n",
       "      <td>-1.057632</td>\n",
       "      <td>1.515823</td>\n",
       "      <td>1.255957</td>\n",
       "      <td>-0.345181</td>\n",
       "      <td>0.534205</td>\n",
       "      <td>-0.482727</td>\n",
       "      <td>-0.017740</td>\n",
       "      <td>0.623562</td>\n",
       "      <td>0.666054</td>\n",
       "      <td>-1.318705</td>\n",
       "      <td>-0.764406</td>\n",
       "      <td>-0.717248</td>\n",
       "      <td>-0.786457</td>\n",
       "      <td>-0.532574</td>\n",
       "      <td>-0.106276</td>\n",
       "      <td>-1.165090</td>\n",
       "      <td>0.986809</td>\n",
       "      <td>0.002512</td>\n",
       "      <td>-1.240103</td>\n",
       "    </tr>\n",
       "    <tr>\n",
       "      <th>2015-12-24</th>\n",
       "      <td>-0.403613</td>\n",
       "      <td>1.062405</td>\n",
       "      <td>0.466753</td>\n",
       "      <td>-0.643359</td>\n",
       "      <td>-0.647464</td>\n",
       "      <td>0.685860</td>\n",
       "      <td>-0.987221</td>\n",
       "      <td>1.135272</td>\n",
       "      <td>-1.580359</td>\n",
       "      <td>2.227510</td>\n",
       "      <td>1.254646</td>\n",
       "      <td>0.187812</td>\n",
       "      <td>-0.309193</td>\n",
       "      <td>1.297579</td>\n",
       "      <td>0.778817</td>\n",
       "      <td>-0.293019</td>\n",
       "      <td>0.383613</td>\n",
       "      <td>-2.064236</td>\n",
       "      <td>-0.705873</td>\n",
       "      <td>-1.233925</td>\n",
       "    </tr>\n",
       "    <tr>\n",
       "      <th>2015-12-25</th>\n",
       "      <td>1.536763</td>\n",
       "      <td>0.033141</td>\n",
       "      <td>-0.899230</td>\n",
       "      <td>-0.222612</td>\n",
       "      <td>0.533698</td>\n",
       "      <td>-2.153086</td>\n",
       "      <td>-0.819321</td>\n",
       "      <td>0.129497</td>\n",
       "      <td>1.072860</td>\n",
       "      <td>-0.733735</td>\n",
       "      <td>0.421693</td>\n",
       "      <td>-1.116368</td>\n",
       "      <td>0.474173</td>\n",
       "      <td>0.609020</td>\n",
       "      <td>1.402017</td>\n",
       "      <td>-0.009509</td>\n",
       "      <td>1.679075</td>\n",
       "      <td>-0.952656</td>\n",
       "      <td>1.222318</td>\n",
       "      <td>-0.806433</td>\n",
       "    </tr>\n",
       "    <tr>\n",
       "      <th>2015-12-26</th>\n",
       "      <td>0.302291</td>\n",
       "      <td>-0.525498</td>\n",
       "      <td>-0.078927</td>\n",
       "      <td>-1.370237</td>\n",
       "      <td>1.102687</td>\n",
       "      <td>2.436439</td>\n",
       "      <td>-0.239595</td>\n",
       "      <td>0.622006</td>\n",
       "      <td>0.357666</td>\n",
       "      <td>0.888088</td>\n",
       "      <td>-0.022054</td>\n",
       "      <td>-0.023057</td>\n",
       "      <td>0.609336</td>\n",
       "      <td>0.186882</td>\n",
       "      <td>-0.596525</td>\n",
       "      <td>-0.379954</td>\n",
       "      <td>-0.009951</td>\n",
       "      <td>0.569868</td>\n",
       "      <td>-0.730428</td>\n",
       "      <td>-0.693359</td>\n",
       "    </tr>\n",
       "    <tr>\n",
       "      <th>2015-12-27</th>\n",
       "      <td>-1.218719</td>\n",
       "      <td>-0.293099</td>\n",
       "      <td>-1.430537</td>\n",
       "      <td>0.366495</td>\n",
       "      <td>-0.983808</td>\n",
       "      <td>-0.014577</td>\n",
       "      <td>1.205899</td>\n",
       "      <td>3.211792</td>\n",
       "      <td>-0.332449</td>\n",
       "      <td>0.268370</td>\n",
       "      <td>0.011905</td>\n",
       "      <td>2.184555</td>\n",
       "      <td>0.073361</td>\n",
       "      <td>0.881102</td>\n",
       "      <td>0.214544</td>\n",
       "      <td>0.535363</td>\n",
       "      <td>0.486489</td>\n",
       "      <td>-0.260168</td>\n",
       "      <td>0.151877</td>\n",
       "      <td>-0.681879</td>\n",
       "    </tr>\n",
       "    <tr>\n",
       "      <th>2015-12-28</th>\n",
       "      <td>1.600817</td>\n",
       "      <td>1.344377</td>\n",
       "      <td>-0.516204</td>\n",
       "      <td>2.047719</td>\n",
       "      <td>0.093993</td>\n",
       "      <td>1.819407</td>\n",
       "      <td>-0.286307</td>\n",
       "      <td>1.436587</td>\n",
       "      <td>0.172857</td>\n",
       "      <td>1.914412</td>\n",
       "      <td>-0.701382</td>\n",
       "      <td>1.619528</td>\n",
       "      <td>-0.549755</td>\n",
       "      <td>0.755279</td>\n",
       "      <td>-0.513277</td>\n",
       "      <td>-0.005781</td>\n",
       "      <td>2.925913</td>\n",
       "      <td>1.161280</td>\n",
       "      <td>0.067712</td>\n",
       "      <td>2.178889</td>\n",
       "    </tr>\n",
       "    <tr>\n",
       "      <th>2015-12-29</th>\n",
       "      <td>-0.900903</td>\n",
       "      <td>-0.507407</td>\n",
       "      <td>-1.581758</td>\n",
       "      <td>0.367759</td>\n",
       "      <td>-1.439991</td>\n",
       "      <td>-1.344498</td>\n",
       "      <td>-0.474464</td>\n",
       "      <td>0.339501</td>\n",
       "      <td>1.452354</td>\n",
       "      <td>1.417803</td>\n",
       "      <td>-0.456092</td>\n",
       "      <td>-0.104819</td>\n",
       "      <td>-0.325178</td>\n",
       "      <td>-0.267707</td>\n",
       "      <td>0.619238</td>\n",
       "      <td>1.599417</td>\n",
       "      <td>-1.434568</td>\n",
       "      <td>-0.898424</td>\n",
       "      <td>-0.735256</td>\n",
       "      <td>-3.786647</td>\n",
       "    </tr>\n",
       "    <tr>\n",
       "      <th>2015-12-30</th>\n",
       "      <td>0.148046</td>\n",
       "      <td>0.132442</td>\n",
       "      <td>-2.218335</td>\n",
       "      <td>0.998593</td>\n",
       "      <td>-1.563717</td>\n",
       "      <td>1.923907</td>\n",
       "      <td>-1.564670</td>\n",
       "      <td>-0.114818</td>\n",
       "      <td>0.248481</td>\n",
       "      <td>0.842910</td>\n",
       "      <td>-0.646347</td>\n",
       "      <td>-2.286311</td>\n",
       "      <td>0.153949</td>\n",
       "      <td>-0.186505</td>\n",
       "      <td>-1.119848</td>\n",
       "      <td>-0.035713</td>\n",
       "      <td>-1.208743</td>\n",
       "      <td>-0.663234</td>\n",
       "      <td>0.862133</td>\n",
       "      <td>-1.579149</td>\n",
       "    </tr>\n",
       "    <tr>\n",
       "      <th>2015-12-31</th>\n",
       "      <td>0.565822</td>\n",
       "      <td>-1.056637</td>\n",
       "      <td>-0.005425</td>\n",
       "      <td>1.487564</td>\n",
       "      <td>-1.670978</td>\n",
       "      <td>-0.490624</td>\n",
       "      <td>-0.180975</td>\n",
       "      <td>0.815467</td>\n",
       "      <td>-0.544144</td>\n",
       "      <td>-0.270032</td>\n",
       "      <td>-0.901594</td>\n",
       "      <td>1.646240</td>\n",
       "      <td>-1.071876</td>\n",
       "      <td>1.324074</td>\n",
       "      <td>-0.789457</td>\n",
       "      <td>1.878970</td>\n",
       "      <td>0.971617</td>\n",
       "      <td>-0.608112</td>\n",
       "      <td>0.586331</td>\n",
       "      <td>0.012072</td>\n",
       "    </tr>\n",
       "    <tr>\n",
       "      <th>2016-01-01</th>\n",
       "      <td>-1.155737</td>\n",
       "      <td>0.878670</td>\n",
       "      <td>1.431853</td>\n",
       "      <td>0.385722</td>\n",
       "      <td>-1.819262</td>\n",
       "      <td>0.318688</td>\n",
       "      <td>-1.048835</td>\n",
       "      <td>0.900390</td>\n",
       "      <td>0.523148</td>\n",
       "      <td>-1.699868</td>\n",
       "      <td>-0.497477</td>\n",
       "      <td>-0.069389</td>\n",
       "      <td>1.164736</td>\n",
       "      <td>0.955924</td>\n",
       "      <td>0.100377</td>\n",
       "      <td>-1.112042</td>\n",
       "      <td>-0.672014</td>\n",
       "      <td>-0.865523</td>\n",
       "      <td>1.177574</td>\n",
       "      <td>2.234732</td>\n",
       "    </tr>\n",
       "    <tr>\n",
       "      <th>2016-01-02</th>\n",
       "      <td>0.951640</td>\n",
       "      <td>0.248196</td>\n",
       "      <td>-0.740211</td>\n",
       "      <td>-1.251438</td>\n",
       "      <td>-0.599755</td>\n",
       "      <td>-0.992019</td>\n",
       "      <td>-0.055288</td>\n",
       "      <td>1.786652</td>\n",
       "      <td>-0.023929</td>\n",
       "      <td>-0.899755</td>\n",
       "      <td>-0.325092</td>\n",
       "      <td>0.067353</td>\n",
       "      <td>-2.860694</td>\n",
       "      <td>-0.503019</td>\n",
       "      <td>0.500465</td>\n",
       "      <td>0.052306</td>\n",
       "      <td>0.726005</td>\n",
       "      <td>1.906562</td>\n",
       "      <td>0.018254</td>\n",
       "      <td>1.087143</td>\n",
       "    </tr>\n",
       "    <tr>\n",
       "      <th>2016-01-03</th>\n",
       "      <td>-0.668801</td>\n",
       "      <td>0.352667</td>\n",
       "      <td>-1.721155</td>\n",
       "      <td>1.532646</td>\n",
       "      <td>-0.137444</td>\n",
       "      <td>0.545790</td>\n",
       "      <td>0.924131</td>\n",
       "      <td>1.483765</td>\n",
       "      <td>0.357522</td>\n",
       "      <td>0.822491</td>\n",
       "      <td>0.573254</td>\n",
       "      <td>-0.793384</td>\n",
       "      <td>-1.542552</td>\n",
       "      <td>0.162728</td>\n",
       "      <td>-0.394982</td>\n",
       "      <td>-0.082164</td>\n",
       "      <td>1.173801</td>\n",
       "      <td>-0.871844</td>\n",
       "      <td>2.337435</td>\n",
       "      <td>-0.712280</td>\n",
       "    </tr>\n",
       "    <tr>\n",
       "      <th>2016-01-04</th>\n",
       "      <td>0.936098</td>\n",
       "      <td>-1.452198</td>\n",
       "      <td>0.115416</td>\n",
       "      <td>0.672867</td>\n",
       "      <td>-0.918915</td>\n",
       "      <td>-1.407628</td>\n",
       "      <td>-1.620650</td>\n",
       "      <td>0.184027</td>\n",
       "      <td>-0.303589</td>\n",
       "      <td>-0.340335</td>\n",
       "      <td>-1.329387</td>\n",
       "      <td>0.007841</td>\n",
       "      <td>-0.042277</td>\n",
       "      <td>0.181958</td>\n",
       "      <td>0.120000</td>\n",
       "      <td>-0.244406</td>\n",
       "      <td>0.532086</td>\n",
       "      <td>0.141966</td>\n",
       "      <td>0.285251</td>\n",
       "      <td>0.332764</td>\n",
       "    </tr>\n",
       "    <tr>\n",
       "      <th>...</th>\n",
       "      <td>...</td>\n",
       "      <td>...</td>\n",
       "      <td>...</td>\n",
       "      <td>...</td>\n",
       "      <td>...</td>\n",
       "      <td>...</td>\n",
       "      <td>...</td>\n",
       "      <td>...</td>\n",
       "      <td>...</td>\n",
       "      <td>...</td>\n",
       "      <td>...</td>\n",
       "      <td>...</td>\n",
       "      <td>...</td>\n",
       "      <td>...</td>\n",
       "      <td>...</td>\n",
       "      <td>...</td>\n",
       "      <td>...</td>\n",
       "      <td>...</td>\n",
       "      <td>...</td>\n",
       "      <td>...</td>\n",
       "    </tr>\n",
       "    <tr>\n",
       "      <th>2016-02-14</th>\n",
       "      <td>0.330916</td>\n",
       "      <td>-0.334986</td>\n",
       "      <td>2.277235</td>\n",
       "      <td>0.295072</td>\n",
       "      <td>0.050978</td>\n",
       "      <td>-0.122813</td>\n",
       "      <td>-1.049451</td>\n",
       "      <td>1.801932</td>\n",
       "      <td>0.198101</td>\n",
       "      <td>-0.148294</td>\n",
       "      <td>1.653428</td>\n",
       "      <td>-0.991748</td>\n",
       "      <td>2.289764</td>\n",
       "      <td>0.675774</td>\n",
       "      <td>0.580708</td>\n",
       "      <td>-0.123127</td>\n",
       "      <td>-1.131194</td>\n",
       "      <td>2.592501</td>\n",
       "      <td>1.285512</td>\n",
       "      <td>1.421421</td>\n",
       "    </tr>\n",
       "    <tr>\n",
       "      <th>2016-02-15</th>\n",
       "      <td>-0.254626</td>\n",
       "      <td>0.533259</td>\n",
       "      <td>-0.261741</td>\n",
       "      <td>2.424832</td>\n",
       "      <td>0.023767</td>\n",
       "      <td>-0.747507</td>\n",
       "      <td>0.373063</td>\n",
       "      <td>0.425427</td>\n",
       "      <td>-0.566293</td>\n",
       "      <td>-0.983766</td>\n",
       "      <td>0.509885</td>\n",
       "      <td>-0.236224</td>\n",
       "      <td>-0.119884</td>\n",
       "      <td>-0.858948</td>\n",
       "      <td>0.242274</td>\n",
       "      <td>-1.599356</td>\n",
       "      <td>-0.461328</td>\n",
       "      <td>-0.033575</td>\n",
       "      <td>-0.968359</td>\n",
       "      <td>0.961233</td>\n",
       "    </tr>\n",
       "    <tr>\n",
       "      <th>2016-02-16</th>\n",
       "      <td>-0.893178</td>\n",
       "      <td>-0.844429</td>\n",
       "      <td>0.102737</td>\n",
       "      <td>-1.499294</td>\n",
       "      <td>0.071711</td>\n",
       "      <td>-0.826416</td>\n",
       "      <td>-1.549888</td>\n",
       "      <td>-0.680906</td>\n",
       "      <td>0.316735</td>\n",
       "      <td>-0.406345</td>\n",
       "      <td>0.972983</td>\n",
       "      <td>0.461548</td>\n",
       "      <td>0.955868</td>\n",
       "      <td>0.276466</td>\n",
       "      <td>-0.652206</td>\n",
       "      <td>-0.692651</td>\n",
       "      <td>0.335246</td>\n",
       "      <td>0.612681</td>\n",
       "      <td>0.455377</td>\n",
       "      <td>-1.616582</td>\n",
       "    </tr>\n",
       "    <tr>\n",
       "      <th>2016-02-17</th>\n",
       "      <td>1.614889</td>\n",
       "      <td>-0.513116</td>\n",
       "      <td>1.027364</td>\n",
       "      <td>-1.597056</td>\n",
       "      <td>0.078759</td>\n",
       "      <td>-1.234346</td>\n",
       "      <td>0.211646</td>\n",
       "      <td>1.289298</td>\n",
       "      <td>-0.731691</td>\n",
       "      <td>1.359084</td>\n",
       "      <td>0.071579</td>\n",
       "      <td>0.131991</td>\n",
       "      <td>1.118930</td>\n",
       "      <td>-1.319703</td>\n",
       "      <td>-0.947563</td>\n",
       "      <td>-0.470631</td>\n",
       "      <td>-0.247619</td>\n",
       "      <td>0.485914</td>\n",
       "      <td>-2.214114</td>\n",
       "      <td>-0.274964</td>\n",
       "    </tr>\n",
       "    <tr>\n",
       "      <th>2016-02-18</th>\n",
       "      <td>-0.560965</td>\n",
       "      <td>0.071289</td>\n",
       "      <td>-0.217532</td>\n",
       "      <td>-2.309083</td>\n",
       "      <td>0.302879</td>\n",
       "      <td>-0.154343</td>\n",
       "      <td>-0.777622</td>\n",
       "      <td>1.042407</td>\n",
       "      <td>1.600483</td>\n",
       "      <td>-0.769621</td>\n",
       "      <td>1.163903</td>\n",
       "      <td>0.642410</td>\n",
       "      <td>-0.128134</td>\n",
       "      <td>-0.562186</td>\n",
       "      <td>0.406245</td>\n",
       "      <td>0.880468</td>\n",
       "      <td>-0.420660</td>\n",
       "      <td>0.113450</td>\n",
       "      <td>0.788417</td>\n",
       "      <td>0.525345</td>\n",
       "    </tr>\n",
       "    <tr>\n",
       "      <th>2016-02-19</th>\n",
       "      <td>2.535774</td>\n",
       "      <td>-0.183506</td>\n",
       "      <td>-1.081870</td>\n",
       "      <td>-1.056242</td>\n",
       "      <td>0.900964</td>\n",
       "      <td>-0.338956</td>\n",
       "      <td>1.735943</td>\n",
       "      <td>-0.555893</td>\n",
       "      <td>1.850707</td>\n",
       "      <td>-0.889106</td>\n",
       "      <td>1.208685</td>\n",
       "      <td>-1.647630</td>\n",
       "      <td>-1.005130</td>\n",
       "      <td>1.098369</td>\n",
       "      <td>1.579158</td>\n",
       "      <td>-0.851315</td>\n",
       "      <td>-0.599158</td>\n",
       "      <td>0.329096</td>\n",
       "      <td>-0.347558</td>\n",
       "      <td>0.447446</td>\n",
       "    </tr>\n",
       "    <tr>\n",
       "      <th>2016-02-20</th>\n",
       "      <td>-1.397325</td>\n",
       "      <td>1.244896</td>\n",
       "      <td>-1.358916</td>\n",
       "      <td>0.139080</td>\n",
       "      <td>-1.290959</td>\n",
       "      <td>1.070974</td>\n",
       "      <td>-0.274040</td>\n",
       "      <td>0.698590</td>\n",
       "      <td>0.301388</td>\n",
       "      <td>-0.456923</td>\n",
       "      <td>-1.256013</td>\n",
       "      <td>-1.344213</td>\n",
       "      <td>1.606988</td>\n",
       "      <td>-1.172475</td>\n",
       "      <td>1.548625</td>\n",
       "      <td>1.042226</td>\n",
       "      <td>0.803995</td>\n",
       "      <td>1.099728</td>\n",
       "      <td>-0.125591</td>\n",
       "      <td>-1.412583</td>\n",
       "    </tr>\n",
       "    <tr>\n",
       "      <th>2016-02-21</th>\n",
       "      <td>0.599365</td>\n",
       "      <td>-0.022572</td>\n",
       "      <td>1.437762</td>\n",
       "      <td>0.147715</td>\n",
       "      <td>0.626211</td>\n",
       "      <td>0.701964</td>\n",
       "      <td>0.744451</td>\n",
       "      <td>-1.886943</td>\n",
       "      <td>-0.116796</td>\n",
       "      <td>0.876993</td>\n",
       "      <td>0.127258</td>\n",
       "      <td>-0.519236</td>\n",
       "      <td>0.603891</td>\n",
       "      <td>0.219551</td>\n",
       "      <td>1.829500</td>\n",
       "      <td>-1.924602</td>\n",
       "      <td>0.330103</td>\n",
       "      <td>1.339282</td>\n",
       "      <td>-0.351224</td>\n",
       "      <td>-0.795565</td>\n",
       "    </tr>\n",
       "    <tr>\n",
       "      <th>2016-02-22</th>\n",
       "      <td>-0.550518</td>\n",
       "      <td>-2.360902</td>\n",
       "      <td>0.292017</td>\n",
       "      <td>0.103968</td>\n",
       "      <td>-0.901948</td>\n",
       "      <td>-0.351343</td>\n",
       "      <td>-0.249891</td>\n",
       "      <td>-0.051751</td>\n",
       "      <td>-0.732534</td>\n",
       "      <td>-0.637057</td>\n",
       "      <td>-0.226668</td>\n",
       "      <td>0.084125</td>\n",
       "      <td>0.062390</td>\n",
       "      <td>-0.680111</td>\n",
       "      <td>0.084788</td>\n",
       "      <td>0.522613</td>\n",
       "      <td>0.030266</td>\n",
       "      <td>0.211622</td>\n",
       "      <td>1.007439</td>\n",
       "      <td>-0.597288</td>\n",
       "    </tr>\n",
       "    <tr>\n",
       "      <th>2016-02-23</th>\n",
       "      <td>0.228680</td>\n",
       "      <td>0.510657</td>\n",
       "      <td>0.809976</td>\n",
       "      <td>-0.408729</td>\n",
       "      <td>-0.614885</td>\n",
       "      <td>-0.369496</td>\n",
       "      <td>1.279881</td>\n",
       "      <td>-1.373562</td>\n",
       "      <td>-1.048259</td>\n",
       "      <td>1.887241</td>\n",
       "      <td>-1.374318</td>\n",
       "      <td>0.362330</td>\n",
       "      <td>-0.115272</td>\n",
       "      <td>0.268026</td>\n",
       "      <td>-2.928616</td>\n",
       "      <td>-0.788033</td>\n",
       "      <td>-0.580327</td>\n",
       "      <td>-0.522175</td>\n",
       "      <td>-0.806015</td>\n",
       "      <td>0.314772</td>\n",
       "    </tr>\n",
       "    <tr>\n",
       "      <th>2016-02-24</th>\n",
       "      <td>0.939044</td>\n",
       "      <td>-0.762222</td>\n",
       "      <td>0.229531</td>\n",
       "      <td>-0.012493</td>\n",
       "      <td>-0.504202</td>\n",
       "      <td>0.458099</td>\n",
       "      <td>-0.380050</td>\n",
       "      <td>0.038641</td>\n",
       "      <td>-0.279634</td>\n",
       "      <td>0.272131</td>\n",
       "      <td>-2.265013</td>\n",
       "      <td>1.030774</td>\n",
       "      <td>-1.684002</td>\n",
       "      <td>-1.104080</td>\n",
       "      <td>-0.258687</td>\n",
       "      <td>-0.185957</td>\n",
       "      <td>0.251560</td>\n",
       "      <td>-0.427199</td>\n",
       "      <td>0.349488</td>\n",
       "      <td>-0.705217</td>\n",
       "    </tr>\n",
       "    <tr>\n",
       "      <th>2016-02-25</th>\n",
       "      <td>-0.426012</td>\n",
       "      <td>0.741995</td>\n",
       "      <td>0.446237</td>\n",
       "      <td>1.437146</td>\n",
       "      <td>0.390734</td>\n",
       "      <td>-0.944296</td>\n",
       "      <td>-1.065228</td>\n",
       "      <td>0.932965</td>\n",
       "      <td>-0.166438</td>\n",
       "      <td>-1.090888</td>\n",
       "      <td>0.821538</td>\n",
       "      <td>-0.535701</td>\n",
       "      <td>-0.446046</td>\n",
       "      <td>0.805968</td>\n",
       "      <td>0.551803</td>\n",
       "      <td>-0.633674</td>\n",
       "      <td>-1.317878</td>\n",
       "      <td>0.023484</td>\n",
       "      <td>-0.590078</td>\n",
       "      <td>0.900523</td>\n",
       "    </tr>\n",
       "    <tr>\n",
       "      <th>2016-02-26</th>\n",
       "      <td>-2.341494</td>\n",
       "      <td>-0.157478</td>\n",
       "      <td>-1.793928</td>\n",
       "      <td>0.835619</td>\n",
       "      <td>-0.272632</td>\n",
       "      <td>-0.080602</td>\n",
       "      <td>1.191598</td>\n",
       "      <td>0.425852</td>\n",
       "      <td>-0.115601</td>\n",
       "      <td>0.037831</td>\n",
       "      <td>1.149049</td>\n",
       "      <td>0.056198</td>\n",
       "      <td>0.903031</td>\n",
       "      <td>-0.480497</td>\n",
       "      <td>0.528967</td>\n",
       "      <td>0.967543</td>\n",
       "      <td>0.123659</td>\n",
       "      <td>-1.730547</td>\n",
       "      <td>0.865042</td>\n",
       "      <td>0.564339</td>\n",
       "    </tr>\n",
       "    <tr>\n",
       "      <th>2016-02-27</th>\n",
       "      <td>-0.966931</td>\n",
       "      <td>-0.191614</td>\n",
       "      <td>1.971269</td>\n",
       "      <td>-0.218682</td>\n",
       "      <td>-0.161290</td>\n",
       "      <td>-1.529723</td>\n",
       "      <td>-0.683697</td>\n",
       "      <td>0.227011</td>\n",
       "      <td>-0.305496</td>\n",
       "      <td>-2.274679</td>\n",
       "      <td>0.680168</td>\n",
       "      <td>0.156640</td>\n",
       "      <td>0.165724</td>\n",
       "      <td>-0.149547</td>\n",
       "      <td>0.164369</td>\n",
       "      <td>-2.670419</td>\n",
       "      <td>0.491659</td>\n",
       "      <td>1.545356</td>\n",
       "      <td>-0.611225</td>\n",
       "      <td>-0.294852</td>\n",
       "    </tr>\n",
       "    <tr>\n",
       "      <th>2016-02-28</th>\n",
       "      <td>0.154274</td>\n",
       "      <td>-1.207485</td>\n",
       "      <td>-0.162902</td>\n",
       "      <td>1.276546</td>\n",
       "      <td>-0.284986</td>\n",
       "      <td>-0.129461</td>\n",
       "      <td>-0.356771</td>\n",
       "      <td>-0.139469</td>\n",
       "      <td>-0.830656</td>\n",
       "      <td>1.159855</td>\n",
       "      <td>0.674977</td>\n",
       "      <td>0.859571</td>\n",
       "      <td>-2.112022</td>\n",
       "      <td>-0.422486</td>\n",
       "      <td>0.112971</td>\n",
       "      <td>0.454789</td>\n",
       "      <td>-0.026571</td>\n",
       "      <td>-1.238265</td>\n",
       "      <td>0.211097</td>\n",
       "      <td>-0.173071</td>\n",
       "    </tr>\n",
       "    <tr>\n",
       "      <th>2016-02-29</th>\n",
       "      <td>0.364474</td>\n",
       "      <td>-0.807630</td>\n",
       "      <td>0.498628</td>\n",
       "      <td>-0.330258</td>\n",
       "      <td>1.006695</td>\n",
       "      <td>1.228332</td>\n",
       "      <td>-0.931678</td>\n",
       "      <td>0.911021</td>\n",
       "      <td>-0.665064</td>\n",
       "      <td>-0.459564</td>\n",
       "      <td>1.515376</td>\n",
       "      <td>-1.091673</td>\n",
       "      <td>-0.254139</td>\n",
       "      <td>-1.819761</td>\n",
       "      <td>0.780588</td>\n",
       "      <td>0.849753</td>\n",
       "      <td>-0.918567</td>\n",
       "      <td>-0.257196</td>\n",
       "      <td>1.092427</td>\n",
       "      <td>0.897171</td>\n",
       "    </tr>\n",
       "    <tr>\n",
       "      <th>2016-03-01</th>\n",
       "      <td>2.881820</td>\n",
       "      <td>-0.196533</td>\n",
       "      <td>-1.351546</td>\n",
       "      <td>-0.917496</td>\n",
       "      <td>1.011393</td>\n",
       "      <td>-0.826245</td>\n",
       "      <td>0.212282</td>\n",
       "      <td>0.244649</td>\n",
       "      <td>-1.653513</td>\n",
       "      <td>0.125145</td>\n",
       "      <td>0.539792</td>\n",
       "      <td>-1.485179</td>\n",
       "      <td>0.529342</td>\n",
       "      <td>-0.032031</td>\n",
       "      <td>0.922821</td>\n",
       "      <td>0.569540</td>\n",
       "      <td>0.564495</td>\n",
       "      <td>-0.083846</td>\n",
       "      <td>2.072978</td>\n",
       "      <td>0.049366</td>\n",
       "    </tr>\n",
       "    <tr>\n",
       "      <th>2016-03-02</th>\n",
       "      <td>-0.107707</td>\n",
       "      <td>0.561364</td>\n",
       "      <td>-0.669997</td>\n",
       "      <td>0.113036</td>\n",
       "      <td>0.943362</td>\n",
       "      <td>0.123240</td>\n",
       "      <td>1.303834</td>\n",
       "      <td>-1.057455</td>\n",
       "      <td>-0.802436</td>\n",
       "      <td>-0.755470</td>\n",
       "      <td>-0.100808</td>\n",
       "      <td>-0.348714</td>\n",
       "      <td>-1.719058</td>\n",
       "      <td>-0.611473</td>\n",
       "      <td>1.880172</td>\n",
       "      <td>-1.206434</td>\n",
       "      <td>0.320408</td>\n",
       "      <td>0.801038</td>\n",
       "      <td>-1.829793</td>\n",
       "      <td>0.234126</td>\n",
       "    </tr>\n",
       "    <tr>\n",
       "      <th>2016-03-03</th>\n",
       "      <td>-0.999800</td>\n",
       "      <td>-1.087239</td>\n",
       "      <td>0.000491</td>\n",
       "      <td>-0.658872</td>\n",
       "      <td>-0.390665</td>\n",
       "      <td>0.050215</td>\n",
       "      <td>-0.140316</td>\n",
       "      <td>-0.782077</td>\n",
       "      <td>0.290384</td>\n",
       "      <td>0.530556</td>\n",
       "      <td>0.077344</td>\n",
       "      <td>2.005278</td>\n",
       "      <td>1.171706</td>\n",
       "      <td>1.423439</td>\n",
       "      <td>0.853260</td>\n",
       "      <td>1.122420</td>\n",
       "      <td>-0.367403</td>\n",
       "      <td>0.637374</td>\n",
       "      <td>1.308249</td>\n",
       "      <td>-0.115750</td>\n",
       "    </tr>\n",
       "    <tr>\n",
       "      <th>2016-03-04</th>\n",
       "      <td>0.267018</td>\n",
       "      <td>0.837541</td>\n",
       "      <td>-1.275583</td>\n",
       "      <td>0.039889</td>\n",
       "      <td>-0.488477</td>\n",
       "      <td>-0.444634</td>\n",
       "      <td>-0.628317</td>\n",
       "      <td>-0.801973</td>\n",
       "      <td>-0.158600</td>\n",
       "      <td>-0.542420</td>\n",
       "      <td>-0.093767</td>\n",
       "      <td>-0.802907</td>\n",
       "      <td>0.003588</td>\n",
       "      <td>-2.172139</td>\n",
       "      <td>-1.660460</td>\n",
       "      <td>0.123674</td>\n",
       "      <td>0.030096</td>\n",
       "      <td>-1.713985</td>\n",
       "      <td>1.280317</td>\n",
       "      <td>0.601438</td>\n",
       "    </tr>\n",
       "    <tr>\n",
       "      <th>2016-03-05</th>\n",
       "      <td>-0.171356</td>\n",
       "      <td>-0.252108</td>\n",
       "      <td>0.455739</td>\n",
       "      <td>0.217888</td>\n",
       "      <td>0.631091</td>\n",
       "      <td>1.548504</td>\n",
       "      <td>1.217988</td>\n",
       "      <td>-0.488491</td>\n",
       "      <td>-1.835569</td>\n",
       "      <td>0.132376</td>\n",
       "      <td>-0.028306</td>\n",
       "      <td>-0.758369</td>\n",
       "      <td>-0.343917</td>\n",
       "      <td>1.869876</td>\n",
       "      <td>-1.938530</td>\n",
       "      <td>-0.347436</td>\n",
       "      <td>-0.272549</td>\n",
       "      <td>-2.584989</td>\n",
       "      <td>-0.384752</td>\n",
       "      <td>0.242369</td>\n",
       "    </tr>\n",
       "    <tr>\n",
       "      <th>2016-03-06</th>\n",
       "      <td>-0.011932</td>\n",
       "      <td>-0.091485</td>\n",
       "      <td>0.823060</td>\n",
       "      <td>-0.219910</td>\n",
       "      <td>1.388350</td>\n",
       "      <td>-0.097390</td>\n",
       "      <td>0.103999</td>\n",
       "      <td>-0.927588</td>\n",
       "      <td>-0.228790</td>\n",
       "      <td>1.341788</td>\n",
       "      <td>0.859898</td>\n",
       "      <td>-0.047282</td>\n",
       "      <td>-0.369806</td>\n",
       "      <td>-0.622726</td>\n",
       "      <td>-0.569597</td>\n",
       "      <td>0.398827</td>\n",
       "      <td>-0.464144</td>\n",
       "      <td>-0.658321</td>\n",
       "      <td>-0.044270</td>\n",
       "      <td>0.702417</td>\n",
       "    </tr>\n",
       "    <tr>\n",
       "      <th>2016-03-07</th>\n",
       "      <td>1.493953</td>\n",
       "      <td>1.341758</td>\n",
       "      <td>-0.718239</td>\n",
       "      <td>1.084248</td>\n",
       "      <td>0.077409</td>\n",
       "      <td>-1.122883</td>\n",
       "      <td>-0.525805</td>\n",
       "      <td>0.627402</td>\n",
       "      <td>-0.980976</td>\n",
       "      <td>-1.013383</td>\n",
       "      <td>0.565377</td>\n",
       "      <td>0.742836</td>\n",
       "      <td>-0.072724</td>\n",
       "      <td>0.208340</td>\n",
       "      <td>0.222342</td>\n",
       "      <td>0.036428</td>\n",
       "      <td>-0.235815</td>\n",
       "      <td>-1.798298</td>\n",
       "      <td>0.809231</td>\n",
       "      <td>-0.461819</td>\n",
       "    </tr>\n",
       "    <tr>\n",
       "      <th>2016-03-08</th>\n",
       "      <td>0.016007</td>\n",
       "      <td>0.357597</td>\n",
       "      <td>1.109196</td>\n",
       "      <td>0.562586</td>\n",
       "      <td>-0.599658</td>\n",
       "      <td>-1.662149</td>\n",
       "      <td>0.892496</td>\n",
       "      <td>0.479555</td>\n",
       "      <td>-0.029773</td>\n",
       "      <td>-0.345896</td>\n",
       "      <td>0.690266</td>\n",
       "      <td>-1.277288</td>\n",
       "      <td>1.198779</td>\n",
       "      <td>-1.239652</td>\n",
       "      <td>1.167954</td>\n",
       "      <td>0.018967</td>\n",
       "      <td>1.676937</td>\n",
       "      <td>-0.164992</td>\n",
       "      <td>0.376713</td>\n",
       "      <td>0.413695</td>\n",
       "    </tr>\n",
       "    <tr>\n",
       "      <th>2016-03-09</th>\n",
       "      <td>0.667682</td>\n",
       "      <td>0.916777</td>\n",
       "      <td>2.094825</td>\n",
       "      <td>0.770598</td>\n",
       "      <td>-0.622197</td>\n",
       "      <td>1.003524</td>\n",
       "      <td>0.249768</td>\n",
       "      <td>0.434788</td>\n",
       "      <td>0.026522</td>\n",
       "      <td>-1.097489</td>\n",
       "      <td>1.038439</td>\n",
       "      <td>0.745362</td>\n",
       "      <td>0.754662</td>\n",
       "      <td>-1.250434</td>\n",
       "      <td>0.240074</td>\n",
       "      <td>-0.640764</td>\n",
       "      <td>2.093360</td>\n",
       "      <td>-0.852430</td>\n",
       "      <td>-1.126436</td>\n",
       "      <td>-1.129302</td>\n",
       "    </tr>\n",
       "    <tr>\n",
       "      <th>2016-03-10</th>\n",
       "      <td>1.748067</td>\n",
       "      <td>0.219907</td>\n",
       "      <td>0.506633</td>\n",
       "      <td>-1.354860</td>\n",
       "      <td>-1.425773</td>\n",
       "      <td>-0.759050</td>\n",
       "      <td>-0.656284</td>\n",
       "      <td>-0.752692</td>\n",
       "      <td>0.627275</td>\n",
       "      <td>-1.070804</td>\n",
       "      <td>0.873992</td>\n",
       "      <td>1.031392</td>\n",
       "      <td>-1.638511</td>\n",
       "      <td>-0.601499</td>\n",
       "      <td>0.149976</td>\n",
       "      <td>-1.213318</td>\n",
       "      <td>-0.337254</td>\n",
       "      <td>-0.400981</td>\n",
       "      <td>0.738411</td>\n",
       "      <td>1.504454</td>\n",
       "    </tr>\n",
       "    <tr>\n",
       "      <th>2016-03-11</th>\n",
       "      <td>0.985035</td>\n",
       "      <td>0.421255</td>\n",
       "      <td>-0.256525</td>\n",
       "      <td>0.801608</td>\n",
       "      <td>0.900846</td>\n",
       "      <td>0.528376</td>\n",
       "      <td>-0.622412</td>\n",
       "      <td>-3.107722</td>\n",
       "      <td>0.348652</td>\n",
       "      <td>0.106309</td>\n",
       "      <td>-0.463769</td>\n",
       "      <td>0.716467</td>\n",
       "      <td>0.536705</td>\n",
       "      <td>-0.179897</td>\n",
       "      <td>-1.610131</td>\n",
       "      <td>0.267579</td>\n",
       "      <td>0.205794</td>\n",
       "      <td>1.200883</td>\n",
       "      <td>0.414001</td>\n",
       "      <td>-0.198817</td>\n",
       "    </tr>\n",
       "    <tr>\n",
       "      <th>2016-03-12</th>\n",
       "      <td>1.033500</td>\n",
       "      <td>0.367655</td>\n",
       "      <td>-0.704838</td>\n",
       "      <td>-0.767622</td>\n",
       "      <td>0.426901</td>\n",
       "      <td>-0.232118</td>\n",
       "      <td>0.459715</td>\n",
       "      <td>0.361547</td>\n",
       "      <td>-0.498272</td>\n",
       "      <td>0.057597</td>\n",
       "      <td>-0.420451</td>\n",
       "      <td>-0.932523</td>\n",
       "      <td>-0.567782</td>\n",
       "      <td>-0.543412</td>\n",
       "      <td>1.093396</td>\n",
       "      <td>1.215867</td>\n",
       "      <td>0.734213</td>\n",
       "      <td>0.270028</td>\n",
       "      <td>1.329582</td>\n",
       "      <td>-1.172150</td>\n",
       "    </tr>\n",
       "    <tr>\n",
       "      <th>2016-03-13</th>\n",
       "      <td>-0.329515</td>\n",
       "      <td>0.116733</td>\n",
       "      <td>-1.759173</td>\n",
       "      <td>-0.334337</td>\n",
       "      <td>-0.641097</td>\n",
       "      <td>0.878453</td>\n",
       "      <td>-0.366550</td>\n",
       "      <td>1.682262</td>\n",
       "      <td>0.799165</td>\n",
       "      <td>-0.348620</td>\n",
       "      <td>-1.713942</td>\n",
       "      <td>-0.153759</td>\n",
       "      <td>-0.700648</td>\n",
       "      <td>-0.074565</td>\n",
       "      <td>-0.364715</td>\n",
       "      <td>-1.277713</td>\n",
       "      <td>1.137754</td>\n",
       "      <td>-0.178255</td>\n",
       "      <td>2.465892</td>\n",
       "      <td>1.574419</td>\n",
       "    </tr>\n",
       "    <tr>\n",
       "      <th>2016-03-14</th>\n",
       "      <td>0.059734</td>\n",
       "      <td>0.869399</td>\n",
       "      <td>-0.405463</td>\n",
       "      <td>1.037570</td>\n",
       "      <td>2.125301</td>\n",
       "      <td>-1.356430</td>\n",
       "      <td>0.622511</td>\n",
       "      <td>-1.645813</td>\n",
       "      <td>0.215957</td>\n",
       "      <td>0.165407</td>\n",
       "      <td>-0.467389</td>\n",
       "      <td>0.367022</td>\n",
       "      <td>0.330835</td>\n",
       "      <td>-0.318411</td>\n",
       "      <td>-1.861311</td>\n",
       "      <td>-1.842607</td>\n",
       "      <td>-0.823450</td>\n",
       "      <td>-0.349943</td>\n",
       "      <td>-0.535016</td>\n",
       "      <td>-0.448661</td>\n",
       "    </tr>\n",
       "  </tbody>\n",
       "</table>\n",
       "<p>100 rows × 20 columns</p>\n",
       "</div>"
      ],
      "text/plain": [
       "                  0         1         2         3         4         5   \\\n",
       "2015-12-06 -1.149247 -0.636150 -0.162294  0.282216 -0.270644  1.108003   \n",
       "2015-12-07  0.185169 -0.372468  0.225059  0.279114  1.521005  0.389534   \n",
       "2015-12-08 -1.255987  0.509433  1.304981 -1.176917  0.737922 -0.866630   \n",
       "2015-12-09  0.863802  0.501561  0.905936 -0.645350  1.095128 -0.500861   \n",
       "2015-12-10 -0.202383 -1.558575  0.015473 -0.169998 -0.300309 -0.389737   \n",
       "2015-12-11  1.106984  0.067781  0.978133  0.591218  0.544218  1.101986   \n",
       "2015-12-12 -0.351675 -0.247210  0.217234  0.714411  0.041781 -0.806134   \n",
       "2015-12-13  0.137736 -1.338881 -0.917816  0.958439  0.230650  0.691083   \n",
       "2015-12-14 -0.532286  0.227331  0.245498 -0.654819  0.717397  0.673317   \n",
       "2015-12-15 -0.459250  1.333797  0.121432  0.858905 -0.430736  0.115372   \n",
       "2015-12-16  0.059211  0.597236  1.750530 -0.269099 -0.729726  1.455710   \n",
       "2015-12-17  0.000499  0.971580 -0.206004 -1.215444  0.234720 -3.072067   \n",
       "2015-12-18  2.194464 -0.912357 -0.777632 -0.089711  0.508651  0.465710   \n",
       "2015-12-19  0.269327  0.618974 -1.311083 -0.952249  0.500464  0.820934   \n",
       "2015-12-20 -1.432277 -0.686135 -2.585452  1.737167 -1.090794 -0.381113   \n",
       "2015-12-21 -0.431249  1.300989 -0.037432  0.040301  0.098610 -0.386053   \n",
       "2015-12-22 -0.767904 -1.714347  0.432865  0.314823  0.427768 -1.060053   \n",
       "2015-12-23 -0.263558 -1.057632  1.515823  1.255957 -0.345181  0.534205   \n",
       "2015-12-24 -0.403613  1.062405  0.466753 -0.643359 -0.647464  0.685860   \n",
       "2015-12-25  1.536763  0.033141 -0.899230 -0.222612  0.533698 -2.153086   \n",
       "2015-12-26  0.302291 -0.525498 -0.078927 -1.370237  1.102687  2.436439   \n",
       "2015-12-27 -1.218719 -0.293099 -1.430537  0.366495 -0.983808 -0.014577   \n",
       "2015-12-28  1.600817  1.344377 -0.516204  2.047719  0.093993  1.819407   \n",
       "2015-12-29 -0.900903 -0.507407 -1.581758  0.367759 -1.439991 -1.344498   \n",
       "2015-12-30  0.148046  0.132442 -2.218335  0.998593 -1.563717  1.923907   \n",
       "2015-12-31  0.565822 -1.056637 -0.005425  1.487564 -1.670978 -0.490624   \n",
       "2016-01-01 -1.155737  0.878670  1.431853  0.385722 -1.819262  0.318688   \n",
       "2016-01-02  0.951640  0.248196 -0.740211 -1.251438 -0.599755 -0.992019   \n",
       "2016-01-03 -0.668801  0.352667 -1.721155  1.532646 -0.137444  0.545790   \n",
       "2016-01-04  0.936098 -1.452198  0.115416  0.672867 -0.918915 -1.407628   \n",
       "...              ...       ...       ...       ...       ...       ...   \n",
       "2016-02-14  0.330916 -0.334986  2.277235  0.295072  0.050978 -0.122813   \n",
       "2016-02-15 -0.254626  0.533259 -0.261741  2.424832  0.023767 -0.747507   \n",
       "2016-02-16 -0.893178 -0.844429  0.102737 -1.499294  0.071711 -0.826416   \n",
       "2016-02-17  1.614889 -0.513116  1.027364 -1.597056  0.078759 -1.234346   \n",
       "2016-02-18 -0.560965  0.071289 -0.217532 -2.309083  0.302879 -0.154343   \n",
       "2016-02-19  2.535774 -0.183506 -1.081870 -1.056242  0.900964 -0.338956   \n",
       "2016-02-20 -1.397325  1.244896 -1.358916  0.139080 -1.290959  1.070974   \n",
       "2016-02-21  0.599365 -0.022572  1.437762  0.147715  0.626211  0.701964   \n",
       "2016-02-22 -0.550518 -2.360902  0.292017  0.103968 -0.901948 -0.351343   \n",
       "2016-02-23  0.228680  0.510657  0.809976 -0.408729 -0.614885 -0.369496   \n",
       "2016-02-24  0.939044 -0.762222  0.229531 -0.012493 -0.504202  0.458099   \n",
       "2016-02-25 -0.426012  0.741995  0.446237  1.437146  0.390734 -0.944296   \n",
       "2016-02-26 -2.341494 -0.157478 -1.793928  0.835619 -0.272632 -0.080602   \n",
       "2016-02-27 -0.966931 -0.191614  1.971269 -0.218682 -0.161290 -1.529723   \n",
       "2016-02-28  0.154274 -1.207485 -0.162902  1.276546 -0.284986 -0.129461   \n",
       "2016-02-29  0.364474 -0.807630  0.498628 -0.330258  1.006695  1.228332   \n",
       "2016-03-01  2.881820 -0.196533 -1.351546 -0.917496  1.011393 -0.826245   \n",
       "2016-03-02 -0.107707  0.561364 -0.669997  0.113036  0.943362  0.123240   \n",
       "2016-03-03 -0.999800 -1.087239  0.000491 -0.658872 -0.390665  0.050215   \n",
       "2016-03-04  0.267018  0.837541 -1.275583  0.039889 -0.488477 -0.444634   \n",
       "2016-03-05 -0.171356 -0.252108  0.455739  0.217888  0.631091  1.548504   \n",
       "2016-03-06 -0.011932 -0.091485  0.823060 -0.219910  1.388350 -0.097390   \n",
       "2016-03-07  1.493953  1.341758 -0.718239  1.084248  0.077409 -1.122883   \n",
       "2016-03-08  0.016007  0.357597  1.109196  0.562586 -0.599658 -1.662149   \n",
       "2016-03-09  0.667682  0.916777  2.094825  0.770598 -0.622197  1.003524   \n",
       "2016-03-10  1.748067  0.219907  0.506633 -1.354860 -1.425773 -0.759050   \n",
       "2016-03-11  0.985035  0.421255 -0.256525  0.801608  0.900846  0.528376   \n",
       "2016-03-12  1.033500  0.367655 -0.704838 -0.767622  0.426901 -0.232118   \n",
       "2016-03-13 -0.329515  0.116733 -1.759173 -0.334337 -0.641097  0.878453   \n",
       "2016-03-14  0.059734  0.869399 -0.405463  1.037570  2.125301 -1.356430   \n",
       "\n",
       "                  6         7         8         9         10        11  \\\n",
       "2015-12-06  1.475885 -0.396552 -1.020310  0.273131  0.010416 -0.773053   \n",
       "2015-12-07 -1.706860 -1.032085 -0.021650  1.283660  0.687195  1.159389   \n",
       "2015-12-08  0.124080 -0.353183  0.567491  0.579106  1.097794 -0.248557   \n",
       "2015-12-09 -0.839185  0.705495  1.063792  2.071751  0.398380  0.439163   \n",
       "2015-12-10 -1.442782 -0.297881 -0.505463  0.951467 -0.736704  0.673466   \n",
       "2015-12-11 -0.648621 -0.952321 -0.370177 -0.978955 -0.320883 -0.740770   \n",
       "2015-12-12  0.784507  0.044681  1.928385  0.549531  1.005469 -0.637827   \n",
       "2015-12-13 -0.087255 -1.780057  0.620974  0.250469 -1.749354 -0.163382   \n",
       "2015-12-14 -2.383271  1.115394 -1.181173 -1.286650  1.194831 -1.177970   \n",
       "2015-12-15 -0.270588 -0.425565 -0.545965  0.150297  0.350933 -0.002657   \n",
       "2015-12-16  0.824932 -1.579704 -0.723046 -1.110263 -0.522184  0.851379   \n",
       "2015-12-17  1.131394 -0.357683 -0.382992 -1.575039  0.062728 -1.613258   \n",
       "2015-12-18 -0.839127  0.369604  0.013762  2.331749  0.333358  0.938555   \n",
       "2015-12-19  0.352490  2.102774  0.664671  1.008360  0.295154  0.423138   \n",
       "2015-12-20  1.334461  1.035138  0.785228  0.318040  1.559659  0.222578   \n",
       "2015-12-21 -0.679488  0.336636  0.352707  0.323815  1.221242  2.344689   \n",
       "2015-12-22 -1.022271  0.645045 -1.119648  0.390992 -0.105786 -0.839734   \n",
       "2015-12-23 -0.482727 -0.017740  0.623562  0.666054 -1.318705 -0.764406   \n",
       "2015-12-24 -0.987221  1.135272 -1.580359  2.227510  1.254646  0.187812   \n",
       "2015-12-25 -0.819321  0.129497  1.072860 -0.733735  0.421693 -1.116368   \n",
       "2015-12-26 -0.239595  0.622006  0.357666  0.888088 -0.022054 -0.023057   \n",
       "2015-12-27  1.205899  3.211792 -0.332449  0.268370  0.011905  2.184555   \n",
       "2015-12-28 -0.286307  1.436587  0.172857  1.914412 -0.701382  1.619528   \n",
       "2015-12-29 -0.474464  0.339501  1.452354  1.417803 -0.456092 -0.104819   \n",
       "2015-12-30 -1.564670 -0.114818  0.248481  0.842910 -0.646347 -2.286311   \n",
       "2015-12-31 -0.180975  0.815467 -0.544144 -0.270032 -0.901594  1.646240   \n",
       "2016-01-01 -1.048835  0.900390  0.523148 -1.699868 -0.497477 -0.069389   \n",
       "2016-01-02 -0.055288  1.786652 -0.023929 -0.899755 -0.325092  0.067353   \n",
       "2016-01-03  0.924131  1.483765  0.357522  0.822491  0.573254 -0.793384   \n",
       "2016-01-04 -1.620650  0.184027 -0.303589 -0.340335 -1.329387  0.007841   \n",
       "...              ...       ...       ...       ...       ...       ...   \n",
       "2016-02-14 -1.049451  1.801932  0.198101 -0.148294  1.653428 -0.991748   \n",
       "2016-02-15  0.373063  0.425427 -0.566293 -0.983766  0.509885 -0.236224   \n",
       "2016-02-16 -1.549888 -0.680906  0.316735 -0.406345  0.972983  0.461548   \n",
       "2016-02-17  0.211646  1.289298 -0.731691  1.359084  0.071579  0.131991   \n",
       "2016-02-18 -0.777622  1.042407  1.600483 -0.769621  1.163903  0.642410   \n",
       "2016-02-19  1.735943 -0.555893  1.850707 -0.889106  1.208685 -1.647630   \n",
       "2016-02-20 -0.274040  0.698590  0.301388 -0.456923 -1.256013 -1.344213   \n",
       "2016-02-21  0.744451 -1.886943 -0.116796  0.876993  0.127258 -0.519236   \n",
       "2016-02-22 -0.249891 -0.051751 -0.732534 -0.637057 -0.226668  0.084125   \n",
       "2016-02-23  1.279881 -1.373562 -1.048259  1.887241 -1.374318  0.362330   \n",
       "2016-02-24 -0.380050  0.038641 -0.279634  0.272131 -2.265013  1.030774   \n",
       "2016-02-25 -1.065228  0.932965 -0.166438 -1.090888  0.821538 -0.535701   \n",
       "2016-02-26  1.191598  0.425852 -0.115601  0.037831  1.149049  0.056198   \n",
       "2016-02-27 -0.683697  0.227011 -0.305496 -2.274679  0.680168  0.156640   \n",
       "2016-02-28 -0.356771 -0.139469 -0.830656  1.159855  0.674977  0.859571   \n",
       "2016-02-29 -0.931678  0.911021 -0.665064 -0.459564  1.515376 -1.091673   \n",
       "2016-03-01  0.212282  0.244649 -1.653513  0.125145  0.539792 -1.485179   \n",
       "2016-03-02  1.303834 -1.057455 -0.802436 -0.755470 -0.100808 -0.348714   \n",
       "2016-03-03 -0.140316 -0.782077  0.290384  0.530556  0.077344  2.005278   \n",
       "2016-03-04 -0.628317 -0.801973 -0.158600 -0.542420 -0.093767 -0.802907   \n",
       "2016-03-05  1.217988 -0.488491 -1.835569  0.132376 -0.028306 -0.758369   \n",
       "2016-03-06  0.103999 -0.927588 -0.228790  1.341788  0.859898 -0.047282   \n",
       "2016-03-07 -0.525805  0.627402 -0.980976 -1.013383  0.565377  0.742836   \n",
       "2016-03-08  0.892496  0.479555 -0.029773 -0.345896  0.690266 -1.277288   \n",
       "2016-03-09  0.249768  0.434788  0.026522 -1.097489  1.038439  0.745362   \n",
       "2016-03-10 -0.656284 -0.752692  0.627275 -1.070804  0.873992  1.031392   \n",
       "2016-03-11 -0.622412 -3.107722  0.348652  0.106309 -0.463769  0.716467   \n",
       "2016-03-12  0.459715  0.361547 -0.498272  0.057597 -0.420451 -0.932523   \n",
       "2016-03-13 -0.366550  1.682262  0.799165 -0.348620 -1.713942 -0.153759   \n",
       "2016-03-14  0.622511 -1.645813  0.215957  0.165407 -0.467389  0.367022   \n",
       "\n",
       "                  12        13        14        15        16        17  \\\n",
       "2015-12-06 -0.198081  1.320910  0.292807 -0.463693 -2.163611  0.590931   \n",
       "2015-12-07 -1.359078 -0.181402  0.287833  0.222008 -0.118335  0.405188   \n",
       "2015-12-08 -1.039601  1.237936 -2.135005 -0.004943  0.317498 -0.260883   \n",
       "2015-12-09 -1.472272  0.261893  0.091948  0.702810 -0.763010  0.919481   \n",
       "2015-12-10 -1.812211 -0.393966 -0.010039  0.005443 -1.501431  1.294987   \n",
       "2015-12-11  0.450153 -1.130198  0.255105 -1.810397 -2.483143  2.040635   \n",
       "2015-12-12 -0.510244  1.863993  0.555824 -1.347709 -0.470388  0.674198   \n",
       "2015-12-13 -1.874600 -0.292240 -0.043570 -1.099853  0.301077  1.502314   \n",
       "2015-12-14 -0.754295 -0.559770  1.207564 -1.310946  0.152221 -0.778813   \n",
       "2015-12-15  1.600033  1.775020 -1.512061 -0.614227  0.238024  1.127820   \n",
       "2015-12-16 -0.011714 -1.283695  0.502477  0.185574  1.075477 -1.794936   \n",
       "2015-12-17 -0.213606 -0.490709  1.329094 -1.368453 -0.378589  1.040776   \n",
       "2015-12-18 -0.542398  0.793762  1.531488 -1.768101 -0.414599 -0.114880   \n",
       "2015-12-19 -0.496727  0.388526 -1.930719  0.167084  2.066807  1.401847   \n",
       "2015-12-20  2.154184  1.601341 -0.544504 -0.033792  0.732845  0.531905   \n",
       "2015-12-21 -1.013926 -0.177761 -0.572638 -1.655589  1.370355  1.670750   \n",
       "2015-12-22 -1.786439  1.081041  1.364852 -1.152506  0.053202  0.028216   \n",
       "2015-12-23 -0.717248 -0.786457 -0.532574 -0.106276 -1.165090  0.986809   \n",
       "2015-12-24 -0.309193  1.297579  0.778817 -0.293019  0.383613 -2.064236   \n",
       "2015-12-25  0.474173  0.609020  1.402017 -0.009509  1.679075 -0.952656   \n",
       "2015-12-26  0.609336  0.186882 -0.596525 -0.379954 -0.009951  0.569868   \n",
       "2015-12-27  0.073361  0.881102  0.214544  0.535363  0.486489 -0.260168   \n",
       "2015-12-28 -0.549755  0.755279 -0.513277 -0.005781  2.925913  1.161280   \n",
       "2015-12-29 -0.325178 -0.267707  0.619238  1.599417 -1.434568 -0.898424   \n",
       "2015-12-30  0.153949 -0.186505 -1.119848 -0.035713 -1.208743 -0.663234   \n",
       "2015-12-31 -1.071876  1.324074 -0.789457  1.878970  0.971617 -0.608112   \n",
       "2016-01-01  1.164736  0.955924  0.100377 -1.112042 -0.672014 -0.865523   \n",
       "2016-01-02 -2.860694 -0.503019  0.500465  0.052306  0.726005  1.906562   \n",
       "2016-01-03 -1.542552  0.162728 -0.394982 -0.082164  1.173801 -0.871844   \n",
       "2016-01-04 -0.042277  0.181958  0.120000 -0.244406  0.532086  0.141966   \n",
       "...              ...       ...       ...       ...       ...       ...   \n",
       "2016-02-14  2.289764  0.675774  0.580708 -0.123127 -1.131194  2.592501   \n",
       "2016-02-15 -0.119884 -0.858948  0.242274 -1.599356 -0.461328 -0.033575   \n",
       "2016-02-16  0.955868  0.276466 -0.652206 -0.692651  0.335246  0.612681   \n",
       "2016-02-17  1.118930 -1.319703 -0.947563 -0.470631 -0.247619  0.485914   \n",
       "2016-02-18 -0.128134 -0.562186  0.406245  0.880468 -0.420660  0.113450   \n",
       "2016-02-19 -1.005130  1.098369  1.579158 -0.851315 -0.599158  0.329096   \n",
       "2016-02-20  1.606988 -1.172475  1.548625  1.042226  0.803995  1.099728   \n",
       "2016-02-21  0.603891  0.219551  1.829500 -1.924602  0.330103  1.339282   \n",
       "2016-02-22  0.062390 -0.680111  0.084788  0.522613  0.030266  0.211622   \n",
       "2016-02-23 -0.115272  0.268026 -2.928616 -0.788033 -0.580327 -0.522175   \n",
       "2016-02-24 -1.684002 -1.104080 -0.258687 -0.185957  0.251560 -0.427199   \n",
       "2016-02-25 -0.446046  0.805968  0.551803 -0.633674 -1.317878  0.023484   \n",
       "2016-02-26  0.903031 -0.480497  0.528967  0.967543  0.123659 -1.730547   \n",
       "2016-02-27  0.165724 -0.149547  0.164369 -2.670419  0.491659  1.545356   \n",
       "2016-02-28 -2.112022 -0.422486  0.112971  0.454789 -0.026571 -1.238265   \n",
       "2016-02-29 -0.254139 -1.819761  0.780588  0.849753 -0.918567 -0.257196   \n",
       "2016-03-01  0.529342 -0.032031  0.922821  0.569540  0.564495 -0.083846   \n",
       "2016-03-02 -1.719058 -0.611473  1.880172 -1.206434  0.320408  0.801038   \n",
       "2016-03-03  1.171706  1.423439  0.853260  1.122420 -0.367403  0.637374   \n",
       "2016-03-04  0.003588 -2.172139 -1.660460  0.123674  0.030096 -1.713985   \n",
       "2016-03-05 -0.343917  1.869876 -1.938530 -0.347436 -0.272549 -2.584989   \n",
       "2016-03-06 -0.369806 -0.622726 -0.569597  0.398827 -0.464144 -0.658321   \n",
       "2016-03-07 -0.072724  0.208340  0.222342  0.036428 -0.235815 -1.798298   \n",
       "2016-03-08  1.198779 -1.239652  1.167954  0.018967  1.676937 -0.164992   \n",
       "2016-03-09  0.754662 -1.250434  0.240074 -0.640764  2.093360 -0.852430   \n",
       "2016-03-10 -1.638511 -0.601499  0.149976 -1.213318 -0.337254 -0.400981   \n",
       "2016-03-11  0.536705 -0.179897 -1.610131  0.267579  0.205794  1.200883   \n",
       "2016-03-12 -0.567782 -0.543412  1.093396  1.215867  0.734213  0.270028   \n",
       "2016-03-13 -0.700648 -0.074565 -0.364715 -1.277713  1.137754 -0.178255   \n",
       "2016-03-14  0.330835 -0.318411 -1.861311 -1.842607 -0.823450 -0.349943   \n",
       "\n",
       "                  18        19  \n",
       "2015-12-06 -2.046140  0.942972  \n",
       "2015-12-07 -1.892934  1.292700  \n",
       "2015-12-08  0.151863  0.225281  \n",
       "2015-12-09  0.665613  0.212056  \n",
       "2015-12-10  1.277664 -1.768233  \n",
       "2015-12-11  1.067756 -0.911812  \n",
       "2015-12-12  0.428585 -0.098137  \n",
       "2015-12-13  0.068799  0.178600  \n",
       "2015-12-14 -0.819630  0.536611  \n",
       "2015-12-15 -0.145281 -0.226879  \n",
       "2015-12-16  0.585335 -0.417431  \n",
       "2015-12-17  2.259242 -0.647850  \n",
       "2015-12-18  0.737763  0.334905  \n",
       "2015-12-19  1.035928  0.584497  \n",
       "2015-12-20 -1.809884 -0.064509  \n",
       "2015-12-21 -0.689629  0.585794  \n",
       "2015-12-22  1.251561  0.837250  \n",
       "2015-12-23  0.002512 -1.240103  \n",
       "2015-12-24 -0.705873 -1.233925  \n",
       "2015-12-25  1.222318 -0.806433  \n",
       "2015-12-26 -0.730428 -0.693359  \n",
       "2015-12-27  0.151877 -0.681879  \n",
       "2015-12-28  0.067712  2.178889  \n",
       "2015-12-29 -0.735256 -3.786647  \n",
       "2015-12-30  0.862133 -1.579149  \n",
       "2015-12-31  0.586331  0.012072  \n",
       "2016-01-01  1.177574  2.234732  \n",
       "2016-01-02  0.018254  1.087143  \n",
       "2016-01-03  2.337435 -0.712280  \n",
       "2016-01-04  0.285251  0.332764  \n",
       "...              ...       ...  \n",
       "2016-02-14  1.285512  1.421421  \n",
       "2016-02-15 -0.968359  0.961233  \n",
       "2016-02-16  0.455377 -1.616582  \n",
       "2016-02-17 -2.214114 -0.274964  \n",
       "2016-02-18  0.788417  0.525345  \n",
       "2016-02-19 -0.347558  0.447446  \n",
       "2016-02-20 -0.125591 -1.412583  \n",
       "2016-02-21 -0.351224 -0.795565  \n",
       "2016-02-22  1.007439 -0.597288  \n",
       "2016-02-23 -0.806015  0.314772  \n",
       "2016-02-24  0.349488 -0.705217  \n",
       "2016-02-25 -0.590078  0.900523  \n",
       "2016-02-26  0.865042  0.564339  \n",
       "2016-02-27 -0.611225 -0.294852  \n",
       "2016-02-28  0.211097 -0.173071  \n",
       "2016-02-29  1.092427  0.897171  \n",
       "2016-03-01  2.072978  0.049366  \n",
       "2016-03-02 -1.829793  0.234126  \n",
       "2016-03-03  1.308249 -0.115750  \n",
       "2016-03-04  1.280317  0.601438  \n",
       "2016-03-05 -0.384752  0.242369  \n",
       "2016-03-06 -0.044270  0.702417  \n",
       "2016-03-07  0.809231 -0.461819  \n",
       "2016-03-08  0.376713  0.413695  \n",
       "2016-03-09 -1.126436 -1.129302  \n",
       "2016-03-10  0.738411  1.504454  \n",
       "2016-03-11  0.414001 -0.198817  \n",
       "2016-03-12  1.329582 -1.172150  \n",
       "2016-03-13  2.465892  1.574419  \n",
       "2016-03-14 -0.535016 -0.448661  \n",
       "\n",
       "[100 rows x 20 columns]"
      ]
     },
     "execution_count": 22,
     "metadata": {},
     "output_type": "execute_result"
    }
   ],
   "source": [
    "tmp"
   ]
  },
  {
   "cell_type": "code",
   "execution_count": 23,
   "metadata": {
    "collapsed": true
   },
   "outputs": [],
   "source": [
    "df2 = pd.DataFrame({ 'A' : 1.,\n",
    "                     'B' : pd.Timestamp('20130102'),\n",
    "                     'C' : pd.Series(1,index=list(range(4)),dtype='float32'),\n",
    "                     'D' : np.array([3] * 4,dtype='int32'),\n",
    "                     'E' : pd.Categorical([\"test\",\"train\",\"test\",\"train\"]),\n",
    "                     'F' : 'foo' })"
   ]
  },
  {
   "cell_type": "code",
   "execution_count": 24,
   "metadata": {
    "collapsed": false
   },
   "outputs": [
    {
     "data": {
      "text/html": [
       "<div>\n",
       "<table border=\"1\" class=\"dataframe\">\n",
       "  <thead>\n",
       "    <tr style=\"text-align: right;\">\n",
       "      <th></th>\n",
       "      <th>A</th>\n",
       "      <th>B</th>\n",
       "      <th>C</th>\n",
       "      <th>D</th>\n",
       "      <th>E</th>\n",
       "      <th>F</th>\n",
       "    </tr>\n",
       "  </thead>\n",
       "  <tbody>\n",
       "    <tr>\n",
       "      <th>0</th>\n",
       "      <td>1</td>\n",
       "      <td>2013-01-02</td>\n",
       "      <td>1</td>\n",
       "      <td>3</td>\n",
       "      <td>test</td>\n",
       "      <td>foo</td>\n",
       "    </tr>\n",
       "    <tr>\n",
       "      <th>1</th>\n",
       "      <td>1</td>\n",
       "      <td>2013-01-02</td>\n",
       "      <td>1</td>\n",
       "      <td>3</td>\n",
       "      <td>train</td>\n",
       "      <td>foo</td>\n",
       "    </tr>\n",
       "    <tr>\n",
       "      <th>2</th>\n",
       "      <td>1</td>\n",
       "      <td>2013-01-02</td>\n",
       "      <td>1</td>\n",
       "      <td>3</td>\n",
       "      <td>test</td>\n",
       "      <td>foo</td>\n",
       "    </tr>\n",
       "    <tr>\n",
       "      <th>3</th>\n",
       "      <td>1</td>\n",
       "      <td>2013-01-02</td>\n",
       "      <td>1</td>\n",
       "      <td>3</td>\n",
       "      <td>train</td>\n",
       "      <td>foo</td>\n",
       "    </tr>\n",
       "  </tbody>\n",
       "</table>\n",
       "</div>"
      ],
      "text/plain": [
       "   A          B  C  D      E    F\n",
       "0  1 2013-01-02  1  3   test  foo\n",
       "1  1 2013-01-02  1  3  train  foo\n",
       "2  1 2013-01-02  1  3   test  foo\n",
       "3  1 2013-01-02  1  3  train  foo"
      ]
     },
     "execution_count": 24,
     "metadata": {},
     "output_type": "execute_result"
    }
   ],
   "source": [
    "df2"
   ]
  },
  {
   "cell_type": "code",
   "execution_count": 25,
   "metadata": {
    "collapsed": false
   },
   "outputs": [
    {
     "data": {
      "text/plain": [
       "A           float64\n",
       "B    datetime64[ns]\n",
       "C           float32\n",
       "D             int32\n",
       "E          category\n",
       "F            object\n",
       "dtype: object"
      ]
     },
     "execution_count": 25,
     "metadata": {},
     "output_type": "execute_result"
    }
   ],
   "source": [
    "df2.dtypes"
   ]
  },
  {
   "cell_type": "code",
   "execution_count": 26,
   "metadata": {
    "collapsed": false
   },
   "outputs": [
    {
     "data": {
      "text/plain": [
       "<bound method DataFrame.head of                    A         B         C         D\n",
       "2013-01-01  0.421547 -0.399598  2.249961  0.275306\n",
       "2013-01-02 -0.293990 -2.297270 -0.202764  0.862306\n",
       "2013-01-03  2.523310  0.269481 -0.207063  1.361376\n",
       "2013-01-04  0.117594 -1.006054 -1.120879 -1.548164\n",
       "2013-01-05 -1.231400  0.679527 -0.578231  1.518854\n",
       "2013-01-06 -0.739334 -1.297759  1.557869  0.439467>"
      ]
     },
     "execution_count": 26,
     "metadata": {},
     "output_type": "execute_result"
    }
   ],
   "source": [
    "df.head"
   ]
  },
  {
   "cell_type": "code",
   "execution_count": 27,
   "metadata": {
    "collapsed": false
   },
   "outputs": [
    {
     "data": {
      "text/html": [
       "<div>\n",
       "<table border=\"1\" class=\"dataframe\">\n",
       "  <thead>\n",
       "    <tr style=\"text-align: right;\">\n",
       "      <th></th>\n",
       "      <th>A</th>\n",
       "      <th>B</th>\n",
       "      <th>C</th>\n",
       "      <th>D</th>\n",
       "    </tr>\n",
       "  </thead>\n",
       "  <tbody>\n",
       "    <tr>\n",
       "      <th>2013-01-01</th>\n",
       "      <td>0.421547</td>\n",
       "      <td>-0.399598</td>\n",
       "      <td>2.249961</td>\n",
       "      <td>0.275306</td>\n",
       "    </tr>\n",
       "    <tr>\n",
       "      <th>2013-01-02</th>\n",
       "      <td>-0.293990</td>\n",
       "      <td>-2.297270</td>\n",
       "      <td>-0.202764</td>\n",
       "      <td>0.862306</td>\n",
       "    </tr>\n",
       "    <tr>\n",
       "      <th>2013-01-03</th>\n",
       "      <td>2.523310</td>\n",
       "      <td>0.269481</td>\n",
       "      <td>-0.207063</td>\n",
       "      <td>1.361376</td>\n",
       "    </tr>\n",
       "    <tr>\n",
       "      <th>2013-01-04</th>\n",
       "      <td>0.117594</td>\n",
       "      <td>-1.006054</td>\n",
       "      <td>-1.120879</td>\n",
       "      <td>-1.548164</td>\n",
       "    </tr>\n",
       "    <tr>\n",
       "      <th>2013-01-05</th>\n",
       "      <td>-1.231400</td>\n",
       "      <td>0.679527</td>\n",
       "      <td>-0.578231</td>\n",
       "      <td>1.518854</td>\n",
       "    </tr>\n",
       "  </tbody>\n",
       "</table>\n",
       "</div>"
      ],
      "text/plain": [
       "                   A         B         C         D\n",
       "2013-01-01  0.421547 -0.399598  2.249961  0.275306\n",
       "2013-01-02 -0.293990 -2.297270 -0.202764  0.862306\n",
       "2013-01-03  2.523310  0.269481 -0.207063  1.361376\n",
       "2013-01-04  0.117594 -1.006054 -1.120879 -1.548164\n",
       "2013-01-05 -1.231400  0.679527 -0.578231  1.518854"
      ]
     },
     "execution_count": 27,
     "metadata": {},
     "output_type": "execute_result"
    }
   ],
   "source": [
    "df.head()"
   ]
  },
  {
   "cell_type": "code",
   "execution_count": 28,
   "metadata": {
    "collapsed": false
   },
   "outputs": [
    {
     "data": {
      "text/html": [
       "<div>\n",
       "<table border=\"1\" class=\"dataframe\">\n",
       "  <thead>\n",
       "    <tr style=\"text-align: right;\">\n",
       "      <th></th>\n",
       "      <th>A</th>\n",
       "      <th>B</th>\n",
       "      <th>C</th>\n",
       "      <th>D</th>\n",
       "    </tr>\n",
       "  </thead>\n",
       "  <tbody>\n",
       "    <tr>\n",
       "      <th>2013-01-04</th>\n",
       "      <td>0.117594</td>\n",
       "      <td>-1.006054</td>\n",
       "      <td>-1.120879</td>\n",
       "      <td>-1.548164</td>\n",
       "    </tr>\n",
       "    <tr>\n",
       "      <th>2013-01-05</th>\n",
       "      <td>-1.231400</td>\n",
       "      <td>0.679527</td>\n",
       "      <td>-0.578231</td>\n",
       "      <td>1.518854</td>\n",
       "    </tr>\n",
       "    <tr>\n",
       "      <th>2013-01-06</th>\n",
       "      <td>-0.739334</td>\n",
       "      <td>-1.297759</td>\n",
       "      <td>1.557869</td>\n",
       "      <td>0.439467</td>\n",
       "    </tr>\n",
       "  </tbody>\n",
       "</table>\n",
       "</div>"
      ],
      "text/plain": [
       "                   A         B         C         D\n",
       "2013-01-04  0.117594 -1.006054 -1.120879 -1.548164\n",
       "2013-01-05 -1.231400  0.679527 -0.578231  1.518854\n",
       "2013-01-06 -0.739334 -1.297759  1.557869  0.439467"
      ]
     },
     "execution_count": 28,
     "metadata": {},
     "output_type": "execute_result"
    }
   ],
   "source": [
    "df.tail(3)"
   ]
  },
  {
   "cell_type": "code",
   "execution_count": 29,
   "metadata": {
    "collapsed": false
   },
   "outputs": [
    {
     "data": {
      "text/plain": [
       "DatetimeIndex(['2013-01-01', '2013-01-02', '2013-01-03', '2013-01-04',\n",
       "               '2013-01-05', '2013-01-06'],\n",
       "              dtype='datetime64[ns]', freq='D')"
      ]
     },
     "execution_count": 29,
     "metadata": {},
     "output_type": "execute_result"
    }
   ],
   "source": [
    "df.index"
   ]
  },
  {
   "cell_type": "code",
   "execution_count": 30,
   "metadata": {
    "collapsed": false
   },
   "outputs": [
    {
     "data": {
      "text/plain": [
       "Index([u'A', u'B', u'C', u'D'], dtype='object')"
      ]
     },
     "execution_count": 30,
     "metadata": {},
     "output_type": "execute_result"
    }
   ],
   "source": [
    "df.columns"
   ]
  },
  {
   "cell_type": "code",
   "execution_count": 31,
   "metadata": {
    "collapsed": false
   },
   "outputs": [
    {
     "data": {
      "text/plain": [
       "array([[ 0.42154746, -0.39959774,  2.24996068,  0.2753062 ],\n",
       "       [-0.29399033, -2.29727025, -0.20276355,  0.8623058 ],\n",
       "       [ 2.52331009,  0.26948132, -0.20706286,  1.36137648],\n",
       "       [ 0.11759377, -1.00605421, -1.12087889, -1.54816399],\n",
       "       [-1.23140024,  0.67952708, -0.5782314 ,  1.5188541 ],\n",
       "       [-0.73933394, -1.29775927,  1.5578692 ,  0.43946654]])"
      ]
     },
     "execution_count": 31,
     "metadata": {},
     "output_type": "execute_result"
    }
   ],
   "source": [
    "df.values"
   ]
  },
  {
   "cell_type": "code",
   "execution_count": 32,
   "metadata": {
    "collapsed": false
   },
   "outputs": [
    {
     "data": {
      "text/html": [
       "<div>\n",
       "<table border=\"1\" class=\"dataframe\">\n",
       "  <thead>\n",
       "    <tr style=\"text-align: right;\">\n",
       "      <th></th>\n",
       "      <th>A</th>\n",
       "      <th>B</th>\n",
       "      <th>C</th>\n",
       "      <th>D</th>\n",
       "    </tr>\n",
       "  </thead>\n",
       "  <tbody>\n",
       "    <tr>\n",
       "      <th>count</th>\n",
       "      <td>6.000000</td>\n",
       "      <td>6.000000</td>\n",
       "      <td>6.000000</td>\n",
       "      <td>6.000000</td>\n",
       "    </tr>\n",
       "    <tr>\n",
       "      <th>mean</th>\n",
       "      <td>0.132954</td>\n",
       "      <td>-0.675279</td>\n",
       "      <td>0.283149</td>\n",
       "      <td>0.484858</td>\n",
       "    </tr>\n",
       "    <tr>\n",
       "      <th>std</th>\n",
       "      <td>1.311637</td>\n",
       "      <td>1.089203</td>\n",
       "      <td>1.317797</td>\n",
       "      <td>1.109869</td>\n",
       "    </tr>\n",
       "    <tr>\n",
       "      <th>min</th>\n",
       "      <td>-1.231400</td>\n",
       "      <td>-2.297270</td>\n",
       "      <td>-1.120879</td>\n",
       "      <td>-1.548164</td>\n",
       "    </tr>\n",
       "    <tr>\n",
       "      <th>25%</th>\n",
       "      <td>-0.627998</td>\n",
       "      <td>-1.224833</td>\n",
       "      <td>-0.485439</td>\n",
       "      <td>0.316346</td>\n",
       "    </tr>\n",
       "    <tr>\n",
       "      <th>50%</th>\n",
       "      <td>-0.088198</td>\n",
       "      <td>-0.702826</td>\n",
       "      <td>-0.204913</td>\n",
       "      <td>0.650886</td>\n",
       "    </tr>\n",
       "    <tr>\n",
       "      <th>75%</th>\n",
       "      <td>0.345559</td>\n",
       "      <td>0.102212</td>\n",
       "      <td>1.117711</td>\n",
       "      <td>1.236609</td>\n",
       "    </tr>\n",
       "    <tr>\n",
       "      <th>max</th>\n",
       "      <td>2.523310</td>\n",
       "      <td>0.679527</td>\n",
       "      <td>2.249961</td>\n",
       "      <td>1.518854</td>\n",
       "    </tr>\n",
       "  </tbody>\n",
       "</table>\n",
       "</div>"
      ],
      "text/plain": [
       "              A         B         C         D\n",
       "count  6.000000  6.000000  6.000000  6.000000\n",
       "mean   0.132954 -0.675279  0.283149  0.484858\n",
       "std    1.311637  1.089203  1.317797  1.109869\n",
       "min   -1.231400 -2.297270 -1.120879 -1.548164\n",
       "25%   -0.627998 -1.224833 -0.485439  0.316346\n",
       "50%   -0.088198 -0.702826 -0.204913  0.650886\n",
       "75%    0.345559  0.102212  1.117711  1.236609\n",
       "max    2.523310  0.679527  2.249961  1.518854"
      ]
     },
     "execution_count": 32,
     "metadata": {},
     "output_type": "execute_result"
    }
   ],
   "source": [
    "df.describe()"
   ]
  },
  {
   "cell_type": "code",
   "execution_count": 33,
   "metadata": {
    "collapsed": false
   },
   "outputs": [
    {
     "data": {
      "text/html": [
       "<div>\n",
       "<table border=\"1\" class=\"dataframe\">\n",
       "  <thead>\n",
       "    <tr style=\"text-align: right;\">\n",
       "      <th></th>\n",
       "      <th>2013-01-01 00:00:00</th>\n",
       "      <th>2013-01-02 00:00:00</th>\n",
       "      <th>2013-01-03 00:00:00</th>\n",
       "      <th>2013-01-04 00:00:00</th>\n",
       "      <th>2013-01-05 00:00:00</th>\n",
       "      <th>2013-01-06 00:00:00</th>\n",
       "    </tr>\n",
       "  </thead>\n",
       "  <tbody>\n",
       "    <tr>\n",
       "      <th>A</th>\n",
       "      <td>0.421547</td>\n",
       "      <td>-0.293990</td>\n",
       "      <td>2.523310</td>\n",
       "      <td>0.117594</td>\n",
       "      <td>-1.231400</td>\n",
       "      <td>-0.739334</td>\n",
       "    </tr>\n",
       "    <tr>\n",
       "      <th>B</th>\n",
       "      <td>-0.399598</td>\n",
       "      <td>-2.297270</td>\n",
       "      <td>0.269481</td>\n",
       "      <td>-1.006054</td>\n",
       "      <td>0.679527</td>\n",
       "      <td>-1.297759</td>\n",
       "    </tr>\n",
       "    <tr>\n",
       "      <th>C</th>\n",
       "      <td>2.249961</td>\n",
       "      <td>-0.202764</td>\n",
       "      <td>-0.207063</td>\n",
       "      <td>-1.120879</td>\n",
       "      <td>-0.578231</td>\n",
       "      <td>1.557869</td>\n",
       "    </tr>\n",
       "    <tr>\n",
       "      <th>D</th>\n",
       "      <td>0.275306</td>\n",
       "      <td>0.862306</td>\n",
       "      <td>1.361376</td>\n",
       "      <td>-1.548164</td>\n",
       "      <td>1.518854</td>\n",
       "      <td>0.439467</td>\n",
       "    </tr>\n",
       "  </tbody>\n",
       "</table>\n",
       "</div>"
      ],
      "text/plain": [
       "   2013-01-01  2013-01-02  2013-01-03  2013-01-04  2013-01-05  2013-01-06\n",
       "A    0.421547   -0.293990    2.523310    0.117594   -1.231400   -0.739334\n",
       "B   -0.399598   -2.297270    0.269481   -1.006054    0.679527   -1.297759\n",
       "C    2.249961   -0.202764   -0.207063   -1.120879   -0.578231    1.557869\n",
       "D    0.275306    0.862306    1.361376   -1.548164    1.518854    0.439467"
      ]
     },
     "execution_count": 33,
     "metadata": {},
     "output_type": "execute_result"
    }
   ],
   "source": [
    "df.T"
   ]
  },
  {
   "cell_type": "code",
   "execution_count": 34,
   "metadata": {
    "collapsed": false
   },
   "outputs": [
    {
     "data": {
      "text/html": [
       "<div>\n",
       "<table border=\"1\" class=\"dataframe\">\n",
       "  <thead>\n",
       "    <tr style=\"text-align: right;\">\n",
       "      <th></th>\n",
       "      <th>D</th>\n",
       "      <th>C</th>\n",
       "      <th>B</th>\n",
       "      <th>A</th>\n",
       "    </tr>\n",
       "  </thead>\n",
       "  <tbody>\n",
       "    <tr>\n",
       "      <th>2013-01-01</th>\n",
       "      <td>0.275306</td>\n",
       "      <td>2.249961</td>\n",
       "      <td>-0.399598</td>\n",
       "      <td>0.421547</td>\n",
       "    </tr>\n",
       "    <tr>\n",
       "      <th>2013-01-02</th>\n",
       "      <td>0.862306</td>\n",
       "      <td>-0.202764</td>\n",
       "      <td>-2.297270</td>\n",
       "      <td>-0.293990</td>\n",
       "    </tr>\n",
       "    <tr>\n",
       "      <th>2013-01-03</th>\n",
       "      <td>1.361376</td>\n",
       "      <td>-0.207063</td>\n",
       "      <td>0.269481</td>\n",
       "      <td>2.523310</td>\n",
       "    </tr>\n",
       "    <tr>\n",
       "      <th>2013-01-04</th>\n",
       "      <td>-1.548164</td>\n",
       "      <td>-1.120879</td>\n",
       "      <td>-1.006054</td>\n",
       "      <td>0.117594</td>\n",
       "    </tr>\n",
       "    <tr>\n",
       "      <th>2013-01-05</th>\n",
       "      <td>1.518854</td>\n",
       "      <td>-0.578231</td>\n",
       "      <td>0.679527</td>\n",
       "      <td>-1.231400</td>\n",
       "    </tr>\n",
       "    <tr>\n",
       "      <th>2013-01-06</th>\n",
       "      <td>0.439467</td>\n",
       "      <td>1.557869</td>\n",
       "      <td>-1.297759</td>\n",
       "      <td>-0.739334</td>\n",
       "    </tr>\n",
       "  </tbody>\n",
       "</table>\n",
       "</div>"
      ],
      "text/plain": [
       "                   D         C         B         A\n",
       "2013-01-01  0.275306  2.249961 -0.399598  0.421547\n",
       "2013-01-02  0.862306 -0.202764 -2.297270 -0.293990\n",
       "2013-01-03  1.361376 -0.207063  0.269481  2.523310\n",
       "2013-01-04 -1.548164 -1.120879 -1.006054  0.117594\n",
       "2013-01-05  1.518854 -0.578231  0.679527 -1.231400\n",
       "2013-01-06  0.439467  1.557869 -1.297759 -0.739334"
      ]
     },
     "execution_count": 34,
     "metadata": {},
     "output_type": "execute_result"
    }
   ],
   "source": [
    "df.sort_index(axis=1, ascending=False)"
   ]
  },
  {
   "cell_type": "code",
   "execution_count": 36,
   "metadata": {
    "collapsed": false
   },
   "outputs": [
    {
     "data": {
      "text/html": [
       "<div>\n",
       "<table border=\"1\" class=\"dataframe\">\n",
       "  <thead>\n",
       "    <tr style=\"text-align: right;\">\n",
       "      <th></th>\n",
       "      <th>A</th>\n",
       "      <th>B</th>\n",
       "      <th>C</th>\n",
       "      <th>D</th>\n",
       "    </tr>\n",
       "  </thead>\n",
       "  <tbody>\n",
       "    <tr>\n",
       "      <th>2013-01-06</th>\n",
       "      <td>-0.739334</td>\n",
       "      <td>-1.297759</td>\n",
       "      <td>1.557869</td>\n",
       "      <td>0.439467</td>\n",
       "    </tr>\n",
       "    <tr>\n",
       "      <th>2013-01-05</th>\n",
       "      <td>-1.231400</td>\n",
       "      <td>0.679527</td>\n",
       "      <td>-0.578231</td>\n",
       "      <td>1.518854</td>\n",
       "    </tr>\n",
       "    <tr>\n",
       "      <th>2013-01-04</th>\n",
       "      <td>0.117594</td>\n",
       "      <td>-1.006054</td>\n",
       "      <td>-1.120879</td>\n",
       "      <td>-1.548164</td>\n",
       "    </tr>\n",
       "    <tr>\n",
       "      <th>2013-01-03</th>\n",
       "      <td>2.523310</td>\n",
       "      <td>0.269481</td>\n",
       "      <td>-0.207063</td>\n",
       "      <td>1.361376</td>\n",
       "    </tr>\n",
       "    <tr>\n",
       "      <th>2013-01-02</th>\n",
       "      <td>-0.293990</td>\n",
       "      <td>-2.297270</td>\n",
       "      <td>-0.202764</td>\n",
       "      <td>0.862306</td>\n",
       "    </tr>\n",
       "    <tr>\n",
       "      <th>2013-01-01</th>\n",
       "      <td>0.421547</td>\n",
       "      <td>-0.399598</td>\n",
       "      <td>2.249961</td>\n",
       "      <td>0.275306</td>\n",
       "    </tr>\n",
       "  </tbody>\n",
       "</table>\n",
       "</div>"
      ],
      "text/plain": [
       "                   A         B         C         D\n",
       "2013-01-06 -0.739334 -1.297759  1.557869  0.439467\n",
       "2013-01-05 -1.231400  0.679527 -0.578231  1.518854\n",
       "2013-01-04  0.117594 -1.006054 -1.120879 -1.548164\n",
       "2013-01-03  2.523310  0.269481 -0.207063  1.361376\n",
       "2013-01-02 -0.293990 -2.297270 -0.202764  0.862306\n",
       "2013-01-01  0.421547 -0.399598  2.249961  0.275306"
      ]
     },
     "execution_count": 36,
     "metadata": {},
     "output_type": "execute_result"
    }
   ],
   "source": [
    "df.sort_index(axis=0, ascending=False)"
   ]
  },
  {
   "cell_type": "code",
   "execution_count": 41,
   "metadata": {
    "collapsed": false
   },
   "outputs": [
    {
     "data": {
      "text/html": [
       "<div>\n",
       "<table border=\"1\" class=\"dataframe\">\n",
       "  <thead>\n",
       "    <tr style=\"text-align: right;\">\n",
       "      <th></th>\n",
       "      <th>A</th>\n",
       "      <th>B</th>\n",
       "      <th>C</th>\n",
       "      <th>D</th>\n",
       "    </tr>\n",
       "  </thead>\n",
       "  <tbody>\n",
       "    <tr>\n",
       "      <th>2013-01-02</th>\n",
       "      <td>-0.293990</td>\n",
       "      <td>-2.297270</td>\n",
       "      <td>-0.202764</td>\n",
       "      <td>0.862306</td>\n",
       "    </tr>\n",
       "    <tr>\n",
       "      <th>2013-01-06</th>\n",
       "      <td>-0.739334</td>\n",
       "      <td>-1.297759</td>\n",
       "      <td>1.557869</td>\n",
       "      <td>0.439467</td>\n",
       "    </tr>\n",
       "    <tr>\n",
       "      <th>2013-01-04</th>\n",
       "      <td>0.117594</td>\n",
       "      <td>-1.006054</td>\n",
       "      <td>-1.120879</td>\n",
       "      <td>-1.548164</td>\n",
       "    </tr>\n",
       "    <tr>\n",
       "      <th>2013-01-01</th>\n",
       "      <td>0.421547</td>\n",
       "      <td>-0.399598</td>\n",
       "      <td>2.249961</td>\n",
       "      <td>0.275306</td>\n",
       "    </tr>\n",
       "    <tr>\n",
       "      <th>2013-01-03</th>\n",
       "      <td>2.523310</td>\n",
       "      <td>0.269481</td>\n",
       "      <td>-0.207063</td>\n",
       "      <td>1.361376</td>\n",
       "    </tr>\n",
       "    <tr>\n",
       "      <th>2013-01-05</th>\n",
       "      <td>-1.231400</td>\n",
       "      <td>0.679527</td>\n",
       "      <td>-0.578231</td>\n",
       "      <td>1.518854</td>\n",
       "    </tr>\n",
       "  </tbody>\n",
       "</table>\n",
       "</div>"
      ],
      "text/plain": [
       "                   A         B         C         D\n",
       "2013-01-02 -0.293990 -2.297270 -0.202764  0.862306\n",
       "2013-01-06 -0.739334 -1.297759  1.557869  0.439467\n",
       "2013-01-04  0.117594 -1.006054 -1.120879 -1.548164\n",
       "2013-01-01  0.421547 -0.399598  2.249961  0.275306\n",
       "2013-01-03  2.523310  0.269481 -0.207063  1.361376\n",
       "2013-01-05 -1.231400  0.679527 -0.578231  1.518854"
      ]
     },
     "execution_count": 41,
     "metadata": {},
     "output_type": "execute_result"
    }
   ],
   "source": [
    "df.sort_values('B')"
   ]
  },
  {
   "cell_type": "code",
   "execution_count": 42,
   "metadata": {
    "collapsed": false
   },
   "outputs": [
    {
     "data": {
      "text/plain": [
       "2013-01-01    0.421547\n",
       "2013-01-02   -0.293990\n",
       "2013-01-03    2.523310\n",
       "2013-01-04    0.117594\n",
       "2013-01-05   -1.231400\n",
       "2013-01-06   -0.739334\n",
       "Freq: D, Name: A, dtype: float64"
      ]
     },
     "execution_count": 42,
     "metadata": {},
     "output_type": "execute_result"
    }
   ],
   "source": [
    "df.A"
   ]
  },
  {
   "cell_type": "code",
   "execution_count": 43,
   "metadata": {
    "collapsed": false
   },
   "outputs": [
    {
     "data": {
      "text/plain": [
       "2013-01-01    0.421547\n",
       "2013-01-02   -0.293990\n",
       "2013-01-03    2.523310\n",
       "2013-01-04    0.117594\n",
       "2013-01-05   -1.231400\n",
       "2013-01-06   -0.739334\n",
       "Freq: D, Name: A, dtype: float64"
      ]
     },
     "execution_count": 43,
     "metadata": {},
     "output_type": "execute_result"
    }
   ],
   "source": [
    "df['A']"
   ]
  },
  {
   "cell_type": "code",
   "execution_count": 44,
   "metadata": {
    "collapsed": false
   },
   "outputs": [
    {
     "data": {
      "text/html": [
       "<div>\n",
       "<table border=\"1\" class=\"dataframe\">\n",
       "  <thead>\n",
       "    <tr style=\"text-align: right;\">\n",
       "      <th></th>\n",
       "      <th>A</th>\n",
       "      <th>B</th>\n",
       "      <th>C</th>\n",
       "      <th>D</th>\n",
       "    </tr>\n",
       "  </thead>\n",
       "  <tbody>\n",
       "    <tr>\n",
       "      <th>2013-01-02</th>\n",
       "      <td>-0.293990</td>\n",
       "      <td>-2.297270</td>\n",
       "      <td>-0.202764</td>\n",
       "      <td>0.862306</td>\n",
       "    </tr>\n",
       "    <tr>\n",
       "      <th>2013-01-03</th>\n",
       "      <td>2.523310</td>\n",
       "      <td>0.269481</td>\n",
       "      <td>-0.207063</td>\n",
       "      <td>1.361376</td>\n",
       "    </tr>\n",
       "    <tr>\n",
       "      <th>2013-01-04</th>\n",
       "      <td>0.117594</td>\n",
       "      <td>-1.006054</td>\n",
       "      <td>-1.120879</td>\n",
       "      <td>-1.548164</td>\n",
       "    </tr>\n",
       "  </tbody>\n",
       "</table>\n",
       "</div>"
      ],
      "text/plain": [
       "                   A         B         C         D\n",
       "2013-01-02 -0.293990 -2.297270 -0.202764  0.862306\n",
       "2013-01-03  2.523310  0.269481 -0.207063  1.361376\n",
       "2013-01-04  0.117594 -1.006054 -1.120879 -1.548164"
      ]
     },
     "execution_count": 44,
     "metadata": {},
     "output_type": "execute_result"
    }
   ],
   "source": [
    "df['20130102' : '20130104']"
   ]
  },
  {
   "cell_type": "code",
   "execution_count": 45,
   "metadata": {
    "collapsed": false
   },
   "outputs": [
    {
     "data": {
      "text/html": [
       "<div>\n",
       "<table border=\"1\" class=\"dataframe\">\n",
       "  <thead>\n",
       "    <tr style=\"text-align: right;\">\n",
       "      <th></th>\n",
       "      <th>A</th>\n",
       "      <th>B</th>\n",
       "      <th>C</th>\n",
       "      <th>D</th>\n",
       "    </tr>\n",
       "  </thead>\n",
       "  <tbody>\n",
       "    <tr>\n",
       "      <th>2013-01-01</th>\n",
       "      <td>0.421547</td>\n",
       "      <td>-0.399598</td>\n",
       "      <td>2.249961</td>\n",
       "      <td>0.275306</td>\n",
       "    </tr>\n",
       "  </tbody>\n",
       "</table>\n",
       "</div>"
      ],
      "text/plain": [
       "                   A         B         C         D\n",
       "2013-01-01  0.421547 -0.399598  2.249961  0.275306"
      ]
     },
     "execution_count": 45,
     "metadata": {},
     "output_type": "execute_result"
    }
   ],
   "source": [
    "df[0:1]"
   ]
  },
  {
   "cell_type": "code",
   "execution_count": 46,
   "metadata": {
    "collapsed": false
   },
   "outputs": [
    {
     "data": {
      "text/html": [
       "<div>\n",
       "<table border=\"1\" class=\"dataframe\">\n",
       "  <thead>\n",
       "    <tr style=\"text-align: right;\">\n",
       "      <th></th>\n",
       "      <th>A</th>\n",
       "      <th>B</th>\n",
       "      <th>C</th>\n",
       "      <th>D</th>\n",
       "    </tr>\n",
       "  </thead>\n",
       "  <tbody>\n",
       "    <tr>\n",
       "      <th>2013-01-02</th>\n",
       "      <td>-0.29399</td>\n",
       "      <td>-2.29727</td>\n",
       "      <td>-0.202764</td>\n",
       "      <td>0.862306</td>\n",
       "    </tr>\n",
       "  </tbody>\n",
       "</table>\n",
       "</div>"
      ],
      "text/plain": [
       "                  A        B         C         D\n",
       "2013-01-02 -0.29399 -2.29727 -0.202764  0.862306"
      ]
     },
     "execution_count": 46,
     "metadata": {},
     "output_type": "execute_result"
    }
   ],
   "source": [
    "df[1:2]"
   ]
  },
  {
   "cell_type": "code",
   "execution_count": 47,
   "metadata": {
    "collapsed": false
   },
   "outputs": [
    {
     "data": {
      "text/html": [
       "<div>\n",
       "<table border=\"1\" class=\"dataframe\">\n",
       "  <thead>\n",
       "    <tr style=\"text-align: right;\">\n",
       "      <th></th>\n",
       "      <th>A</th>\n",
       "      <th>B</th>\n",
       "      <th>C</th>\n",
       "      <th>D</th>\n",
       "    </tr>\n",
       "  </thead>\n",
       "  <tbody>\n",
       "    <tr>\n",
       "      <th>2013-01-01</th>\n",
       "      <td>0.421547</td>\n",
       "      <td>-0.399598</td>\n",
       "      <td>2.249961</td>\n",
       "      <td>0.275306</td>\n",
       "    </tr>\n",
       "    <tr>\n",
       "      <th>2013-01-02</th>\n",
       "      <td>-0.293990</td>\n",
       "      <td>-2.297270</td>\n",
       "      <td>-0.202764</td>\n",
       "      <td>0.862306</td>\n",
       "    </tr>\n",
       "  </tbody>\n",
       "</table>\n",
       "</div>"
      ],
      "text/plain": [
       "                   A         B         C         D\n",
       "2013-01-01  0.421547 -0.399598  2.249961  0.275306\n",
       "2013-01-02 -0.293990 -2.297270 -0.202764  0.862306"
      ]
     },
     "execution_count": 47,
     "metadata": {},
     "output_type": "execute_result"
    }
   ],
   "source": [
    "df[:2]"
   ]
  },
  {
   "cell_type": "code",
   "execution_count": 48,
   "metadata": {
    "collapsed": false
   },
   "outputs": [
    {
     "data": {
      "text/plain": [
       "A    0.421547\n",
       "B   -0.399598\n",
       "C    2.249961\n",
       "D    0.275306\n",
       "Name: 2013-01-01 00:00:00, dtype: float64"
      ]
     },
     "execution_count": 48,
     "metadata": {},
     "output_type": "execute_result"
    }
   ],
   "source": [
    "df.loc[dates[0]]"
   ]
  },
  {
   "cell_type": "code",
   "execution_count": 49,
   "metadata": {
    "collapsed": false
   },
   "outputs": [
    {
     "data": {
      "text/html": [
       "<div>\n",
       "<table border=\"1\" class=\"dataframe\">\n",
       "  <thead>\n",
       "    <tr style=\"text-align: right;\">\n",
       "      <th></th>\n",
       "      <th>A</th>\n",
       "      <th>B</th>\n",
       "    </tr>\n",
       "  </thead>\n",
       "  <tbody>\n",
       "    <tr>\n",
       "      <th>2013-01-01</th>\n",
       "      <td>0.421547</td>\n",
       "      <td>-0.399598</td>\n",
       "    </tr>\n",
       "    <tr>\n",
       "      <th>2013-01-02</th>\n",
       "      <td>-0.293990</td>\n",
       "      <td>-2.297270</td>\n",
       "    </tr>\n",
       "    <tr>\n",
       "      <th>2013-01-03</th>\n",
       "      <td>2.523310</td>\n",
       "      <td>0.269481</td>\n",
       "    </tr>\n",
       "    <tr>\n",
       "      <th>2013-01-04</th>\n",
       "      <td>0.117594</td>\n",
       "      <td>-1.006054</td>\n",
       "    </tr>\n",
       "    <tr>\n",
       "      <th>2013-01-05</th>\n",
       "      <td>-1.231400</td>\n",
       "      <td>0.679527</td>\n",
       "    </tr>\n",
       "    <tr>\n",
       "      <th>2013-01-06</th>\n",
       "      <td>-0.739334</td>\n",
       "      <td>-1.297759</td>\n",
       "    </tr>\n",
       "  </tbody>\n",
       "</table>\n",
       "</div>"
      ],
      "text/plain": [
       "                   A         B\n",
       "2013-01-01  0.421547 -0.399598\n",
       "2013-01-02 -0.293990 -2.297270\n",
       "2013-01-03  2.523310  0.269481\n",
       "2013-01-04  0.117594 -1.006054\n",
       "2013-01-05 -1.231400  0.679527\n",
       "2013-01-06 -0.739334 -1.297759"
      ]
     },
     "execution_count": 49,
     "metadata": {},
     "output_type": "execute_result"
    }
   ],
   "source": [
    "df.loc[:,['A','B']]"
   ]
  },
  {
   "cell_type": "code",
   "execution_count": 52,
   "metadata": {
    "collapsed": false
   },
   "outputs": [
    {
     "data": {
      "text/html": [
       "<div>\n",
       "<table border=\"1\" class=\"dataframe\">\n",
       "  <thead>\n",
       "    <tr style=\"text-align: right;\">\n",
       "      <th></th>\n",
       "      <th>A</th>\n",
       "      <th>B</th>\n",
       "    </tr>\n",
       "  </thead>\n",
       "  <tbody>\n",
       "    <tr>\n",
       "      <th>2013-01-02</th>\n",
       "      <td>-0.293990</td>\n",
       "      <td>-2.297270</td>\n",
       "    </tr>\n",
       "    <tr>\n",
       "      <th>2013-01-03</th>\n",
       "      <td>2.523310</td>\n",
       "      <td>0.269481</td>\n",
       "    </tr>\n",
       "    <tr>\n",
       "      <th>2013-01-04</th>\n",
       "      <td>0.117594</td>\n",
       "      <td>-1.006054</td>\n",
       "    </tr>\n",
       "  </tbody>\n",
       "</table>\n",
       "</div>"
      ],
      "text/plain": [
       "                   A         B\n",
       "2013-01-02 -0.293990 -2.297270\n",
       "2013-01-03  2.523310  0.269481\n",
       "2013-01-04  0.117594 -1.006054"
      ]
     },
     "execution_count": 52,
     "metadata": {},
     "output_type": "execute_result"
    }
   ],
   "source": [
    "df.loc['20130102':'20130104',['A','B']]"
   ]
  },
  {
   "cell_type": "code",
   "execution_count": 53,
   "metadata": {
    "collapsed": false
   },
   "outputs": [
    {
     "data": {
      "text/plain": [
       "0.42154746319838859"
      ]
     },
     "execution_count": 53,
     "metadata": {},
     "output_type": "execute_result"
    }
   ],
   "source": [
    "df.loc[dates[0],'A']"
   ]
  },
  {
   "cell_type": "code",
   "execution_count": 54,
   "metadata": {
    "collapsed": false
   },
   "outputs": [
    {
     "data": {
      "text/plain": [
       "0.42154746319838859"
      ]
     },
     "execution_count": 54,
     "metadata": {},
     "output_type": "execute_result"
    }
   ],
   "source": [
    "df.at[dates[0],'A']"
   ]
  },
  {
   "cell_type": "code",
   "execution_count": 56,
   "metadata": {
    "collapsed": false
   },
   "outputs": [
    {
     "name": "stdout",
     "output_type": "stream",
     "text": [
      "The slowest run took 5.29 times longer than the fastest. This could mean that an intermediate result is being cached \n",
      "10000 loops, best of 3: 29.3 µs per loop\n"
     ]
    }
   ],
   "source": [
    "%timeit df.at[dates[0],'A']"
   ]
  },
  {
   "cell_type": "code",
   "execution_count": 57,
   "metadata": {
    "collapsed": false
   },
   "outputs": [
    {
     "name": "stdout",
     "output_type": "stream",
     "text": [
      "1000 loops, best of 3: 189 µs per loop\n"
     ]
    }
   ],
   "source": [
    "%timeit df.loc[dates[0],'A']"
   ]
  },
  {
   "cell_type": "code",
   "execution_count": 58,
   "metadata": {
    "collapsed": false
   },
   "outputs": [
    {
     "data": {
      "text/plain": [
       "A    0.117594\n",
       "B   -1.006054\n",
       "C   -1.120879\n",
       "D   -1.548164\n",
       "Name: 2013-01-04 00:00:00, dtype: float64"
      ]
     },
     "execution_count": 58,
     "metadata": {},
     "output_type": "execute_result"
    }
   ],
   "source": [
    "df.iloc[3]"
   ]
  },
  {
   "cell_type": "code",
   "execution_count": 59,
   "metadata": {
    "collapsed": false
   },
   "outputs": [
    {
     "data": {
      "text/html": [
       "<div>\n",
       "<table border=\"1\" class=\"dataframe\">\n",
       "  <thead>\n",
       "    <tr style=\"text-align: right;\">\n",
       "      <th></th>\n",
       "      <th>A</th>\n",
       "      <th>B</th>\n",
       "      <th>C</th>\n",
       "      <th>D</th>\n",
       "    </tr>\n",
       "  </thead>\n",
       "  <tbody>\n",
       "    <tr>\n",
       "      <th>2013-01-01</th>\n",
       "      <td>0.421547</td>\n",
       "      <td>-0.399598</td>\n",
       "      <td>2.249961</td>\n",
       "      <td>0.275306</td>\n",
       "    </tr>\n",
       "    <tr>\n",
       "      <th>2013-01-02</th>\n",
       "      <td>-0.293990</td>\n",
       "      <td>-2.297270</td>\n",
       "      <td>-0.202764</td>\n",
       "      <td>0.862306</td>\n",
       "    </tr>\n",
       "    <tr>\n",
       "      <th>2013-01-03</th>\n",
       "      <td>2.523310</td>\n",
       "      <td>0.269481</td>\n",
       "      <td>-0.207063</td>\n",
       "      <td>1.361376</td>\n",
       "    </tr>\n",
       "    <tr>\n",
       "      <th>2013-01-04</th>\n",
       "      <td>0.117594</td>\n",
       "      <td>-1.006054</td>\n",
       "      <td>-1.120879</td>\n",
       "      <td>-1.548164</td>\n",
       "    </tr>\n",
       "    <tr>\n",
       "      <th>2013-01-05</th>\n",
       "      <td>-1.231400</td>\n",
       "      <td>0.679527</td>\n",
       "      <td>-0.578231</td>\n",
       "      <td>1.518854</td>\n",
       "    </tr>\n",
       "    <tr>\n",
       "      <th>2013-01-06</th>\n",
       "      <td>-0.739334</td>\n",
       "      <td>-1.297759</td>\n",
       "      <td>1.557869</td>\n",
       "      <td>0.439467</td>\n",
       "    </tr>\n",
       "  </tbody>\n",
       "</table>\n",
       "</div>"
      ],
      "text/plain": [
       "                   A         B         C         D\n",
       "2013-01-01  0.421547 -0.399598  2.249961  0.275306\n",
       "2013-01-02 -0.293990 -2.297270 -0.202764  0.862306\n",
       "2013-01-03  2.523310  0.269481 -0.207063  1.361376\n",
       "2013-01-04  0.117594 -1.006054 -1.120879 -1.548164\n",
       "2013-01-05 -1.231400  0.679527 -0.578231  1.518854\n",
       "2013-01-06 -0.739334 -1.297759  1.557869  0.439467"
      ]
     },
     "execution_count": 59,
     "metadata": {},
     "output_type": "execute_result"
    }
   ],
   "source": [
    "df"
   ]
  },
  {
   "cell_type": "code",
   "execution_count": 60,
   "metadata": {
    "collapsed": false
   },
   "outputs": [
    {
     "data": {
      "text/html": [
       "<div>\n",
       "<table border=\"1\" class=\"dataframe\">\n",
       "  <thead>\n",
       "    <tr style=\"text-align: right;\">\n",
       "      <th></th>\n",
       "      <th>A</th>\n",
       "      <th>B</th>\n",
       "    </tr>\n",
       "  </thead>\n",
       "  <tbody>\n",
       "    <tr>\n",
       "      <th>2013-01-04</th>\n",
       "      <td>0.117594</td>\n",
       "      <td>-1.006054</td>\n",
       "    </tr>\n",
       "    <tr>\n",
       "      <th>2013-01-05</th>\n",
       "      <td>-1.231400</td>\n",
       "      <td>0.679527</td>\n",
       "    </tr>\n",
       "  </tbody>\n",
       "</table>\n",
       "</div>"
      ],
      "text/plain": [
       "                   A         B\n",
       "2013-01-04  0.117594 -1.006054\n",
       "2013-01-05 -1.231400  0.679527"
      ]
     },
     "execution_count": 60,
     "metadata": {},
     "output_type": "execute_result"
    }
   ],
   "source": [
    "df.iloc[3:5,0:2]"
   ]
  },
  {
   "cell_type": "code",
   "execution_count": 61,
   "metadata": {
    "collapsed": false
   },
   "outputs": [
    {
     "data": {
      "text/html": [
       "<div>\n",
       "<table border=\"1\" class=\"dataframe\">\n",
       "  <thead>\n",
       "    <tr style=\"text-align: right;\">\n",
       "      <th></th>\n",
       "      <th>A</th>\n",
       "      <th>C</th>\n",
       "    </tr>\n",
       "  </thead>\n",
       "  <tbody>\n",
       "    <tr>\n",
       "      <th>2013-01-02</th>\n",
       "      <td>-0.29399</td>\n",
       "      <td>-0.202764</td>\n",
       "    </tr>\n",
       "    <tr>\n",
       "      <th>2013-01-03</th>\n",
       "      <td>2.52331</td>\n",
       "      <td>-0.207063</td>\n",
       "    </tr>\n",
       "    <tr>\n",
       "      <th>2013-01-05</th>\n",
       "      <td>-1.23140</td>\n",
       "      <td>-0.578231</td>\n",
       "    </tr>\n",
       "  </tbody>\n",
       "</table>\n",
       "</div>"
      ],
      "text/plain": [
       "                  A         C\n",
       "2013-01-02 -0.29399 -0.202764\n",
       "2013-01-03  2.52331 -0.207063\n",
       "2013-01-05 -1.23140 -0.578231"
      ]
     },
     "execution_count": 61,
     "metadata": {},
     "output_type": "execute_result"
    }
   ],
   "source": [
    "df.iloc[[1,2,4],[0,2]]"
   ]
  },
  {
   "cell_type": "code",
   "execution_count": 62,
   "metadata": {
    "collapsed": false
   },
   "outputs": [
    {
     "name": "stdout",
     "output_type": "stream",
     "text": [
      "The slowest run took 8.16 times longer than the fastest. This could mean that an intermediate result is being cached \n",
      "100000 loops, best of 3: 8.21 µs per loop\n"
     ]
    }
   ],
   "source": [
    "%timeit df.iat[1,1]"
   ]
  },
  {
   "cell_type": "code",
   "execution_count": 63,
   "metadata": {
    "collapsed": false
   },
   "outputs": [
    {
     "data": {
      "text/html": [
       "<div>\n",
       "<table border=\"1\" class=\"dataframe\">\n",
       "  <thead>\n",
       "    <tr style=\"text-align: right;\">\n",
       "      <th></th>\n",
       "      <th>A</th>\n",
       "      <th>B</th>\n",
       "      <th>C</th>\n",
       "      <th>D</th>\n",
       "    </tr>\n",
       "  </thead>\n",
       "  <tbody>\n",
       "    <tr>\n",
       "      <th>2013-01-01</th>\n",
       "      <td>0.421547</td>\n",
       "      <td>-0.399598</td>\n",
       "      <td>2.249961</td>\n",
       "      <td>0.275306</td>\n",
       "    </tr>\n",
       "    <tr>\n",
       "      <th>2013-01-03</th>\n",
       "      <td>2.523310</td>\n",
       "      <td>0.269481</td>\n",
       "      <td>-0.207063</td>\n",
       "      <td>1.361376</td>\n",
       "    </tr>\n",
       "    <tr>\n",
       "      <th>2013-01-04</th>\n",
       "      <td>0.117594</td>\n",
       "      <td>-1.006054</td>\n",
       "      <td>-1.120879</td>\n",
       "      <td>-1.548164</td>\n",
       "    </tr>\n",
       "  </tbody>\n",
       "</table>\n",
       "</div>"
      ],
      "text/plain": [
       "                   A         B         C         D\n",
       "2013-01-01  0.421547 -0.399598  2.249961  0.275306\n",
       "2013-01-03  2.523310  0.269481 -0.207063  1.361376\n",
       "2013-01-04  0.117594 -1.006054 -1.120879 -1.548164"
      ]
     },
     "execution_count": 63,
     "metadata": {},
     "output_type": "execute_result"
    }
   ],
   "source": [
    "df[df.A > 0]"
   ]
  },
  {
   "cell_type": "code",
   "execution_count": 64,
   "metadata": {
    "collapsed": true
   },
   "outputs": [],
   "source": [
    "df2 = df.copy()"
   ]
  },
  {
   "cell_type": "code",
   "execution_count": 65,
   "metadata": {
    "collapsed": true
   },
   "outputs": [],
   "source": [
    "df2['E'] = ['one', 'one','two','three','four','three']"
   ]
  },
  {
   "cell_type": "code",
   "execution_count": 66,
   "metadata": {
    "collapsed": false
   },
   "outputs": [
    {
     "data": {
      "text/html": [
       "<div>\n",
       "<table border=\"1\" class=\"dataframe\">\n",
       "  <thead>\n",
       "    <tr style=\"text-align: right;\">\n",
       "      <th></th>\n",
       "      <th>A</th>\n",
       "      <th>B</th>\n",
       "      <th>C</th>\n",
       "      <th>D</th>\n",
       "      <th>E</th>\n",
       "    </tr>\n",
       "  </thead>\n",
       "  <tbody>\n",
       "    <tr>\n",
       "      <th>2013-01-01</th>\n",
       "      <td>0.421547</td>\n",
       "      <td>-0.399598</td>\n",
       "      <td>2.249961</td>\n",
       "      <td>0.275306</td>\n",
       "      <td>one</td>\n",
       "    </tr>\n",
       "    <tr>\n",
       "      <th>2013-01-02</th>\n",
       "      <td>-0.293990</td>\n",
       "      <td>-2.297270</td>\n",
       "      <td>-0.202764</td>\n",
       "      <td>0.862306</td>\n",
       "      <td>one</td>\n",
       "    </tr>\n",
       "    <tr>\n",
       "      <th>2013-01-03</th>\n",
       "      <td>2.523310</td>\n",
       "      <td>0.269481</td>\n",
       "      <td>-0.207063</td>\n",
       "      <td>1.361376</td>\n",
       "      <td>two</td>\n",
       "    </tr>\n",
       "    <tr>\n",
       "      <th>2013-01-04</th>\n",
       "      <td>0.117594</td>\n",
       "      <td>-1.006054</td>\n",
       "      <td>-1.120879</td>\n",
       "      <td>-1.548164</td>\n",
       "      <td>three</td>\n",
       "    </tr>\n",
       "    <tr>\n",
       "      <th>2013-01-05</th>\n",
       "      <td>-1.231400</td>\n",
       "      <td>0.679527</td>\n",
       "      <td>-0.578231</td>\n",
       "      <td>1.518854</td>\n",
       "      <td>four</td>\n",
       "    </tr>\n",
       "    <tr>\n",
       "      <th>2013-01-06</th>\n",
       "      <td>-0.739334</td>\n",
       "      <td>-1.297759</td>\n",
       "      <td>1.557869</td>\n",
       "      <td>0.439467</td>\n",
       "      <td>three</td>\n",
       "    </tr>\n",
       "  </tbody>\n",
       "</table>\n",
       "</div>"
      ],
      "text/plain": [
       "                   A         B         C         D      E\n",
       "2013-01-01  0.421547 -0.399598  2.249961  0.275306    one\n",
       "2013-01-02 -0.293990 -2.297270 -0.202764  0.862306    one\n",
       "2013-01-03  2.523310  0.269481 -0.207063  1.361376    two\n",
       "2013-01-04  0.117594 -1.006054 -1.120879 -1.548164  three\n",
       "2013-01-05 -1.231400  0.679527 -0.578231  1.518854   four\n",
       "2013-01-06 -0.739334 -1.297759  1.557869  0.439467  three"
      ]
     },
     "execution_count": 66,
     "metadata": {},
     "output_type": "execute_result"
    }
   ],
   "source": [
    "df2"
   ]
  },
  {
   "cell_type": "code",
   "execution_count": 67,
   "metadata": {
    "collapsed": false
   },
   "outputs": [
    {
     "data": {
      "text/html": [
       "<div>\n",
       "<table border=\"1\" class=\"dataframe\">\n",
       "  <thead>\n",
       "    <tr style=\"text-align: right;\">\n",
       "      <th></th>\n",
       "      <th>A</th>\n",
       "      <th>B</th>\n",
       "      <th>C</th>\n",
       "      <th>D</th>\n",
       "      <th>E</th>\n",
       "    </tr>\n",
       "  </thead>\n",
       "  <tbody>\n",
       "    <tr>\n",
       "      <th>2013-01-03</th>\n",
       "      <td>2.52331</td>\n",
       "      <td>0.269481</td>\n",
       "      <td>-0.207063</td>\n",
       "      <td>1.361376</td>\n",
       "      <td>two</td>\n",
       "    </tr>\n",
       "    <tr>\n",
       "      <th>2013-01-05</th>\n",
       "      <td>-1.23140</td>\n",
       "      <td>0.679527</td>\n",
       "      <td>-0.578231</td>\n",
       "      <td>1.518854</td>\n",
       "      <td>four</td>\n",
       "    </tr>\n",
       "  </tbody>\n",
       "</table>\n",
       "</div>"
      ],
      "text/plain": [
       "                  A         B         C         D     E\n",
       "2013-01-03  2.52331  0.269481 -0.207063  1.361376   two\n",
       "2013-01-05 -1.23140  0.679527 -0.578231  1.518854  four"
      ]
     },
     "execution_count": 67,
     "metadata": {},
     "output_type": "execute_result"
    }
   ],
   "source": [
    "df2[df2['E'].isin(['two','four'])]"
   ]
  },
  {
   "cell_type": "code",
   "execution_count": 68,
   "metadata": {
    "collapsed": false
   },
   "outputs": [
    {
     "data": {
      "text/plain": [
       "2013-01-02    1\n",
       "2013-01-03    2\n",
       "2013-01-04    3\n",
       "2013-01-05    4\n",
       "2013-01-06    5\n",
       "2013-01-07    6\n",
       "Freq: D, dtype: int64"
      ]
     },
     "execution_count": 68,
     "metadata": {},
     "output_type": "execute_result"
    }
   ],
   "source": [
    "s1 = pd.Series([1,2,3,4,5,6], index=pd.date_range('20130102', periods=6))\n",
    "s1"
   ]
  },
  {
   "cell_type": "code",
   "execution_count": 69,
   "metadata": {
    "collapsed": true
   },
   "outputs": [],
   "source": [
    "df['F'] = s1"
   ]
  },
  {
   "cell_type": "code",
   "execution_count": 70,
   "metadata": {
    "collapsed": false
   },
   "outputs": [
    {
     "data": {
      "text/html": [
       "<div>\n",
       "<table border=\"1\" class=\"dataframe\">\n",
       "  <thead>\n",
       "    <tr style=\"text-align: right;\">\n",
       "      <th></th>\n",
       "      <th>A</th>\n",
       "      <th>B</th>\n",
       "      <th>C</th>\n",
       "      <th>D</th>\n",
       "      <th>F</th>\n",
       "    </tr>\n",
       "  </thead>\n",
       "  <tbody>\n",
       "    <tr>\n",
       "      <th>2013-01-01</th>\n",
       "      <td>0.421547</td>\n",
       "      <td>-0.399598</td>\n",
       "      <td>2.249961</td>\n",
       "      <td>0.275306</td>\n",
       "      <td>NaN</td>\n",
       "    </tr>\n",
       "    <tr>\n",
       "      <th>2013-01-02</th>\n",
       "      <td>-0.293990</td>\n",
       "      <td>-2.297270</td>\n",
       "      <td>-0.202764</td>\n",
       "      <td>0.862306</td>\n",
       "      <td>1</td>\n",
       "    </tr>\n",
       "    <tr>\n",
       "      <th>2013-01-03</th>\n",
       "      <td>2.523310</td>\n",
       "      <td>0.269481</td>\n",
       "      <td>-0.207063</td>\n",
       "      <td>1.361376</td>\n",
       "      <td>2</td>\n",
       "    </tr>\n",
       "    <tr>\n",
       "      <th>2013-01-04</th>\n",
       "      <td>0.117594</td>\n",
       "      <td>-1.006054</td>\n",
       "      <td>-1.120879</td>\n",
       "      <td>-1.548164</td>\n",
       "      <td>3</td>\n",
       "    </tr>\n",
       "    <tr>\n",
       "      <th>2013-01-05</th>\n",
       "      <td>-1.231400</td>\n",
       "      <td>0.679527</td>\n",
       "      <td>-0.578231</td>\n",
       "      <td>1.518854</td>\n",
       "      <td>4</td>\n",
       "    </tr>\n",
       "    <tr>\n",
       "      <th>2013-01-06</th>\n",
       "      <td>-0.739334</td>\n",
       "      <td>-1.297759</td>\n",
       "      <td>1.557869</td>\n",
       "      <td>0.439467</td>\n",
       "      <td>5</td>\n",
       "    </tr>\n",
       "  </tbody>\n",
       "</table>\n",
       "</div>"
      ],
      "text/plain": [
       "                   A         B         C         D   F\n",
       "2013-01-01  0.421547 -0.399598  2.249961  0.275306 NaN\n",
       "2013-01-02 -0.293990 -2.297270 -0.202764  0.862306   1\n",
       "2013-01-03  2.523310  0.269481 -0.207063  1.361376   2\n",
       "2013-01-04  0.117594 -1.006054 -1.120879 -1.548164   3\n",
       "2013-01-05 -1.231400  0.679527 -0.578231  1.518854   4\n",
       "2013-01-06 -0.739334 -1.297759  1.557869  0.439467   5"
      ]
     },
     "execution_count": 70,
     "metadata": {},
     "output_type": "execute_result"
    }
   ],
   "source": [
    "df"
   ]
  },
  {
   "cell_type": "code",
   "execution_count": 71,
   "metadata": {
    "collapsed": true
   },
   "outputs": [],
   "source": [
    "df.at[dates[0],'A'] = 0"
   ]
  },
  {
   "cell_type": "code",
   "execution_count": 72,
   "metadata": {
    "collapsed": true
   },
   "outputs": [],
   "source": [
    "df.iat[0,1] = 0.1"
   ]
  },
  {
   "cell_type": "code",
   "execution_count": 73,
   "metadata": {
    "collapsed": true
   },
   "outputs": [],
   "source": [
    "df.loc[:,'D'] = np.array([5] * len(df))"
   ]
  },
  {
   "cell_type": "code",
   "execution_count": 74,
   "metadata": {
    "collapsed": false
   },
   "outputs": [
    {
     "data": {
      "text/html": [
       "<div>\n",
       "<table border=\"1\" class=\"dataframe\">\n",
       "  <thead>\n",
       "    <tr style=\"text-align: right;\">\n",
       "      <th></th>\n",
       "      <th>A</th>\n",
       "      <th>B</th>\n",
       "      <th>C</th>\n",
       "      <th>D</th>\n",
       "      <th>F</th>\n",
       "    </tr>\n",
       "  </thead>\n",
       "  <tbody>\n",
       "    <tr>\n",
       "      <th>2013-01-01</th>\n",
       "      <td>0.000000</td>\n",
       "      <td>0.100000</td>\n",
       "      <td>2.249961</td>\n",
       "      <td>5</td>\n",
       "      <td>NaN</td>\n",
       "    </tr>\n",
       "    <tr>\n",
       "      <th>2013-01-02</th>\n",
       "      <td>-0.293990</td>\n",
       "      <td>-2.297270</td>\n",
       "      <td>-0.202764</td>\n",
       "      <td>5</td>\n",
       "      <td>1</td>\n",
       "    </tr>\n",
       "    <tr>\n",
       "      <th>2013-01-03</th>\n",
       "      <td>2.523310</td>\n",
       "      <td>0.269481</td>\n",
       "      <td>-0.207063</td>\n",
       "      <td>5</td>\n",
       "      <td>2</td>\n",
       "    </tr>\n",
       "    <tr>\n",
       "      <th>2013-01-04</th>\n",
       "      <td>0.117594</td>\n",
       "      <td>-1.006054</td>\n",
       "      <td>-1.120879</td>\n",
       "      <td>5</td>\n",
       "      <td>3</td>\n",
       "    </tr>\n",
       "    <tr>\n",
       "      <th>2013-01-05</th>\n",
       "      <td>-1.231400</td>\n",
       "      <td>0.679527</td>\n",
       "      <td>-0.578231</td>\n",
       "      <td>5</td>\n",
       "      <td>4</td>\n",
       "    </tr>\n",
       "    <tr>\n",
       "      <th>2013-01-06</th>\n",
       "      <td>-0.739334</td>\n",
       "      <td>-1.297759</td>\n",
       "      <td>1.557869</td>\n",
       "      <td>5</td>\n",
       "      <td>5</td>\n",
       "    </tr>\n",
       "  </tbody>\n",
       "</table>\n",
       "</div>"
      ],
      "text/plain": [
       "                   A         B         C  D   F\n",
       "2013-01-01  0.000000  0.100000  2.249961  5 NaN\n",
       "2013-01-02 -0.293990 -2.297270 -0.202764  5   1\n",
       "2013-01-03  2.523310  0.269481 -0.207063  5   2\n",
       "2013-01-04  0.117594 -1.006054 -1.120879  5   3\n",
       "2013-01-05 -1.231400  0.679527 -0.578231  5   4\n",
       "2013-01-06 -0.739334 -1.297759  1.557869  5   5"
      ]
     },
     "execution_count": 74,
     "metadata": {},
     "output_type": "execute_result"
    }
   ],
   "source": [
    "df"
   ]
  },
  {
   "cell_type": "code",
   "execution_count": 75,
   "metadata": {
    "collapsed": true
   },
   "outputs": [],
   "source": [
    "df2 = df.copy()"
   ]
  },
  {
   "cell_type": "code",
   "execution_count": 76,
   "metadata": {
    "collapsed": true
   },
   "outputs": [],
   "source": [
    "df2[df2 > 0] = -df2*100"
   ]
  },
  {
   "cell_type": "code",
   "execution_count": 77,
   "metadata": {
    "collapsed": false
   },
   "outputs": [
    {
     "data": {
      "text/html": [
       "<div>\n",
       "<table border=\"1\" class=\"dataframe\">\n",
       "  <thead>\n",
       "    <tr style=\"text-align: right;\">\n",
       "      <th></th>\n",
       "      <th>A</th>\n",
       "      <th>B</th>\n",
       "      <th>C</th>\n",
       "      <th>D</th>\n",
       "      <th>F</th>\n",
       "    </tr>\n",
       "  </thead>\n",
       "  <tbody>\n",
       "    <tr>\n",
       "      <th>2013-01-01</th>\n",
       "      <td>0.000000</td>\n",
       "      <td>-10.000000</td>\n",
       "      <td>-224.996068</td>\n",
       "      <td>-500</td>\n",
       "      <td>NaN</td>\n",
       "    </tr>\n",
       "    <tr>\n",
       "      <th>2013-01-02</th>\n",
       "      <td>-0.293990</td>\n",
       "      <td>-2.297270</td>\n",
       "      <td>-0.202764</td>\n",
       "      <td>-500</td>\n",
       "      <td>-100</td>\n",
       "    </tr>\n",
       "    <tr>\n",
       "      <th>2013-01-03</th>\n",
       "      <td>-252.331009</td>\n",
       "      <td>-26.948132</td>\n",
       "      <td>-0.207063</td>\n",
       "      <td>-500</td>\n",
       "      <td>-200</td>\n",
       "    </tr>\n",
       "    <tr>\n",
       "      <th>2013-01-04</th>\n",
       "      <td>-11.759377</td>\n",
       "      <td>-1.006054</td>\n",
       "      <td>-1.120879</td>\n",
       "      <td>-500</td>\n",
       "      <td>-300</td>\n",
       "    </tr>\n",
       "    <tr>\n",
       "      <th>2013-01-05</th>\n",
       "      <td>-1.231400</td>\n",
       "      <td>-67.952708</td>\n",
       "      <td>-0.578231</td>\n",
       "      <td>-500</td>\n",
       "      <td>-400</td>\n",
       "    </tr>\n",
       "    <tr>\n",
       "      <th>2013-01-06</th>\n",
       "      <td>-0.739334</td>\n",
       "      <td>-1.297759</td>\n",
       "      <td>-155.786920</td>\n",
       "      <td>-500</td>\n",
       "      <td>-500</td>\n",
       "    </tr>\n",
       "  </tbody>\n",
       "</table>\n",
       "</div>"
      ],
      "text/plain": [
       "                     A          B           C    D    F\n",
       "2013-01-01    0.000000 -10.000000 -224.996068 -500  NaN\n",
       "2013-01-02   -0.293990  -2.297270   -0.202764 -500 -100\n",
       "2013-01-03 -252.331009 -26.948132   -0.207063 -500 -200\n",
       "2013-01-04  -11.759377  -1.006054   -1.120879 -500 -300\n",
       "2013-01-05   -1.231400 -67.952708   -0.578231 -500 -400\n",
       "2013-01-06   -0.739334  -1.297759 -155.786920 -500 -500"
      ]
     },
     "execution_count": 77,
     "metadata": {},
     "output_type": "execute_result"
    }
   ],
   "source": [
    "df2"
   ]
  },
  {
   "cell_type": "code",
   "execution_count": 78,
   "metadata": {
    "collapsed": true
   },
   "outputs": [],
   "source": [
    "df1 = df.reindex(index=dates[0:4], columns=list(df.columns) + ['E'])"
   ]
  },
  {
   "cell_type": "code",
   "execution_count": 79,
   "metadata": {
    "collapsed": true
   },
   "outputs": [],
   "source": [
    "df1.loc[dates[0]:dates[1],'E'] = 1"
   ]
  },
  {
   "cell_type": "code",
   "execution_count": 80,
   "metadata": {
    "collapsed": false
   },
   "outputs": [
    {
     "data": {
      "text/html": [
       "<div>\n",
       "<table border=\"1\" class=\"dataframe\">\n",
       "  <thead>\n",
       "    <tr style=\"text-align: right;\">\n",
       "      <th></th>\n",
       "      <th>A</th>\n",
       "      <th>B</th>\n",
       "      <th>C</th>\n",
       "      <th>D</th>\n",
       "      <th>F</th>\n",
       "      <th>E</th>\n",
       "    </tr>\n",
       "  </thead>\n",
       "  <tbody>\n",
       "    <tr>\n",
       "      <th>2013-01-01</th>\n",
       "      <td>0.000000</td>\n",
       "      <td>0.100000</td>\n",
       "      <td>2.249961</td>\n",
       "      <td>5</td>\n",
       "      <td>NaN</td>\n",
       "      <td>1</td>\n",
       "    </tr>\n",
       "    <tr>\n",
       "      <th>2013-01-02</th>\n",
       "      <td>-0.293990</td>\n",
       "      <td>-2.297270</td>\n",
       "      <td>-0.202764</td>\n",
       "      <td>5</td>\n",
       "      <td>1</td>\n",
       "      <td>1</td>\n",
       "    </tr>\n",
       "    <tr>\n",
       "      <th>2013-01-03</th>\n",
       "      <td>2.523310</td>\n",
       "      <td>0.269481</td>\n",
       "      <td>-0.207063</td>\n",
       "      <td>5</td>\n",
       "      <td>2</td>\n",
       "      <td>NaN</td>\n",
       "    </tr>\n",
       "    <tr>\n",
       "      <th>2013-01-04</th>\n",
       "      <td>0.117594</td>\n",
       "      <td>-1.006054</td>\n",
       "      <td>-1.120879</td>\n",
       "      <td>5</td>\n",
       "      <td>3</td>\n",
       "      <td>NaN</td>\n",
       "    </tr>\n",
       "  </tbody>\n",
       "</table>\n",
       "</div>"
      ],
      "text/plain": [
       "                   A         B         C  D   F   E\n",
       "2013-01-01  0.000000  0.100000  2.249961  5 NaN   1\n",
       "2013-01-02 -0.293990 -2.297270 -0.202764  5   1   1\n",
       "2013-01-03  2.523310  0.269481 -0.207063  5   2 NaN\n",
       "2013-01-04  0.117594 -1.006054 -1.120879  5   3 NaN"
      ]
     },
     "execution_count": 80,
     "metadata": {},
     "output_type": "execute_result"
    }
   ],
   "source": [
    "df1"
   ]
  },
  {
   "cell_type": "code",
   "execution_count": 81,
   "metadata": {
    "collapsed": false
   },
   "outputs": [
    {
     "data": {
      "text/html": [
       "<div>\n",
       "<table border=\"1\" class=\"dataframe\">\n",
       "  <thead>\n",
       "    <tr style=\"text-align: right;\">\n",
       "      <th></th>\n",
       "      <th>A</th>\n",
       "      <th>B</th>\n",
       "      <th>C</th>\n",
       "      <th>D</th>\n",
       "      <th>F</th>\n",
       "      <th>E</th>\n",
       "    </tr>\n",
       "  </thead>\n",
       "  <tbody>\n",
       "    <tr>\n",
       "      <th>2013-01-02</th>\n",
       "      <td>-0.29399</td>\n",
       "      <td>-2.29727</td>\n",
       "      <td>-0.202764</td>\n",
       "      <td>5</td>\n",
       "      <td>1</td>\n",
       "      <td>1</td>\n",
       "    </tr>\n",
       "  </tbody>\n",
       "</table>\n",
       "</div>"
      ],
      "text/plain": [
       "                  A        B         C  D  F  E\n",
       "2013-01-02 -0.29399 -2.29727 -0.202764  5  1  1"
      ]
     },
     "execution_count": 81,
     "metadata": {},
     "output_type": "execute_result"
    }
   ],
   "source": [
    "df1.dropna(how='any')"
   ]
  },
  {
   "cell_type": "code",
   "execution_count": 82,
   "metadata": {
    "collapsed": false
   },
   "outputs": [
    {
     "data": {
      "text/html": [
       "<div>\n",
       "<table border=\"1\" class=\"dataframe\">\n",
       "  <thead>\n",
       "    <tr style=\"text-align: right;\">\n",
       "      <th></th>\n",
       "      <th>A</th>\n",
       "      <th>B</th>\n",
       "      <th>C</th>\n",
       "      <th>D</th>\n",
       "      <th>F</th>\n",
       "      <th>E</th>\n",
       "    </tr>\n",
       "  </thead>\n",
       "  <tbody>\n",
       "    <tr>\n",
       "      <th>2013-01-01</th>\n",
       "      <td>0.000000</td>\n",
       "      <td>0.100000</td>\n",
       "      <td>2.249961</td>\n",
       "      <td>5</td>\n",
       "      <td>59</td>\n",
       "      <td>1</td>\n",
       "    </tr>\n",
       "    <tr>\n",
       "      <th>2013-01-02</th>\n",
       "      <td>-0.293990</td>\n",
       "      <td>-2.297270</td>\n",
       "      <td>-0.202764</td>\n",
       "      <td>5</td>\n",
       "      <td>1</td>\n",
       "      <td>1</td>\n",
       "    </tr>\n",
       "    <tr>\n",
       "      <th>2013-01-03</th>\n",
       "      <td>2.523310</td>\n",
       "      <td>0.269481</td>\n",
       "      <td>-0.207063</td>\n",
       "      <td>5</td>\n",
       "      <td>2</td>\n",
       "      <td>59</td>\n",
       "    </tr>\n",
       "    <tr>\n",
       "      <th>2013-01-04</th>\n",
       "      <td>0.117594</td>\n",
       "      <td>-1.006054</td>\n",
       "      <td>-1.120879</td>\n",
       "      <td>5</td>\n",
       "      <td>3</td>\n",
       "      <td>59</td>\n",
       "    </tr>\n",
       "  </tbody>\n",
       "</table>\n",
       "</div>"
      ],
      "text/plain": [
       "                   A         B         C  D   F   E\n",
       "2013-01-01  0.000000  0.100000  2.249961  5  59   1\n",
       "2013-01-02 -0.293990 -2.297270 -0.202764  5   1   1\n",
       "2013-01-03  2.523310  0.269481 -0.207063  5   2  59\n",
       "2013-01-04  0.117594 -1.006054 -1.120879  5   3  59"
      ]
     },
     "execution_count": 82,
     "metadata": {},
     "output_type": "execute_result"
    }
   ],
   "source": [
    "df1.fillna(value=59)"
   ]
  },
  {
   "cell_type": "code",
   "execution_count": 83,
   "metadata": {
    "collapsed": false
   },
   "outputs": [
    {
     "data": {
      "text/html": [
       "<div>\n",
       "<table border=\"1\" class=\"dataframe\">\n",
       "  <thead>\n",
       "    <tr style=\"text-align: right;\">\n",
       "      <th></th>\n",
       "      <th>A</th>\n",
       "      <th>B</th>\n",
       "      <th>C</th>\n",
       "      <th>D</th>\n",
       "      <th>F</th>\n",
       "      <th>E</th>\n",
       "    </tr>\n",
       "  </thead>\n",
       "  <tbody>\n",
       "    <tr>\n",
       "      <th>2013-01-01</th>\n",
       "      <td>False</td>\n",
       "      <td>False</td>\n",
       "      <td>False</td>\n",
       "      <td>False</td>\n",
       "      <td>True</td>\n",
       "      <td>False</td>\n",
       "    </tr>\n",
       "    <tr>\n",
       "      <th>2013-01-02</th>\n",
       "      <td>False</td>\n",
       "      <td>False</td>\n",
       "      <td>False</td>\n",
       "      <td>False</td>\n",
       "      <td>False</td>\n",
       "      <td>False</td>\n",
       "    </tr>\n",
       "    <tr>\n",
       "      <th>2013-01-03</th>\n",
       "      <td>False</td>\n",
       "      <td>False</td>\n",
       "      <td>False</td>\n",
       "      <td>False</td>\n",
       "      <td>False</td>\n",
       "      <td>True</td>\n",
       "    </tr>\n",
       "    <tr>\n",
       "      <th>2013-01-04</th>\n",
       "      <td>False</td>\n",
       "      <td>False</td>\n",
       "      <td>False</td>\n",
       "      <td>False</td>\n",
       "      <td>False</td>\n",
       "      <td>True</td>\n",
       "    </tr>\n",
       "  </tbody>\n",
       "</table>\n",
       "</div>"
      ],
      "text/plain": [
       "                A      B      C      D      F      E\n",
       "2013-01-01  False  False  False  False   True  False\n",
       "2013-01-02  False  False  False  False  False  False\n",
       "2013-01-03  False  False  False  False  False   True\n",
       "2013-01-04  False  False  False  False  False   True"
      ]
     },
     "execution_count": 83,
     "metadata": {},
     "output_type": "execute_result"
    }
   ],
   "source": [
    "pd.isnull(df1)"
   ]
  },
  {
   "cell_type": "code",
   "execution_count": 84,
   "metadata": {
    "collapsed": false
   },
   "outputs": [
    {
     "data": {
      "text/html": [
       "<div>\n",
       "<table border=\"1\" class=\"dataframe\">\n",
       "  <thead>\n",
       "    <tr style=\"text-align: right;\">\n",
       "      <th></th>\n",
       "      <th>A</th>\n",
       "      <th>B</th>\n",
       "      <th>C</th>\n",
       "      <th>D</th>\n",
       "      <th>F</th>\n",
       "    </tr>\n",
       "  </thead>\n",
       "  <tbody>\n",
       "    <tr>\n",
       "      <th>2013-01-01</th>\n",
       "      <td>0.000000</td>\n",
       "      <td>0.100000</td>\n",
       "      <td>2.249961</td>\n",
       "      <td>5</td>\n",
       "      <td>NaN</td>\n",
       "    </tr>\n",
       "    <tr>\n",
       "      <th>2013-01-02</th>\n",
       "      <td>-0.293990</td>\n",
       "      <td>-2.297270</td>\n",
       "      <td>-0.202764</td>\n",
       "      <td>5</td>\n",
       "      <td>1</td>\n",
       "    </tr>\n",
       "    <tr>\n",
       "      <th>2013-01-03</th>\n",
       "      <td>2.523310</td>\n",
       "      <td>0.269481</td>\n",
       "      <td>-0.207063</td>\n",
       "      <td>5</td>\n",
       "      <td>2</td>\n",
       "    </tr>\n",
       "    <tr>\n",
       "      <th>2013-01-04</th>\n",
       "      <td>0.117594</td>\n",
       "      <td>-1.006054</td>\n",
       "      <td>-1.120879</td>\n",
       "      <td>5</td>\n",
       "      <td>3</td>\n",
       "    </tr>\n",
       "    <tr>\n",
       "      <th>2013-01-05</th>\n",
       "      <td>-1.231400</td>\n",
       "      <td>0.679527</td>\n",
       "      <td>-0.578231</td>\n",
       "      <td>5</td>\n",
       "      <td>4</td>\n",
       "    </tr>\n",
       "    <tr>\n",
       "      <th>2013-01-06</th>\n",
       "      <td>-0.739334</td>\n",
       "      <td>-1.297759</td>\n",
       "      <td>1.557869</td>\n",
       "      <td>5</td>\n",
       "      <td>5</td>\n",
       "    </tr>\n",
       "  </tbody>\n",
       "</table>\n",
       "</div>"
      ],
      "text/plain": [
       "                   A         B         C  D   F\n",
       "2013-01-01  0.000000  0.100000  2.249961  5 NaN\n",
       "2013-01-02 -0.293990 -2.297270 -0.202764  5   1\n",
       "2013-01-03  2.523310  0.269481 -0.207063  5   2\n",
       "2013-01-04  0.117594 -1.006054 -1.120879  5   3\n",
       "2013-01-05 -1.231400  0.679527 -0.578231  5   4\n",
       "2013-01-06 -0.739334 -1.297759  1.557869  5   5"
      ]
     },
     "execution_count": 84,
     "metadata": {},
     "output_type": "execute_result"
    }
   ],
   "source": [
    "df"
   ]
  },
  {
   "cell_type": "code",
   "execution_count": 85,
   "metadata": {
    "collapsed": false
   },
   "outputs": [
    {
     "data": {
      "text/plain": [
       "A    0.062697\n",
       "B   -0.592013\n",
       "C    0.283149\n",
       "D    5.000000\n",
       "F    3.000000\n",
       "dtype: float64"
      ]
     },
     "execution_count": 85,
     "metadata": {},
     "output_type": "execute_result"
    }
   ],
   "source": [
    "df.mean()"
   ]
  },
  {
   "cell_type": "code",
   "execution_count": 86,
   "metadata": {
    "collapsed": false
   },
   "outputs": [
    {
     "data": {
      "text/plain": [
       "2013-01-01    1.837490\n",
       "2013-01-02    0.641195\n",
       "2013-01-03    1.917146\n",
       "2013-01-04    1.198132\n",
       "2013-01-05    1.573979\n",
       "2013-01-06    1.904155\n",
       "Freq: D, dtype: float64"
      ]
     },
     "execution_count": 86,
     "metadata": {},
     "output_type": "execute_result"
    }
   ],
   "source": [
    "df.mean(1)"
   ]
  },
  {
   "cell_type": "code",
   "execution_count": 87,
   "metadata": {
    "collapsed": false
   },
   "outputs": [
    {
     "data": {
      "text/plain": [
       "2013-01-01   NaN\n",
       "2013-01-02   NaN\n",
       "2013-01-03     1\n",
       "2013-01-04     3\n",
       "2013-01-05     5\n",
       "2013-01-06   NaN\n",
       "Freq: D, dtype: float64"
      ]
     },
     "execution_count": 87,
     "metadata": {},
     "output_type": "execute_result"
    }
   ],
   "source": [
    "s = pd.Series([1,3,5,np.nan,6,8], index=dates).shift(2)\n",
    "s"
   ]
  },
  {
   "cell_type": "code",
   "execution_count": 88,
   "metadata": {
    "collapsed": false
   },
   "outputs": [
    {
     "data": {
      "text/html": [
       "<div>\n",
       "<table border=\"1\" class=\"dataframe\">\n",
       "  <thead>\n",
       "    <tr style=\"text-align: right;\">\n",
       "      <th></th>\n",
       "      <th>A</th>\n",
       "      <th>B</th>\n",
       "      <th>C</th>\n",
       "      <th>D</th>\n",
       "      <th>F</th>\n",
       "    </tr>\n",
       "  </thead>\n",
       "  <tbody>\n",
       "    <tr>\n",
       "      <th>2013-01-01</th>\n",
       "      <td>NaN</td>\n",
       "      <td>NaN</td>\n",
       "      <td>NaN</td>\n",
       "      <td>NaN</td>\n",
       "      <td>NaN</td>\n",
       "    </tr>\n",
       "    <tr>\n",
       "      <th>2013-01-02</th>\n",
       "      <td>NaN</td>\n",
       "      <td>NaN</td>\n",
       "      <td>NaN</td>\n",
       "      <td>NaN</td>\n",
       "      <td>NaN</td>\n",
       "    </tr>\n",
       "    <tr>\n",
       "      <th>2013-01-03</th>\n",
       "      <td>1.523310</td>\n",
       "      <td>-0.730519</td>\n",
       "      <td>-1.207063</td>\n",
       "      <td>4</td>\n",
       "      <td>1</td>\n",
       "    </tr>\n",
       "    <tr>\n",
       "      <th>2013-01-04</th>\n",
       "      <td>-2.882406</td>\n",
       "      <td>-4.006054</td>\n",
       "      <td>-4.120879</td>\n",
       "      <td>2</td>\n",
       "      <td>0</td>\n",
       "    </tr>\n",
       "    <tr>\n",
       "      <th>2013-01-05</th>\n",
       "      <td>-6.231400</td>\n",
       "      <td>-4.320473</td>\n",
       "      <td>-5.578231</td>\n",
       "      <td>0</td>\n",
       "      <td>-1</td>\n",
       "    </tr>\n",
       "    <tr>\n",
       "      <th>2013-01-06</th>\n",
       "      <td>NaN</td>\n",
       "      <td>NaN</td>\n",
       "      <td>NaN</td>\n",
       "      <td>NaN</td>\n",
       "      <td>NaN</td>\n",
       "    </tr>\n",
       "  </tbody>\n",
       "</table>\n",
       "</div>"
      ],
      "text/plain": [
       "                   A         B         C   D   F\n",
       "2013-01-01       NaN       NaN       NaN NaN NaN\n",
       "2013-01-02       NaN       NaN       NaN NaN NaN\n",
       "2013-01-03  1.523310 -0.730519 -1.207063   4   1\n",
       "2013-01-04 -2.882406 -4.006054 -4.120879   2   0\n",
       "2013-01-05 -6.231400 -4.320473 -5.578231   0  -1\n",
       "2013-01-06       NaN       NaN       NaN NaN NaN"
      ]
     },
     "execution_count": 88,
     "metadata": {},
     "output_type": "execute_result"
    }
   ],
   "source": [
    "df.sub(s, axis='index')"
   ]
  },
  {
   "cell_type": "code",
   "execution_count": 90,
   "metadata": {
    "collapsed": false
   },
   "outputs": [
    {
     "data": {
      "text/html": [
       "<div>\n",
       "<table border=\"1\" class=\"dataframe\">\n",
       "  <thead>\n",
       "    <tr style=\"text-align: right;\">\n",
       "      <th></th>\n",
       "      <th>A</th>\n",
       "      <th>B</th>\n",
       "      <th>C</th>\n",
       "      <th>D</th>\n",
       "      <th>F</th>\n",
       "    </tr>\n",
       "  </thead>\n",
       "  <tbody>\n",
       "    <tr>\n",
       "      <th>2013-01-01</th>\n",
       "      <td>0.000000</td>\n",
       "      <td>0.100000</td>\n",
       "      <td>2.249961</td>\n",
       "      <td>5</td>\n",
       "      <td>NaN</td>\n",
       "    </tr>\n",
       "    <tr>\n",
       "      <th>2013-01-02</th>\n",
       "      <td>-0.293990</td>\n",
       "      <td>-2.197270</td>\n",
       "      <td>2.047197</td>\n",
       "      <td>10</td>\n",
       "      <td>1</td>\n",
       "    </tr>\n",
       "    <tr>\n",
       "      <th>2013-01-03</th>\n",
       "      <td>2.229320</td>\n",
       "      <td>-1.927789</td>\n",
       "      <td>1.840134</td>\n",
       "      <td>15</td>\n",
       "      <td>3</td>\n",
       "    </tr>\n",
       "    <tr>\n",
       "      <th>2013-01-04</th>\n",
       "      <td>2.346914</td>\n",
       "      <td>-2.933843</td>\n",
       "      <td>0.719255</td>\n",
       "      <td>20</td>\n",
       "      <td>6</td>\n",
       "    </tr>\n",
       "    <tr>\n",
       "      <th>2013-01-05</th>\n",
       "      <td>1.115513</td>\n",
       "      <td>-2.254316</td>\n",
       "      <td>0.141024</td>\n",
       "      <td>25</td>\n",
       "      <td>10</td>\n",
       "    </tr>\n",
       "    <tr>\n",
       "      <th>2013-01-06</th>\n",
       "      <td>0.376179</td>\n",
       "      <td>-3.552075</td>\n",
       "      <td>1.698893</td>\n",
       "      <td>30</td>\n",
       "      <td>15</td>\n",
       "    </tr>\n",
       "  </tbody>\n",
       "</table>\n",
       "</div>"
      ],
      "text/plain": [
       "                   A         B         C   D   F\n",
       "2013-01-01  0.000000  0.100000  2.249961   5 NaN\n",
       "2013-01-02 -0.293990 -2.197270  2.047197  10   1\n",
       "2013-01-03  2.229320 -1.927789  1.840134  15   3\n",
       "2013-01-04  2.346914 -2.933843  0.719255  20   6\n",
       "2013-01-05  1.115513 -2.254316  0.141024  25  10\n",
       "2013-01-06  0.376179 -3.552075  1.698893  30  15"
      ]
     },
     "execution_count": 90,
     "metadata": {},
     "output_type": "execute_result"
    }
   ],
   "source": [
    "df.apply(np.cumsum)"
   ]
  },
  {
   "cell_type": "code",
   "execution_count": 91,
   "metadata": {
    "collapsed": false
   },
   "outputs": [
    {
     "data": {
      "text/plain": [
       "A    3.754710\n",
       "B    2.976797\n",
       "C    3.370840\n",
       "D    0.000000\n",
       "F    4.000000\n",
       "dtype: float64"
      ]
     },
     "execution_count": 91,
     "metadata": {},
     "output_type": "execute_result"
    }
   ],
   "source": [
    "df.apply(lambda x: x.max() - x.min())"
   ]
  },
  {
   "cell_type": "code",
   "execution_count": 92,
   "metadata": {
    "collapsed": false
   },
   "outputs": [
    {
     "data": {
      "text/plain": [
       "0    0\n",
       "1    2\n",
       "2    4\n",
       "3    4\n",
       "4    1\n",
       "5    3\n",
       "6    6\n",
       "7    2\n",
       "8    3\n",
       "9    3\n",
       "dtype: int64"
      ]
     },
     "execution_count": 92,
     "metadata": {},
     "output_type": "execute_result"
    }
   ],
   "source": [
    "s = pd.Series(np.random.randint(0, 7, size=10))\n",
    "s"
   ]
  },
  {
   "cell_type": "code",
   "execution_count": 93,
   "metadata": {
    "collapsed": false
   },
   "outputs": [
    {
     "data": {
      "text/plain": [
       "3    3\n",
       "4    2\n",
       "2    2\n",
       "6    1\n",
       "1    1\n",
       "0    1\n",
       "dtype: int64"
      ]
     },
     "execution_count": 93,
     "metadata": {},
     "output_type": "execute_result"
    }
   ],
   "source": [
    "s.value_counts()"
   ]
  },
  {
   "cell_type": "code",
   "execution_count": 94,
   "metadata": {
    "collapsed": true
   },
   "outputs": [],
   "source": [
    "s = pd.Series(['A', 'B', 'C', 'Aaba', 'Baca', np.nan, 'CABA', 'dog', 'cat'])"
   ]
  },
  {
   "cell_type": "code",
   "execution_count": 95,
   "metadata": {
    "collapsed": false
   },
   "outputs": [
    {
     "data": {
      "text/plain": [
       "0       a\n",
       "1       b\n",
       "2       c\n",
       "3    aaba\n",
       "4    baca\n",
       "5     NaN\n",
       "6    caba\n",
       "7     dog\n",
       "8     cat\n",
       "dtype: object"
      ]
     },
     "execution_count": 95,
     "metadata": {},
     "output_type": "execute_result"
    }
   ],
   "source": [
    "s.str.lower()"
   ]
  },
  {
   "cell_type": "code",
   "execution_count": 96,
   "metadata": {
    "collapsed": false
   },
   "outputs": [
    {
     "data": {
      "text/plain": [
       "0       A\n",
       "1       B\n",
       "2       C\n",
       "3    AABA\n",
       "4    BACA\n",
       "5     NaN\n",
       "6    CABA\n",
       "7     DOG\n",
       "8     CAT\n",
       "dtype: object"
      ]
     },
     "execution_count": 96,
     "metadata": {},
     "output_type": "execute_result"
    }
   ],
   "source": [
    "s.str.upper()"
   ]
  },
  {
   "cell_type": "code",
   "execution_count": 97,
   "metadata": {
    "collapsed": true
   },
   "outputs": [],
   "source": [
    "df = pd.DataFrame(np.random.randn(10,4))"
   ]
  },
  {
   "cell_type": "code",
   "execution_count": 98,
   "metadata": {
    "collapsed": false
   },
   "outputs": [
    {
     "data": {
      "text/html": [
       "<div>\n",
       "<table border=\"1\" class=\"dataframe\">\n",
       "  <thead>\n",
       "    <tr style=\"text-align: right;\">\n",
       "      <th></th>\n",
       "      <th>0</th>\n",
       "      <th>1</th>\n",
       "      <th>2</th>\n",
       "      <th>3</th>\n",
       "    </tr>\n",
       "  </thead>\n",
       "  <tbody>\n",
       "    <tr>\n",
       "      <th>0</th>\n",
       "      <td>0.420046</td>\n",
       "      <td>0.018200</td>\n",
       "      <td>-0.973262</td>\n",
       "      <td>0.625401</td>\n",
       "    </tr>\n",
       "    <tr>\n",
       "      <th>1</th>\n",
       "      <td>-0.581949</td>\n",
       "      <td>-0.716824</td>\n",
       "      <td>1.627143</td>\n",
       "      <td>0.472697</td>\n",
       "    </tr>\n",
       "    <tr>\n",
       "      <th>2</th>\n",
       "      <td>0.801518</td>\n",
       "      <td>-0.178145</td>\n",
       "      <td>-0.447658</td>\n",
       "      <td>1.002197</td>\n",
       "    </tr>\n",
       "    <tr>\n",
       "      <th>3</th>\n",
       "      <td>-0.415498</td>\n",
       "      <td>-0.407570</td>\n",
       "      <td>-0.211097</td>\n",
       "      <td>-0.916320</td>\n",
       "    </tr>\n",
       "    <tr>\n",
       "      <th>4</th>\n",
       "      <td>1.954836</td>\n",
       "      <td>-0.964646</td>\n",
       "      <td>-0.230799</td>\n",
       "      <td>-0.287550</td>\n",
       "    </tr>\n",
       "    <tr>\n",
       "      <th>5</th>\n",
       "      <td>-0.746154</td>\n",
       "      <td>1.438215</td>\n",
       "      <td>-1.621580</td>\n",
       "      <td>0.998955</td>\n",
       "    </tr>\n",
       "    <tr>\n",
       "      <th>6</th>\n",
       "      <td>0.730932</td>\n",
       "      <td>-0.183479</td>\n",
       "      <td>-0.077744</td>\n",
       "      <td>-0.309471</td>\n",
       "    </tr>\n",
       "    <tr>\n",
       "      <th>7</th>\n",
       "      <td>-0.857335</td>\n",
       "      <td>1.632368</td>\n",
       "      <td>-1.497726</td>\n",
       "      <td>1.730850</td>\n",
       "    </tr>\n",
       "    <tr>\n",
       "      <th>8</th>\n",
       "      <td>-0.894584</td>\n",
       "      <td>-0.325872</td>\n",
       "      <td>0.552445</td>\n",
       "      <td>0.338563</td>\n",
       "    </tr>\n",
       "    <tr>\n",
       "      <th>9</th>\n",
       "      <td>0.555154</td>\n",
       "      <td>-0.398893</td>\n",
       "      <td>-0.615635</td>\n",
       "      <td>0.591290</td>\n",
       "    </tr>\n",
       "  </tbody>\n",
       "</table>\n",
       "</div>"
      ],
      "text/plain": [
       "          0         1         2         3\n",
       "0  0.420046  0.018200 -0.973262  0.625401\n",
       "1 -0.581949 -0.716824  1.627143  0.472697\n",
       "2  0.801518 -0.178145 -0.447658  1.002197\n",
       "3 -0.415498 -0.407570 -0.211097 -0.916320\n",
       "4  1.954836 -0.964646 -0.230799 -0.287550\n",
       "5 -0.746154  1.438215 -1.621580  0.998955\n",
       "6  0.730932 -0.183479 -0.077744 -0.309471\n",
       "7 -0.857335  1.632368 -1.497726  1.730850\n",
       "8 -0.894584 -0.325872  0.552445  0.338563\n",
       "9  0.555154 -0.398893 -0.615635  0.591290"
      ]
     },
     "execution_count": 98,
     "metadata": {},
     "output_type": "execute_result"
    }
   ],
   "source": [
    "df"
   ]
  },
  {
   "cell_type": "code",
   "execution_count": 119,
   "metadata": {
    "collapsed": true
   },
   "outputs": [],
   "source": [
    "pieces = [df[:3], df[3:7], df[7:]]"
   ]
  },
  {
   "cell_type": "code",
   "execution_count": 120,
   "metadata": {
    "collapsed": false
   },
   "outputs": [
    {
     "data": {
      "text/plain": [
       "[          0         1         2         3\n",
       " 0  0.420046  0.018200 -0.973262  0.625401\n",
       " 1 -0.581949 -0.716824  1.627143  0.472697\n",
       " 2  0.801518 -0.178145 -0.447658  1.002197,\n",
       "           0         1         2         3\n",
       " 3 -0.415498 -0.407570 -0.211097 -0.916320\n",
       " 4  1.954836 -0.964646 -0.230799 -0.287550\n",
       " 5 -0.746154  1.438215 -1.621580  0.998955\n",
       " 6  0.730932 -0.183479 -0.077744 -0.309471,\n",
       "           0         1         2         3\n",
       " 7 -0.857335  1.632368 -1.497726  1.730850\n",
       " 8 -0.894584 -0.325872  0.552445  0.338563\n",
       " 9  0.555154 -0.398893 -0.615635  0.591290]"
      ]
     },
     "execution_count": 120,
     "metadata": {},
     "output_type": "execute_result"
    }
   ],
   "source": [
    "pieces"
   ]
  },
  {
   "cell_type": "code",
   "execution_count": 121,
   "metadata": {
    "collapsed": false
   },
   "outputs": [
    {
     "data": {
      "text/html": [
       "<div>\n",
       "<table border=\"1\" class=\"dataframe\">\n",
       "  <thead>\n",
       "    <tr style=\"text-align: right;\">\n",
       "      <th></th>\n",
       "      <th>0</th>\n",
       "      <th>1</th>\n",
       "      <th>2</th>\n",
       "      <th>3</th>\n",
       "    </tr>\n",
       "  </thead>\n",
       "  <tbody>\n",
       "    <tr>\n",
       "      <th>0</th>\n",
       "      <td>0.420046</td>\n",
       "      <td>0.018200</td>\n",
       "      <td>-0.973262</td>\n",
       "      <td>0.625401</td>\n",
       "    </tr>\n",
       "    <tr>\n",
       "      <th>1</th>\n",
       "      <td>-0.581949</td>\n",
       "      <td>-0.716824</td>\n",
       "      <td>1.627143</td>\n",
       "      <td>0.472697</td>\n",
       "    </tr>\n",
       "    <tr>\n",
       "      <th>2</th>\n",
       "      <td>0.801518</td>\n",
       "      <td>-0.178145</td>\n",
       "      <td>-0.447658</td>\n",
       "      <td>1.002197</td>\n",
       "    </tr>\n",
       "    <tr>\n",
       "      <th>3</th>\n",
       "      <td>-0.415498</td>\n",
       "      <td>-0.407570</td>\n",
       "      <td>-0.211097</td>\n",
       "      <td>-0.916320</td>\n",
       "    </tr>\n",
       "    <tr>\n",
       "      <th>4</th>\n",
       "      <td>1.954836</td>\n",
       "      <td>-0.964646</td>\n",
       "      <td>-0.230799</td>\n",
       "      <td>-0.287550</td>\n",
       "    </tr>\n",
       "    <tr>\n",
       "      <th>5</th>\n",
       "      <td>-0.746154</td>\n",
       "      <td>1.438215</td>\n",
       "      <td>-1.621580</td>\n",
       "      <td>0.998955</td>\n",
       "    </tr>\n",
       "    <tr>\n",
       "      <th>6</th>\n",
       "      <td>0.730932</td>\n",
       "      <td>-0.183479</td>\n",
       "      <td>-0.077744</td>\n",
       "      <td>-0.309471</td>\n",
       "    </tr>\n",
       "    <tr>\n",
       "      <th>7</th>\n",
       "      <td>-0.857335</td>\n",
       "      <td>1.632368</td>\n",
       "      <td>-1.497726</td>\n",
       "      <td>1.730850</td>\n",
       "    </tr>\n",
       "    <tr>\n",
       "      <th>8</th>\n",
       "      <td>-0.894584</td>\n",
       "      <td>-0.325872</td>\n",
       "      <td>0.552445</td>\n",
       "      <td>0.338563</td>\n",
       "    </tr>\n",
       "    <tr>\n",
       "      <th>9</th>\n",
       "      <td>0.555154</td>\n",
       "      <td>-0.398893</td>\n",
       "      <td>-0.615635</td>\n",
       "      <td>0.591290</td>\n",
       "    </tr>\n",
       "  </tbody>\n",
       "</table>\n",
       "</div>"
      ],
      "text/plain": [
       "          0         1         2         3\n",
       "0  0.420046  0.018200 -0.973262  0.625401\n",
       "1 -0.581949 -0.716824  1.627143  0.472697\n",
       "2  0.801518 -0.178145 -0.447658  1.002197\n",
       "3 -0.415498 -0.407570 -0.211097 -0.916320\n",
       "4  1.954836 -0.964646 -0.230799 -0.287550\n",
       "5 -0.746154  1.438215 -1.621580  0.998955\n",
       "6  0.730932 -0.183479 -0.077744 -0.309471\n",
       "7 -0.857335  1.632368 -1.497726  1.730850\n",
       "8 -0.894584 -0.325872  0.552445  0.338563\n",
       "9  0.555154 -0.398893 -0.615635  0.591290"
      ]
     },
     "execution_count": 121,
     "metadata": {},
     "output_type": "execute_result"
    }
   ],
   "source": [
    "pd.concat(pieces)"
   ]
  },
  {
   "cell_type": "code",
   "execution_count": 122,
   "metadata": {
    "collapsed": true
   },
   "outputs": [],
   "source": [
    "left = pd.DataFrame({'key': ['foo', 'foo'], 'lval': [1, 2]})\n",
    "right = pd.DataFrame({'key': ['foo', 'foo'], 'rval': [4, 5]})"
   ]
  },
  {
   "cell_type": "code",
   "execution_count": 124,
   "metadata": {
    "collapsed": false
   },
   "outputs": [
    {
     "data": {
      "text/html": [
       "<div>\n",
       "<table border=\"1\" class=\"dataframe\">\n",
       "  <thead>\n",
       "    <tr style=\"text-align: right;\">\n",
       "      <th></th>\n",
       "      <th>key</th>\n",
       "      <th>lval</th>\n",
       "    </tr>\n",
       "  </thead>\n",
       "  <tbody>\n",
       "    <tr>\n",
       "      <th>0</th>\n",
       "      <td>foo</td>\n",
       "      <td>1</td>\n",
       "    </tr>\n",
       "    <tr>\n",
       "      <th>1</th>\n",
       "      <td>foo</td>\n",
       "      <td>2</td>\n",
       "    </tr>\n",
       "  </tbody>\n",
       "</table>\n",
       "</div>"
      ],
      "text/plain": [
       "   key  lval\n",
       "0  foo     1\n",
       "1  foo     2"
      ]
     },
     "execution_count": 124,
     "metadata": {},
     "output_type": "execute_result"
    }
   ],
   "source": [
    "left"
   ]
  },
  {
   "cell_type": "code",
   "execution_count": 125,
   "metadata": {
    "collapsed": false
   },
   "outputs": [
    {
     "data": {
      "text/html": [
       "<div>\n",
       "<table border=\"1\" class=\"dataframe\">\n",
       "  <thead>\n",
       "    <tr style=\"text-align: right;\">\n",
       "      <th></th>\n",
       "      <th>key</th>\n",
       "      <th>rval</th>\n",
       "    </tr>\n",
       "  </thead>\n",
       "  <tbody>\n",
       "    <tr>\n",
       "      <th>0</th>\n",
       "      <td>foo</td>\n",
       "      <td>4</td>\n",
       "    </tr>\n",
       "    <tr>\n",
       "      <th>1</th>\n",
       "      <td>foo</td>\n",
       "      <td>5</td>\n",
       "    </tr>\n",
       "  </tbody>\n",
       "</table>\n",
       "</div>"
      ],
      "text/plain": [
       "   key  rval\n",
       "0  foo     4\n",
       "1  foo     5"
      ]
     },
     "execution_count": 125,
     "metadata": {},
     "output_type": "execute_result"
    }
   ],
   "source": [
    "right"
   ]
  },
  {
   "cell_type": "code",
   "execution_count": 126,
   "metadata": {
    "collapsed": false
   },
   "outputs": [
    {
     "data": {
      "text/html": [
       "<div>\n",
       "<table border=\"1\" class=\"dataframe\">\n",
       "  <thead>\n",
       "    <tr style=\"text-align: right;\">\n",
       "      <th></th>\n",
       "      <th>key</th>\n",
       "      <th>lval</th>\n",
       "      <th>rval</th>\n",
       "    </tr>\n",
       "  </thead>\n",
       "  <tbody>\n",
       "    <tr>\n",
       "      <th>0</th>\n",
       "      <td>foo</td>\n",
       "      <td>1</td>\n",
       "      <td>4</td>\n",
       "    </tr>\n",
       "    <tr>\n",
       "      <th>1</th>\n",
       "      <td>foo</td>\n",
       "      <td>1</td>\n",
       "      <td>5</td>\n",
       "    </tr>\n",
       "    <tr>\n",
       "      <th>2</th>\n",
       "      <td>foo</td>\n",
       "      <td>2</td>\n",
       "      <td>4</td>\n",
       "    </tr>\n",
       "    <tr>\n",
       "      <th>3</th>\n",
       "      <td>foo</td>\n",
       "      <td>2</td>\n",
       "      <td>5</td>\n",
       "    </tr>\n",
       "  </tbody>\n",
       "</table>\n",
       "</div>"
      ],
      "text/plain": [
       "   key  lval  rval\n",
       "0  foo     1     4\n",
       "1  foo     1     5\n",
       "2  foo     2     4\n",
       "3  foo     2     5"
      ]
     },
     "execution_count": 126,
     "metadata": {},
     "output_type": "execute_result"
    }
   ],
   "source": [
    "pd.merge(left, right, on='key')"
   ]
  },
  {
   "cell_type": "code",
   "execution_count": 127,
   "metadata": {
    "collapsed": true
   },
   "outputs": [],
   "source": [
    "df = pd.DataFrame(np.random.randn(8, 4), columns=['A','B','C','D'])"
   ]
  },
  {
   "cell_type": "code",
   "execution_count": 128,
   "metadata": {
    "collapsed": false
   },
   "outputs": [
    {
     "data": {
      "text/html": [
       "<div>\n",
       "<table border=\"1\" class=\"dataframe\">\n",
       "  <thead>\n",
       "    <tr style=\"text-align: right;\">\n",
       "      <th></th>\n",
       "      <th>A</th>\n",
       "      <th>B</th>\n",
       "      <th>C</th>\n",
       "      <th>D</th>\n",
       "    </tr>\n",
       "  </thead>\n",
       "  <tbody>\n",
       "    <tr>\n",
       "      <th>0</th>\n",
       "      <td>-0.328208</td>\n",
       "      <td>-0.902159</td>\n",
       "      <td>-0.629268</td>\n",
       "      <td>0.757979</td>\n",
       "    </tr>\n",
       "    <tr>\n",
       "      <th>1</th>\n",
       "      <td>1.295839</td>\n",
       "      <td>1.545465</td>\n",
       "      <td>1.448046</td>\n",
       "      <td>-0.831671</td>\n",
       "    </tr>\n",
       "    <tr>\n",
       "      <th>2</th>\n",
       "      <td>0.826652</td>\n",
       "      <td>0.944139</td>\n",
       "      <td>-0.981899</td>\n",
       "      <td>-2.229133</td>\n",
       "    </tr>\n",
       "    <tr>\n",
       "      <th>3</th>\n",
       "      <td>1.582668</td>\n",
       "      <td>-0.608632</td>\n",
       "      <td>1.067462</td>\n",
       "      <td>0.270424</td>\n",
       "    </tr>\n",
       "    <tr>\n",
       "      <th>4</th>\n",
       "      <td>-0.980430</td>\n",
       "      <td>-1.003702</td>\n",
       "      <td>0.540762</td>\n",
       "      <td>0.790119</td>\n",
       "    </tr>\n",
       "    <tr>\n",
       "      <th>5</th>\n",
       "      <td>1.857912</td>\n",
       "      <td>-1.609919</td>\n",
       "      <td>-0.607896</td>\n",
       "      <td>0.446358</td>\n",
       "    </tr>\n",
       "    <tr>\n",
       "      <th>6</th>\n",
       "      <td>-1.066435</td>\n",
       "      <td>1.129916</td>\n",
       "      <td>0.771318</td>\n",
       "      <td>0.585859</td>\n",
       "    </tr>\n",
       "    <tr>\n",
       "      <th>7</th>\n",
       "      <td>-0.899279</td>\n",
       "      <td>-0.552974</td>\n",
       "      <td>0.204170</td>\n",
       "      <td>0.808390</td>\n",
       "    </tr>\n",
       "  </tbody>\n",
       "</table>\n",
       "</div>"
      ],
      "text/plain": [
       "          A         B         C         D\n",
       "0 -0.328208 -0.902159 -0.629268  0.757979\n",
       "1  1.295839  1.545465  1.448046 -0.831671\n",
       "2  0.826652  0.944139 -0.981899 -2.229133\n",
       "3  1.582668 -0.608632  1.067462  0.270424\n",
       "4 -0.980430 -1.003702  0.540762  0.790119\n",
       "5  1.857912 -1.609919 -0.607896  0.446358\n",
       "6 -1.066435  1.129916  0.771318  0.585859\n",
       "7 -0.899279 -0.552974  0.204170  0.808390"
      ]
     },
     "execution_count": 128,
     "metadata": {},
     "output_type": "execute_result"
    }
   ],
   "source": [
    "df"
   ]
  },
  {
   "cell_type": "code",
   "execution_count": 129,
   "metadata": {
    "collapsed": false
   },
   "outputs": [
    {
     "data": {
      "text/plain": [
       "A    1.582668\n",
       "B   -0.608632\n",
       "C    1.067462\n",
       "D    0.270424\n",
       "Name: 3, dtype: float64"
      ]
     },
     "execution_count": 129,
     "metadata": {},
     "output_type": "execute_result"
    }
   ],
   "source": [
    "s = df.iloc[3]\n",
    "s"
   ]
  },
  {
   "cell_type": "code",
   "execution_count": 130,
   "metadata": {
    "collapsed": false
   },
   "outputs": [
    {
     "data": {
      "text/html": [
       "<div>\n",
       "<table border=\"1\" class=\"dataframe\">\n",
       "  <thead>\n",
       "    <tr style=\"text-align: right;\">\n",
       "      <th></th>\n",
       "      <th>A</th>\n",
       "      <th>B</th>\n",
       "      <th>C</th>\n",
       "      <th>D</th>\n",
       "    </tr>\n",
       "  </thead>\n",
       "  <tbody>\n",
       "    <tr>\n",
       "      <th>0</th>\n",
       "      <td>-0.328208</td>\n",
       "      <td>-0.902159</td>\n",
       "      <td>-0.629268</td>\n",
       "      <td>0.757979</td>\n",
       "    </tr>\n",
       "    <tr>\n",
       "      <th>1</th>\n",
       "      <td>1.295839</td>\n",
       "      <td>1.545465</td>\n",
       "      <td>1.448046</td>\n",
       "      <td>-0.831671</td>\n",
       "    </tr>\n",
       "    <tr>\n",
       "      <th>2</th>\n",
       "      <td>0.826652</td>\n",
       "      <td>0.944139</td>\n",
       "      <td>-0.981899</td>\n",
       "      <td>-2.229133</td>\n",
       "    </tr>\n",
       "    <tr>\n",
       "      <th>3</th>\n",
       "      <td>1.582668</td>\n",
       "      <td>-0.608632</td>\n",
       "      <td>1.067462</td>\n",
       "      <td>0.270424</td>\n",
       "    </tr>\n",
       "    <tr>\n",
       "      <th>4</th>\n",
       "      <td>-0.980430</td>\n",
       "      <td>-1.003702</td>\n",
       "      <td>0.540762</td>\n",
       "      <td>0.790119</td>\n",
       "    </tr>\n",
       "    <tr>\n",
       "      <th>5</th>\n",
       "      <td>1.857912</td>\n",
       "      <td>-1.609919</td>\n",
       "      <td>-0.607896</td>\n",
       "      <td>0.446358</td>\n",
       "    </tr>\n",
       "    <tr>\n",
       "      <th>6</th>\n",
       "      <td>-1.066435</td>\n",
       "      <td>1.129916</td>\n",
       "      <td>0.771318</td>\n",
       "      <td>0.585859</td>\n",
       "    </tr>\n",
       "    <tr>\n",
       "      <th>7</th>\n",
       "      <td>-0.899279</td>\n",
       "      <td>-0.552974</td>\n",
       "      <td>0.204170</td>\n",
       "      <td>0.808390</td>\n",
       "    </tr>\n",
       "    <tr>\n",
       "      <th>8</th>\n",
       "      <td>1.582668</td>\n",
       "      <td>-0.608632</td>\n",
       "      <td>1.067462</td>\n",
       "      <td>0.270424</td>\n",
       "    </tr>\n",
       "  </tbody>\n",
       "</table>\n",
       "</div>"
      ],
      "text/plain": [
       "          A         B         C         D\n",
       "0 -0.328208 -0.902159 -0.629268  0.757979\n",
       "1  1.295839  1.545465  1.448046 -0.831671\n",
       "2  0.826652  0.944139 -0.981899 -2.229133\n",
       "3  1.582668 -0.608632  1.067462  0.270424\n",
       "4 -0.980430 -1.003702  0.540762  0.790119\n",
       "5  1.857912 -1.609919 -0.607896  0.446358\n",
       "6 -1.066435  1.129916  0.771318  0.585859\n",
       "7 -0.899279 -0.552974  0.204170  0.808390\n",
       "8  1.582668 -0.608632  1.067462  0.270424"
      ]
     },
     "execution_count": 130,
     "metadata": {},
     "output_type": "execute_result"
    }
   ],
   "source": [
    "df.append(s, ignore_index=True)"
   ]
  },
  {
   "cell_type": "code",
   "execution_count": 131,
   "metadata": {
    "collapsed": true
   },
   "outputs": [],
   "source": [
    "df = pd.DataFrame({'A' : ['foo', 'bar', 'foo', 'bar',\n",
    "                          'foo', 'bar', 'foo', 'foo'],\n",
    "                   'B' : ['one', 'one', 'two', 'three',\n",
    "                          'two', 'two', 'one', 'three'],\n",
    "                   'C' : np.random.randn(8),\n",
    "                   'D' : np.random.randn(8)})"
   ]
  },
  {
   "cell_type": "code",
   "execution_count": 132,
   "metadata": {
    "collapsed": false
   },
   "outputs": [
    {
     "data": {
      "text/html": [
       "<div>\n",
       "<table border=\"1\" class=\"dataframe\">\n",
       "  <thead>\n",
       "    <tr style=\"text-align: right;\">\n",
       "      <th></th>\n",
       "      <th>A</th>\n",
       "      <th>B</th>\n",
       "      <th>C</th>\n",
       "      <th>D</th>\n",
       "    </tr>\n",
       "  </thead>\n",
       "  <tbody>\n",
       "    <tr>\n",
       "      <th>0</th>\n",
       "      <td>foo</td>\n",
       "      <td>one</td>\n",
       "      <td>1.218699</td>\n",
       "      <td>0.465148</td>\n",
       "    </tr>\n",
       "    <tr>\n",
       "      <th>1</th>\n",
       "      <td>bar</td>\n",
       "      <td>one</td>\n",
       "      <td>0.409067</td>\n",
       "      <td>0.017939</td>\n",
       "    </tr>\n",
       "    <tr>\n",
       "      <th>2</th>\n",
       "      <td>foo</td>\n",
       "      <td>two</td>\n",
       "      <td>0.080483</td>\n",
       "      <td>0.062579</td>\n",
       "    </tr>\n",
       "    <tr>\n",
       "      <th>3</th>\n",
       "      <td>bar</td>\n",
       "      <td>three</td>\n",
       "      <td>1.420098</td>\n",
       "      <td>0.510751</td>\n",
       "    </tr>\n",
       "    <tr>\n",
       "      <th>4</th>\n",
       "      <td>foo</td>\n",
       "      <td>two</td>\n",
       "      <td>1.241879</td>\n",
       "      <td>-1.455306</td>\n",
       "    </tr>\n",
       "    <tr>\n",
       "      <th>5</th>\n",
       "      <td>bar</td>\n",
       "      <td>two</td>\n",
       "      <td>0.818729</td>\n",
       "      <td>0.413070</td>\n",
       "    </tr>\n",
       "    <tr>\n",
       "      <th>6</th>\n",
       "      <td>foo</td>\n",
       "      <td>one</td>\n",
       "      <td>-1.686951</td>\n",
       "      <td>-0.084670</td>\n",
       "    </tr>\n",
       "    <tr>\n",
       "      <th>7</th>\n",
       "      <td>foo</td>\n",
       "      <td>three</td>\n",
       "      <td>0.962013</td>\n",
       "      <td>-0.621596</td>\n",
       "    </tr>\n",
       "  </tbody>\n",
       "</table>\n",
       "</div>"
      ],
      "text/plain": [
       "     A      B         C         D\n",
       "0  foo    one  1.218699  0.465148\n",
       "1  bar    one  0.409067  0.017939\n",
       "2  foo    two  0.080483  0.062579\n",
       "3  bar  three  1.420098  0.510751\n",
       "4  foo    two  1.241879 -1.455306\n",
       "5  bar    two  0.818729  0.413070\n",
       "6  foo    one -1.686951 -0.084670\n",
       "7  foo  three  0.962013 -0.621596"
      ]
     },
     "execution_count": 132,
     "metadata": {},
     "output_type": "execute_result"
    }
   ],
   "source": [
    "df"
   ]
  },
  {
   "cell_type": "code",
   "execution_count": 133,
   "metadata": {
    "collapsed": false
   },
   "outputs": [
    {
     "data": {
      "text/html": [
       "<div>\n",
       "<table border=\"1\" class=\"dataframe\">\n",
       "  <thead>\n",
       "    <tr style=\"text-align: right;\">\n",
       "      <th></th>\n",
       "      <th>C</th>\n",
       "      <th>D</th>\n",
       "    </tr>\n",
       "    <tr>\n",
       "      <th>A</th>\n",
       "      <th></th>\n",
       "      <th></th>\n",
       "    </tr>\n",
       "  </thead>\n",
       "  <tbody>\n",
       "    <tr>\n",
       "      <th>bar</th>\n",
       "      <td>2.647894</td>\n",
       "      <td>0.941760</td>\n",
       "    </tr>\n",
       "    <tr>\n",
       "      <th>foo</th>\n",
       "      <td>1.816122</td>\n",
       "      <td>-1.633845</td>\n",
       "    </tr>\n",
       "  </tbody>\n",
       "</table>\n",
       "</div>"
      ],
      "text/plain": [
       "            C         D\n",
       "A                      \n",
       "bar  2.647894  0.941760\n",
       "foo  1.816122 -1.633845"
      ]
     },
     "execution_count": 133,
     "metadata": {},
     "output_type": "execute_result"
    }
   ],
   "source": [
    "df.groupby('A').sum()"
   ]
  },
  {
   "cell_type": "code",
   "execution_count": 134,
   "metadata": {
    "collapsed": false
   },
   "outputs": [
    {
     "data": {
      "text/html": [
       "<div>\n",
       "<table border=\"1\" class=\"dataframe\">\n",
       "  <thead>\n",
       "    <tr style=\"text-align: right;\">\n",
       "      <th></th>\n",
       "      <th></th>\n",
       "      <th>C</th>\n",
       "      <th>D</th>\n",
       "    </tr>\n",
       "    <tr>\n",
       "      <th>A</th>\n",
       "      <th>B</th>\n",
       "      <th></th>\n",
       "      <th></th>\n",
       "    </tr>\n",
       "  </thead>\n",
       "  <tbody>\n",
       "    <tr>\n",
       "      <th rowspan=\"3\" valign=\"top\">bar</th>\n",
       "      <th>one</th>\n",
       "      <td>0.409067</td>\n",
       "      <td>0.017939</td>\n",
       "    </tr>\n",
       "    <tr>\n",
       "      <th>three</th>\n",
       "      <td>1.420098</td>\n",
       "      <td>0.510751</td>\n",
       "    </tr>\n",
       "    <tr>\n",
       "      <th>two</th>\n",
       "      <td>0.818729</td>\n",
       "      <td>0.413070</td>\n",
       "    </tr>\n",
       "    <tr>\n",
       "      <th rowspan=\"3\" valign=\"top\">foo</th>\n",
       "      <th>one</th>\n",
       "      <td>-0.468252</td>\n",
       "      <td>0.380479</td>\n",
       "    </tr>\n",
       "    <tr>\n",
       "      <th>three</th>\n",
       "      <td>0.962013</td>\n",
       "      <td>-0.621596</td>\n",
       "    </tr>\n",
       "    <tr>\n",
       "      <th>two</th>\n",
       "      <td>1.322362</td>\n",
       "      <td>-1.392727</td>\n",
       "    </tr>\n",
       "  </tbody>\n",
       "</table>\n",
       "</div>"
      ],
      "text/plain": [
       "                  C         D\n",
       "A   B                        \n",
       "bar one    0.409067  0.017939\n",
       "    three  1.420098  0.510751\n",
       "    two    0.818729  0.413070\n",
       "foo one   -0.468252  0.380479\n",
       "    three  0.962013 -0.621596\n",
       "    two    1.322362 -1.392727"
      ]
     },
     "execution_count": 134,
     "metadata": {},
     "output_type": "execute_result"
    }
   ],
   "source": [
    "df.groupby(['A','B']).sum()"
   ]
  },
  {
   "cell_type": "code",
   "execution_count": 135,
   "metadata": {
    "collapsed": true
   },
   "outputs": [],
   "source": [
    "tuples = list(zip(*[['bar', 'bar', 'baz', 'baz',\n",
    "                     'foo', 'foo', 'qux', 'qux'],\n",
    "                    ['one', 'two', 'one', 'two',\n",
    "                     'one', 'two', 'one', 'two']]))"
   ]
  },
  {
   "cell_type": "code",
   "execution_count": 136,
   "metadata": {
    "collapsed": false
   },
   "outputs": [
    {
     "data": {
      "text/plain": [
       "[('bar', 'one'),\n",
       " ('bar', 'two'),\n",
       " ('baz', 'one'),\n",
       " ('baz', 'two'),\n",
       " ('foo', 'one'),\n",
       " ('foo', 'two'),\n",
       " ('qux', 'one'),\n",
       " ('qux', 'two')]"
      ]
     },
     "execution_count": 136,
     "metadata": {},
     "output_type": "execute_result"
    }
   ],
   "source": [
    "tuples"
   ]
  },
  {
   "cell_type": "code",
   "execution_count": 137,
   "metadata": {
    "collapsed": true
   },
   "outputs": [],
   "source": [
    "index = pd.MultiIndex.from_tuples(tuples, names=['first', 'second'])"
   ]
  },
  {
   "cell_type": "code",
   "execution_count": 138,
   "metadata": {
    "collapsed": false
   },
   "outputs": [
    {
     "data": {
      "text/plain": [
       "MultiIndex(levels=[[u'bar', u'baz', u'foo', u'qux'], [u'one', u'two']],\n",
       "           labels=[[0, 0, 1, 1, 2, 2, 3, 3], [0, 1, 0, 1, 0, 1, 0, 1]],\n",
       "           names=[u'first', u'second'])"
      ]
     },
     "execution_count": 138,
     "metadata": {},
     "output_type": "execute_result"
    }
   ],
   "source": [
    "index"
   ]
  },
  {
   "cell_type": "code",
   "execution_count": 139,
   "metadata": {
    "collapsed": true
   },
   "outputs": [],
   "source": [
    "df = pd.DataFrame(np.random.randn(8, 2), index=index, columns=['A', 'B'])"
   ]
  },
  {
   "cell_type": "code",
   "execution_count": 140,
   "metadata": {
    "collapsed": false
   },
   "outputs": [
    {
     "data": {
      "text/html": [
       "<div>\n",
       "<table border=\"1\" class=\"dataframe\">\n",
       "  <thead>\n",
       "    <tr style=\"text-align: right;\">\n",
       "      <th></th>\n",
       "      <th></th>\n",
       "      <th>A</th>\n",
       "      <th>B</th>\n",
       "    </tr>\n",
       "    <tr>\n",
       "      <th>first</th>\n",
       "      <th>second</th>\n",
       "      <th></th>\n",
       "      <th></th>\n",
       "    </tr>\n",
       "  </thead>\n",
       "  <tbody>\n",
       "    <tr>\n",
       "      <th rowspan=\"2\" valign=\"top\">bar</th>\n",
       "      <th>one</th>\n",
       "      <td>-1.063925</td>\n",
       "      <td>-1.460020</td>\n",
       "    </tr>\n",
       "    <tr>\n",
       "      <th>two</th>\n",
       "      <td>-0.775506</td>\n",
       "      <td>0.265452</td>\n",
       "    </tr>\n",
       "    <tr>\n",
       "      <th rowspan=\"2\" valign=\"top\">baz</th>\n",
       "      <th>one</th>\n",
       "      <td>-1.459111</td>\n",
       "      <td>-0.168085</td>\n",
       "    </tr>\n",
       "    <tr>\n",
       "      <th>two</th>\n",
       "      <td>-0.272177</td>\n",
       "      <td>-0.844815</td>\n",
       "    </tr>\n",
       "    <tr>\n",
       "      <th rowspan=\"2\" valign=\"top\">foo</th>\n",
       "      <th>one</th>\n",
       "      <td>-0.693961</td>\n",
       "      <td>1.295567</td>\n",
       "    </tr>\n",
       "    <tr>\n",
       "      <th>two</th>\n",
       "      <td>-0.907255</td>\n",
       "      <td>0.798155</td>\n",
       "    </tr>\n",
       "    <tr>\n",
       "      <th rowspan=\"2\" valign=\"top\">qux</th>\n",
       "      <th>one</th>\n",
       "      <td>0.711646</td>\n",
       "      <td>-0.349563</td>\n",
       "    </tr>\n",
       "    <tr>\n",
       "      <th>two</th>\n",
       "      <td>0.473515</td>\n",
       "      <td>-0.672039</td>\n",
       "    </tr>\n",
       "  </tbody>\n",
       "</table>\n",
       "</div>"
      ],
      "text/plain": [
       "                     A         B\n",
       "first second                    \n",
       "bar   one    -1.063925 -1.460020\n",
       "      two    -0.775506  0.265452\n",
       "baz   one    -1.459111 -0.168085\n",
       "      two    -0.272177 -0.844815\n",
       "foo   one    -0.693961  1.295567\n",
       "      two    -0.907255  0.798155\n",
       "qux   one     0.711646 -0.349563\n",
       "      two     0.473515 -0.672039"
      ]
     },
     "execution_count": 140,
     "metadata": {},
     "output_type": "execute_result"
    }
   ],
   "source": [
    "df"
   ]
  },
  {
   "cell_type": "code",
   "execution_count": 141,
   "metadata": {
    "collapsed": true
   },
   "outputs": [],
   "source": [
    "df2 = df[:4]"
   ]
  },
  {
   "cell_type": "code",
   "execution_count": 142,
   "metadata": {
    "collapsed": false
   },
   "outputs": [
    {
     "data": {
      "text/html": [
       "<div>\n",
       "<table border=\"1\" class=\"dataframe\">\n",
       "  <thead>\n",
       "    <tr style=\"text-align: right;\">\n",
       "      <th></th>\n",
       "      <th></th>\n",
       "      <th>A</th>\n",
       "      <th>B</th>\n",
       "    </tr>\n",
       "    <tr>\n",
       "      <th>first</th>\n",
       "      <th>second</th>\n",
       "      <th></th>\n",
       "      <th></th>\n",
       "    </tr>\n",
       "  </thead>\n",
       "  <tbody>\n",
       "    <tr>\n",
       "      <th rowspan=\"2\" valign=\"top\">bar</th>\n",
       "      <th>one</th>\n",
       "      <td>-1.063925</td>\n",
       "      <td>-1.460020</td>\n",
       "    </tr>\n",
       "    <tr>\n",
       "      <th>two</th>\n",
       "      <td>-0.775506</td>\n",
       "      <td>0.265452</td>\n",
       "    </tr>\n",
       "    <tr>\n",
       "      <th rowspan=\"2\" valign=\"top\">baz</th>\n",
       "      <th>one</th>\n",
       "      <td>-1.459111</td>\n",
       "      <td>-0.168085</td>\n",
       "    </tr>\n",
       "    <tr>\n",
       "      <th>two</th>\n",
       "      <td>-0.272177</td>\n",
       "      <td>-0.844815</td>\n",
       "    </tr>\n",
       "  </tbody>\n",
       "</table>\n",
       "</div>"
      ],
      "text/plain": [
       "                     A         B\n",
       "first second                    \n",
       "bar   one    -1.063925 -1.460020\n",
       "      two    -0.775506  0.265452\n",
       "baz   one    -1.459111 -0.168085\n",
       "      two    -0.272177 -0.844815"
      ]
     },
     "execution_count": 142,
     "metadata": {},
     "output_type": "execute_result"
    }
   ],
   "source": [
    "df2"
   ]
  },
  {
   "cell_type": "code",
   "execution_count": 143,
   "metadata": {
    "collapsed": false
   },
   "outputs": [
    {
     "data": {
      "text/plain": [
       "first  second   \n",
       "bar    one     A   -1.063925\n",
       "               B   -1.460020\n",
       "       two     A   -0.775506\n",
       "               B    0.265452\n",
       "baz    one     A   -1.459111\n",
       "               B   -0.168085\n",
       "       two     A   -0.272177\n",
       "               B   -0.844815\n",
       "dtype: float64"
      ]
     },
     "execution_count": 143,
     "metadata": {},
     "output_type": "execute_result"
    }
   ],
   "source": [
    "stacked = df2.stack()\n",
    "stacked"
   ]
  },
  {
   "cell_type": "code",
   "execution_count": 144,
   "metadata": {
    "collapsed": false
   },
   "outputs": [
    {
     "data": {
      "text/html": [
       "<div>\n",
       "<table border=\"1\" class=\"dataframe\">\n",
       "  <thead>\n",
       "    <tr style=\"text-align: right;\">\n",
       "      <th></th>\n",
       "      <th></th>\n",
       "      <th>A</th>\n",
       "      <th>B</th>\n",
       "    </tr>\n",
       "    <tr>\n",
       "      <th>first</th>\n",
       "      <th>second</th>\n",
       "      <th></th>\n",
       "      <th></th>\n",
       "    </tr>\n",
       "  </thead>\n",
       "  <tbody>\n",
       "    <tr>\n",
       "      <th rowspan=\"2\" valign=\"top\">bar</th>\n",
       "      <th>one</th>\n",
       "      <td>-1.063925</td>\n",
       "      <td>-1.460020</td>\n",
       "    </tr>\n",
       "    <tr>\n",
       "      <th>two</th>\n",
       "      <td>-0.775506</td>\n",
       "      <td>0.265452</td>\n",
       "    </tr>\n",
       "    <tr>\n",
       "      <th rowspan=\"2\" valign=\"top\">baz</th>\n",
       "      <th>one</th>\n",
       "      <td>-1.459111</td>\n",
       "      <td>-0.168085</td>\n",
       "    </tr>\n",
       "    <tr>\n",
       "      <th>two</th>\n",
       "      <td>-0.272177</td>\n",
       "      <td>-0.844815</td>\n",
       "    </tr>\n",
       "  </tbody>\n",
       "</table>\n",
       "</div>"
      ],
      "text/plain": [
       "                     A         B\n",
       "first second                    \n",
       "bar   one    -1.063925 -1.460020\n",
       "      two    -0.775506  0.265452\n",
       "baz   one    -1.459111 -0.168085\n",
       "      two    -0.272177 -0.844815"
      ]
     },
     "execution_count": 144,
     "metadata": {},
     "output_type": "execute_result"
    }
   ],
   "source": [
    "stacked.unstack()"
   ]
  },
  {
   "cell_type": "code",
   "execution_count": 145,
   "metadata": {
    "collapsed": false
   },
   "outputs": [
    {
     "data": {
      "text/html": [
       "<div>\n",
       "<table border=\"1\" class=\"dataframe\">\n",
       "  <thead>\n",
       "    <tr style=\"text-align: right;\">\n",
       "      <th></th>\n",
       "      <th>second</th>\n",
       "      <th>one</th>\n",
       "      <th>two</th>\n",
       "    </tr>\n",
       "    <tr>\n",
       "      <th>first</th>\n",
       "      <th></th>\n",
       "      <th></th>\n",
       "      <th></th>\n",
       "    </tr>\n",
       "  </thead>\n",
       "  <tbody>\n",
       "    <tr>\n",
       "      <th rowspan=\"2\" valign=\"top\">bar</th>\n",
       "      <th>A</th>\n",
       "      <td>-1.063925</td>\n",
       "      <td>-0.775506</td>\n",
       "    </tr>\n",
       "    <tr>\n",
       "      <th>B</th>\n",
       "      <td>-1.460020</td>\n",
       "      <td>0.265452</td>\n",
       "    </tr>\n",
       "    <tr>\n",
       "      <th rowspan=\"2\" valign=\"top\">baz</th>\n",
       "      <th>A</th>\n",
       "      <td>-1.459111</td>\n",
       "      <td>-0.272177</td>\n",
       "    </tr>\n",
       "    <tr>\n",
       "      <th>B</th>\n",
       "      <td>-0.168085</td>\n",
       "      <td>-0.844815</td>\n",
       "    </tr>\n",
       "  </tbody>\n",
       "</table>\n",
       "</div>"
      ],
      "text/plain": [
       "second        one       two\n",
       "first                      \n",
       "bar   A -1.063925 -0.775506\n",
       "      B -1.460020  0.265452\n",
       "baz   A -1.459111 -0.272177\n",
       "      B -0.168085 -0.844815"
      ]
     },
     "execution_count": 145,
     "metadata": {},
     "output_type": "execute_result"
    }
   ],
   "source": [
    "stacked.unstack(1)"
   ]
  },
  {
   "cell_type": "code",
   "execution_count": 146,
   "metadata": {
    "collapsed": false
   },
   "outputs": [
    {
     "data": {
      "text/html": [
       "<div>\n",
       "<table border=\"1\" class=\"dataframe\">\n",
       "  <thead>\n",
       "    <tr style=\"text-align: right;\">\n",
       "      <th></th>\n",
       "      <th>first</th>\n",
       "      <th>bar</th>\n",
       "      <th>baz</th>\n",
       "    </tr>\n",
       "    <tr>\n",
       "      <th>second</th>\n",
       "      <th></th>\n",
       "      <th></th>\n",
       "      <th></th>\n",
       "    </tr>\n",
       "  </thead>\n",
       "  <tbody>\n",
       "    <tr>\n",
       "      <th rowspan=\"2\" valign=\"top\">one</th>\n",
       "      <th>A</th>\n",
       "      <td>-1.063925</td>\n",
       "      <td>-1.459111</td>\n",
       "    </tr>\n",
       "    <tr>\n",
       "      <th>B</th>\n",
       "      <td>-1.460020</td>\n",
       "      <td>-0.168085</td>\n",
       "    </tr>\n",
       "    <tr>\n",
       "      <th rowspan=\"2\" valign=\"top\">two</th>\n",
       "      <th>A</th>\n",
       "      <td>-0.775506</td>\n",
       "      <td>-0.272177</td>\n",
       "    </tr>\n",
       "    <tr>\n",
       "      <th>B</th>\n",
       "      <td>0.265452</td>\n",
       "      <td>-0.844815</td>\n",
       "    </tr>\n",
       "  </tbody>\n",
       "</table>\n",
       "</div>"
      ],
      "text/plain": [
       "first          bar       baz\n",
       "second                      \n",
       "one    A -1.063925 -1.459111\n",
       "       B -1.460020 -0.168085\n",
       "two    A -0.775506 -0.272177\n",
       "       B  0.265452 -0.844815"
      ]
     },
     "execution_count": 146,
     "metadata": {},
     "output_type": "execute_result"
    }
   ],
   "source": [
    "stacked.unstack(0)"
   ]
  },
  {
   "cell_type": "code",
   "execution_count": 147,
   "metadata": {
    "collapsed": true
   },
   "outputs": [],
   "source": [
    "df = pd.DataFrame({'A' : ['one', 'one', 'two', 'three'] * 3,\n",
    "                   'B' : ['A', 'B', 'C'] * 4,\n",
    "                   'C' : ['foo', 'foo', 'foo', 'bar', 'bar', 'bar'] * 2,\n",
    "                   'D' : np.random.randn(12),\n",
    "                   'E' : np.random.randn(12)})"
   ]
  },
  {
   "cell_type": "code",
   "execution_count": 148,
   "metadata": {
    "collapsed": false
   },
   "outputs": [
    {
     "data": {
      "text/html": [
       "<div>\n",
       "<table border=\"1\" class=\"dataframe\">\n",
       "  <thead>\n",
       "    <tr style=\"text-align: right;\">\n",
       "      <th></th>\n",
       "      <th>A</th>\n",
       "      <th>B</th>\n",
       "      <th>C</th>\n",
       "      <th>D</th>\n",
       "      <th>E</th>\n",
       "    </tr>\n",
       "  </thead>\n",
       "  <tbody>\n",
       "    <tr>\n",
       "      <th>0</th>\n",
       "      <td>one</td>\n",
       "      <td>A</td>\n",
       "      <td>foo</td>\n",
       "      <td>0.047541</td>\n",
       "      <td>-0.542326</td>\n",
       "    </tr>\n",
       "    <tr>\n",
       "      <th>1</th>\n",
       "      <td>one</td>\n",
       "      <td>B</td>\n",
       "      <td>foo</td>\n",
       "      <td>0.333270</td>\n",
       "      <td>-0.841162</td>\n",
       "    </tr>\n",
       "    <tr>\n",
       "      <th>2</th>\n",
       "      <td>two</td>\n",
       "      <td>C</td>\n",
       "      <td>foo</td>\n",
       "      <td>-1.402819</td>\n",
       "      <td>-0.022839</td>\n",
       "    </tr>\n",
       "    <tr>\n",
       "      <th>3</th>\n",
       "      <td>three</td>\n",
       "      <td>A</td>\n",
       "      <td>bar</td>\n",
       "      <td>0.423841</td>\n",
       "      <td>0.068434</td>\n",
       "    </tr>\n",
       "    <tr>\n",
       "      <th>4</th>\n",
       "      <td>one</td>\n",
       "      <td>B</td>\n",
       "      <td>bar</td>\n",
       "      <td>-0.325315</td>\n",
       "      <td>-0.612235</td>\n",
       "    </tr>\n",
       "    <tr>\n",
       "      <th>5</th>\n",
       "      <td>one</td>\n",
       "      <td>C</td>\n",
       "      <td>bar</td>\n",
       "      <td>0.972167</td>\n",
       "      <td>-0.885825</td>\n",
       "    </tr>\n",
       "    <tr>\n",
       "      <th>6</th>\n",
       "      <td>two</td>\n",
       "      <td>A</td>\n",
       "      <td>foo</td>\n",
       "      <td>1.183655</td>\n",
       "      <td>-1.152567</td>\n",
       "    </tr>\n",
       "    <tr>\n",
       "      <th>7</th>\n",
       "      <td>three</td>\n",
       "      <td>B</td>\n",
       "      <td>foo</td>\n",
       "      <td>0.724567</td>\n",
       "      <td>0.641822</td>\n",
       "    </tr>\n",
       "    <tr>\n",
       "      <th>8</th>\n",
       "      <td>one</td>\n",
       "      <td>C</td>\n",
       "      <td>foo</td>\n",
       "      <td>-0.722887</td>\n",
       "      <td>0.518174</td>\n",
       "    </tr>\n",
       "    <tr>\n",
       "      <th>9</th>\n",
       "      <td>one</td>\n",
       "      <td>A</td>\n",
       "      <td>bar</td>\n",
       "      <td>-1.498485</td>\n",
       "      <td>0.659690</td>\n",
       "    </tr>\n",
       "    <tr>\n",
       "      <th>10</th>\n",
       "      <td>two</td>\n",
       "      <td>B</td>\n",
       "      <td>bar</td>\n",
       "      <td>-0.687729</td>\n",
       "      <td>-1.259527</td>\n",
       "    </tr>\n",
       "    <tr>\n",
       "      <th>11</th>\n",
       "      <td>three</td>\n",
       "      <td>C</td>\n",
       "      <td>bar</td>\n",
       "      <td>1.001183</td>\n",
       "      <td>-0.045077</td>\n",
       "    </tr>\n",
       "  </tbody>\n",
       "</table>\n",
       "</div>"
      ],
      "text/plain": [
       "        A  B    C         D         E\n",
       "0     one  A  foo  0.047541 -0.542326\n",
       "1     one  B  foo  0.333270 -0.841162\n",
       "2     two  C  foo -1.402819 -0.022839\n",
       "3   three  A  bar  0.423841  0.068434\n",
       "4     one  B  bar -0.325315 -0.612235\n",
       "5     one  C  bar  0.972167 -0.885825\n",
       "6     two  A  foo  1.183655 -1.152567\n",
       "7   three  B  foo  0.724567  0.641822\n",
       "8     one  C  foo -0.722887  0.518174\n",
       "9     one  A  bar -1.498485  0.659690\n",
       "10    two  B  bar -0.687729 -1.259527\n",
       "11  three  C  bar  1.001183 -0.045077"
      ]
     },
     "execution_count": 148,
     "metadata": {},
     "output_type": "execute_result"
    }
   ],
   "source": [
    "df"
   ]
  },
  {
   "cell_type": "code",
   "execution_count": 149,
   "metadata": {
    "collapsed": false
   },
   "outputs": [
    {
     "data": {
      "text/html": [
       "<div>\n",
       "<table border=\"1\" class=\"dataframe\">\n",
       "  <thead>\n",
       "    <tr style=\"text-align: right;\">\n",
       "      <th></th>\n",
       "      <th>C</th>\n",
       "      <th>bar</th>\n",
       "      <th>foo</th>\n",
       "    </tr>\n",
       "    <tr>\n",
       "      <th>A</th>\n",
       "      <th>B</th>\n",
       "      <th></th>\n",
       "      <th></th>\n",
       "    </tr>\n",
       "  </thead>\n",
       "  <tbody>\n",
       "    <tr>\n",
       "      <th rowspan=\"3\" valign=\"top\">one</th>\n",
       "      <th>A</th>\n",
       "      <td>-1.498485</td>\n",
       "      <td>0.047541</td>\n",
       "    </tr>\n",
       "    <tr>\n",
       "      <th>B</th>\n",
       "      <td>-0.325315</td>\n",
       "      <td>0.333270</td>\n",
       "    </tr>\n",
       "    <tr>\n",
       "      <th>C</th>\n",
       "      <td>0.972167</td>\n",
       "      <td>-0.722887</td>\n",
       "    </tr>\n",
       "    <tr>\n",
       "      <th rowspan=\"3\" valign=\"top\">three</th>\n",
       "      <th>A</th>\n",
       "      <td>0.423841</td>\n",
       "      <td>NaN</td>\n",
       "    </tr>\n",
       "    <tr>\n",
       "      <th>B</th>\n",
       "      <td>NaN</td>\n",
       "      <td>0.724567</td>\n",
       "    </tr>\n",
       "    <tr>\n",
       "      <th>C</th>\n",
       "      <td>1.001183</td>\n",
       "      <td>NaN</td>\n",
       "    </tr>\n",
       "    <tr>\n",
       "      <th rowspan=\"3\" valign=\"top\">two</th>\n",
       "      <th>A</th>\n",
       "      <td>NaN</td>\n",
       "      <td>1.183655</td>\n",
       "    </tr>\n",
       "    <tr>\n",
       "      <th>B</th>\n",
       "      <td>-0.687729</td>\n",
       "      <td>NaN</td>\n",
       "    </tr>\n",
       "    <tr>\n",
       "      <th>C</th>\n",
       "      <td>NaN</td>\n",
       "      <td>-1.402819</td>\n",
       "    </tr>\n",
       "  </tbody>\n",
       "</table>\n",
       "</div>"
      ],
      "text/plain": [
       "C             bar       foo\n",
       "A     B                    \n",
       "one   A -1.498485  0.047541\n",
       "      B -0.325315  0.333270\n",
       "      C  0.972167 -0.722887\n",
       "three A  0.423841       NaN\n",
       "      B       NaN  0.724567\n",
       "      C  1.001183       NaN\n",
       "two   A       NaN  1.183655\n",
       "      B -0.687729       NaN\n",
       "      C       NaN -1.402819"
      ]
     },
     "execution_count": 149,
     "metadata": {},
     "output_type": "execute_result"
    }
   ],
   "source": [
    "pd.pivot_table(df, values='D', index=['A', 'B'], columns=['C'])"
   ]
  },
  {
   "cell_type": "markdown",
   "metadata": {},
   "source": [
    "## Time Series"
   ]
  },
  {
   "cell_type": "code",
   "execution_count": 150,
   "metadata": {
    "collapsed": true
   },
   "outputs": [],
   "source": [
    "rng = pd.date_range('1/1/2012', periods=100, freq='S')"
   ]
  },
  {
   "cell_type": "code",
   "execution_count": 152,
   "metadata": {
    "collapsed": false
   },
   "outputs": [],
   "source": [
    "ts = pd.Series(np.random.randint(0, 500, len(rng)), index=rng)"
   ]
  },
  {
   "cell_type": "code",
   "execution_count": 153,
   "metadata": {
    "collapsed": false
   },
   "outputs": [
    {
     "data": {
      "text/plain": [
       "2012-01-01    24243\n",
       "Freq: 5T, dtype: int64"
      ]
     },
     "execution_count": 153,
     "metadata": {},
     "output_type": "execute_result"
    }
   ],
   "source": [
    "ts.resample('5Min', how='sum')"
   ]
  },
  {
   "cell_type": "code",
   "execution_count": 155,
   "metadata": {
    "collapsed": true
   },
   "outputs": [],
   "source": [
    "rng = pd.date_range('3/6/2012 00:00', periods=5, freq='D')"
   ]
  },
  {
   "cell_type": "code",
   "execution_count": 156,
   "metadata": {
    "collapsed": true
   },
   "outputs": [],
   "source": [
    "ts = pd.Series(np.random.randn(len(rng)), rng)"
   ]
  },
  {
   "cell_type": "code",
   "execution_count": 157,
   "metadata": {
    "collapsed": false
   },
   "outputs": [
    {
     "data": {
      "text/plain": [
       "2012-03-06   -0.777158\n",
       "2012-03-07    1.762421\n",
       "2012-03-08   -2.057568\n",
       "2012-03-09   -1.078595\n",
       "2012-03-10    2.067295\n",
       "Freq: D, dtype: float64"
      ]
     },
     "execution_count": 157,
     "metadata": {},
     "output_type": "execute_result"
    }
   ],
   "source": [
    "ts"
   ]
  },
  {
   "cell_type": "code",
   "execution_count": 158,
   "metadata": {
    "collapsed": true
   },
   "outputs": [],
   "source": [
    "ts_utc = ts.tz_localize('UTC')"
   ]
  },
  {
   "cell_type": "code",
   "execution_count": 159,
   "metadata": {
    "collapsed": false
   },
   "outputs": [
    {
     "data": {
      "text/plain": [
       "2012-03-06 00:00:00+00:00   -0.777158\n",
       "2012-03-07 00:00:00+00:00    1.762421\n",
       "2012-03-08 00:00:00+00:00   -2.057568\n",
       "2012-03-09 00:00:00+00:00   -1.078595\n",
       "2012-03-10 00:00:00+00:00    2.067295\n",
       "Freq: D, dtype: float64"
      ]
     },
     "execution_count": 159,
     "metadata": {},
     "output_type": "execute_result"
    }
   ],
   "source": [
    "ts_utc"
   ]
  },
  {
   "cell_type": "code",
   "execution_count": 160,
   "metadata": {
    "collapsed": false
   },
   "outputs": [
    {
     "data": {
      "text/plain": [
       "2012-03-05 19:00:00-05:00   -0.777158\n",
       "2012-03-06 19:00:00-05:00    1.762421\n",
       "2012-03-07 19:00:00-05:00   -2.057568\n",
       "2012-03-08 19:00:00-05:00   -1.078595\n",
       "2012-03-09 19:00:00-05:00    2.067295\n",
       "Freq: D, dtype: float64"
      ]
     },
     "execution_count": 160,
     "metadata": {},
     "output_type": "execute_result"
    }
   ],
   "source": [
    "ts_utc.tz_convert('US/Eastern')"
   ]
  },
  {
   "cell_type": "code",
   "execution_count": 161,
   "metadata": {
    "collapsed": true
   },
   "outputs": [],
   "source": [
    "rng = pd.date_range('1/1/2012', periods=5, freq='M')"
   ]
  },
  {
   "cell_type": "code",
   "execution_count": 162,
   "metadata": {
    "collapsed": true
   },
   "outputs": [],
   "source": [
    "ts = pd.Series(np.random.randn(len(rng)), index=rng)"
   ]
  },
  {
   "cell_type": "code",
   "execution_count": 163,
   "metadata": {
    "collapsed": false
   },
   "outputs": [
    {
     "data": {
      "text/plain": [
       "2012-01-31   -0.404261\n",
       "2012-02-29   -0.853215\n",
       "2012-03-31   -0.429389\n",
       "2012-04-30   -0.353047\n",
       "2012-05-31   -1.581399\n",
       "Freq: M, dtype: float64"
      ]
     },
     "execution_count": 163,
     "metadata": {},
     "output_type": "execute_result"
    }
   ],
   "source": [
    "ts"
   ]
  },
  {
   "cell_type": "code",
   "execution_count": 164,
   "metadata": {
    "collapsed": true
   },
   "outputs": [],
   "source": [
    "ps = ts.to_period()"
   ]
  },
  {
   "cell_type": "code",
   "execution_count": 165,
   "metadata": {
    "collapsed": false
   },
   "outputs": [
    {
     "data": {
      "text/plain": [
       "2012-01   -0.404261\n",
       "2012-02   -0.853215\n",
       "2012-03   -0.429389\n",
       "2012-04   -0.353047\n",
       "2012-05   -1.581399\n",
       "Freq: M, dtype: float64"
      ]
     },
     "execution_count": 165,
     "metadata": {},
     "output_type": "execute_result"
    }
   ],
   "source": [
    "ps"
   ]
  },
  {
   "cell_type": "code",
   "execution_count": 166,
   "metadata": {
    "collapsed": false
   },
   "outputs": [
    {
     "data": {
      "text/plain": [
       "2012-01-01   -0.404261\n",
       "2012-02-01   -0.853215\n",
       "2012-03-01   -0.429389\n",
       "2012-04-01   -0.353047\n",
       "2012-05-01   -1.581399\n",
       "Freq: MS, dtype: float64"
      ]
     },
     "execution_count": 166,
     "metadata": {},
     "output_type": "execute_result"
    }
   ],
   "source": [
    "ps.to_timestamp()"
   ]
  },
  {
   "cell_type": "code",
   "execution_count": 167,
   "metadata": {
    "collapsed": true
   },
   "outputs": [],
   "source": [
    "prng = pd.period_range('1990Q1', '2000Q4', freq='Q-NOV')"
   ]
  },
  {
   "cell_type": "code",
   "execution_count": 169,
   "metadata": {
    "collapsed": false
   },
   "outputs": [],
   "source": [
    "ts = pd.Series(np.random.randn(len(prng)), prng)"
   ]
  },
  {
   "cell_type": "code",
   "execution_count": 170,
   "metadata": {
    "collapsed": true
   },
   "outputs": [],
   "source": [
    "ts.index = (prng.asfreq('M', 'e') + 1).asfreq('H', 's') + 9"
   ]
  },
  {
   "cell_type": "code",
   "execution_count": 171,
   "metadata": {
    "collapsed": false
   },
   "outputs": [
    {
     "data": {
      "text/plain": [
       "1990-03-01 09:00    0.783086\n",
       "1990-06-01 09:00    0.565772\n",
       "1990-09-01 09:00   -1.223112\n",
       "1990-12-01 09:00    2.818394\n",
       "1991-03-01 09:00    0.598654\n",
       "Freq: H, dtype: float64"
      ]
     },
     "execution_count": 171,
     "metadata": {},
     "output_type": "execute_result"
    }
   ],
   "source": [
    "ts.head()"
   ]
  },
  {
   "cell_type": "markdown",
   "metadata": {},
   "source": [
    "## Categorical"
   ]
  },
  {
   "cell_type": "code",
   "execution_count": 172,
   "metadata": {
    "collapsed": true
   },
   "outputs": [],
   "source": [
    "df = pd.DataFrame({\"id\":[1,2,3,4,5,6], \"raw_grade\":['a', 'b', 'b', 'a', 'a', 'e']})"
   ]
  },
  {
   "cell_type": "code",
   "execution_count": 175,
   "metadata": {
    "collapsed": false
   },
   "outputs": [],
   "source": [
    "df[\"grade\"] = df[\"raw_grade\"].astype(\"category\")"
   ]
  },
  {
   "cell_type": "code",
   "execution_count": 176,
   "metadata": {
    "collapsed": false
   },
   "outputs": [
    {
     "data": {
      "text/plain": [
       "0    a\n",
       "1    b\n",
       "2    b\n",
       "3    a\n",
       "4    a\n",
       "5    e\n",
       "Name: grade, dtype: category\n",
       "Categories (3, object): [a, b, e]"
      ]
     },
     "execution_count": 176,
     "metadata": {},
     "output_type": "execute_result"
    }
   ],
   "source": [
    "df[\"grade\"]"
   ]
  },
  {
   "cell_type": "code",
   "execution_count": 178,
   "metadata": {
    "collapsed": false
   },
   "outputs": [],
   "source": [
    "df[\"grade\"].cat.categories = [\"very good\", \"good\", \"very bad\"]"
   ]
  },
  {
   "cell_type": "code",
   "execution_count": 179,
   "metadata": {
    "collapsed": true
   },
   "outputs": [],
   "source": [
    "df[\"grade\"] = df[\"grade\"].cat.set_categories([\"very bad\", \"bad\", \"medium\", \"good\", \"very good\"])"
   ]
  },
  {
   "cell_type": "code",
   "execution_count": 180,
   "metadata": {
    "collapsed": false
   },
   "outputs": [
    {
     "data": {
      "text/plain": [
       "0    very good\n",
       "1         good\n",
       "2         good\n",
       "3    very good\n",
       "4    very good\n",
       "5     very bad\n",
       "Name: grade, dtype: category\n",
       "Categories (5, object): [very bad, bad, medium, good, very good]"
      ]
     },
     "execution_count": 180,
     "metadata": {},
     "output_type": "execute_result"
    }
   ],
   "source": [
    "df[\"grade\"]"
   ]
  },
  {
   "cell_type": "code",
   "execution_count": 181,
   "metadata": {
    "collapsed": false
   },
   "outputs": [
    {
     "data": {
      "text/html": [
       "<div>\n",
       "<table border=\"1\" class=\"dataframe\">\n",
       "  <thead>\n",
       "    <tr style=\"text-align: right;\">\n",
       "      <th></th>\n",
       "      <th>id</th>\n",
       "      <th>raw_grade</th>\n",
       "      <th>grade</th>\n",
       "    </tr>\n",
       "  </thead>\n",
       "  <tbody>\n",
       "    <tr>\n",
       "      <th>5</th>\n",
       "      <td>6</td>\n",
       "      <td>e</td>\n",
       "      <td>very bad</td>\n",
       "    </tr>\n",
       "    <tr>\n",
       "      <th>1</th>\n",
       "      <td>2</td>\n",
       "      <td>b</td>\n",
       "      <td>good</td>\n",
       "    </tr>\n",
       "    <tr>\n",
       "      <th>2</th>\n",
       "      <td>3</td>\n",
       "      <td>b</td>\n",
       "      <td>good</td>\n",
       "    </tr>\n",
       "    <tr>\n",
       "      <th>0</th>\n",
       "      <td>1</td>\n",
       "      <td>a</td>\n",
       "      <td>very good</td>\n",
       "    </tr>\n",
       "    <tr>\n",
       "      <th>3</th>\n",
       "      <td>4</td>\n",
       "      <td>a</td>\n",
       "      <td>very good</td>\n",
       "    </tr>\n",
       "    <tr>\n",
       "      <th>4</th>\n",
       "      <td>5</td>\n",
       "      <td>a</td>\n",
       "      <td>very good</td>\n",
       "    </tr>\n",
       "  </tbody>\n",
       "</table>\n",
       "</div>"
      ],
      "text/plain": [
       "   id raw_grade      grade\n",
       "5   6         e   very bad\n",
       "1   2         b       good\n",
       "2   3         b       good\n",
       "0   1         a  very good\n",
       "3   4         a  very good\n",
       "4   5         a  very good"
      ]
     },
     "execution_count": 181,
     "metadata": {},
     "output_type": "execute_result"
    }
   ],
   "source": [
    "df.sort_values(by=\"grade\")"
   ]
  },
  {
   "cell_type": "code",
   "execution_count": 182,
   "metadata": {
    "collapsed": false
   },
   "outputs": [
    {
     "data": {
      "text/plain": [
       "grade\n",
       "very bad     1\n",
       "bad          0\n",
       "medium       0\n",
       "good         2\n",
       "very good    3\n",
       "dtype: int64"
      ]
     },
     "execution_count": 182,
     "metadata": {},
     "output_type": "execute_result"
    }
   ],
   "source": [
    "df.groupby(\"grade\").size()"
   ]
  },
  {
   "cell_type": "markdown",
   "metadata": {},
   "source": [
    "# Plotting"
   ]
  },
  {
   "cell_type": "code",
   "execution_count": 184,
   "metadata": {
    "collapsed": true
   },
   "outputs": [],
   "source": [
    "ts = pd.Series(np.random.randn(1000), index=pd.date_range('1/1/2000', periods=1000))"
   ]
  },
  {
   "cell_type": "code",
   "execution_count": 185,
   "metadata": {
    "collapsed": true
   },
   "outputs": [],
   "source": [
    "ts = ts.cumsum()"
   ]
  },
  {
   "cell_type": "code",
   "execution_count": 186,
   "metadata": {
    "collapsed": false
   },
   "outputs": [
    {
     "data": {
      "text/plain": [
       "<matplotlib.axes._subplots.AxesSubplot at 0x7fe8bc10c810>"
      ]
     },
     "execution_count": 186,
     "metadata": {},
     "output_type": "execute_result"
    },
    {
     "data": {
      "image/png": "[encoded data removed]",
      "text/plain": [
       "<matplotlib.figure.Figure at 0x7fe8bc059dd0>"
      ]
     },
     "metadata": {},
     "output_type": "display_data"
    }
   ],
   "source": [
    "ts.plot()"
   ]
  },
  {
   "cell_type": "code",
   "execution_count": 199,
   "metadata": {
    "collapsed": true
   },
   "outputs": [],
   "source": [
    "df = pd.DataFrame(np.random.randn(1000, 4), index=ts.index, columns=['A', 'B', 'C', 'D'])"
   ]
  },
  {
   "cell_type": "code",
   "execution_count": 200,
   "metadata": {
    "collapsed": true
   },
   "outputs": [],
   "source": [
    "df = df.cumsum()"
   ]
  },
  {
   "cell_type": "code",
   "execution_count": 201,
   "metadata": {
    "collapsed": false
   },
   "outputs": [
    {
     "data": {
      "text/plain": [
       "<matplotlib.legend.Legend at 0x7fe8b7d7ff90>"
      ]
     },
     "execution_count": 201,
     "metadata": {},
     "output_type": "execute_result"
    },
    {
     "data": {
      "text/plain": [
       "<matplotlib.figure.Figure at 0x7fe8b7d930d0>"
      ]
     },
     "metadata": {},
     "output_type": "display_data"
    },
    {
     "data": {
      "image/png": "[encoded data removed]",
      "text/plain": [
       "<matplotlib.figure.Figure at 0x7fe8bc3a19d0>"
      ]
     },
     "metadata": {},
     "output_type": "display_data"
    }
   ],
   "source": [
    "plt.figure(); df.plot(); plt.legend(loc='best')"
   ]
  },
  {
   "cell_type": "markdown",
   "metadata": {},
   "source": [
    "## Getting Data In/Out"
   ]
  },
  {
   "cell_type": "code",
   "execution_count": 202,
   "metadata": {
    "collapsed": true
   },
   "outputs": [],
   "source": [
    " df.to_csv('foo.csv')"
   ]
  },
  {
   "cell_type": "code",
   "execution_count": 203,
   "metadata": {
    "collapsed": false,
    "scrolled": true
   },
   "outputs": [
    {
     "data": {
      "text/html": [
       "<div>\n",
       "<table border=\"1\" class=\"dataframe\">\n",
       "  <thead>\n",
       "    <tr style=\"text-align: right;\">\n",
       "      <th></th>\n",
       "      <th>Unnamed: 0</th>\n",
       "      <th>A</th>\n",
       "      <th>B</th>\n",
       "      <th>C</th>\n",
       "      <th>D</th>\n",
       "    </tr>\n",
       "  </thead>\n",
       "  <tbody>\n",
       "    <tr>\n",
       "      <th>0</th>\n",
       "      <td>2000-01-01</td>\n",
       "      <td>2.010060</td>\n",
       "      <td>1.118314</td>\n",
       "      <td>-0.520876</td>\n",
       "      <td>-0.365773</td>\n",
       "    </tr>\n",
       "    <tr>\n",
       "      <th>1</th>\n",
       "      <td>2000-01-02</td>\n",
       "      <td>2.068785</td>\n",
       "      <td>-0.887894</td>\n",
       "      <td>-0.400447</td>\n",
       "      <td>-0.209815</td>\n",
       "    </tr>\n",
       "    <tr>\n",
       "      <th>2</th>\n",
       "      <td>2000-01-03</td>\n",
       "      <td>1.302711</td>\n",
       "      <td>-0.826466</td>\n",
       "      <td>0.332370</td>\n",
       "      <td>0.921762</td>\n",
       "    </tr>\n",
       "    <tr>\n",
       "      <th>3</th>\n",
       "      <td>2000-01-04</td>\n",
       "      <td>3.004271</td>\n",
       "      <td>-1.979276</td>\n",
       "      <td>-0.906932</td>\n",
       "      <td>0.950753</td>\n",
       "    </tr>\n",
       "    <tr>\n",
       "      <th>4</th>\n",
       "      <td>2000-01-05</td>\n",
       "      <td>3.188819</td>\n",
       "      <td>-2.222684</td>\n",
       "      <td>-0.653723</td>\n",
       "      <td>1.407842</td>\n",
       "    </tr>\n",
       "    <tr>\n",
       "      <th>5</th>\n",
       "      <td>2000-01-06</td>\n",
       "      <td>0.901021</td>\n",
       "      <td>-1.516257</td>\n",
       "      <td>-0.381610</td>\n",
       "      <td>2.076504</td>\n",
       "    </tr>\n",
       "    <tr>\n",
       "      <th>6</th>\n",
       "      <td>2000-01-07</td>\n",
       "      <td>1.061703</td>\n",
       "      <td>-1.576431</td>\n",
       "      <td>-0.542894</td>\n",
       "      <td>2.323528</td>\n",
       "    </tr>\n",
       "    <tr>\n",
       "      <th>7</th>\n",
       "      <td>2000-01-08</td>\n",
       "      <td>0.731499</td>\n",
       "      <td>-3.210766</td>\n",
       "      <td>0.161314</td>\n",
       "      <td>3.348393</td>\n",
       "    </tr>\n",
       "    <tr>\n",
       "      <th>8</th>\n",
       "      <td>2000-01-09</td>\n",
       "      <td>0.477661</td>\n",
       "      <td>-2.134964</td>\n",
       "      <td>-0.717987</td>\n",
       "      <td>4.951102</td>\n",
       "    </tr>\n",
       "    <tr>\n",
       "      <th>9</th>\n",
       "      <td>2000-01-10</td>\n",
       "      <td>-0.446670</td>\n",
       "      <td>-2.518742</td>\n",
       "      <td>-1.036590</td>\n",
       "      <td>3.853486</td>\n",
       "    </tr>\n",
       "    <tr>\n",
       "      <th>10</th>\n",
       "      <td>2000-01-11</td>\n",
       "      <td>0.116837</td>\n",
       "      <td>-4.232895</td>\n",
       "      <td>0.697524</td>\n",
       "      <td>2.364268</td>\n",
       "    </tr>\n",
       "    <tr>\n",
       "      <th>11</th>\n",
       "      <td>2000-01-12</td>\n",
       "      <td>-0.806480</td>\n",
       "      <td>-4.069654</td>\n",
       "      <td>1.955292</td>\n",
       "      <td>1.660851</td>\n",
       "    </tr>\n",
       "    <tr>\n",
       "      <th>12</th>\n",
       "      <td>2000-01-13</td>\n",
       "      <td>0.061355</td>\n",
       "      <td>-3.614789</td>\n",
       "      <td>3.587542</td>\n",
       "      <td>1.350880</td>\n",
       "    </tr>\n",
       "    <tr>\n",
       "      <th>13</th>\n",
       "      <td>2000-01-14</td>\n",
       "      <td>0.911533</td>\n",
       "      <td>-4.846539</td>\n",
       "      <td>6.569479</td>\n",
       "      <td>0.503792</td>\n",
       "    </tr>\n",
       "    <tr>\n",
       "      <th>14</th>\n",
       "      <td>2000-01-15</td>\n",
       "      <td>0.837396</td>\n",
       "      <td>-4.092574</td>\n",
       "      <td>5.308758</td>\n",
       "      <td>-0.371647</td>\n",
       "    </tr>\n",
       "    <tr>\n",
       "      <th>15</th>\n",
       "      <td>2000-01-16</td>\n",
       "      <td>0.845400</td>\n",
       "      <td>-4.370826</td>\n",
       "      <td>6.132092</td>\n",
       "      <td>2.735466</td>\n",
       "    </tr>\n",
       "    <tr>\n",
       "      <th>16</th>\n",
       "      <td>2000-01-17</td>\n",
       "      <td>0.307252</td>\n",
       "      <td>-5.017732</td>\n",
       "      <td>8.989071</td>\n",
       "      <td>1.068407</td>\n",
       "    </tr>\n",
       "    <tr>\n",
       "      <th>17</th>\n",
       "      <td>2000-01-18</td>\n",
       "      <td>-0.250337</td>\n",
       "      <td>-5.198315</td>\n",
       "      <td>9.925348</td>\n",
       "      <td>-0.727447</td>\n",
       "    </tr>\n",
       "    <tr>\n",
       "      <th>18</th>\n",
       "      <td>2000-01-19</td>\n",
       "      <td>-2.303771</td>\n",
       "      <td>-3.073461</td>\n",
       "      <td>8.832346</td>\n",
       "      <td>-1.741603</td>\n",
       "    </tr>\n",
       "    <tr>\n",
       "      <th>19</th>\n",
       "      <td>2000-01-20</td>\n",
       "      <td>-3.717978</td>\n",
       "      <td>-2.394640</td>\n",
       "      <td>8.448772</td>\n",
       "      <td>-3.336769</td>\n",
       "    </tr>\n",
       "    <tr>\n",
       "      <th>20</th>\n",
       "      <td>2000-01-21</td>\n",
       "      <td>-3.772077</td>\n",
       "      <td>-2.778173</td>\n",
       "      <td>7.779681</td>\n",
       "      <td>-1.746870</td>\n",
       "    </tr>\n",
       "    <tr>\n",
       "      <th>21</th>\n",
       "      <td>2000-01-22</td>\n",
       "      <td>-2.587999</td>\n",
       "      <td>-2.110381</td>\n",
       "      <td>8.726909</td>\n",
       "      <td>-1.043869</td>\n",
       "    </tr>\n",
       "    <tr>\n",
       "      <th>22</th>\n",
       "      <td>2000-01-23</td>\n",
       "      <td>-3.234156</td>\n",
       "      <td>-1.004986</td>\n",
       "      <td>8.571058</td>\n",
       "      <td>-0.740095</td>\n",
       "    </tr>\n",
       "    <tr>\n",
       "      <th>23</th>\n",
       "      <td>2000-01-24</td>\n",
       "      <td>-2.392606</td>\n",
       "      <td>0.433796</td>\n",
       "      <td>10.238412</td>\n",
       "      <td>0.018063</td>\n",
       "    </tr>\n",
       "    <tr>\n",
       "      <th>24</th>\n",
       "      <td>2000-01-25</td>\n",
       "      <td>-0.742998</td>\n",
       "      <td>0.229494</td>\n",
       "      <td>8.507715</td>\n",
       "      <td>-0.431879</td>\n",
       "    </tr>\n",
       "    <tr>\n",
       "      <th>25</th>\n",
       "      <td>2000-01-26</td>\n",
       "      <td>-0.817223</td>\n",
       "      <td>0.295173</td>\n",
       "      <td>9.680023</td>\n",
       "      <td>0.043446</td>\n",
       "    </tr>\n",
       "    <tr>\n",
       "      <th>26</th>\n",
       "      <td>2000-01-27</td>\n",
       "      <td>-1.471038</td>\n",
       "      <td>1.001889</td>\n",
       "      <td>9.368812</td>\n",
       "      <td>0.205597</td>\n",
       "    </tr>\n",
       "    <tr>\n",
       "      <th>27</th>\n",
       "      <td>2000-01-28</td>\n",
       "      <td>-1.765598</td>\n",
       "      <td>1.823771</td>\n",
       "      <td>8.239939</td>\n",
       "      <td>-1.034356</td>\n",
       "    </tr>\n",
       "    <tr>\n",
       "      <th>28</th>\n",
       "      <td>2000-01-29</td>\n",
       "      <td>-1.351916</td>\n",
       "      <td>0.916473</td>\n",
       "      <td>8.743985</td>\n",
       "      <td>-0.843500</td>\n",
       "    </tr>\n",
       "    <tr>\n",
       "      <th>29</th>\n",
       "      <td>2000-01-30</td>\n",
       "      <td>-0.643763</td>\n",
       "      <td>1.341163</td>\n",
       "      <td>9.344406</td>\n",
       "      <td>-2.520639</td>\n",
       "    </tr>\n",
       "    <tr>\n",
       "      <th>...</th>\n",
       "      <td>...</td>\n",
       "      <td>...</td>\n",
       "      <td>...</td>\n",
       "      <td>...</td>\n",
       "      <td>...</td>\n",
       "    </tr>\n",
       "    <tr>\n",
       "      <th>970</th>\n",
       "      <td>2002-08-28</td>\n",
       "      <td>-1.559980</td>\n",
       "      <td>-9.986071</td>\n",
       "      <td>50.284741</td>\n",
       "      <td>2.661501</td>\n",
       "    </tr>\n",
       "    <tr>\n",
       "      <th>971</th>\n",
       "      <td>2002-08-29</td>\n",
       "      <td>-2.012880</td>\n",
       "      <td>-10.184186</td>\n",
       "      <td>49.895925</td>\n",
       "      <td>3.067914</td>\n",
       "    </tr>\n",
       "    <tr>\n",
       "      <th>972</th>\n",
       "      <td>2002-08-30</td>\n",
       "      <td>-1.730921</td>\n",
       "      <td>-10.022831</td>\n",
       "      <td>49.083797</td>\n",
       "      <td>3.663953</td>\n",
       "    </tr>\n",
       "    <tr>\n",
       "      <th>973</th>\n",
       "      <td>2002-08-31</td>\n",
       "      <td>-1.084907</td>\n",
       "      <td>-11.679674</td>\n",
       "      <td>51.278669</td>\n",
       "      <td>3.776779</td>\n",
       "    </tr>\n",
       "    <tr>\n",
       "      <th>974</th>\n",
       "      <td>2002-09-01</td>\n",
       "      <td>-0.883106</td>\n",
       "      <td>-10.791772</td>\n",
       "      <td>50.617545</td>\n",
       "      <td>4.653362</td>\n",
       "    </tr>\n",
       "    <tr>\n",
       "      <th>975</th>\n",
       "      <td>2002-09-02</td>\n",
       "      <td>-0.260801</td>\n",
       "      <td>-10.383268</td>\n",
       "      <td>50.060577</td>\n",
       "      <td>5.039640</td>\n",
       "    </tr>\n",
       "    <tr>\n",
       "      <th>976</th>\n",
       "      <td>2002-09-03</td>\n",
       "      <td>0.690549</td>\n",
       "      <td>-10.442651</td>\n",
       "      <td>50.846460</td>\n",
       "      <td>6.190511</td>\n",
       "    </tr>\n",
       "    <tr>\n",
       "      <th>977</th>\n",
       "      <td>2002-09-04</td>\n",
       "      <td>1.215183</td>\n",
       "      <td>-10.528920</td>\n",
       "      <td>51.149226</td>\n",
       "      <td>6.395800</td>\n",
       "    </tr>\n",
       "    <tr>\n",
       "      <th>978</th>\n",
       "      <td>2002-09-05</td>\n",
       "      <td>1.160405</td>\n",
       "      <td>-10.521543</td>\n",
       "      <td>52.198961</td>\n",
       "      <td>6.863653</td>\n",
       "    </tr>\n",
       "    <tr>\n",
       "      <th>979</th>\n",
       "      <td>2002-09-06</td>\n",
       "      <td>0.140624</td>\n",
       "      <td>-10.169119</td>\n",
       "      <td>54.328077</td>\n",
       "      <td>7.523495</td>\n",
       "    </tr>\n",
       "    <tr>\n",
       "      <th>980</th>\n",
       "      <td>2002-09-07</td>\n",
       "      <td>1.012205</td>\n",
       "      <td>-8.882949</td>\n",
       "      <td>54.248106</td>\n",
       "      <td>7.320919</td>\n",
       "    </tr>\n",
       "    <tr>\n",
       "      <th>981</th>\n",
       "      <td>2002-09-08</td>\n",
       "      <td>0.869899</td>\n",
       "      <td>-8.864994</td>\n",
       "      <td>54.187942</td>\n",
       "      <td>5.997047</td>\n",
       "    </tr>\n",
       "    <tr>\n",
       "      <th>982</th>\n",
       "      <td>2002-09-09</td>\n",
       "      <td>1.062997</td>\n",
       "      <td>-11.487046</td>\n",
       "      <td>53.600998</td>\n",
       "      <td>5.517969</td>\n",
       "    </tr>\n",
       "    <tr>\n",
       "      <th>983</th>\n",
       "      <td>2002-09-10</td>\n",
       "      <td>0.543020</td>\n",
       "      <td>-10.560458</td>\n",
       "      <td>53.919325</td>\n",
       "      <td>6.449089</td>\n",
       "    </tr>\n",
       "    <tr>\n",
       "      <th>984</th>\n",
       "      <td>2002-09-11</td>\n",
       "      <td>0.736849</td>\n",
       "      <td>-10.358495</td>\n",
       "      <td>53.402509</td>\n",
       "      <td>4.875063</td>\n",
       "    </tr>\n",
       "    <tr>\n",
       "      <th>985</th>\n",
       "      <td>2002-09-12</td>\n",
       "      <td>2.170102</td>\n",
       "      <td>-9.333815</td>\n",
       "      <td>54.079622</td>\n",
       "      <td>4.124848</td>\n",
       "    </tr>\n",
       "    <tr>\n",
       "      <th>986</th>\n",
       "      <td>2002-09-13</td>\n",
       "      <td>1.288047</td>\n",
       "      <td>-7.681082</td>\n",
       "      <td>55.624346</td>\n",
       "      <td>3.779293</td>\n",
       "    </tr>\n",
       "    <tr>\n",
       "      <th>987</th>\n",
       "      <td>2002-09-14</td>\n",
       "      <td>1.516123</td>\n",
       "      <td>-8.507022</td>\n",
       "      <td>55.748237</td>\n",
       "      <td>4.110259</td>\n",
       "    </tr>\n",
       "    <tr>\n",
       "      <th>988</th>\n",
       "      <td>2002-09-15</td>\n",
       "      <td>0.054312</td>\n",
       "      <td>-7.052045</td>\n",
       "      <td>54.988447</td>\n",
       "      <td>5.372059</td>\n",
       "    </tr>\n",
       "    <tr>\n",
       "      <th>989</th>\n",
       "      <td>2002-09-16</td>\n",
       "      <td>0.903763</td>\n",
       "      <td>-5.699909</td>\n",
       "      <td>56.002035</td>\n",
       "      <td>5.152122</td>\n",
       "    </tr>\n",
       "    <tr>\n",
       "      <th>990</th>\n",
       "      <td>2002-09-17</td>\n",
       "      <td>2.872476</td>\n",
       "      <td>-5.094376</td>\n",
       "      <td>55.160358</td>\n",
       "      <td>4.794867</td>\n",
       "    </tr>\n",
       "    <tr>\n",
       "      <th>991</th>\n",
       "      <td>2002-09-18</td>\n",
       "      <td>4.028206</td>\n",
       "      <td>-6.372066</td>\n",
       "      <td>54.720450</td>\n",
       "      <td>6.028377</td>\n",
       "    </tr>\n",
       "    <tr>\n",
       "      <th>992</th>\n",
       "      <td>2002-09-19</td>\n",
       "      <td>4.506490</td>\n",
       "      <td>-5.672439</td>\n",
       "      <td>54.571938</td>\n",
       "      <td>5.381863</td>\n",
       "    </tr>\n",
       "    <tr>\n",
       "      <th>993</th>\n",
       "      <td>2002-09-20</td>\n",
       "      <td>2.503771</td>\n",
       "      <td>-7.512473</td>\n",
       "      <td>55.422680</td>\n",
       "      <td>7.241125</td>\n",
       "    </tr>\n",
       "    <tr>\n",
       "      <th>994</th>\n",
       "      <td>2002-09-21</td>\n",
       "      <td>3.103107</td>\n",
       "      <td>-6.905192</td>\n",
       "      <td>53.535869</td>\n",
       "      <td>6.217448</td>\n",
       "    </tr>\n",
       "    <tr>\n",
       "      <th>995</th>\n",
       "      <td>2002-09-22</td>\n",
       "      <td>2.366888</td>\n",
       "      <td>-7.526059</td>\n",
       "      <td>52.626640</td>\n",
       "      <td>5.948588</td>\n",
       "    </tr>\n",
       "    <tr>\n",
       "      <th>996</th>\n",
       "      <td>2002-09-23</td>\n",
       "      <td>3.237230</td>\n",
       "      <td>-5.003431</td>\n",
       "      <td>52.424902</td>\n",
       "      <td>7.562576</td>\n",
       "    </tr>\n",
       "    <tr>\n",
       "      <th>997</th>\n",
       "      <td>2002-09-24</td>\n",
       "      <td>4.882261</td>\n",
       "      <td>-5.316802</td>\n",
       "      <td>52.003215</td>\n",
       "      <td>7.719921</td>\n",
       "    </tr>\n",
       "    <tr>\n",
       "      <th>998</th>\n",
       "      <td>2002-09-25</td>\n",
       "      <td>6.381860</td>\n",
       "      <td>-5.693140</td>\n",
       "      <td>50.726655</td>\n",
       "      <td>8.674428</td>\n",
       "    </tr>\n",
       "    <tr>\n",
       "      <th>999</th>\n",
       "      <td>2002-09-26</td>\n",
       "      <td>5.954345</td>\n",
       "      <td>-5.512122</td>\n",
       "      <td>50.102570</td>\n",
       "      <td>7.075010</td>\n",
       "    </tr>\n",
       "  </tbody>\n",
       "</table>\n",
       "<p>1000 rows × 5 columns</p>\n",
       "</div>"
      ],
      "text/plain": [
       "     Unnamed: 0         A          B          C         D\n",
       "0    2000-01-01  2.010060   1.118314  -0.520876 -0.365773\n",
       "1    2000-01-02  2.068785  -0.887894  -0.400447 -0.209815\n",
       "2    2000-01-03  1.302711  -0.826466   0.332370  0.921762\n",
       "3    2000-01-04  3.004271  -1.979276  -0.906932  0.950753\n",
       "4    2000-01-05  3.188819  -2.222684  -0.653723  1.407842\n",
       "5    2000-01-06  0.901021  -1.516257  -0.381610  2.076504\n",
       "6    2000-01-07  1.061703  -1.576431  -0.542894  2.323528\n",
       "7    2000-01-08  0.731499  -3.210766   0.161314  3.348393\n",
       "8    2000-01-09  0.477661  -2.134964  -0.717987  4.951102\n",
       "9    2000-01-10 -0.446670  -2.518742  -1.036590  3.853486\n",
       "10   2000-01-11  0.116837  -4.232895   0.697524  2.364268\n",
       "11   2000-01-12 -0.806480  -4.069654   1.955292  1.660851\n",
       "12   2000-01-13  0.061355  -3.614789   3.587542  1.350880\n",
       "13   2000-01-14  0.911533  -4.846539   6.569479  0.503792\n",
       "14   2000-01-15  0.837396  -4.092574   5.308758 -0.371647\n",
       "15   2000-01-16  0.845400  -4.370826   6.132092  2.735466\n",
       "16   2000-01-17  0.307252  -5.017732   8.989071  1.068407\n",
       "17   2000-01-18 -0.250337  -5.198315   9.925348 -0.727447\n",
       "18   2000-01-19 -2.303771  -3.073461   8.832346 -1.741603\n",
       "19   2000-01-20 -3.717978  -2.394640   8.448772 -3.336769\n",
       "20   2000-01-21 -3.772077  -2.778173   7.779681 -1.746870\n",
       "21   2000-01-22 -2.587999  -2.110381   8.726909 -1.043869\n",
       "22   2000-01-23 -3.234156  -1.004986   8.571058 -0.740095\n",
       "23   2000-01-24 -2.392606   0.433796  10.238412  0.018063\n",
       "24   2000-01-25 -0.742998   0.229494   8.507715 -0.431879\n",
       "25   2000-01-26 -0.817223   0.295173   9.680023  0.043446\n",
       "26   2000-01-27 -1.471038   1.001889   9.368812  0.205597\n",
       "27   2000-01-28 -1.765598   1.823771   8.239939 -1.034356\n",
       "28   2000-01-29 -1.351916   0.916473   8.743985 -0.843500\n",
       "29   2000-01-30 -0.643763   1.341163   9.344406 -2.520639\n",
       "..          ...       ...        ...        ...       ...\n",
       "970  2002-08-28 -1.559980  -9.986071  50.284741  2.661501\n",
       "971  2002-08-29 -2.012880 -10.184186  49.895925  3.067914\n",
       "972  2002-08-30 -1.730921 -10.022831  49.083797  3.663953\n",
       "973  2002-08-31 -1.084907 -11.679674  51.278669  3.776779\n",
       "974  2002-09-01 -0.883106 -10.791772  50.617545  4.653362\n",
       "975  2002-09-02 -0.260801 -10.383268  50.060577  5.039640\n",
       "976  2002-09-03  0.690549 -10.442651  50.846460  6.190511\n",
       "977  2002-09-04  1.215183 -10.528920  51.149226  6.395800\n",
       "978  2002-09-05  1.160405 -10.521543  52.198961  6.863653\n",
       "979  2002-09-06  0.140624 -10.169119  54.328077  7.523495\n",
       "980  2002-09-07  1.012205  -8.882949  54.248106  7.320919\n",
       "981  2002-09-08  0.869899  -8.864994  54.187942  5.997047\n",
       "982  2002-09-09  1.062997 -11.487046  53.600998  5.517969\n",
       "983  2002-09-10  0.543020 -10.560458  53.919325  6.449089\n",
       "984  2002-09-11  0.736849 -10.358495  53.402509  4.875063\n",
       "985  2002-09-12  2.170102  -9.333815  54.079622  4.124848\n",
       "986  2002-09-13  1.288047  -7.681082  55.624346  3.779293\n",
       "987  2002-09-14  1.516123  -8.507022  55.748237  4.110259\n",
       "988  2002-09-15  0.054312  -7.052045  54.988447  5.372059\n",
       "989  2002-09-16  0.903763  -5.699909  56.002035  5.152122\n",
       "990  2002-09-17  2.872476  -5.094376  55.160358  4.794867\n",
       "991  2002-09-18  4.028206  -6.372066  54.720450  6.028377\n",
       "992  2002-09-19  4.506490  -5.672439  54.571938  5.381863\n",
       "993  2002-09-20  2.503771  -7.512473  55.422680  7.241125\n",
       "994  2002-09-21  3.103107  -6.905192  53.535869  6.217448\n",
       "995  2002-09-22  2.366888  -7.526059  52.626640  5.948588\n",
       "996  2002-09-23  3.237230  -5.003431  52.424902  7.562576\n",
       "997  2002-09-24  4.882261  -5.316802  52.003215  7.719921\n",
       "998  2002-09-25  6.381860  -5.693140  50.726655  8.674428\n",
       "999  2002-09-26  5.954345  -5.512122  50.102570  7.075010\n",
       "\n",
       "[1000 rows x 5 columns]"
      ]
     },
     "execution_count": 203,
     "metadata": {},
     "output_type": "execute_result"
    }
   ],
   "source": [
    "pd.read_csv('foo.csv')"
   ]
  },
  {
   "cell_type": "code",
   "execution_count": 204,
   "metadata": {
    "collapsed": true
   },
   "outputs": [],
   "source": [
    "df.to_hdf('foo.h5','df')"
   ]
  },
  {
   "cell_type": "code",
   "execution_count": 205,
   "metadata": {
    "collapsed": false
   },
   "outputs": [
    {
     "data": {
      "text/html": [
       "<div>\n",
       "<table border=\"1\" class=\"dataframe\">\n",
       "  <thead>\n",
       "    <tr style=\"text-align: right;\">\n",
       "      <th></th>\n",
       "      <th>A</th>\n",
       "      <th>B</th>\n",
       "      <th>C</th>\n",
       "      <th>D</th>\n",
       "    </tr>\n",
       "  </thead>\n",
       "  <tbody>\n",
       "    <tr>\n",
       "      <th>2000-01-01</th>\n",
       "      <td>2.010060</td>\n",
       "      <td>1.118314</td>\n",
       "      <td>-0.520876</td>\n",
       "      <td>-0.365773</td>\n",
       "    </tr>\n",
       "    <tr>\n",
       "      <th>2000-01-02</th>\n",
       "      <td>2.068785</td>\n",
       "      <td>-0.887894</td>\n",
       "      <td>-0.400447</td>\n",
       "      <td>-0.209815</td>\n",
       "    </tr>\n",
       "    <tr>\n",
       "      <th>2000-01-03</th>\n",
       "      <td>1.302711</td>\n",
       "      <td>-0.826466</td>\n",
       "      <td>0.332370</td>\n",
       "      <td>0.921762</td>\n",
       "    </tr>\n",
       "    <tr>\n",
       "      <th>2000-01-04</th>\n",
       "      <td>3.004271</td>\n",
       "      <td>-1.979276</td>\n",
       "      <td>-0.906932</td>\n",
       "      <td>0.950753</td>\n",
       "    </tr>\n",
       "    <tr>\n",
       "      <th>2000-01-05</th>\n",
       "      <td>3.188819</td>\n",
       "      <td>-2.222684</td>\n",
       "      <td>-0.653723</td>\n",
       "      <td>1.407842</td>\n",
       "    </tr>\n",
       "    <tr>\n",
       "      <th>2000-01-06</th>\n",
       "      <td>0.901021</td>\n",
       "      <td>-1.516257</td>\n",
       "      <td>-0.381610</td>\n",
       "      <td>2.076504</td>\n",
       "    </tr>\n",
       "    <tr>\n",
       "      <th>2000-01-07</th>\n",
       "      <td>1.061703</td>\n",
       "      <td>-1.576431</td>\n",
       "      <td>-0.542894</td>\n",
       "      <td>2.323528</td>\n",
       "    </tr>\n",
       "    <tr>\n",
       "      <th>2000-01-08</th>\n",
       "      <td>0.731499</td>\n",
       "      <td>-3.210766</td>\n",
       "      <td>0.161314</td>\n",
       "      <td>3.348393</td>\n",
       "    </tr>\n",
       "    <tr>\n",
       "      <th>2000-01-09</th>\n",
       "      <td>0.477661</td>\n",
       "      <td>-2.134964</td>\n",
       "      <td>-0.717987</td>\n",
       "      <td>4.951102</td>\n",
       "    </tr>\n",
       "    <tr>\n",
       "      <th>2000-01-10</th>\n",
       "      <td>-0.446670</td>\n",
       "      <td>-2.518742</td>\n",
       "      <td>-1.036590</td>\n",
       "      <td>3.853486</td>\n",
       "    </tr>\n",
       "    <tr>\n",
       "      <th>2000-01-11</th>\n",
       "      <td>0.116837</td>\n",
       "      <td>-4.232895</td>\n",
       "      <td>0.697524</td>\n",
       "      <td>2.364268</td>\n",
       "    </tr>\n",
       "    <tr>\n",
       "      <th>2000-01-12</th>\n",
       "      <td>-0.806480</td>\n",
       "      <td>-4.069654</td>\n",
       "      <td>1.955292</td>\n",
       "      <td>1.660851</td>\n",
       "    </tr>\n",
       "    <tr>\n",
       "      <th>2000-01-13</th>\n",
       "      <td>0.061355</td>\n",
       "      <td>-3.614789</td>\n",
       "      <td>3.587542</td>\n",
       "      <td>1.350880</td>\n",
       "    </tr>\n",
       "    <tr>\n",
       "      <th>2000-01-14</th>\n",
       "      <td>0.911533</td>\n",
       "      <td>-4.846539</td>\n",
       "      <td>6.569479</td>\n",
       "      <td>0.503792</td>\n",
       "    </tr>\n",
       "    <tr>\n",
       "      <th>2000-01-15</th>\n",
       "      <td>0.837396</td>\n",
       "      <td>-4.092574</td>\n",
       "      <td>5.308758</td>\n",
       "      <td>-0.371647</td>\n",
       "    </tr>\n",
       "    <tr>\n",
       "      <th>2000-01-16</th>\n",
       "      <td>0.845400</td>\n",
       "      <td>-4.370826</td>\n",
       "      <td>6.132092</td>\n",
       "      <td>2.735466</td>\n",
       "    </tr>\n",
       "    <tr>\n",
       "      <th>2000-01-17</th>\n",
       "      <td>0.307252</td>\n",
       "      <td>-5.017732</td>\n",
       "      <td>8.989071</td>\n",
       "      <td>1.068407</td>\n",
       "    </tr>\n",
       "    <tr>\n",
       "      <th>2000-01-18</th>\n",
       "      <td>-0.250337</td>\n",
       "      <td>-5.198315</td>\n",
       "      <td>9.925348</td>\n",
       "      <td>-0.727447</td>\n",
       "    </tr>\n",
       "    <tr>\n",
       "      <th>2000-01-19</th>\n",
       "      <td>-2.303771</td>\n",
       "      <td>-3.073461</td>\n",
       "      <td>8.832346</td>\n",
       "      <td>-1.741603</td>\n",
       "    </tr>\n",
       "    <tr>\n",
       "      <th>2000-01-20</th>\n",
       "      <td>-3.717978</td>\n",
       "      <td>-2.394640</td>\n",
       "      <td>8.448772</td>\n",
       "      <td>-3.336769</td>\n",
       "    </tr>\n",
       "    <tr>\n",
       "      <th>2000-01-21</th>\n",
       "      <td>-3.772077</td>\n",
       "      <td>-2.778173</td>\n",
       "      <td>7.779681</td>\n",
       "      <td>-1.746870</td>\n",
       "    </tr>\n",
       "    <tr>\n",
       "      <th>2000-01-22</th>\n",
       "      <td>-2.587999</td>\n",
       "      <td>-2.110381</td>\n",
       "      <td>8.726909</td>\n",
       "      <td>-1.043869</td>\n",
       "    </tr>\n",
       "    <tr>\n",
       "      <th>2000-01-23</th>\n",
       "      <td>-3.234156</td>\n",
       "      <td>-1.004986</td>\n",
       "      <td>8.571058</td>\n",
       "      <td>-0.740095</td>\n",
       "    </tr>\n",
       "    <tr>\n",
       "      <th>2000-01-24</th>\n",
       "      <td>-2.392606</td>\n",
       "      <td>0.433796</td>\n",
       "      <td>10.238412</td>\n",
       "      <td>0.018063</td>\n",
       "    </tr>\n",
       "    <tr>\n",
       "      <th>2000-01-25</th>\n",
       "      <td>-0.742998</td>\n",
       "      <td>0.229494</td>\n",
       "      <td>8.507715</td>\n",
       "      <td>-0.431879</td>\n",
       "    </tr>\n",
       "    <tr>\n",
       "      <th>2000-01-26</th>\n",
       "      <td>-0.817223</td>\n",
       "      <td>0.295173</td>\n",
       "      <td>9.680023</td>\n",
       "      <td>0.043446</td>\n",
       "    </tr>\n",
       "    <tr>\n",
       "      <th>2000-01-27</th>\n",
       "      <td>-1.471038</td>\n",
       "      <td>1.001889</td>\n",
       "      <td>9.368812</td>\n",
       "      <td>0.205597</td>\n",
       "    </tr>\n",
       "    <tr>\n",
       "      <th>2000-01-28</th>\n",
       "      <td>-1.765598</td>\n",
       "      <td>1.823771</td>\n",
       "      <td>8.239939</td>\n",
       "      <td>-1.034356</td>\n",
       "    </tr>\n",
       "    <tr>\n",
       "      <th>2000-01-29</th>\n",
       "      <td>-1.351916</td>\n",
       "      <td>0.916473</td>\n",
       "      <td>8.743985</td>\n",
       "      <td>-0.843500</td>\n",
       "    </tr>\n",
       "    <tr>\n",
       "      <th>2000-01-30</th>\n",
       "      <td>-0.643763</td>\n",
       "      <td>1.341163</td>\n",
       "      <td>9.344406</td>\n",
       "      <td>-2.520639</td>\n",
       "    </tr>\n",
       "    <tr>\n",
       "      <th>...</th>\n",
       "      <td>...</td>\n",
       "      <td>...</td>\n",
       "      <td>...</td>\n",
       "      <td>...</td>\n",
       "    </tr>\n",
       "    <tr>\n",
       "      <th>2002-08-28</th>\n",
       "      <td>-1.559980</td>\n",
       "      <td>-9.986071</td>\n",
       "      <td>50.284741</td>\n",
       "      <td>2.661501</td>\n",
       "    </tr>\n",
       "    <tr>\n",
       "      <th>2002-08-29</th>\n",
       "      <td>-2.012880</td>\n",
       "      <td>-10.184186</td>\n",
       "      <td>49.895925</td>\n",
       "      <td>3.067914</td>\n",
       "    </tr>\n",
       "    <tr>\n",
       "      <th>2002-08-30</th>\n",
       "      <td>-1.730921</td>\n",
       "      <td>-10.022831</td>\n",
       "      <td>49.083797</td>\n",
       "      <td>3.663953</td>\n",
       "    </tr>\n",
       "    <tr>\n",
       "      <th>2002-08-31</th>\n",
       "      <td>-1.084907</td>\n",
       "      <td>-11.679674</td>\n",
       "      <td>51.278669</td>\n",
       "      <td>3.776779</td>\n",
       "    </tr>\n",
       "    <tr>\n",
       "      <th>2002-09-01</th>\n",
       "      <td>-0.883106</td>\n",
       "      <td>-10.791772</td>\n",
       "      <td>50.617545</td>\n",
       "      <td>4.653362</td>\n",
       "    </tr>\n",
       "    <tr>\n",
       "      <th>2002-09-02</th>\n",
       "      <td>-0.260801</td>\n",
       "      <td>-10.383268</td>\n",
       "      <td>50.060577</td>\n",
       "      <td>5.039640</td>\n",
       "    </tr>\n",
       "    <tr>\n",
       "      <th>2002-09-03</th>\n",
       "      <td>0.690549</td>\n",
       "      <td>-10.442651</td>\n",
       "      <td>50.846460</td>\n",
       "      <td>6.190511</td>\n",
       "    </tr>\n",
       "    <tr>\n",
       "      <th>2002-09-04</th>\n",
       "      <td>1.215183</td>\n",
       "      <td>-10.528920</td>\n",
       "      <td>51.149226</td>\n",
       "      <td>6.395800</td>\n",
       "    </tr>\n",
       "    <tr>\n",
       "      <th>2002-09-05</th>\n",
       "      <td>1.160405</td>\n",
       "      <td>-10.521543</td>\n",
       "      <td>52.198961</td>\n",
       "      <td>6.863653</td>\n",
       "    </tr>\n",
       "    <tr>\n",
       "      <th>2002-09-06</th>\n",
       "      <td>0.140624</td>\n",
       "      <td>-10.169119</td>\n",
       "      <td>54.328077</td>\n",
       "      <td>7.523495</td>\n",
       "    </tr>\n",
       "    <tr>\n",
       "      <th>2002-09-07</th>\n",
       "      <td>1.012205</td>\n",
       "      <td>-8.882949</td>\n",
       "      <td>54.248106</td>\n",
       "      <td>7.320919</td>\n",
       "    </tr>\n",
       "    <tr>\n",
       "      <th>2002-09-08</th>\n",
       "      <td>0.869899</td>\n",
       "      <td>-8.864994</td>\n",
       "      <td>54.187942</td>\n",
       "      <td>5.997047</td>\n",
       "    </tr>\n",
       "    <tr>\n",
       "      <th>2002-09-09</th>\n",
       "      <td>1.062997</td>\n",
       "      <td>-11.487046</td>\n",
       "      <td>53.600998</td>\n",
       "      <td>5.517969</td>\n",
       "    </tr>\n",
       "    <tr>\n",
       "      <th>2002-09-10</th>\n",
       "      <td>0.543020</td>\n",
       "      <td>-10.560458</td>\n",
       "      <td>53.919325</td>\n",
       "      <td>6.449089</td>\n",
       "    </tr>\n",
       "    <tr>\n",
       "      <th>2002-09-11</th>\n",
       "      <td>0.736849</td>\n",
       "      <td>-10.358495</td>\n",
       "      <td>53.402509</td>\n",
       "      <td>4.875063</td>\n",
       "    </tr>\n",
       "    <tr>\n",
       "      <th>2002-09-12</th>\n",
       "      <td>2.170102</td>\n",
       "      <td>-9.333815</td>\n",
       "      <td>54.079622</td>\n",
       "      <td>4.124848</td>\n",
       "    </tr>\n",
       "    <tr>\n",
       "      <th>2002-09-13</th>\n",
       "      <td>1.288047</td>\n",
       "      <td>-7.681082</td>\n",
       "      <td>55.624346</td>\n",
       "      <td>3.779293</td>\n",
       "    </tr>\n",
       "    <tr>\n",
       "      <th>2002-09-14</th>\n",
       "      <td>1.516123</td>\n",
       "      <td>-8.507022</td>\n",
       "      <td>55.748237</td>\n",
       "      <td>4.110259</td>\n",
       "    </tr>\n",
       "    <tr>\n",
       "      <th>2002-09-15</th>\n",
       "      <td>0.054312</td>\n",
       "      <td>-7.052045</td>\n",
       "      <td>54.988447</td>\n",
       "      <td>5.372059</td>\n",
       "    </tr>\n",
       "    <tr>\n",
       "      <th>2002-09-16</th>\n",
       "      <td>0.903763</td>\n",
       "      <td>-5.699909</td>\n",
       "      <td>56.002035</td>\n",
       "      <td>5.152122</td>\n",
       "    </tr>\n",
       "    <tr>\n",
       "      <th>2002-09-17</th>\n",
       "      <td>2.872476</td>\n",
       "      <td>-5.094376</td>\n",
       "      <td>55.160358</td>\n",
       "      <td>4.794867</td>\n",
       "    </tr>\n",
       "    <tr>\n",
       "      <th>2002-09-18</th>\n",
       "      <td>4.028206</td>\n",
       "      <td>-6.372066</td>\n",
       "      <td>54.720450</td>\n",
       "      <td>6.028377</td>\n",
       "    </tr>\n",
       "    <tr>\n",
       "      <th>2002-09-19</th>\n",
       "      <td>4.506490</td>\n",
       "      <td>-5.672439</td>\n",
       "      <td>54.571938</td>\n",
       "      <td>5.381863</td>\n",
       "    </tr>\n",
       "    <tr>\n",
       "      <th>2002-09-20</th>\n",
       "      <td>2.503771</td>\n",
       "      <td>-7.512473</td>\n",
       "      <td>55.422680</td>\n",
       "      <td>7.241125</td>\n",
       "    </tr>\n",
       "    <tr>\n",
       "      <th>2002-09-21</th>\n",
       "      <td>3.103107</td>\n",
       "      <td>-6.905192</td>\n",
       "      <td>53.535869</td>\n",
       "      <td>6.217448</td>\n",
       "    </tr>\n",
       "    <tr>\n",
       "      <th>2002-09-22</th>\n",
       "      <td>2.366888</td>\n",
       "      <td>-7.526059</td>\n",
       "      <td>52.626640</td>\n",
       "      <td>5.948588</td>\n",
       "    </tr>\n",
       "    <tr>\n",
       "      <th>2002-09-23</th>\n",
       "      <td>3.237230</td>\n",
       "      <td>-5.003431</td>\n",
       "      <td>52.424902</td>\n",
       "      <td>7.562576</td>\n",
       "    </tr>\n",
       "    <tr>\n",
       "      <th>2002-09-24</th>\n",
       "      <td>4.882261</td>\n",
       "      <td>-5.316802</td>\n",
       "      <td>52.003215</td>\n",
       "      <td>7.719921</td>\n",
       "    </tr>\n",
       "    <tr>\n",
       "      <th>2002-09-25</th>\n",
       "      <td>6.381860</td>\n",
       "      <td>-5.693140</td>\n",
       "      <td>50.726655</td>\n",
       "      <td>8.674428</td>\n",
       "    </tr>\n",
       "    <tr>\n",
       "      <th>2002-09-26</th>\n",
       "      <td>5.954345</td>\n",
       "      <td>-5.512122</td>\n",
       "      <td>50.102570</td>\n",
       "      <td>7.075010</td>\n",
       "    </tr>\n",
       "  </tbody>\n",
       "</table>\n",
       "<p>1000 rows × 4 columns</p>\n",
       "</div>"
      ],
      "text/plain": [
       "                   A          B          C         D\n",
       "2000-01-01  2.010060   1.118314  -0.520876 -0.365773\n",
       "2000-01-02  2.068785  -0.887894  -0.400447 -0.209815\n",
       "2000-01-03  1.302711  -0.826466   0.332370  0.921762\n",
       "2000-01-04  3.004271  -1.979276  -0.906932  0.950753\n",
       "2000-01-05  3.188819  -2.222684  -0.653723  1.407842\n",
       "2000-01-06  0.901021  -1.516257  -0.381610  2.076504\n",
       "2000-01-07  1.061703  -1.576431  -0.542894  2.323528\n",
       "2000-01-08  0.731499  -3.210766   0.161314  3.348393\n",
       "2000-01-09  0.477661  -2.134964  -0.717987  4.951102\n",
       "2000-01-10 -0.446670  -2.518742  -1.036590  3.853486\n",
       "2000-01-11  0.116837  -4.232895   0.697524  2.364268\n",
       "2000-01-12 -0.806480  -4.069654   1.955292  1.660851\n",
       "2000-01-13  0.061355  -3.614789   3.587542  1.350880\n",
       "2000-01-14  0.911533  -4.846539   6.569479  0.503792\n",
       "2000-01-15  0.837396  -4.092574   5.308758 -0.371647\n",
       "2000-01-16  0.845400  -4.370826   6.132092  2.735466\n",
       "2000-01-17  0.307252  -5.017732   8.989071  1.068407\n",
       "2000-01-18 -0.250337  -5.198315   9.925348 -0.727447\n",
       "2000-01-19 -2.303771  -3.073461   8.832346 -1.741603\n",
       "2000-01-20 -3.717978  -2.394640   8.448772 -3.336769\n",
       "2000-01-21 -3.772077  -2.778173   7.779681 -1.746870\n",
       "2000-01-22 -2.587999  -2.110381   8.726909 -1.043869\n",
       "2000-01-23 -3.234156  -1.004986   8.571058 -0.740095\n",
       "2000-01-24 -2.392606   0.433796  10.238412  0.018063\n",
       "2000-01-25 -0.742998   0.229494   8.507715 -0.431879\n",
       "2000-01-26 -0.817223   0.295173   9.680023  0.043446\n",
       "2000-01-27 -1.471038   1.001889   9.368812  0.205597\n",
       "2000-01-28 -1.765598   1.823771   8.239939 -1.034356\n",
       "2000-01-29 -1.351916   0.916473   8.743985 -0.843500\n",
       "2000-01-30 -0.643763   1.341163   9.344406 -2.520639\n",
       "...              ...        ...        ...       ...\n",
       "2002-08-28 -1.559980  -9.986071  50.284741  2.661501\n",
       "2002-08-29 -2.012880 -10.184186  49.895925  3.067914\n",
       "2002-08-30 -1.730921 -10.022831  49.083797  3.663953\n",
       "2002-08-31 -1.084907 -11.679674  51.278669  3.776779\n",
       "2002-09-01 -0.883106 -10.791772  50.617545  4.653362\n",
       "2002-09-02 -0.260801 -10.383268  50.060577  5.039640\n",
       "2002-09-03  0.690549 -10.442651  50.846460  6.190511\n",
       "2002-09-04  1.215183 -10.528920  51.149226  6.395800\n",
       "2002-09-05  1.160405 -10.521543  52.198961  6.863653\n",
       "2002-09-06  0.140624 -10.169119  54.328077  7.523495\n",
       "2002-09-07  1.012205  -8.882949  54.248106  7.320919\n",
       "2002-09-08  0.869899  -8.864994  54.187942  5.997047\n",
       "2002-09-09  1.062997 -11.487046  53.600998  5.517969\n",
       "2002-09-10  0.543020 -10.560458  53.919325  6.449089\n",
       "2002-09-11  0.736849 -10.358495  53.402509  4.875063\n",
       "2002-09-12  2.170102  -9.333815  54.079622  4.124848\n",
       "2002-09-13  1.288047  -7.681082  55.624346  3.779293\n",
       "2002-09-14  1.516123  -8.507022  55.748237  4.110259\n",
       "2002-09-15  0.054312  -7.052045  54.988447  5.372059\n",
       "2002-09-16  0.903763  -5.699909  56.002035  5.152122\n",
       "2002-09-17  2.872476  -5.094376  55.160358  4.794867\n",
       "2002-09-18  4.028206  -6.372066  54.720450  6.028377\n",
       "2002-09-19  4.506490  -5.672439  54.571938  5.381863\n",
       "2002-09-20  2.503771  -7.512473  55.422680  7.241125\n",
       "2002-09-21  3.103107  -6.905192  53.535869  6.217448\n",
       "2002-09-22  2.366888  -7.526059  52.626640  5.948588\n",
       "2002-09-23  3.237230  -5.003431  52.424902  7.562576\n",
       "2002-09-24  4.882261  -5.316802  52.003215  7.719921\n",
       "2002-09-25  6.381860  -5.693140  50.726655  8.674428\n",
       "2002-09-26  5.954345  -5.512122  50.102570  7.075010\n",
       "\n",
       "[1000 rows x 4 columns]"
      ]
     },
     "execution_count": 205,
     "metadata": {},
     "output_type": "execute_result"
    }
   ],
   "source": [
    "pd.read_hdf('foo.h5','df')"
   ]
  },
  {
   "cell_type": "code",
   "execution_count": 206,
   "metadata": {
    "collapsed": true
   },
   "outputs": [],
   "source": [
    "df.to_excel('foo.xlsx', sheet_name='Sheet1')"
   ]
  },
  {
   "cell_type": "code",
   "execution_count": 207,
   "metadata": {
    "collapsed": false
   },
   "outputs": [
    {
     "data": {
      "text/html": [
       "<div>\n",
       "<table border=\"1\" class=\"dataframe\">\n",
       "  <thead>\n",
       "    <tr style=\"text-align: right;\">\n",
       "      <th></th>\n",
       "      <th>A</th>\n",
       "      <th>B</th>\n",
       "      <th>C</th>\n",
       "      <th>D</th>\n",
       "    </tr>\n",
       "  </thead>\n",
       "  <tbody>\n",
       "    <tr>\n",
       "      <th>2000-01-01</th>\n",
       "      <td>2.010060</td>\n",
       "      <td>1.118314</td>\n",
       "      <td>-0.520876</td>\n",
       "      <td>-0.365773</td>\n",
       "    </tr>\n",
       "    <tr>\n",
       "      <th>2000-01-02</th>\n",
       "      <td>2.068785</td>\n",
       "      <td>-0.887894</td>\n",
       "      <td>-0.400447</td>\n",
       "      <td>-0.209815</td>\n",
       "    </tr>\n",
       "    <tr>\n",
       "      <th>2000-01-03</th>\n",
       "      <td>1.302711</td>\n",
       "      <td>-0.826466</td>\n",
       "      <td>0.332370</td>\n",
       "      <td>0.921762</td>\n",
       "    </tr>\n",
       "    <tr>\n",
       "      <th>2000-01-04</th>\n",
       "      <td>3.004271</td>\n",
       "      <td>-1.979276</td>\n",
       "      <td>-0.906932</td>\n",
       "      <td>0.950753</td>\n",
       "    </tr>\n",
       "    <tr>\n",
       "      <th>2000-01-05</th>\n",
       "      <td>3.188819</td>\n",
       "      <td>-2.222684</td>\n",
       "      <td>-0.653723</td>\n",
       "      <td>1.407842</td>\n",
       "    </tr>\n",
       "    <tr>\n",
       "      <th>2000-01-06</th>\n",
       "      <td>0.901021</td>\n",
       "      <td>-1.516257</td>\n",
       "      <td>-0.381610</td>\n",
       "      <td>2.076504</td>\n",
       "    </tr>\n",
       "    <tr>\n",
       "      <th>2000-01-07</th>\n",
       "      <td>1.061703</td>\n",
       "      <td>-1.576431</td>\n",
       "      <td>-0.542894</td>\n",
       "      <td>2.323528</td>\n",
       "    </tr>\n",
       "    <tr>\n",
       "      <th>2000-01-08</th>\n",
       "      <td>0.731499</td>\n",
       "      <td>-3.210766</td>\n",
       "      <td>0.161314</td>\n",
       "      <td>3.348393</td>\n",
       "    </tr>\n",
       "    <tr>\n",
       "      <th>2000-01-09</th>\n",
       "      <td>0.477661</td>\n",
       "      <td>-2.134964</td>\n",
       "      <td>-0.717987</td>\n",
       "      <td>4.951102</td>\n",
       "    </tr>\n",
       "    <tr>\n",
       "      <th>2000-01-10</th>\n",
       "      <td>-0.446670</td>\n",
       "      <td>-2.518742</td>\n",
       "      <td>-1.036590</td>\n",
       "      <td>3.853486</td>\n",
       "    </tr>\n",
       "    <tr>\n",
       "      <th>2000-01-11</th>\n",
       "      <td>0.116837</td>\n",
       "      <td>-4.232895</td>\n",
       "      <td>0.697524</td>\n",
       "      <td>2.364268</td>\n",
       "    </tr>\n",
       "    <tr>\n",
       "      <th>2000-01-12</th>\n",
       "      <td>-0.806480</td>\n",
       "      <td>-4.069654</td>\n",
       "      <td>1.955292</td>\n",
       "      <td>1.660851</td>\n",
       "    </tr>\n",
       "    <tr>\n",
       "      <th>2000-01-13</th>\n",
       "      <td>0.061355</td>\n",
       "      <td>-3.614789</td>\n",
       "      <td>3.587542</td>\n",
       "      <td>1.350880</td>\n",
       "    </tr>\n",
       "    <tr>\n",
       "      <th>2000-01-14</th>\n",
       "      <td>0.911533</td>\n",
       "      <td>-4.846539</td>\n",
       "      <td>6.569479</td>\n",
       "      <td>0.503792</td>\n",
       "    </tr>\n",
       "    <tr>\n",
       "      <th>2000-01-15</th>\n",
       "      <td>0.837396</td>\n",
       "      <td>-4.092574</td>\n",
       "      <td>5.308758</td>\n",
       "      <td>-0.371647</td>\n",
       "    </tr>\n",
       "    <tr>\n",
       "      <th>2000-01-16</th>\n",
       "      <td>0.845400</td>\n",
       "      <td>-4.370826</td>\n",
       "      <td>6.132092</td>\n",
       "      <td>2.735466</td>\n",
       "    </tr>\n",
       "    <tr>\n",
       "      <th>2000-01-17</th>\n",
       "      <td>0.307252</td>\n",
       "      <td>-5.017732</td>\n",
       "      <td>8.989071</td>\n",
       "      <td>1.068407</td>\n",
       "    </tr>\n",
       "    <tr>\n",
       "      <th>2000-01-18</th>\n",
       "      <td>-0.250337</td>\n",
       "      <td>-5.198315</td>\n",
       "      <td>9.925348</td>\n",
       "      <td>-0.727447</td>\n",
       "    </tr>\n",
       "    <tr>\n",
       "      <th>2000-01-19</th>\n",
       "      <td>-2.303771</td>\n",
       "      <td>-3.073461</td>\n",
       "      <td>8.832346</td>\n",
       "      <td>-1.741603</td>\n",
       "    </tr>\n",
       "    <tr>\n",
       "      <th>2000-01-20</th>\n",
       "      <td>-3.717978</td>\n",
       "      <td>-2.394640</td>\n",
       "      <td>8.448772</td>\n",
       "      <td>-3.336769</td>\n",
       "    </tr>\n",
       "    <tr>\n",
       "      <th>2000-01-21</th>\n",
       "      <td>-3.772077</td>\n",
       "      <td>-2.778173</td>\n",
       "      <td>7.779681</td>\n",
       "      <td>-1.746870</td>\n",
       "    </tr>\n",
       "    <tr>\n",
       "      <th>2000-01-22</th>\n",
       "      <td>-2.587999</td>\n",
       "      <td>-2.110381</td>\n",
       "      <td>8.726909</td>\n",
       "      <td>-1.043869</td>\n",
       "    </tr>\n",
       "    <tr>\n",
       "      <th>2000-01-23</th>\n",
       "      <td>-3.234156</td>\n",
       "      <td>-1.004986</td>\n",
       "      <td>8.571058</td>\n",
       "      <td>-0.740095</td>\n",
       "    </tr>\n",
       "    <tr>\n",
       "      <th>2000-01-24</th>\n",
       "      <td>-2.392606</td>\n",
       "      <td>0.433796</td>\n",
       "      <td>10.238412</td>\n",
       "      <td>0.018063</td>\n",
       "    </tr>\n",
       "    <tr>\n",
       "      <th>2000-01-25</th>\n",
       "      <td>-0.742998</td>\n",
       "      <td>0.229494</td>\n",
       "      <td>8.507715</td>\n",
       "      <td>-0.431879</td>\n",
       "    </tr>\n",
       "    <tr>\n",
       "      <th>2000-01-26</th>\n",
       "      <td>-0.817223</td>\n",
       "      <td>0.295173</td>\n",
       "      <td>9.680023</td>\n",
       "      <td>0.043446</td>\n",
       "    </tr>\n",
       "    <tr>\n",
       "      <th>2000-01-27</th>\n",
       "      <td>-1.471038</td>\n",
       "      <td>1.001889</td>\n",
       "      <td>9.368812</td>\n",
       "      <td>0.205597</td>\n",
       "    </tr>\n",
       "    <tr>\n",
       "      <th>2000-01-28</th>\n",
       "      <td>-1.765598</td>\n",
       "      <td>1.823771</td>\n",
       "      <td>8.239939</td>\n",
       "      <td>-1.034356</td>\n",
       "    </tr>\n",
       "    <tr>\n",
       "      <th>2000-01-29</th>\n",
       "      <td>-1.351916</td>\n",
       "      <td>0.916473</td>\n",
       "      <td>8.743985</td>\n",
       "      <td>-0.843500</td>\n",
       "    </tr>\n",
       "    <tr>\n",
       "      <th>2000-01-30</th>\n",
       "      <td>-0.643763</td>\n",
       "      <td>1.341163</td>\n",
       "      <td>9.344406</td>\n",
       "      <td>-2.520639</td>\n",
       "    </tr>\n",
       "    <tr>\n",
       "      <th>...</th>\n",
       "      <td>...</td>\n",
       "      <td>...</td>\n",
       "      <td>...</td>\n",
       "      <td>...</td>\n",
       "    </tr>\n",
       "    <tr>\n",
       "      <th>2002-08-28</th>\n",
       "      <td>-1.559980</td>\n",
       "      <td>-9.986071</td>\n",
       "      <td>50.284741</td>\n",
       "      <td>2.661501</td>\n",
       "    </tr>\n",
       "    <tr>\n",
       "      <th>2002-08-29</th>\n",
       "      <td>-2.012880</td>\n",
       "      <td>-10.184186</td>\n",
       "      <td>49.895925</td>\n",
       "      <td>3.067914</td>\n",
       "    </tr>\n",
       "    <tr>\n",
       "      <th>2002-08-30</th>\n",
       "      <td>-1.730921</td>\n",
       "      <td>-10.022831</td>\n",
       "      <td>49.083797</td>\n",
       "      <td>3.663953</td>\n",
       "    </tr>\n",
       "    <tr>\n",
       "      <th>2002-08-31</th>\n",
       "      <td>-1.084907</td>\n",
       "      <td>-11.679674</td>\n",
       "      <td>51.278669</td>\n",
       "      <td>3.776779</td>\n",
       "    </tr>\n",
       "    <tr>\n",
       "      <th>2002-09-01</th>\n",
       "      <td>-0.883106</td>\n",
       "      <td>-10.791772</td>\n",
       "      <td>50.617545</td>\n",
       "      <td>4.653362</td>\n",
       "    </tr>\n",
       "    <tr>\n",
       "      <th>2002-09-02</th>\n",
       "      <td>-0.260801</td>\n",
       "      <td>-10.383268</td>\n",
       "      <td>50.060577</td>\n",
       "      <td>5.039640</td>\n",
       "    </tr>\n",
       "    <tr>\n",
       "      <th>2002-09-03</th>\n",
       "      <td>0.690549</td>\n",
       "      <td>-10.442651</td>\n",
       "      <td>50.846460</td>\n",
       "      <td>6.190511</td>\n",
       "    </tr>\n",
       "    <tr>\n",
       "      <th>2002-09-04</th>\n",
       "      <td>1.215183</td>\n",
       "      <td>-10.528920</td>\n",
       "      <td>51.149226</td>\n",
       "      <td>6.395800</td>\n",
       "    </tr>\n",
       "    <tr>\n",
       "      <th>2002-09-05</th>\n",
       "      <td>1.160405</td>\n",
       "      <td>-10.521543</td>\n",
       "      <td>52.198961</td>\n",
       "      <td>6.863653</td>\n",
       "    </tr>\n",
       "    <tr>\n",
       "      <th>2002-09-06</th>\n",
       "      <td>0.140624</td>\n",
       "      <td>-10.169119</td>\n",
       "      <td>54.328077</td>\n",
       "      <td>7.523495</td>\n",
       "    </tr>\n",
       "    <tr>\n",
       "      <th>2002-09-07</th>\n",
       "      <td>1.012205</td>\n",
       "      <td>-8.882949</td>\n",
       "      <td>54.248106</td>\n",
       "      <td>7.320919</td>\n",
       "    </tr>\n",
       "    <tr>\n",
       "      <th>2002-09-08</th>\n",
       "      <td>0.869899</td>\n",
       "      <td>-8.864994</td>\n",
       "      <td>54.187942</td>\n",
       "      <td>5.997047</td>\n",
       "    </tr>\n",
       "    <tr>\n",
       "      <th>2002-09-09</th>\n",
       "      <td>1.062997</td>\n",
       "      <td>-11.487046</td>\n",
       "      <td>53.600998</td>\n",
       "      <td>5.517969</td>\n",
       "    </tr>\n",
       "    <tr>\n",
       "      <th>2002-09-10</th>\n",
       "      <td>0.543020</td>\n",
       "      <td>-10.560458</td>\n",
       "      <td>53.919325</td>\n",
       "      <td>6.449089</td>\n",
       "    </tr>\n",
       "    <tr>\n",
       "      <th>2002-09-11</th>\n",
       "      <td>0.736849</td>\n",
       "      <td>-10.358495</td>\n",
       "      <td>53.402509</td>\n",
       "      <td>4.875063</td>\n",
       "    </tr>\n",
       "    <tr>\n",
       "      <th>2002-09-12</th>\n",
       "      <td>2.170102</td>\n",
       "      <td>-9.333815</td>\n",
       "      <td>54.079622</td>\n",
       "      <td>4.124848</td>\n",
       "    </tr>\n",
       "    <tr>\n",
       "      <th>2002-09-13</th>\n",
       "      <td>1.288047</td>\n",
       "      <td>-7.681082</td>\n",
       "      <td>55.624346</td>\n",
       "      <td>3.779293</td>\n",
       "    </tr>\n",
       "    <tr>\n",
       "      <th>2002-09-14</th>\n",
       "      <td>1.516123</td>\n",
       "      <td>-8.507022</td>\n",
       "      <td>55.748237</td>\n",
       "      <td>4.110259</td>\n",
       "    </tr>\n",
       "    <tr>\n",
       "      <th>2002-09-15</th>\n",
       "      <td>0.054312</td>\n",
       "      <td>-7.052045</td>\n",
       "      <td>54.988447</td>\n",
       "      <td>5.372059</td>\n",
       "    </tr>\n",
       "    <tr>\n",
       "      <th>2002-09-16</th>\n",
       "      <td>0.903763</td>\n",
       "      <td>-5.699909</td>\n",
       "      <td>56.002035</td>\n",
       "      <td>5.152122</td>\n",
       "    </tr>\n",
       "    <tr>\n",
       "      <th>2002-09-17</th>\n",
       "      <td>2.872476</td>\n",
       "      <td>-5.094376</td>\n",
       "      <td>55.160358</td>\n",
       "      <td>4.794867</td>\n",
       "    </tr>\n",
       "    <tr>\n",
       "      <th>2002-09-18</th>\n",
       "      <td>4.028206</td>\n",
       "      <td>-6.372066</td>\n",
       "      <td>54.720450</td>\n",
       "      <td>6.028377</td>\n",
       "    </tr>\n",
       "    <tr>\n",
       "      <th>2002-09-19</th>\n",
       "      <td>4.506490</td>\n",
       "      <td>-5.672439</td>\n",
       "      <td>54.571938</td>\n",
       "      <td>5.381863</td>\n",
       "    </tr>\n",
       "    <tr>\n",
       "      <th>2002-09-20</th>\n",
       "      <td>2.503771</td>\n",
       "      <td>-7.512473</td>\n",
       "      <td>55.422680</td>\n",
       "      <td>7.241125</td>\n",
       "    </tr>\n",
       "    <tr>\n",
       "      <th>2002-09-21</th>\n",
       "      <td>3.103107</td>\n",
       "      <td>-6.905192</td>\n",
       "      <td>53.535869</td>\n",
       "      <td>6.217448</td>\n",
       "    </tr>\n",
       "    <tr>\n",
       "      <th>2002-09-22</th>\n",
       "      <td>2.366888</td>\n",
       "      <td>-7.526059</td>\n",
       "      <td>52.626640</td>\n",
       "      <td>5.948588</td>\n",
       "    </tr>\n",
       "    <tr>\n",
       "      <th>2002-09-23</th>\n",
       "      <td>3.237230</td>\n",
       "      <td>-5.003431</td>\n",
       "      <td>52.424902</td>\n",
       "      <td>7.562576</td>\n",
       "    </tr>\n",
       "    <tr>\n",
       "      <th>2002-09-24</th>\n",
       "      <td>4.882261</td>\n",
       "      <td>-5.316802</td>\n",
       "      <td>52.003215</td>\n",
       "      <td>7.719921</td>\n",
       "    </tr>\n",
       "    <tr>\n",
       "      <th>2002-09-25</th>\n",
       "      <td>6.381860</td>\n",
       "      <td>-5.693140</td>\n",
       "      <td>50.726655</td>\n",
       "      <td>8.674428</td>\n",
       "    </tr>\n",
       "    <tr>\n",
       "      <th>2002-09-26</th>\n",
       "      <td>5.954345</td>\n",
       "      <td>-5.512122</td>\n",
       "      <td>50.102570</td>\n",
       "      <td>7.075010</td>\n",
       "    </tr>\n",
       "  </tbody>\n",
       "</table>\n",
       "<p>1000 rows × 4 columns</p>\n",
       "</div>"
      ],
      "text/plain": [
       "                   A          B          C         D\n",
       "2000-01-01  2.010060   1.118314  -0.520876 -0.365773\n",
       "2000-01-02  2.068785  -0.887894  -0.400447 -0.209815\n",
       "2000-01-03  1.302711  -0.826466   0.332370  0.921762\n",
       "2000-01-04  3.004271  -1.979276  -0.906932  0.950753\n",
       "2000-01-05  3.188819  -2.222684  -0.653723  1.407842\n",
       "2000-01-06  0.901021  -1.516257  -0.381610  2.076504\n",
       "2000-01-07  1.061703  -1.576431  -0.542894  2.323528\n",
       "2000-01-08  0.731499  -3.210766   0.161314  3.348393\n",
       "2000-01-09  0.477661  -2.134964  -0.717987  4.951102\n",
       "2000-01-10 -0.446670  -2.518742  -1.036590  3.853486\n",
       "2000-01-11  0.116837  -4.232895   0.697524  2.364268\n",
       "2000-01-12 -0.806480  -4.069654   1.955292  1.660851\n",
       "2000-01-13  0.061355  -3.614789   3.587542  1.350880\n",
       "2000-01-14  0.911533  -4.846539   6.569479  0.503792\n",
       "2000-01-15  0.837396  -4.092574   5.308758 -0.371647\n",
       "2000-01-16  0.845400  -4.370826   6.132092  2.735466\n",
       "2000-01-17  0.307252  -5.017732   8.989071  1.068407\n",
       "2000-01-18 -0.250337  -5.198315   9.925348 -0.727447\n",
       "2000-01-19 -2.303771  -3.073461   8.832346 -1.741603\n",
       "2000-01-20 -3.717978  -2.394640   8.448772 -3.336769\n",
       "2000-01-21 -3.772077  -2.778173   7.779681 -1.746870\n",
       "2000-01-22 -2.587999  -2.110381   8.726909 -1.043869\n",
       "2000-01-23 -3.234156  -1.004986   8.571058 -0.740095\n",
       "2000-01-24 -2.392606   0.433796  10.238412  0.018063\n",
       "2000-01-25 -0.742998   0.229494   8.507715 -0.431879\n",
       "2000-01-26 -0.817223   0.295173   9.680023  0.043446\n",
       "2000-01-27 -1.471038   1.001889   9.368812  0.205597\n",
       "2000-01-28 -1.765598   1.823771   8.239939 -1.034356\n",
       "2000-01-29 -1.351916   0.916473   8.743985 -0.843500\n",
       "2000-01-30 -0.643763   1.341163   9.344406 -2.520639\n",
       "...              ...        ...        ...       ...\n",
       "2002-08-28 -1.559980  -9.986071  50.284741  2.661501\n",
       "2002-08-29 -2.012880 -10.184186  49.895925  3.067914\n",
       "2002-08-30 -1.730921 -10.022831  49.083797  3.663953\n",
       "2002-08-31 -1.084907 -11.679674  51.278669  3.776779\n",
       "2002-09-01 -0.883106 -10.791772  50.617545  4.653362\n",
       "2002-09-02 -0.260801 -10.383268  50.060577  5.039640\n",
       "2002-09-03  0.690549 -10.442651  50.846460  6.190511\n",
       "2002-09-04  1.215183 -10.528920  51.149226  6.395800\n",
       "2002-09-05  1.160405 -10.521543  52.198961  6.863653\n",
       "2002-09-06  0.140624 -10.169119  54.328077  7.523495\n",
       "2002-09-07  1.012205  -8.882949  54.248106  7.320919\n",
       "2002-09-08  0.869899  -8.864994  54.187942  5.997047\n",
       "2002-09-09  1.062997 -11.487046  53.600998  5.517969\n",
       "2002-09-10  0.543020 -10.560458  53.919325  6.449089\n",
       "2002-09-11  0.736849 -10.358495  53.402509  4.875063\n",
       "2002-09-12  2.170102  -9.333815  54.079622  4.124848\n",
       "2002-09-13  1.288047  -7.681082  55.624346  3.779293\n",
       "2002-09-14  1.516123  -8.507022  55.748237  4.110259\n",
       "2002-09-15  0.054312  -7.052045  54.988447  5.372059\n",
       "2002-09-16  0.903763  -5.699909  56.002035  5.152122\n",
       "2002-09-17  2.872476  -5.094376  55.160358  4.794867\n",
       "2002-09-18  4.028206  -6.372066  54.720450  6.028377\n",
       "2002-09-19  4.506490  -5.672439  54.571938  5.381863\n",
       "2002-09-20  2.503771  -7.512473  55.422680  7.241125\n",
       "2002-09-21  3.103107  -6.905192  53.535869  6.217448\n",
       "2002-09-22  2.366888  -7.526059  52.626640  5.948588\n",
       "2002-09-23  3.237230  -5.003431  52.424902  7.562576\n",
       "2002-09-24  4.882261  -5.316802  52.003215  7.719921\n",
       "2002-09-25  6.381860  -5.693140  50.726655  8.674428\n",
       "2002-09-26  5.954345  -5.512122  50.102570  7.075010\n",
       "\n",
       "[1000 rows x 4 columns]"
      ]
     },
     "execution_count": 207,
     "metadata": {},
     "output_type": "execute_result"
    }
   ],
   "source": [
    "pd.read_excel('foo.xlsx', 'Sheet1', index_col=None, na_values=['NA'])"
   ]
  }
 ],
 "metadata": {
  "kernelspec": {
   "display_name": "Python 2",
   "language": "python",
   "name": "python2"
  },
  "language_info": {
   "codemirror_mode": {
    "name": "ipython",
    "version": 2
   },
   "file_extension": ".py",
   "mimetype": "text/x-python",
   "name": "python",
   "nbconvert_exporter": "python",
   "pygments_lexer": "ipython2",
   "version": "2.7.6"
  }
 },
 "nbformat": 4,
 "nbformat_minor": 0
}
