{
 "cells": [
  {
   "cell_type": "code",
   "execution_count": 1,
   "metadata": {
    "collapsed": false
   },
   "outputs": [
    {
     "name": "stdout",
     "output_type": "stream",
     "text": [
      "ExportData27022016120308.csv  PortfolioAnalysis.ipynb\r\n",
      "ExportData27022016120333.csv\r\n"
     ]
    }
   ],
   "source": [
    "ls"
   ]
  },
  {
   "cell_type": "code",
   "execution_count": 2,
   "metadata": {
    "collapsed": true
   },
   "outputs": [],
   "source": [
    "import pandas as pd\n"
   ]
  },
  {
   "cell_type": "code",
   "execution_count": 3,
   "metadata": {
    "collapsed": true
   },
   "outputs": [
    {
     "name": "stdout",
     "output_type": "stream",
     "text": [
      "Exported on: 02/27/2016 12:03 PM ET\n",
      "\n",
      "Selected account(s):CMA-Edge 54X-48Y73; CMA-Edge 57X-49W92; IRA-Edge 22X-48Y77; IRA-Edge 27Z-48Y73\n",
      "\n",
      "\"All Accounts\" ,\"Value\" ,\"Day's Value Change\" ,\"Unrealized Gain/Loss\" \n",
      "\"\" ,\"$457,070.40\" ,\"$0.00 0.00%\" ,\"-$4,955.94 -1.21%\" \n",
      ",\n",
      "\"Money Accounts\" ,\"Value\" ,\"Day's Value Change\" ,\"Unrealized Gain/Loss\" \n",
      "\"\" ,\"$51,961.97\" ,\"$0.00 0.00%\" ,\"$0.00 0.00%\" \n",
      ",\n",
      "\"Symbol \" ,\"Description\" ,\"Quantity\" ,\"Price\" ,\"Value\" ,\"Day's Price $ Chg % Chg\" ,\"Day's Value Change $\" ,\"Unrealized Gain/Loss $ Chg % Chg\" \n",
      ",\n",
      "\"990156937\" ,\"ML DIRECT DEPOSIT PROGRM\" ,\"50,956\" ,\"$1.00\" ,\"$50,956.00\" ,\"$0.00 0.00%\" ,\"$0.00\" ,\"-- --\" \n",
      "\"MMUSA\" ,\"BANA RASP II\" ,\"1,005.9700\" ,\"$1.00\" ,\"$1,005.97\" ,\"$0.00 0.00%\" ,\"$0.00\" ,\"$0.00 0.00%\" \n",
      "\"Total\" ,\"\" ,\"\" ,\"\" ,\"$51,961.97\" ,\" \" ,\"$0.00\" ,\"$0.00 0.00%\" \n",
      ",\n",
      "\"Balances\" ,\"\" ,\"Cash balance\" ,\"$0.24\" ,\"Pending activity\" ,\"$0.00\" ,\"Margin balance\" ,\"$0.25\" \n",
      ",\n",
      "\"Stocks & Related\" ,\"Value\" ,\"Day's Value Change\" ,\"Unrealized Gain/Loss\" \n",
      "\"\" ,\"$107,564.83\" ,\"$0.00 0.00%\" ,\"-$3,443.94 -3.10%\" \n",
      ",\n",
      "\"Symbol \" ,\"Description\" ,\"Quantity\" ,\"Price\" ,\"Value\" ,\"Day's Price $ Chg % Chg\" ,\"Day's Value Change $\" ,\"Unrealized Gain/Loss $ Chg % Chg\" ,\"BofAML Rating\" \n",
      ",\n",
      "\"PJT\" ,\"PJT PARTNERS INC SHS\" ,\"1\" ,\"$27.38\" ,\"$27.38\" ,\"$0.00 0.00%\" ,\"$0.00\" ,\"+$23.58 +620.53%\" ,\"--\" \n",
      "\"RMR\" ,\"RMR (THE) GROUP INC SHS\" ,\"2\" ,\"$23.09\" ,\"$46.18\" ,\"$0.00 0.00%\" ,\"$0.00\" ,\"+$22.40 +94.20%\" ,\"--\" \n",
      "\"O\" ,\"REALTY INCM CRP MD PV$1.\" ,\"210\" ,\"$58.63\" ,\"$12,312.30\" ,\"$0.00 0.00%\" ,\"$0.00\" ,\"+$2,494.88 +25.41%\" ,\"Buy (B-1-7)\" \n",
      "\"CTL\" ,\"CENTURYLINK INC SHS\" ,\"30\" ,\"$30.17\" ,\"$905.10\" ,\"$0.00 0.00%\" ,\"$0.00\" ,\"+$181.10 +25.01%\" ,\"Buy (B-1-7)\" \n",
      "\"FTR\" ,\"FRONTIER COMMUNICATIONS\" ,\"150\" ,\"$5.43\" ,\"$814.50\" ,\"$0.00 0.00%\" ,\"$0.00\" ,\"+$161.62 +24.76%\" ,\"Buy (B-1-7)\" \n",
      "\"WIN\" ,\"WINDSTREAM HOLDINGS INC\" ,\"150\" ,\"$7.25\" ,\"$1,087.50\" ,\"$0.00 0.00%\" ,\"$0.00\" ,\"+$209.50 +23.86%\" ,\"Buy (C-1-7)\" \n",
      "\"QCOM\" ,\"QUALCOMM INC\" ,\"10\" ,\"$51.62\" ,\"$516.20\" ,\"$0.00 0.00%\" ,\"$0.00\" ,\"+$86.20 +20.05%\" ,\"Buy (C-1-7)\" \n",
      "\"GE\" ,\"GENERAL ELECTRIC\" ,\"1,010.0145\" ,\"$29.40\" ,\"$29,694.42\" ,\"$0.00 0.00%\" ,\"$0.00\" ,\"+$4,375.27 +17.28%\" ,\"Buy (B-1-7)\" \n",
      "\"XOM\" ,\"EXXON MOBIL CORP     COM\" ,\"50\" ,\"$81.75\" ,\"$4,087.50\" ,\"$0.00 0.00%\" ,\"$0.00\" ,\"+$311.00 +8.24%\" ,\"Buy (A-1-7)\" \n",
      "\"CCI\" ,\"CROWN CASTLE REIT INC\" ,\"10\" ,\"$85.79\" ,\"$857.90\" ,\"$0.00 0.00%\" ,\"$0.00\" ,\"+$52.90 +6.57%\" ,\"Buy (B-1-7)\" \n",
      "\"POT\" ,\"POTASH CORP SASKATCHEWAN\" ,\"20\" ,\"$17.10\" ,\"$342.00\" ,\"$0.00 0.00%\" ,\"$0.00\" ,\"+$20.00 +6.21%\" ,\"Underperform (C-3-8)\" \n",
      "\"PFE\" ,\"PFIZER INC\" ,\"10\" ,\"$30.23\" ,\"$302.30\" ,\"$0.00 0.00%\" ,\"$0.00\" ,\"+$17.50 +6.15%\" ,\"Buy (A-1-7)\" \n",
      "\"SE\" ,\"SPECTRA ENERGY CORP\" ,\"60\" ,\"$29.22\" ,\"$1,753.20\" ,\"$0.00 0.00%\" ,\"$0.00\" ,\"+$90.90 +5.47%\" ,\"Neutral (B-2-7)\" \n",
      "\"VTR\" ,\"VENTAS INC\" ,\"80\" ,\"$55.39\" ,\"$4,431.20\" ,\"$0.00 0.00%\" ,\"$0.00\" ,\"+$75.14 +1.73%\" ,\"Buy (B-1-7)\" \n",
      "\"WY\" ,\"WEYERHAEUSER CO\" ,\"20\" ,\"$25.59\" ,\"$511.80\" ,\"$0.00 0.00%\" ,\"$0.00\" ,\"-$2.60 -0.51%\" ,\"Buy (C-1-7)\" \n",
      "\"BOND\" ,\"PIMCO TOTAL RETURN\" ,\"30\" ,\"$104.25\" ,\"$3,127.50\" ,\"$0.00 0.00%\" ,\"$0.00\" ,\"-$22.50 -0.71%\" ,\"--\" \n",
      "\"BRKB\" ,\"BERKSHIRE HATHAWAYINC\" ,\"7\" ,\"$131.92\" ,\"$923.44\" ,\"$0.00 0.00%\" ,\"$0.00\" ,\"-$26.56 -2.80%\" ,\"--\" \n",
      "\"PFF\" ,\"ISHARES U.S. PREFERRED\" ,\"307.8440\" ,\"$38.21\" ,\"$11,762.71\" ,\"$0.00 0.00%\" ,\"$0.00\" ,\"-$486.71 -3.97%\" ,\"--\" \n",
      "\"CVX\" ,\"CHEVRON CORP\" ,\"130\" ,\"$84.35\" ,\"$10,965.50\" ,\"$0.00 0.00%\" ,\"$0.00\" ,\"-$1,261.50 -10.32%\" ,\"Neutral (B-2-8)\" \n",
      "\"SPFF\" ,\"GLOBAL X SUPERINCOME\" ,\"728.6661\" ,\"$12.86\" ,\"$9,370.64\" ,\"$0.00 0.00%\" ,\"$0.00\" ,\"-$1,255.16 -11.81%\" ,\"--\" \n",
      "\"SNH\" ,\"SENIOR HSG PPTYS TRSBI\" ,\"220\" ,\"$15.32\" ,\"$3,370.40\" ,\"$0.00 0.00%\" ,\"$0.00\" ,\"-$723.91 -17.68%\" ,\"Underperform (B-3-7)\" \n",
      "\"CCP\" ,\"CARE CAPITAL PROPERTIES\" ,\"3\" ,\"$26.40\" ,\"$79.20\" ,\"$0.00 0.00%\" ,\"$0.00\" ,\"-$18.91 -19.27%\" ,\"--\" \n",
      "\"HCP\" ,\"HCP INC\" ,\"20\" ,\"$29.90\" ,\"$598.00\" ,\"$0.00 0.00%\" ,\"$0.00\" ,\"-$151.46 -20.21%\" ,\"Underperform (B-3-7)\" \n",
      "\"COP\" ,\"CONOCOPHILLIPS\" ,\"60\" ,\"$34.12\" ,\"$2,047.20\" ,\"$0.00 0.00%\" ,\"$0.00\" ,\"-$746.30 -26.72%\" ,\"Buy (B-1-8)\" \n",
      "\"KMI\" ,\"KINDER MORGAN INC. DEL\" ,\"225\" ,\"$17.76\" ,\"$3,996.00\" ,\"$0.00 0.00%\" ,\"$0.00\" ,\"-$1,703.15 -29.88%\" ,\"Neutral (C-2-8)\" \n",
      "\"CORR\" ,\"CORENERGY INFRASTRUCTURE\" ,\"101\" ,\"$12.76\" ,\"$1,288.76\" ,\"$0.00 0.00%\" ,\"$0.00\" ,\"-$1,638.56 -55.98%\" ,\"Neutral (C-2-8)\" \n",
      "\"WMB\" ,\"WILLIAMS COMPANIES DEL\" ,\"150\" ,\"$15.64\" ,\"$2,346.00\" ,\"$0.00 0.00%\" ,\"$0.00\" ,\"-$3,528.61 -60.07%\" ,\"--\" \n",
      "\"Total\" ,\"\" ,\"\" ,\"\" ,\"$107,564.83\" ,\" \" ,\"$0.00\" ,\"-$3,443.94 -3.10%\" ,\"\" \n",
      ",\n",
      "\"Mutual Funds\" ,\"Value\" ,\"Day's Value Change\" ,\"Unrealized Gain/Loss\" \n",
      "\"\" ,\"$2,402.60\" ,\"$0.00 0.00%\" ,\"-$141.70 -5.57%\" \n",
      ",\n",
      "\"Symbol \" ,\"Description\" ,\"Quantity\" ,\"Price\" ,\"Day's Price $ Chg % Chg\" ,\"Value\" ,\"Day's Value Change $\" ,\"Unrealized Gain/Loss $ Chg % Chg\" ,\"Cumulative Investment Return $ Chg % Chg\" \n",
      ",\n",
      "\"PTY\" ,\"PIMCO CORPORATE & INCOME\" ,\"40\" ,\"$12.95\" ,\"$0.00 0.00%\" ,\"$518.00\" ,\"$0.00\" ,\"-$5.20 -0.99%\" ,\"-$5.20 -0.99%\" \n",
      "\"JFR\" ,\"NUVEEN FLOAT RATE INC\" ,\"30\" ,\"$9.21\" ,\"$0.00 0.00%\" ,\"$276.30\" ,\"$0.00\" ,\"-$18.00 -6.12%\" ,\"-$18.00 -6.12%\" \n",
      "\"PCI\" ,\"PIMCO DYNAMIC CREDIT\" ,\"50\" ,\"$16.95\" ,\"$0.00 0.00%\" ,\"$847.50\" ,\"$0.00\" ,\"-$61.50 -6.77%\" ,\"-$61.50 -6.77%\" \n",
      "\"PDI\" ,\"PIMCO DYNAMIC INCOME FD\" ,\"30\" ,\"$25.36\" ,\"$0.00 0.00%\" ,\"$760.80\" ,\"$0.00\" ,\"-$57.00 -6.97%\" ,\"-$57.00 -6.97%\" \n",
      "\"Total\" ,\"\" ,\"\" ,\"\" ,\" \" ,\"$2,402.60\" ,\"$0.00\" ,\"-$141.70 -5.57%\" ,\"-$141.70 -5.57%\" \n",
      ",\n",
      "\"Corporate Bonds\" ,\"Value\" ,\"Day's Value Change\" ,\"Unrealized Gain/Loss\" \n",
      "\"\" ,\"$108,939.03\" ,\"$0.00 0.00%\" ,\"-$961.81 -0.88%\" \n",
      ",\n",
      "\"Symbol \" ,\"Description\" ,\"Quantity\" ,\"Price\" ,\"Value\" ,\"Day's Price $ Chg % Chg\" ,\"Day's Value Change $\" ,\"Accrued Interest\" ,\"Unrealized Gain/Loss $ Chg % Chg\" \n",
      ",\n",
      "\"WACH16\" ,\"WACHOVIA BANK NA\" ,\"10,000\" ,\"$100.0020\" ,\"$10,017.27\" ,\"$0.00 0.00%\" ,\"$0.00\" ,\"$17.07\" ,\"+$0.05 0.00%\" \n",
      "\"BAC16J\" ,\"BANK OF AMERICA CORP\" ,\"10,000\" ,\"$101.0560\" ,\"$10,151.43\" ,\"$0.00 0.00%\" ,\"$0.00\" ,\"$45.83\" ,\"-$2.08 -0.02%\" \n",
      "\"F16A\" ,\"FORD MOTOR CREDIT CO LLC\" ,\"10,000\" ,\"$100.37\" ,\"$10,190.08\" ,\"$0.00 0.00%\" ,\"$0.00\" ,\"$153.09\" ,\"-$6.71 -0.07%\" \n",
      "\"T16A\" ,\"AT&T INC\" ,\"25,000\" ,\"$100.60\" ,\"$25,168.33\" ,\"$0.00 0.00%\" ,\"$0.00\" ,\"$18.33\" ,\"-$24.91 -0.10%\" \n",
      "\"IP16\" ,\"INTL PAPER CO\" ,\"10,000\" ,\"$100.3060\" ,\"$10,242.05\" ,\"$0.00 0.00%\" ,\"$0.00\" ,\"$211.46\" ,\"-$10.27 -0.10%\" \n",
      "\"BAC 16\" ,\"MERRILL LYNCH CO INC\" ,\"28,000\" ,\"$100.9530\" ,\"$28,737.39\" ,\"$0.00 0.00%\" ,\"$0.00\" ,\"$470.56\" ,\"-$31.71 -0.11%\" \n",
      "\"FE16\" ,\"JERSEY CENTRAL PWR & LT\" ,\"10,000\" ,\"$100.6280\" ,\"$10,242.48\" ,\"$0.00 0.00%\" ,\"$0.00\" ,\"$179.69\" ,\"-$16.96 -0.17%\" \n",
      "\"FCX18\" ,\"FREEPORT-MCMORAN C & G\" ,\"5,000\" ,\"$82.7380\" ,\"$4,190.00\" ,\"$0.00 0.00%\" ,\"$0.00\" ,\"$53.11\" ,\"-$869.22 -17.36%\" \n",
      "\"Total\" ,\"\" ,\"\" ,\"\" ,\"$108,939.03\" ,\" \" ,\"$0.00\" ,\"$1,149.14\" ,\"-$961.81 -0.88%\" \n",
      ",\n",
      "\"Convertible Securities\" ,\"Value\" ,\"Day's Value Change\" ,\"Unrealized Gain/Loss\" \n",
      "\"\" ,\"$1,389.90\" ,\"$0.00 0.00%\" ,\"-$24.30 -1.72%\" \n",
      ",\n",
      "\"Symbol \" ,\"Description\" ,\"Quantity\" ,\"Price\" ,\"Day's Price $ Chg % Chg\" ,\"Value\" ,\"Day's Value Change $\" ,\"Unrealized Gain/Loss $ Chg % Chg\" ,\"Accrued Interest\" \n",
      ",\n",
      "\"WYPRA\" ,\"WEYERHAEUSER CO\" ,\"30\" ,\"$46.33\" ,\"$0.00 0.00%\" ,\"$1,389.90\" ,\"$0.00\" ,\"-$24.30 -1.72%\" ,\"--\" \n",
      "\"Total\" ,\"\" ,\"\" ,\"\" ,\" \" ,\"$1,389.90\" ,\"$0.00\" ,\"-$24.30 -1.72%\" ,\"--\" \n",
      ",\n",
      "\"Other Bonds\" ,\"Value\" ,\"Day's Value Change\" ,\"Unrealized Gain/Loss\" \n",
      "\"\" ,\"$20,380.15\" ,\"$0.00 0.00%\" ,\"-$22.24 -0.11%\" \n",
      ",\n",
      "\"Symbol \" ,\"Description\" ,\"Quantity\" ,\"Price\" ,\"Value\" ,\"Day's Value Change $\" ,\"Day's Price $ Chg % Chg\" ,\"Accrued Interest\" ,\"Unrealized Gain/Loss $ Chg % Chg\" \n",
      ",\n",
      "\"WSH16\" ,\"WILLIS GROUP HOLDINGS LT\" ,\"20,000\" ,\"$100.0560\" ,\"$20,380.15\" ,\"$0.00\" ,\"$0.00 0.00%\" ,\"$368.96\" ,\"-$22.24 -0.11%\" \n",
      "\"Total\" ,\"\" ,\"\" ,\"\" ,\"$20,380.15\" ,\"$0.00\" ,\" \" ,\"$368.96\" ,\"-$22.24 -0.11%\" \n",
      ",\n",
      "\"Preferred Stock\" ,\"Value\" ,\"Day's Value Change\" ,\"Unrealized Gain/Loss\" \n",
      "\"\" ,\"$147,517.43\" ,\"$0.00 0.00%\" ,\"+$4,817.18 +3.38%\" \n",
      ",\n",
      "\"Symbol \" ,\"Description\" ,\"Quantity\" ,\"Price\" ,\"Value\" ,\"Day's Value Change $\" ,\"Day's Price $ Chg % Chg\" ,\"Unrealized Gain/Loss $ Chg % Chg\" ,\"BofAML Rating\" \n",
      ",\n",
      "\"VNOPRL\" ,\"VORNADO REALTY TRUST\" ,\"100\" ,\"$24.97\" ,\"$2,497.00\" ,\"$0.00\" ,\"$0.00 0.00%\" ,\"+$222.00 +9.76%\" ,\"--\" \n",
      "\"PSAPRU\" ,\"PUBLIC STORAGE\" ,\"100\" ,\"$25.75\" ,\"$2,575.00\" ,\"$0.00\" ,\"$0.00 0.00%\" ,\"+$150.00 +6.19%\" ,\"--\" \n",
      "\"PSAPRV\" ,\"PUBLIC STORAGE\" ,\"100\" ,\"$25.86\" ,\"$2,586.00\" ,\"$0.00\" ,\"$0.00 0.00%\" ,\"+$137.00 +5.59%\" ,\"--\" \n",
      "\"DDRPRK\" ,\"DDR CORP\" ,\"100\" ,\"$25.78\" ,\"$2,578.00\" ,\"$0.00\" ,\"$0.00 0.00%\" ,\"+$128.00 +5.22%\" ,\"--\" \n",
      "\"NNNPRE\" ,\"NATIONAL RETAIL PROPERTI\" ,\"200\" ,\"$25.43\" ,\"$5,086.00\" ,\"$0.00\" ,\"$0.00 0.00%\" ,\"+$236.00 +4.87%\" ,\"--\" \n",
      "\"NEEPRJ\" ,\"NEXTERA ENERGY CAP HLDGS\" ,\"100\" ,\"$25.13\" ,\"$2,513.00\" ,\"$0.00\" ,\"$0.00 0.00%\" ,\"+$113.00 +4.71%\" ,\"--\" \n",
      "\"DLRPRG\" ,\"DIGITAL REALTY TRUST INC\" ,\"100\" ,\"$24.90\" ,\"$2,490.00\" ,\"$0.00\" ,\"$0.00 0.00%\" ,\"+$100.00 +4.18%\" ,\"--\" \n",
      "\"GEH\" ,\"GENERAL ELEC CAP CORP\" ,\"814\" ,\"$26.04\" ,\"$21,196.56\" ,\"$0.00\" ,\"$0.00 0.00%\" ,\"+$846.57 +4.16%\" ,\"--\" \n",
      "\"VTRB\" ,\"VENTAS REALTY LP\" ,\"100\" ,\"$25.7222\" ,\"$2,572.22\" ,\"$0.00\" ,\"$0.00 0.00%\" ,\"+$102.22 +4.14%\" ,\"--\" \n",
      "\"GEB\" ,\"GENERAL ELEC CAP CORP\" ,\"807.3233\" ,\"$26.05\" ,\"$21,030.77\" ,\"$0.00\" ,\"$0.00 0.00%\" ,\"+$816.65 +4.05%\" ,\"--\" \n",
      "\"NEEPRI\" ,\"NEXTERA ENERGY CAPITAL\" ,\"200\" ,\"$25.09\" ,\"$5,018.00\" ,\"$0.00\" ,\"$0.00 0.00%\" ,\"+$188.00 +3.89%\" ,\"--\" \n",
      "\"PSAPRX\" ,\"PUBLIC STORAGE\" ,\"100\" ,\"$25.35\" ,\"$2,535.00\" ,\"$0.00\" ,\"$0.00 0.00%\" ,\"+$93.00 +3.81%\" ,\"--\" \n",
      "\"PRH\" ,\"PRUDENTIAL FINANCIAL INC\" ,\"100\" ,\"$25.95\" ,\"$2,595.00\" ,\"$0.00\" ,\"$0.00 0.00%\" ,\"+$95.00 +3.80%\" ,\"--\" \n",
      "\"PSAPRW\" ,\"PUBLIC STORAGE\" ,\"100\" ,\"$25.31\" ,\"$2,531.00\" ,\"$0.00\" ,\"$0.00 0.00%\" ,\"+$89.00 +3.65%\" ,\"--\" \n",
      "\"VNOPRK\" ,\"VORNADO REALTY TR\" ,\"100\" ,\"$25.54\" ,\"$2,554.00\" ,\"$0.00\" ,\"$0.00 0.00%\" ,\"+$89.00 +3.61%\" ,\"--\" \n",
      "\"NEEPRH\" ,\"NEXTERA ENERGY CAPITAL\" ,\"100\" ,\"$25.60\" ,\"$2,560.00\" ,\"$0.00\" ,\"$0.00 0.00%\" ,\"+$85.00 +3.43%\" ,\"--\" \n",
      "\"GEK\" ,\"GENERAL ELECTRIC CAPITAL\" ,\"1,111.8003\" ,\"$25.82\" ,\"$28,706.68\" ,\"$0.00\" ,\"$0.00 0.00%\" ,\"+$915.48 +3.30%\" ,\"--\" \n",
      "\"DTQ\" ,\"DTE ENERGY CO. SER C\" ,\"190\" ,\"$25.16\" ,\"$4,780.40\" ,\"$0.00\" ,\"$0.00 0.00%\" ,\"+$146.80 +3.17%\" ,\"--\" \n",
      "\"KIMPRK\" ,\"KIMCO REALTY CORP\" ,\"100\" ,\"$25.32\" ,\"$2,532.00\" ,\"$0.00\" ,\"$0.00 0.00%\" ,\"+$72.00 +2.93%\" ,\"--\" \n",
      "\"KIMPRI\" ,\"KIMCO REALTY CORP (KIM)\" ,\"100\" ,\"$25.73\" ,\"$2,573.00\" ,\"$0.00\" ,\"$0.00 0.00%\" ,\"+$73.00 +2.92%\" ,\"--\" \n",
      "\"WRBPRB\" ,\"W.R.BERKLEY CORPORATION\" ,\"100\" ,\"$25.29\" ,\"$2,529.00\" ,\"$0.00\" ,\"$0.00 0.00%\" ,\"+$44.00 +1.77%\" ,\"--\" \n",
      "\"CTZ\" ,\"QWEST CORPORATION\" ,\"100\" ,\"$24.71\" ,\"$2,471.00\" ,\"$0.00\" ,\"$0.00 0.00%\" ,\"+$34.01 +1.40%\" ,\"--\" \n",
      "\"OSM\" ,\"SLM CORP\" ,\"530\" ,\"$23.72\" ,\"$12,571.60\" ,\"$0.00\" ,\"$0.00 0.00%\" ,\"+$137.00 +1.10%\" ,\"--\" \n",
      "\"OPRF\" ,\"REALTY INCOME\" ,\"230\" ,\"$26.14\" ,\"$6,012.20\" ,\"$0.00\" ,\"$0.00 0.00%\" ,\"-$53.55 -0.88%\" ,\"--\" \n",
      "\"CTY\" ,\"QWEST CORPORATION\" ,\"100\" ,\"$24.24\" ,\"$2,424.00\" ,\"$0.00\" ,\"$0.00 0.00%\" ,\"-$42.00 -1.70%\" ,\"--\" \n",
      "\"Total\" ,\"\" ,\"\" ,\"\" ,\"$147,517.43\" ,\"$0.00\" ,\" \" ,\"+$4,817.18 +3.38%\" ,\"\" \n",
      ",\n",
      "\"Limited Partnership\" ,\"Value\" ,\"Day's Value Change\" ,\"Unrealized Gain/Loss\" \n",
      "\"\" ,\"$16,914.00\" ,\"$0.00 0.00%\" ,\"-$5,179.13 -23.44%\" \n",
      ",\n",
      "\"Symbol \" ,\"Description\" ,\"Quantity\" ,\"Price\" ,\"Value\" ,\"Day's Price $ Chg % Chg\" ,\"Day's Value Change $\" ,\"Unrealized Gain/Loss $ Chg % Chg\" \n",
      ",\n",
      "\"MMP\" ,\"MAGELLAN MIDSTREAM\" ,\"30\" ,\"$66.39\" ,\"$1,991.70\" ,\"$0.00 0.00%\" ,\"$0.00\" ,\"+$166.42 +9.12%\" \n",
      "\"BIP\" ,\"BROOKFIELD INFRASTUCR PA\" ,\"120\" ,\"$37.23\" ,\"$4,467.60\" ,\"$0.00 0.00%\" ,\"$0.00\" ,\"-$611.93 -12.05%\" \n",
      "\"BX\" ,\"BLACKSTONE GROUP LP\" ,\"70\" ,\"$25.61\" ,\"$1,792.70\" ,\"$0.00 0.00%\" ,\"$0.00\" ,\"-$336.50 -15.80%\" \n",
      "\"EPD\" ,\"ENTERPRISE PRDTS PRTN LP\" ,\"180\" ,\"$23.03\" ,\"$4,145.40\" ,\"$0.00 0.00%\" ,\"$0.00\" ,\"-$879.17 -17.50%\" \n",
      "\"KKR\" ,\"KKR & CO L P DEL\" ,\"60\" ,\"$12.34\" ,\"$740.40\" ,\"$0.00 0.00%\" ,\"$0.00\" ,\"-$186.10 -20.09%\" \n",
      "\"PAA\" ,\"PLAINS ALL AMERN PIPL LP\" ,\"140\" ,\"$21.27\" ,\"$2,977.80\" ,\"$0.00 0.00%\" ,\"$0.00\" ,\"-$2,585.25 -46.47%\" \n",
      "\"WPZ\" ,\"WILLIAMS PARTNERS\" ,\"40\" ,\"$19.96\" ,\"$798.40\" ,\"$0.00 0.00%\" ,\"$0.00\" ,\"-$746.60 -48.32%\" \n",
      "\"Total\" ,\"\" ,\"\" ,\"\" ,\"$16,914.00\" ,\" \" ,\"$0.00\" ,\"-$5,179.13 -23.44%\" \n",
      ",\n",
      "\n"
     ]
    }
   ],
   "source": [
    "# Account Holdings data\n",
    "print(open('ExportData27022016120308.csv').read())"
   ]
  },
  {
   "cell_type": "code",
   "execution_count": 4,
   "metadata": {
    "collapsed": false
   },
   "outputs": [],
   "source": [
    "def find_skiprows(filename, text):\n",
    "    l = list()\n",
    "    trigger = True\n",
    "    count = False\n",
    "    counter = 0\n",
    "    with open(filename) as f:\n",
    "        for line_number, line in enumerate(f, 1):\n",
    "            if text in line:\n",
    "                # start counting when section is found\n",
    "                count = True\n",
    "                \n",
    "            if count:\n",
    "                counter += 1\n",
    "                    \n",
    "            if counter >= 6:\n",
    "                # products are listed on 6th row from section title\n",
    "                trigger = False\n",
    "            \n",
    "            if trigger == False and \"Total\" in line:\n",
    "                #end data when next Total is found (after section title)\n",
    "                trigger = True\n",
    "                count = False\n",
    "                counter = 0\n",
    "                \n",
    "            if trigger and counter != 4:\n",
    "                # pandas skip rows uses a 0 based index\n",
    "                # enumerate uses 1 based index\n",
    "                # counter = 4 is the column header row\n",
    "                l.append(line_number-1)\n",
    "                \n",
    "    return l"
   ]
  },
  {
   "cell_type": "code",
   "execution_count": 5,
   "metadata": {
    "collapsed": false
   },
   "outputs": [],
   "source": [
    "# DONE: Select stock data programmatically\n",
    "# sr = list(range(0,21)) + [22] + list(range(50,140))\n",
    "# 0-20,22,50-139"
   ]
  },
  {
   "cell_type": "code",
   "execution_count": 6,
   "metadata": {
    "collapsed": true
   },
   "outputs": [],
   "source": [
    "sr = find_skiprows('ExportData27022016120308.csv', 'Stocks & Related')"
   ]
  },
  {
   "cell_type": "code",
   "execution_count": 7,
   "metadata": {
    "collapsed": false
   },
   "outputs": [],
   "source": [
    "stock = pd.read_csv(\"ExportData27022016120308.csv\",skiprows=sr)"
   ]
  },
  {
   "cell_type": "code",
   "execution_count": 8,
   "metadata": {
    "collapsed": false
   },
   "outputs": [
    {
     "data": {
      "text/plain": [
       "array(['Symbol  ', 'Description ', 'Quantity ', 'Price ', 'Value ',\n",
       "       \"Day's Price $ Chg % Chg \", \"Day's Value Change $ \",\n",
       "       'Unrealized Gain/Loss $ Chg % Chg ', 'BofAML Rating '], dtype=object)"
      ]
     },
     "execution_count": 8,
     "metadata": {},
     "output_type": "execute_result"
    }
   ],
   "source": [
    "# Data for column names contains spaces\n",
    "stock.columns.values"
   ]
  },
  {
   "cell_type": "code",
   "execution_count": 9,
   "metadata": {
    "collapsed": false
   },
   "outputs": [],
   "source": [
    "stock = stock.rename(columns=lambda x: x.strip())"
   ]
  },
  {
   "cell_type": "code",
   "execution_count": 10,
   "metadata": {
    "collapsed": false,
    "scrolled": true
   },
   "outputs": [
    {
     "data": {
      "text/plain": [
       "array(['Symbol', 'Description', 'Quantity', 'Price', 'Value',\n",
       "       \"Day's Price $ Chg % Chg\", \"Day's Value Change $\",\n",
       "       'Unrealized Gain/Loss $ Chg % Chg', 'BofAML Rating'], dtype=object)"
      ]
     },
     "execution_count": 10,
     "metadata": {},
     "output_type": "execute_result"
    }
   ],
   "source": [
    "# clean column headings\n",
    "stock.columns.values"
   ]
  },
  {
   "cell_type": "code",
   "execution_count": 11,
   "metadata": {
    "collapsed": false
   },
   "outputs": [
    {
     "data": {
      "text/plain": [
       "Index(['Day's Price $ Chg % Chg', 'Day's Value Change $',\n",
       "       'Unrealized Gain/Loss $ Chg % Chg'],\n",
       "      dtype='object')"
      ]
     },
     "execution_count": 11,
     "metadata": {},
     "output_type": "execute_result"
    }
   ],
   "source": [
    "# http://pandas.pydata.org/pandas-docs/stable/dsintro.html#column-selection-addition-deletion\n",
    "# http://pandas.pydata.org/pandas-docs/version/0.17.0/generated/pandas.DataFrame.drop.html\n",
    "stock.columns[[5,6,7]]"
   ]
  },
  {
   "cell_type": "code",
   "execution_count": 12,
   "metadata": {
    "collapsed": true
   },
   "outputs": [],
   "source": [
    "stock.drop(stock.columns[[5,6,7]],axis=1,inplace=True)"
   ]
  },
  {
   "cell_type": "code",
   "execution_count": 13,
   "metadata": {
    "collapsed": false
   },
   "outputs": [
    {
     "data": {
      "text/html": [
       "<div>\n",
       "<table border=\"1\" class=\"dataframe\">\n",
       "  <thead>\n",
       "    <tr style=\"text-align: right;\">\n",
       "      <th></th>\n",
       "      <th>Symbol</th>\n",
       "      <th>Description</th>\n",
       "      <th>Quantity</th>\n",
       "      <th>Price</th>\n",
       "      <th>Value</th>\n",
       "      <th>BofAML Rating</th>\n",
       "      <th>type</th>\n",
       "    </tr>\n",
       "  </thead>\n",
       "  <tbody>\n",
       "    <tr>\n",
       "      <th>0</th>\n",
       "      <td>PJT</td>\n",
       "      <td>PJT PARTNERS INC SHS</td>\n",
       "      <td>1</td>\n",
       "      <td>$27.38</td>\n",
       "      <td>$27.38</td>\n",
       "      <td>--</td>\n",
       "      <td>stock</td>\n",
       "    </tr>\n",
       "    <tr>\n",
       "      <th>1</th>\n",
       "      <td>RMR</td>\n",
       "      <td>RMR (THE) GROUP INC SHS</td>\n",
       "      <td>2</td>\n",
       "      <td>$23.09</td>\n",
       "      <td>$46.18</td>\n",
       "      <td>--</td>\n",
       "      <td>stock</td>\n",
       "    </tr>\n",
       "    <tr>\n",
       "      <th>2</th>\n",
       "      <td>O</td>\n",
       "      <td>REALTY INCM CRP MD PV$1.</td>\n",
       "      <td>210</td>\n",
       "      <td>$58.63</td>\n",
       "      <td>$12,312.30</td>\n",
       "      <td>Buy (B-1-7)</td>\n",
       "      <td>stock</td>\n",
       "    </tr>\n",
       "    <tr>\n",
       "      <th>3</th>\n",
       "      <td>CTL</td>\n",
       "      <td>CENTURYLINK INC SHS</td>\n",
       "      <td>30</td>\n",
       "      <td>$30.17</td>\n",
       "      <td>$905.10</td>\n",
       "      <td>Buy (B-1-7)</td>\n",
       "      <td>stock</td>\n",
       "    </tr>\n",
       "    <tr>\n",
       "      <th>4</th>\n",
       "      <td>FTR</td>\n",
       "      <td>FRONTIER COMMUNICATIONS</td>\n",
       "      <td>150</td>\n",
       "      <td>$5.43</td>\n",
       "      <td>$814.50</td>\n",
       "      <td>Buy (B-1-7)</td>\n",
       "      <td>stock</td>\n",
       "    </tr>\n",
       "  </tbody>\n",
       "</table>\n",
       "</div>"
      ],
      "text/plain": [
       "  Symbol                Description Quantity    Price        Value  \\\n",
       "0   PJT       PJT PARTNERS INC SHS        1   $27.38       $27.38    \n",
       "1   RMR    RMR (THE) GROUP INC SHS        2   $23.09       $46.18    \n",
       "2     O   REALTY INCM CRP MD PV$1.      210   $58.63   $12,312.30    \n",
       "3   CTL        CENTURYLINK INC SHS       30   $30.17      $905.10    \n",
       "4   FTR    FRONTIER COMMUNICATIONS      150    $5.43      $814.50    \n",
       "\n",
       "  BofAML Rating   type  \n",
       "0           --   stock  \n",
       "1           --   stock  \n",
       "2  Buy (B-1-7)   stock  \n",
       "3  Buy (B-1-7)   stock  \n",
       "4  Buy (B-1-7)   stock  "
      ]
     },
     "execution_count": 13,
     "metadata": {},
     "output_type": "execute_result"
    }
   ],
   "source": [
    "stock['type'] = \"stock\"\n",
    "stock.head()"
   ]
  },
  {
   "cell_type": "code",
   "execution_count": 14,
   "metadata": {
    "collapsed": false
   },
   "outputs": [
    {
     "data": {
      "text/html": [
       "<div>\n",
       "<table border=\"1\" class=\"dataframe\">\n",
       "  <thead>\n",
       "    <tr style=\"text-align: right;\">\n",
       "      <th></th>\n",
       "      <th>Symbol</th>\n",
       "      <th>Description</th>\n",
       "      <th>Quantity</th>\n",
       "      <th>Price</th>\n",
       "      <th>Value</th>\n",
       "      <th>BofAML Rating</th>\n",
       "      <th>type</th>\n",
       "    </tr>\n",
       "  </thead>\n",
       "  <tbody>\n",
       "    <tr>\n",
       "      <th>22</th>\n",
       "      <td>HCP</td>\n",
       "      <td>HCP INC</td>\n",
       "      <td>20</td>\n",
       "      <td>$29.90</td>\n",
       "      <td>$598.00</td>\n",
       "      <td>Underperform (B-3-7)</td>\n",
       "      <td>stock</td>\n",
       "    </tr>\n",
       "    <tr>\n",
       "      <th>23</th>\n",
       "      <td>COP</td>\n",
       "      <td>CONOCOPHILLIPS</td>\n",
       "      <td>60</td>\n",
       "      <td>$34.12</td>\n",
       "      <td>$2,047.20</td>\n",
       "      <td>Buy (B-1-8)</td>\n",
       "      <td>stock</td>\n",
       "    </tr>\n",
       "    <tr>\n",
       "      <th>24</th>\n",
       "      <td>KMI</td>\n",
       "      <td>KINDER MORGAN INC. DEL</td>\n",
       "      <td>225</td>\n",
       "      <td>$17.76</td>\n",
       "      <td>$3,996.00</td>\n",
       "      <td>Neutral (C-2-8)</td>\n",
       "      <td>stock</td>\n",
       "    </tr>\n",
       "    <tr>\n",
       "      <th>25</th>\n",
       "      <td>CORR</td>\n",
       "      <td>CORENERGY INFRASTRUCTURE</td>\n",
       "      <td>101</td>\n",
       "      <td>$12.76</td>\n",
       "      <td>$1,288.76</td>\n",
       "      <td>Neutral (C-2-8)</td>\n",
       "      <td>stock</td>\n",
       "    </tr>\n",
       "    <tr>\n",
       "      <th>26</th>\n",
       "      <td>WMB</td>\n",
       "      <td>WILLIAMS COMPANIES DEL</td>\n",
       "      <td>150</td>\n",
       "      <td>$15.64</td>\n",
       "      <td>$2,346.00</td>\n",
       "      <td>--</td>\n",
       "      <td>stock</td>\n",
       "    </tr>\n",
       "  </tbody>\n",
       "</table>\n",
       "</div>"
      ],
      "text/plain": [
       "   Symbol                Description Quantity    Price       Value  \\\n",
       "22   HCP                    HCP INC       20   $29.90     $598.00    \n",
       "23   COP             CONOCOPHILLIPS       60   $34.12   $2,047.20    \n",
       "24   KMI     KINDER MORGAN INC. DEL      225   $17.76   $3,996.00    \n",
       "25  CORR   CORENERGY INFRASTRUCTURE      101   $12.76   $1,288.76    \n",
       "26   WMB     WILLIAMS COMPANIES DEL      150   $15.64   $2,346.00    \n",
       "\n",
       "            BofAML Rating   type  \n",
       "22  Underperform (B-3-7)   stock  \n",
       "23           Buy (B-1-8)   stock  \n",
       "24       Neutral (C-2-8)   stock  \n",
       "25       Neutral (C-2-8)   stock  \n",
       "26                    --   stock  "
      ]
     },
     "execution_count": 14,
     "metadata": {},
     "output_type": "execute_result"
    }
   ],
   "source": [
    "stock.tail()"
   ]
  },
  {
   "cell_type": "code",
   "execution_count": 15,
   "metadata": {
    "collapsed": false
   },
   "outputs": [],
   "source": [
    "# DONE: Select mutual fund data programmatically\n",
    "# sr = list(range(0,55)) + [56] + list(range(61,140))"
   ]
  },
  {
   "cell_type": "code",
   "execution_count": 16,
   "metadata": {
    "collapsed": false
   },
   "outputs": [],
   "source": [
    "sr = find_skiprows('ExportData27022016120308.csv', 'Mutual Funds')"
   ]
  },
  {
   "cell_type": "code",
   "execution_count": 17,
   "metadata": {
    "collapsed": false
   },
   "outputs": [
    {
     "data": {
      "text/html": [
       "<div>\n",
       "<table border=\"1\" class=\"dataframe\">\n",
       "  <thead>\n",
       "    <tr style=\"text-align: right;\">\n",
       "      <th></th>\n",
       "      <th>Symbol</th>\n",
       "      <th>Description</th>\n",
       "      <th>Quantity</th>\n",
       "      <th>Price</th>\n",
       "      <th>Value</th>\n",
       "      <th>type</th>\n",
       "    </tr>\n",
       "  </thead>\n",
       "  <tbody>\n",
       "    <tr>\n",
       "      <th>0</th>\n",
       "      <td>PTY</td>\n",
       "      <td>PIMCO CORPORATE &amp; INCOME</td>\n",
       "      <td>40</td>\n",
       "      <td>$12.95</td>\n",
       "      <td>$518.00</td>\n",
       "      <td>fund</td>\n",
       "    </tr>\n",
       "    <tr>\n",
       "      <th>1</th>\n",
       "      <td>JFR</td>\n",
       "      <td>NUVEEN FLOAT RATE INC</td>\n",
       "      <td>30</td>\n",
       "      <td>$9.21</td>\n",
       "      <td>$276.30</td>\n",
       "      <td>fund</td>\n",
       "    </tr>\n",
       "    <tr>\n",
       "      <th>2</th>\n",
       "      <td>PCI</td>\n",
       "      <td>PIMCO DYNAMIC CREDIT</td>\n",
       "      <td>50</td>\n",
       "      <td>$16.95</td>\n",
       "      <td>$847.50</td>\n",
       "      <td>fund</td>\n",
       "    </tr>\n",
       "    <tr>\n",
       "      <th>3</th>\n",
       "      <td>PDI</td>\n",
       "      <td>PIMCO DYNAMIC INCOME FD</td>\n",
       "      <td>30</td>\n",
       "      <td>$25.36</td>\n",
       "      <td>$760.80</td>\n",
       "      <td>fund</td>\n",
       "    </tr>\n",
       "  </tbody>\n",
       "</table>\n",
       "</div>"
      ],
      "text/plain": [
       "  Symbol                Description  Quantity    Price     Value  type\n",
       "0   PTY   PIMCO CORPORATE & INCOME         40  $12.95   $518.00   fund\n",
       "1   JFR      NUVEEN FLOAT RATE INC         30   $9.21   $276.30   fund\n",
       "2   PCI       PIMCO DYNAMIC CREDIT         50  $16.95   $847.50   fund\n",
       "3   PDI    PIMCO DYNAMIC INCOME FD         30  $25.36   $760.80   fund"
      ]
     },
     "execution_count": 17,
     "metadata": {},
     "output_type": "execute_result"
    }
   ],
   "source": [
    "funds = pd.read_csv(\"ExportData27022016120308.csv\",skiprows=sr)\n",
    "funds = funds.rename(columns=lambda x: x.strip())\n",
    "funds.drop(funds.columns[[4,6,7,8]], axis=1, inplace=True)\n",
    "funds['type'] = \"fund\"\n",
    "funds.head()"
   ]
  },
  {
   "cell_type": "code",
   "execution_count": 18,
   "metadata": {
    "collapsed": true
   },
   "outputs": [],
   "source": [
    "# DONE: Select Convertible Securities data programmatically\n",
    "# sr = list(range(0,81)) + [82] + list(range(84,140))"
   ]
  },
  {
   "cell_type": "code",
   "execution_count": 19,
   "metadata": {
    "collapsed": true
   },
   "outputs": [],
   "source": [
    "sr = find_skiprows('ExportData27022016120308.csv', 'Convertible Securities')"
   ]
  },
  {
   "cell_type": "code",
   "execution_count": 20,
   "metadata": {
    "collapsed": false,
    "scrolled": true
   },
   "outputs": [
    {
     "data": {
      "text/html": [
       "<div>\n",
       "<table border=\"1\" class=\"dataframe\">\n",
       "  <thead>\n",
       "    <tr style=\"text-align: right;\">\n",
       "      <th></th>\n",
       "      <th>Symbol</th>\n",
       "      <th>Description</th>\n",
       "      <th>Quantity</th>\n",
       "      <th>Price</th>\n",
       "      <th>Value</th>\n",
       "      <th>Accrued Interest</th>\n",
       "    </tr>\n",
       "  </thead>\n",
       "  <tbody>\n",
       "    <tr>\n",
       "      <th>0</th>\n",
       "      <td>WYPRA</td>\n",
       "      <td>WEYERHAEUSER CO</td>\n",
       "      <td>30</td>\n",
       "      <td>$46.33</td>\n",
       "      <td>$1,389.90</td>\n",
       "      <td>--</td>\n",
       "    </tr>\n",
       "  </tbody>\n",
       "</table>\n",
       "</div>"
      ],
      "text/plain": [
       "   Symbol       Description  Quantity    Price       Value Accrued Interest\n",
       "0  WYPRA   WEYERHAEUSER CO         30  $46.33   $1,389.90               -- "
      ]
     },
     "execution_count": 20,
     "metadata": {},
     "output_type": "execute_result"
    }
   ],
   "source": [
    "convertible = pd.read_csv(\"ExportData27022016120308.csv\",skiprows=sr)\n",
    "convertible = convertible.rename(columns=lambda x: x.strip())\n",
    "convertible.drop(convertible.columns[[4,6,7]],axis=1,inplace=True)\n",
    "convertible.head()"
   ]
  },
  {
   "cell_type": "code",
   "execution_count": 21,
   "metadata": {
    "collapsed": true
   },
   "outputs": [],
   "source": [
    "# DONE: Select Preferred Stock data programmatically\n",
    "# sr = list(range(0,97)) + [98] + list(range(124,140))"
   ]
  },
  {
   "cell_type": "code",
   "execution_count": 22,
   "metadata": {
    "collapsed": true
   },
   "outputs": [],
   "source": [
    "sr = find_skiprows('ExportData27022016120308.csv', 'Preferred Stock')"
   ]
  },
  {
   "cell_type": "code",
   "execution_count": 23,
   "metadata": {
    "collapsed": false
   },
   "outputs": [
    {
     "data": {
      "text/html": [
       "<div>\n",
       "<table border=\"1\" class=\"dataframe\">\n",
       "  <thead>\n",
       "    <tr style=\"text-align: right;\">\n",
       "      <th></th>\n",
       "      <th>Symbol</th>\n",
       "      <th>Description</th>\n",
       "      <th>Quantity</th>\n",
       "      <th>Price</th>\n",
       "      <th>Value</th>\n",
       "      <th>BofAML Rating</th>\n",
       "    </tr>\n",
       "  </thead>\n",
       "  <tbody>\n",
       "    <tr>\n",
       "      <th>0</th>\n",
       "      <td>VNOPRL</td>\n",
       "      <td>VORNADO REALTY TRUST</td>\n",
       "      <td>100</td>\n",
       "      <td>$24.97</td>\n",
       "      <td>$2,497.00</td>\n",
       "      <td>--</td>\n",
       "    </tr>\n",
       "    <tr>\n",
       "      <th>1</th>\n",
       "      <td>PSAPRU</td>\n",
       "      <td>PUBLIC STORAGE</td>\n",
       "      <td>100</td>\n",
       "      <td>$25.75</td>\n",
       "      <td>$2,575.00</td>\n",
       "      <td>--</td>\n",
       "    </tr>\n",
       "    <tr>\n",
       "      <th>2</th>\n",
       "      <td>PSAPRV</td>\n",
       "      <td>PUBLIC STORAGE</td>\n",
       "      <td>100</td>\n",
       "      <td>$25.86</td>\n",
       "      <td>$2,586.00</td>\n",
       "      <td>--</td>\n",
       "    </tr>\n",
       "    <tr>\n",
       "      <th>3</th>\n",
       "      <td>DDRPRK</td>\n",
       "      <td>DDR CORP</td>\n",
       "      <td>100</td>\n",
       "      <td>$25.78</td>\n",
       "      <td>$2,578.00</td>\n",
       "      <td>--</td>\n",
       "    </tr>\n",
       "    <tr>\n",
       "      <th>4</th>\n",
       "      <td>NNNPRE</td>\n",
       "      <td>NATIONAL RETAIL PROPERTI</td>\n",
       "      <td>200</td>\n",
       "      <td>$25.43</td>\n",
       "      <td>$5,086.00</td>\n",
       "      <td>--</td>\n",
       "    </tr>\n",
       "  </tbody>\n",
       "</table>\n",
       "</div>"
      ],
      "text/plain": [
       "    Symbol                Description Quantity    Price       Value  \\\n",
       "0  VNOPRL       VORNADO REALTY TRUST      100   $24.97   $2,497.00    \n",
       "1  PSAPRU             PUBLIC STORAGE      100   $25.75   $2,575.00    \n",
       "2  PSAPRV             PUBLIC STORAGE      100   $25.86   $2,586.00    \n",
       "3  DDRPRK                   DDR CORP      100   $25.78   $2,578.00    \n",
       "4  NNNPRE   NATIONAL RETAIL PROPERTI      200   $25.43   $5,086.00    \n",
       "\n",
       "  BofAML Rating  \n",
       "0           --   \n",
       "1           --   \n",
       "2           --   \n",
       "3           --   \n",
       "4           --   "
      ]
     },
     "execution_count": 23,
     "metadata": {},
     "output_type": "execute_result"
    }
   ],
   "source": [
    "preferred = pd.read_csv(\"ExportData27022016120308.csv\",skiprows=sr)\n",
    "preferred = preferred.rename(columns=lambda x: x.strip())\n",
    "preferred.drop(preferred.columns[[5,6,7]], axis=1, inplace=True)\n",
    "preferred.head()"
   ]
  },
  {
   "cell_type": "code",
   "execution_count": 24,
   "metadata": {
    "collapsed": false
   },
   "outputs": [
    {
     "data": {
      "text/html": [
       "<div>\n",
       "<table border=\"1\" class=\"dataframe\">\n",
       "  <thead>\n",
       "    <tr style=\"text-align: right;\">\n",
       "      <th></th>\n",
       "      <th>Symbol</th>\n",
       "      <th>Description</th>\n",
       "      <th>Quantity</th>\n",
       "      <th>Price</th>\n",
       "      <th>Value</th>\n",
       "      <th>BofAML Rating</th>\n",
       "    </tr>\n",
       "  </thead>\n",
       "  <tbody>\n",
       "    <tr>\n",
       "      <th>20</th>\n",
       "      <td>WRBPRB</td>\n",
       "      <td>W.R.BERKLEY CORPORATION</td>\n",
       "      <td>100</td>\n",
       "      <td>$25.29</td>\n",
       "      <td>$2,529.00</td>\n",
       "      <td>--</td>\n",
       "    </tr>\n",
       "    <tr>\n",
       "      <th>21</th>\n",
       "      <td>CTZ</td>\n",
       "      <td>QWEST CORPORATION</td>\n",
       "      <td>100</td>\n",
       "      <td>$24.71</td>\n",
       "      <td>$2,471.00</td>\n",
       "      <td>--</td>\n",
       "    </tr>\n",
       "    <tr>\n",
       "      <th>22</th>\n",
       "      <td>OSM</td>\n",
       "      <td>SLM CORP</td>\n",
       "      <td>530</td>\n",
       "      <td>$23.72</td>\n",
       "      <td>$12,571.60</td>\n",
       "      <td>--</td>\n",
       "    </tr>\n",
       "    <tr>\n",
       "      <th>23</th>\n",
       "      <td>OPRF</td>\n",
       "      <td>REALTY INCOME</td>\n",
       "      <td>230</td>\n",
       "      <td>$26.14</td>\n",
       "      <td>$6,012.20</td>\n",
       "      <td>--</td>\n",
       "    </tr>\n",
       "    <tr>\n",
       "      <th>24</th>\n",
       "      <td>CTY</td>\n",
       "      <td>QWEST CORPORATION</td>\n",
       "      <td>100</td>\n",
       "      <td>$24.24</td>\n",
       "      <td>$2,424.00</td>\n",
       "      <td>--</td>\n",
       "    </tr>\n",
       "  </tbody>\n",
       "</table>\n",
       "</div>"
      ],
      "text/plain": [
       "     Symbol               Description Quantity    Price        Value  \\\n",
       "20  WRBPRB   W.R.BERKLEY CORPORATION      100   $25.29    $2,529.00    \n",
       "21     CTZ         QWEST CORPORATION      100   $24.71    $2,471.00    \n",
       "22     OSM                  SLM CORP      530   $23.72   $12,571.60    \n",
       "23    OPRF             REALTY INCOME      230   $26.14    $6,012.20    \n",
       "24     CTY         QWEST CORPORATION      100   $24.24    $2,424.00    \n",
       "\n",
       "   BofAML Rating  \n",
       "20           --   \n",
       "21           --   \n",
       "22           --   \n",
       "23           --   \n",
       "24           --   "
      ]
     },
     "execution_count": 24,
     "metadata": {},
     "output_type": "execute_result"
    }
   ],
   "source": [
    "preferred.tail()"
   ]
  },
  {
   "cell_type": "code",
   "execution_count": 25,
   "metadata": {
    "collapsed": true
   },
   "outputs": [],
   "source": [
    "# DONE: Select Limited Partnership data programmatically\n",
    "# sr = list(range(0,129)) + [130] + list(range(138,150))"
   ]
  },
  {
   "cell_type": "code",
   "execution_count": 26,
   "metadata": {
    "collapsed": true
   },
   "outputs": [],
   "source": [
    "sr = find_skiprows('ExportData27022016120308.csv', 'Limited Partnership')"
   ]
  },
  {
   "cell_type": "code",
   "execution_count": 27,
   "metadata": {
    "collapsed": false
   },
   "outputs": [
    {
     "data": {
      "text/html": [
       "<div>\n",
       "<table border=\"1\" class=\"dataframe\">\n",
       "  <thead>\n",
       "    <tr style=\"text-align: right;\">\n",
       "      <th></th>\n",
       "      <th>Symbol</th>\n",
       "      <th>Description</th>\n",
       "      <th>Quantity</th>\n",
       "      <th>Price</th>\n",
       "      <th>Value</th>\n",
       "    </tr>\n",
       "  </thead>\n",
       "  <tbody>\n",
       "    <tr>\n",
       "      <th>0</th>\n",
       "      <td>MMP</td>\n",
       "      <td>MAGELLAN MIDSTREAM</td>\n",
       "      <td>30</td>\n",
       "      <td>$66.39</td>\n",
       "      <td>$1,991.70</td>\n",
       "    </tr>\n",
       "    <tr>\n",
       "      <th>1</th>\n",
       "      <td>BIP</td>\n",
       "      <td>BROOKFIELD INFRASTUCR PA</td>\n",
       "      <td>120</td>\n",
       "      <td>$37.23</td>\n",
       "      <td>$4,467.60</td>\n",
       "    </tr>\n",
       "    <tr>\n",
       "      <th>2</th>\n",
       "      <td>BX</td>\n",
       "      <td>BLACKSTONE GROUP LP</td>\n",
       "      <td>70</td>\n",
       "      <td>$25.61</td>\n",
       "      <td>$1,792.70</td>\n",
       "    </tr>\n",
       "    <tr>\n",
       "      <th>3</th>\n",
       "      <td>EPD</td>\n",
       "      <td>ENTERPRISE PRDTS PRTN LP</td>\n",
       "      <td>180</td>\n",
       "      <td>$23.03</td>\n",
       "      <td>$4,145.40</td>\n",
       "    </tr>\n",
       "    <tr>\n",
       "      <th>4</th>\n",
       "      <td>KKR</td>\n",
       "      <td>KKR &amp; CO L P DEL</td>\n",
       "      <td>60</td>\n",
       "      <td>$12.34</td>\n",
       "      <td>$740.40</td>\n",
       "    </tr>\n",
       "    <tr>\n",
       "      <th>5</th>\n",
       "      <td>PAA</td>\n",
       "      <td>PLAINS ALL AMERN PIPL LP</td>\n",
       "      <td>140</td>\n",
       "      <td>$21.27</td>\n",
       "      <td>$2,977.80</td>\n",
       "    </tr>\n",
       "    <tr>\n",
       "      <th>6</th>\n",
       "      <td>WPZ</td>\n",
       "      <td>WILLIAMS PARTNERS</td>\n",
       "      <td>40</td>\n",
       "      <td>$19.96</td>\n",
       "      <td>$798.40</td>\n",
       "    </tr>\n",
       "  </tbody>\n",
       "</table>\n",
       "</div>"
      ],
      "text/plain": [
       "  Symbol                Description  Quantity    Price       Value\n",
       "0   MMP         MAGELLAN MIDSTREAM         30  $66.39   $1,991.70 \n",
       "1   BIP   BROOKFIELD INFRASTUCR PA        120  $37.23   $4,467.60 \n",
       "2    BX        BLACKSTONE GROUP LP         70  $25.61   $1,792.70 \n",
       "3   EPD   ENTERPRISE PRDTS PRTN LP        180  $23.03   $4,145.40 \n",
       "4   KKR           KKR & CO L P DEL         60  $12.34     $740.40 \n",
       "5   PAA   PLAINS ALL AMERN PIPL LP        140  $21.27   $2,977.80 \n",
       "6   WPZ          WILLIAMS PARTNERS         40  $19.96     $798.40 "
      ]
     },
     "execution_count": 27,
     "metadata": {},
     "output_type": "execute_result"
    }
   ],
   "source": [
    "mlp = pd.read_csv(\"ExportData27022016120308.csv\",skiprows=sr)\n",
    "mlp = mlp.rename(columns=lambda x: x.strip())\n",
    "mlp.drop(mlp.columns[[5,6,7]], axis=1, inplace=True)\n",
    "mlp.head(10)"
   ]
  },
  {
   "cell_type": "markdown",
   "metadata": {},
   "source": [
    "At this point I have created dataframes for all the individual categories of investments.\n",
    "the next step is to pull in cost basis data from the other data file."
   ]
  },
  {
   "cell_type": "code",
   "execution_count": 28,
   "metadata": {
    "collapsed": false
   },
   "outputs": [
    {
     "name": "stdout",
     "output_type": "stream",
     "text": [
      "Exported on: 02/27/2016 12:03 PM ET\n",
      "\n",
      "Selected account(s):CMA-Edge 54X-48Y73; CMA-Edge 57X-49W92; IRA-Edge 22X-48Y77; IRA-Edge 27Z-48Y73\n",
      "\n",
      "\"All Accounts\" ,\"Value\" ,\"Unrealized Gain/Loss\" \n",
      "\"\" ,\"$457,070.40\" ,\"-$4,955.94 -1.21%\" \n",
      ",\n",
      "\"Money Accounts\" ,\"Value\" ,\"Unrealized Gain/Loss\" \n",
      "\"\" ,\"$51,961.97\" ,\"$0.00 0.00%\" \n",
      ",\n",
      "\"\" ,\"Symbol \" ,\"Quantity\" ,\"Unit Cost\" ,\"Cost Basis\" ,\"Price\" ,\"Value\" ,\"Unrealized Gain/Loss $ Chg % Chg\" ,\" \" \n",
      ",\n",
      "\"\" ,\"990156937\" ,\"50,956\" ,\"--\" ,\"--\" ,\"$1.00\" ,\"$50,956.00\" ,\"-- --\" ,\"\" \n",
      "\"\" ,\"MMUSA\" ,\"1,005.9700\" ,\"$1.00\" ,\"$1,005.97\" ,\"$1.00\" ,\"$1,005.97\" ,\"$0.00 0.00%\" ,\"\" \n",
      "\"\" ,\"Total\" ,\"\" ,\"\" ,\"\" ,\"\" ,\"$51,961.97\" ,\"$0.00 0.00%\" ,\"\" \n",
      ",\n",
      "\"Balances\" ,\"\" ,\"Cash balance\" ,\"$0.24\" ,\"Pending activity\" ,\"$0.00\" ,\"Margin balance\" ,\"$0.25\" \n",
      ",\n",
      "\"Stocks & Related\" ,\"Value\" ,\"Unrealized Gain/Loss\" \n",
      "\"\" ,\"$107,564.83\" ,\"-$3,443.94 -3.10%\" \n",
      ",\n",
      "\"\" ,\"Symbol \" ,\"Quantity\" ,\"Unit Cost\" ,\"Cost Basis\" ,\"Price\" ,\"Value\" ,\"Unrealized Gain/Loss $ Chg % Chg\" ,\"BofAML Rating\" \n",
      ",\n",
      "\"\" ,\"BOND\" ,\"30\" ,\"$105.00\" ,\"$3,150.00\" ,\"$104.25\" ,\"$3,127.50\" ,\"-$22.50 -0.71%\" ,\"--\" \n",
      "\"\" ,\"BRKB\" ,\"7\" ,\"$135.71\" ,\"$950.00\" ,\"$131.92\" ,\"$923.44\" ,\"-$26.56 -2.80%\" ,\"--\" \n",
      "\"\" ,\"CCI\" ,\"10\" ,\"$80.50\" ,\"$805.00\" ,\"$85.79\" ,\"$857.90\" ,\"+$52.90 +6.57%\" ,\"Buy (B-1-7)\" \n",
      "\"\" ,\"CCP\" ,\"3\" ,\"$32.70\" ,\"$98.11\" ,\"$26.40\" ,\"$79.20\" ,\"-$18.91 -19.27%\" ,\"--\" \n",
      "\"\" ,\"COP\" ,\"60\" ,\"$46.56\" ,\"$2,793.50\" ,\"$34.12\" ,\"$2,047.20\" ,\"-$746.30 -26.72%\" ,\"Buy (B-1-8)\" \n",
      "\"\" ,\"CORR\" ,\"101\" ,\"$28.98\" ,\"$2,927.32\" ,\"$12.76\" ,\"$1,288.76\" ,\"-$1,638.56 -55.98%\" ,\"Neutral (C-2-8)\" \n",
      "\"\" ,\"CTL\" ,\"30\" ,\"$24.13\" ,\"$724.00\" ,\"$30.17\" ,\"$905.10\" ,\"+$181.10 +25.01%\" ,\"Buy (B-1-7)\" \n",
      "\"\" ,\"CVX\" ,\"130\" ,\"$94.05\" ,\"$12,227.00\" ,\"$84.35\" ,\"$10,965.50\" ,\"-$1,261.50 -10.32%\" ,\"Neutral (B-2-8)\" \n",
      "\"\" ,\"FTR\" ,\"150\" ,\"$4.35\" ,\"$652.88\" ,\"$5.43\" ,\"$814.50\" ,\"+$161.62 +24.76%\" ,\"Buy (B-1-7)\" \n",
      "\"\" ,\"GE\" ,\"1,010.0145\" ,\"$25.07\" ,\"$25,319.15\" ,\"$29.40\" ,\"$29,694.42\" ,\"+$4,375.27 +17.28%\" ,\"Buy (B-1-7)\" \n",
      "\"\" ,\"HCP\" ,\"20\" ,\"$37.47\" ,\"$749.46\" ,\"$29.90\" ,\"$598.00\" ,\"-$151.46 -20.21%\" ,\"Underperform (B-3-7)\" \n",
      "\"\" ,\"KMI\" ,\"225\" ,\"$25.33\" ,\"$5,699.15\" ,\"$17.76\" ,\"$3,996.00\" ,\"-$1,703.15 -29.88%\" ,\"Neutral (C-2-8)\" \n",
      "\"\" ,\"O\" ,\"210\" ,\"$46.75\" ,\"$9,817.42\" ,\"$58.63\" ,\"$12,312.30\" ,\"+$2,494.88 +25.41%\" ,\"Buy (B-1-7)\" \n",
      "\"\" ,\"PFE\" ,\"10\" ,\"$28.48\" ,\"$284.80\" ,\"$30.23\" ,\"$302.30\" ,\"+$17.50 +6.15%\" ,\"Buy (A-1-7)\" \n",
      "\"\" ,\"PFF\" ,\"307.8440\" ,\"$39.79\" ,\"$12,249.42\" ,\"$38.21\" ,\"$11,762.71\" ,\"-$486.71 -3.97%\" ,\"--\" \n",
      "\"\" ,\"PJT\" ,\"1\" ,\"$3.80\" ,\"$3.80\" ,\"$27.38\" ,\"$27.38\" ,\"+$23.58 +620.53%\" ,\"--\" \n",
      "\"\" ,\"POT\" ,\"20\" ,\"$16.10\" ,\"$322.00\" ,\"$17.10\" ,\"$342.00\" ,\"+$20.00 +6.21%\" ,\"Underperform (C-3-8)\" \n",
      "\"\" ,\"QCOM\" ,\"10\" ,\"$43.00\" ,\"$430.00\" ,\"$51.62\" ,\"$516.20\" ,\"+$86.20 +20.05%\" ,\"Buy (C-1-7)\" \n",
      "\"\" ,\"RMR\" ,\"2\" ,\"$11.89\" ,\"$23.78\" ,\"$23.09\" ,\"$46.18\" ,\"+$22.40 +94.20%\" ,\"--\" \n",
      "\"\" ,\"SE\" ,\"60\" ,\"$27.70\" ,\"$1,662.30\" ,\"$29.22\" ,\"$1,753.20\" ,\"+$90.90 +5.47%\" ,\"Neutral (B-2-7)\" \n",
      "\"\" ,\"SNH\" ,\"220\" ,\"$18.61\" ,\"$4,094.31\" ,\"$15.32\" ,\"$3,370.40\" ,\"-$723.91 -17.68%\" ,\"Underperform (B-3-7)\" \n",
      "\"\" ,\"SPFF\" ,\"728.6661\" ,\"$14.58\" ,\"$10,625.80\" ,\"$12.86\" ,\"$9,370.64\" ,\"-$1,255.16 -11.81%\" ,\"--\" \n",
      "\"\" ,\"VTR\" ,\"80\" ,\"$54.45\" ,\"$4,356.06\" ,\"$55.39\" ,\"$4,431.20\" ,\"+$75.14 +1.73%\" ,\"Buy (B-1-7)\" \n",
      "\"\" ,\"WIN\" ,\"150\" ,\"$5.85\" ,\"$878.00\" ,\"$7.25\" ,\"$1,087.50\" ,\"+$209.50 +23.86%\" ,\"Buy (C-1-7)\" \n",
      "\"\" ,\"WMB\" ,\"150\" ,\"$39.16\" ,\"$5,874.61\" ,\"$15.64\" ,\"$2,346.00\" ,\"-$3,528.61 -60.07%\" ,\"--\" \n",
      "\"\" ,\"WY\" ,\"20\" ,\"$25.72\" ,\"$514.40\" ,\"$25.59\" ,\"$511.80\" ,\"-$2.60 -0.51%\" ,\"Buy (C-1-7)\" \n",
      "\"\" ,\"XOM\" ,\"50\" ,\"$75.53\" ,\"$3,776.50\" ,\"$81.75\" ,\"$4,087.50\" ,\"+$311.00 +8.24%\" ,\"Buy (A-1-7)\" \n",
      "\"\" ,\"Total\" ,\"\" ,\"\" ,\"\" ,\"\" ,\"$107,564.83\" ,\"-$3,443.94 -3.10%\" ,\"\" \n",
      ",\n",
      "\"Mutual Funds\" ,\"Value\" ,\"Unrealized Gain/Loss\" \n",
      "\"\" ,\"$2,402.60\" ,\"-$141.70 -5.57%\" \n",
      ",\n",
      "\"\" ,\"Symbol \" ,\"Quantity\" ,\"Unit Cost\" ,\"Cost Basis\" ,\"Price\" ,\"Value\" ,\"Unrealized Gain/Loss $ Chg % Chg\" ,\"Cumulative Investment Return $ Chg % Chg\" ,\"Total Client Investment\" \n",
      ",\n",
      "\"\" ,\"JFR\" ,\"30\" ,\"$9.81\" ,\"$294.30\" ,\"$9.21\" ,\"$276.30\" ,\"-$18.00 -6.12%\" ,\"-$18.00 -6.12%\" ,\"$294.30\" \n",
      "\"\" ,\"PCI\" ,\"50\" ,\"$18.18\" ,\"$909.00\" ,\"$16.95\" ,\"$847.50\" ,\"-$61.50 -6.77%\" ,\"-$61.50 -6.77%\" ,\"$909.00\" \n",
      "\"\" ,\"PDI\" ,\"30\" ,\"$27.26\" ,\"$817.80\" ,\"$25.36\" ,\"$760.80\" ,\"-$57.00 -6.97%\" ,\"-$57.00 -6.97%\" ,\"$817.80\" \n",
      "\"\" ,\"PTY\" ,\"40\" ,\"$13.08\" ,\"$523.20\" ,\"$12.95\" ,\"$518.00\" ,\"-$5.20 -0.99%\" ,\"-$5.20 -0.99%\" ,\"$523.20\" \n",
      "\"\" ,\"Total\" ,\"\" ,\"\" ,\"\" ,\"\" ,\"$2,402.60\" ,\"-$141.70 -5.57%\" ,\"-$141.70 -5.57%\" ,\"\" \n",
      ",\n",
      "\"Corporate Bonds\" ,\"Value\" ,\"Unrealized Gain/Loss\" \n",
      "\"\" ,\"$108,939.03\" ,\"-$961.81 -0.88%\" \n",
      ",\n",
      "\"\" ,\"Symbol \" ,\"Quantity\" ,\"Unit Cost\" ,\"Cost Basis\" ,\"Price\" ,\"Value\" ,\"Unrealized Gain/Loss $ Chg % Chg\" ,\"Accrued Interest\" ,\" \" \n",
      ",\n",
      "\"\" ,\"BAC 16\" ,\"28,000\" ,\"$101.07\" ,\"$28,298.55\" ,\"$100.9530\" ,\"$28,737.39\" ,\"-$31.71 -0.11%\" ,\"$470.56\" ,\"\" \n",
      "\"\" ,\"BAC16J\" ,\"10,000\" ,\"$101.08\" ,\"$10,107.68\" ,\"$101.0560\" ,\"$10,151.43\" ,\"-$2.08 -0.02%\" ,\"$45.83\" ,\"\" \n",
      "\"\" ,\"F16A\" ,\"10,000\" ,\"$100.44\" ,\"$10,043.71\" ,\"$100.37\" ,\"$10,190.08\" ,\"-$6.71 -0.07%\" ,\"$153.09\" ,\"\" \n",
      "\"\" ,\"FCX18\" ,\"5,000\" ,\"$100.12\" ,\"$5,006.12\" ,\"$82.7380\" ,\"$4,190.00\" ,\"-$869.22 -17.36%\" ,\"$53.11\" ,\"\" \n",
      "\"\" ,\"FE16\" ,\"10,000\" ,\"$100.80\" ,\"$10,079.76\" ,\"$100.6280\" ,\"$10,242.48\" ,\"-$16.96 -0.17%\" ,\"$179.69\" ,\"\" \n",
      "\"\" ,\"IP16\" ,\"10,000\" ,\"$100.41\" ,\"$10,040.87\" ,\"$100.3060\" ,\"$10,242.05\" ,\"-$10.27 -0.10%\" ,\"$211.46\" ,\"\" \n",
      "\"\" ,\"T16A\" ,\"25,000\" ,\"$100.70\" ,\"$25,174.91\" ,\"$100.60\" ,\"$25,168.33\" ,\"-$24.91 -0.10%\" ,\"$18.33\" ,\"\" \n",
      "\"\" ,\"WACH16\" ,\"10,000\" ,\"$100.00\" ,\"$10,000.15\" ,\"$100.0020\" ,\"$10,017.27\" ,\"+$0.05 0.00%\" ,\"$17.07\" ,\"\" \n",
      "\"\" ,\"Total\" ,\"\" ,\"\" ,\"\" ,\"\" ,\"$108,939.03\" ,\"-$961.81 -0.88%\" ,\"$1,149.14\" ,\"\" \n",
      ",\n",
      "\"Convertible Securities\" ,\"Value\" ,\"Unrealized Gain/Loss\" \n",
      "\"\" ,\"$1,389.90\" ,\"-$24.30 -1.72%\" \n",
      ",\n",
      "\"\" ,\"Symbol \" ,\"Quantity\" ,\"Unit Cost\" ,\"Cost Basis\" ,\"Price\" ,\"Value\" ,\"Unrealized Gain/Loss $ Chg % Chg\" ,\"Accrued Interest\" ,\" \" \n",
      ",\n",
      "\"\" ,\"WYPRA\" ,\"30\" ,\"$47.14\" ,\"$1,414.20\" ,\"$46.33\" ,\"$1,389.90\" ,\"-$24.30 -1.72%\" ,\"--\" ,\"\" \n",
      "\"\" ,\"Total\" ,\"\" ,\"\" ,\"\" ,\"\" ,\"$1,389.90\" ,\"-$24.30 -1.72%\" ,\"--\" ,\"\" \n",
      ",\n",
      "\"Other Bonds\" ,\"Value\" ,\"Unrealized Gain/Loss\" \n",
      "\"\" ,\"$20,380.15\" ,\"-$22.24 -0.11%\" \n",
      ",\n",
      "\"\" ,\"Symbol \" ,\"Quantity\" ,\"Unit Cost\" ,\"Cost Basis\" ,\"Price\" ,\"Value\" ,\"Unrealized Gain/Loss $ Chg % Chg\" ,\"Accrued Interest\" ,\" \" \n",
      ",\n",
      "\"\" ,\"WSH16\" ,\"20,000\" ,\"$100.17\" ,\"$20,033.44\" ,\"$100.0560\" ,\"$20,380.15\" ,\"-$22.24 -0.11%\" ,\"$368.96\" ,\"\" \n",
      "\"\" ,\"Total\" ,\"\" ,\"\" ,\"\" ,\"\" ,\"$20,380.15\" ,\"-$22.24 -0.11%\" ,\"$368.96\" ,\"\" \n",
      ",\n",
      "\"Preferred Stock\" ,\"Value\" ,\"Unrealized Gain/Loss\" \n",
      "\"\" ,\"$147,517.43\" ,\"+$4,817.18 +3.38%\" \n",
      ",\n",
      "\"\" ,\"Symbol \" ,\"Quantity\" ,\"Unit Cost\" ,\"Cost Basis\" ,\"Price\" ,\"Value\" ,\"Unrealized Gain/Loss $ Chg % Chg\" ,\"BofAML Rating\" \n",
      ",\n",
      "\"\" ,\"CTY\" ,\"100\" ,\"$24.66\" ,\"$2,466.00\" ,\"$24.24\" ,\"$2,424.00\" ,\"-$42.00 -1.70%\" ,\"--\" \n",
      "\"\" ,\"CTZ\" ,\"100\" ,\"$24.37\" ,\"$2,436.99\" ,\"$24.71\" ,\"$2,471.00\" ,\"+$34.01 +1.40%\" ,\"--\" \n",
      "\"\" ,\"DDRPRK\" ,\"100\" ,\"$24.50\" ,\"$2,450.00\" ,\"$25.78\" ,\"$2,578.00\" ,\"+$128.00 +5.22%\" ,\"--\" \n",
      "\"\" ,\"DLRPRG\" ,\"100\" ,\"$23.90\" ,\"$2,390.00\" ,\"$24.90\" ,\"$2,490.00\" ,\"+$100.00 +4.18%\" ,\"--\" \n",
      "\"\" ,\"DTQ\" ,\"190\" ,\"$24.39\" ,\"$4,633.60\" ,\"$25.16\" ,\"$4,780.40\" ,\"+$146.80 +3.17%\" ,\"--\" \n",
      "\"\" ,\"GEB\" ,\"806 1.3233\" ,\"$25.04 --\" ,\"$20,179.65 --\" ,\"$26.05 --\" ,\"$20,996.30 $34.47\" ,\"+$816.65 -- +4.05% --\" ,\"-- --\" \n",
      "\"\" ,\"GEH\" ,\"814\" ,\"$25.00\" ,\"$20,349.99\" ,\"$26.04\" ,\"$21,196.56\" ,\"+$846.57 +4.16%\" ,\"--\" \n",
      "\"\" ,\"GEK\" ,\"1,110 1.8003\" ,\"$25.00 --\" ,\"$27,744.72 --\" ,\"$25.82 --\" ,\"$28,660.20 $46.48\" ,\"+$915.48 -- +3.30% --\" ,\"-- --\" \n",
      "\"\" ,\"KIMPRI\" ,\"100\" ,\"$25.00\" ,\"$2,500.00\" ,\"$25.73\" ,\"$2,573.00\" ,\"+$73.00 +2.92%\" ,\"--\" \n",
      "\"\" ,\"KIMPRK\" ,\"100\" ,\"$24.60\" ,\"$2,460.00\" ,\"$25.32\" ,\"$2,532.00\" ,\"+$72.00 +2.93%\" ,\"--\" \n",
      "\"\" ,\"NEEPRH\" ,\"100\" ,\"$24.75\" ,\"$2,475.00\" ,\"$25.60\" ,\"$2,560.00\" ,\"+$85.00 +3.43%\" ,\"--\" \n",
      "\"\" ,\"NEEPRI\" ,\"200\" ,\"$24.15\" ,\"$4,830.00\" ,\"$25.09\" ,\"$5,018.00\" ,\"+$188.00 +3.89%\" ,\"--\" \n",
      "\"\" ,\"NEEPRJ\" ,\"100\" ,\"$24.00\" ,\"$2,400.00\" ,\"$25.13\" ,\"$2,513.00\" ,\"+$113.00 +4.71%\" ,\"--\" \n",
      "\"\" ,\"NNNPRE\" ,\"200\" ,\"$24.25\" ,\"$4,850.00\" ,\"$25.43\" ,\"$5,086.00\" ,\"+$236.00 +4.87%\" ,\"--\" \n",
      "\"\" ,\"OPRF\" ,\"230\" ,\"$26.37\" ,\"$6,065.75\" ,\"$26.14\" ,\"$6,012.20\" ,\"-$53.55 -0.88%\" ,\"--\" \n",
      "\"\" ,\"OSM\" ,\"530\" ,\"$23.46\" ,\"$12,434.60\" ,\"$23.72\" ,\"$12,571.60\" ,\"+$137.00 +1.10%\" ,\"--\" \n",
      "\"\" ,\"PRH\" ,\"100\" ,\"$25.00\" ,\"$2,500.00\" ,\"$25.95\" ,\"$2,595.00\" ,\"+$95.00 +3.80%\" ,\"--\" \n",
      "\"\" ,\"PSAPRU\" ,\"100\" ,\"$24.25\" ,\"$2,425.00\" ,\"$25.75\" ,\"$2,575.00\" ,\"+$150.00 +6.19%\" ,\"--\" \n",
      "\"\" ,\"PSAPRV\" ,\"100\" ,\"$24.49\" ,\"$2,449.00\" ,\"$25.86\" ,\"$2,586.00\" ,\"+$137.00 +5.59%\" ,\"--\" \n",
      "\"\" ,\"PSAPRW\" ,\"100\" ,\"$24.42\" ,\"$2,442.00\" ,\"$25.31\" ,\"$2,531.00\" ,\"+$89.00 +3.65%\" ,\"--\" \n",
      "\"\" ,\"PSAPRX\" ,\"100\" ,\"$24.42\" ,\"$2,442.00\" ,\"$25.35\" ,\"$2,535.00\" ,\"+$93.00 +3.81%\" ,\"--\" \n",
      "\"\" ,\"VNOPRK\" ,\"100\" ,\"$24.65\" ,\"$2,465.00\" ,\"$25.54\" ,\"$2,554.00\" ,\"+$89.00 +3.61%\" ,\"--\" \n",
      "\"\" ,\"VNOPRL\" ,\"100\" ,\"$22.75\" ,\"$2,275.00\" ,\"$24.97\" ,\"$2,497.00\" ,\"+$222.00 +9.76%\" ,\"--\" \n",
      "\"\" ,\"VTRB\" ,\"100\" ,\"$24.70\" ,\"$2,470.00\" ,\"$25.7222\" ,\"$2,572.22\" ,\"+$102.22 +4.14%\" ,\"--\" \n",
      "\"\" ,\"WRBPRB\" ,\"100\" ,\"$24.85\" ,\"$2,485.00\" ,\"$25.29\" ,\"$2,529.00\" ,\"+$44.00 +1.77%\" ,\"--\" \n",
      "\"\" ,\"Total\" ,\"\" ,\"\" ,\"\" ,\"\" ,\"$147,517.43\" ,\"+$4,817.18 +3.38%\" ,\"\" \n",
      ",\n",
      "\"Limited Partnership\" ,\"Value\" ,\"Unrealized Gain/Loss\" \n",
      "\"\" ,\"$16,914.00\" ,\"-$5,179.13 -23.44%\" \n",
      ",\n",
      "\"\" ,\"Symbol \" ,\"Quantity\" ,\"Unit Cost\" ,\"Cost Basis\" ,\"Price\" ,\"Value\" ,\"Unrealized Gain/Loss $ Chg % Chg\" ,\" \" \n",
      ",\n",
      "\"\" ,\"BIP\" ,\"120\" ,\"$42.33\" ,\"$5,079.53\" ,\"$37.23\" ,\"$4,467.60\" ,\"-$611.93 -12.05%\" ,\"\" \n",
      "\"\" ,\"BX\" ,\"70\" ,\"$30.42\" ,\"$2,129.20\" ,\"$25.61\" ,\"$1,792.70\" ,\"-$336.50 -15.80%\" ,\"\" \n",
      "\"\" ,\"EPD\" ,\"180\" ,\"$27.91\" ,\"$5,024.57\" ,\"$23.03\" ,\"$4,145.40\" ,\"-$879.17 -17.50%\" ,\"\" \n",
      "\"\" ,\"KKR\" ,\"60\" ,\"$15.44\" ,\"$926.50\" ,\"$12.34\" ,\"$740.40\" ,\"-$186.10 -20.09%\" ,\"\" \n",
      "\"\" ,\"MMP\" ,\"30\" ,\"$60.84\" ,\"$1,825.28\" ,\"$66.39\" ,\"$1,991.70\" ,\"+$166.42 +9.12%\" ,\"\" \n",
      "\"\" ,\"PAA\" ,\"140\" ,\"$39.74\" ,\"$5,563.05\" ,\"$21.27\" ,\"$2,977.80\" ,\"-$2,585.25 -46.47%\" ,\"\" \n",
      "\"\" ,\"WPZ\" ,\"40\" ,\"$38.63\" ,\"$1,545.00\" ,\"$19.96\" ,\"$798.40\" ,\"-$746.60 -48.32%\" ,\"\" \n",
      "\"\" ,\"Total\" ,\"\" ,\"\" ,\"\" ,\"\" ,\"$16,914.00\" ,\"-$5,179.13 -23.44%\" ,\"\" \n",
      ",\n",
      "\n"
     ]
    }
   ],
   "source": [
    "# Unrealized Gains Data for cost basis\n",
    "print(open('ExportData27022016120333.csv').read())"
   ]
  },
  {
   "cell_type": "code",
   "execution_count": 29,
   "metadata": {
    "collapsed": false
   },
   "outputs": [],
   "source": [
    "sr = find_skiprows('ExportData27022016120308.csv', 'Stocks & Related')"
   ]
  },
  {
   "cell_type": "code",
   "execution_count": 30,
   "metadata": {
    "collapsed": false
   },
   "outputs": [
    {
     "data": {
      "text/html": [
       "<div>\n",
       "<table border=\"1\" class=\"dataframe\">\n",
       "  <thead>\n",
       "    <tr style=\"text-align: right;\">\n",
       "      <th></th>\n",
       "      <th>Symbol</th>\n",
       "      <th>Unit Cost</th>\n",
       "      <th>Cost Basis</th>\n",
       "    </tr>\n",
       "  </thead>\n",
       "  <tbody>\n",
       "    <tr>\n",
       "      <th>0</th>\n",
       "      <td>BOND</td>\n",
       "      <td>$105.00</td>\n",
       "      <td>$3,150.00</td>\n",
       "    </tr>\n",
       "    <tr>\n",
       "      <th>1</th>\n",
       "      <td>BRKB</td>\n",
       "      <td>$135.71</td>\n",
       "      <td>$950.00</td>\n",
       "    </tr>\n",
       "    <tr>\n",
       "      <th>2</th>\n",
       "      <td>CCI</td>\n",
       "      <td>$80.50</td>\n",
       "      <td>$805.00</td>\n",
       "    </tr>\n",
       "    <tr>\n",
       "      <th>3</th>\n",
       "      <td>CCP</td>\n",
       "      <td>$32.70</td>\n",
       "      <td>$98.11</td>\n",
       "    </tr>\n",
       "    <tr>\n",
       "      <th>4</th>\n",
       "      <td>COP</td>\n",
       "      <td>$46.56</td>\n",
       "      <td>$2,793.50</td>\n",
       "    </tr>\n",
       "  </tbody>\n",
       "</table>\n",
       "</div>"
      ],
      "text/plain": [
       "  Symbol Unit Cost  Cost Basis\n",
       "0  BOND   $105.00   $3,150.00 \n",
       "1  BRKB   $135.71     $950.00 \n",
       "2   CCI    $80.50     $805.00 \n",
       "3   CCP    $32.70      $98.11 \n",
       "4   COP    $46.56   $2,793.50 "
      ]
     },
     "execution_count": 30,
     "metadata": {},
     "output_type": "execute_result"
    }
   ],
   "source": [
    "stock_cost = pd.read_csv('ExportData27022016120333.csv',skiprows=sr)\n",
    "stock_cost = stock_cost.rename(columns=lambda x: x.strip())\n",
    "stock_cost.drop(stock_cost.columns[[0,2,5,6,7,8]],axis=1,inplace=True)\n",
    "stock_cost.head()"
   ]
  },
  {
   "cell_type": "code",
   "execution_count": 31,
   "metadata": {
    "collapsed": false
   },
   "outputs": [
    {
     "data": {
      "text/html": [
       "<div>\n",
       "<table border=\"1\" class=\"dataframe\">\n",
       "  <thead>\n",
       "    <tr style=\"text-align: right;\">\n",
       "      <th></th>\n",
       "      <th>Symbol</th>\n",
       "      <th>Unit Cost</th>\n",
       "      <th>Cost Basis</th>\n",
       "    </tr>\n",
       "  </thead>\n",
       "  <tbody>\n",
       "    <tr>\n",
       "      <th>22</th>\n",
       "      <td>VTR</td>\n",
       "      <td>$54.45</td>\n",
       "      <td>$4,356.06</td>\n",
       "    </tr>\n",
       "    <tr>\n",
       "      <th>23</th>\n",
       "      <td>WIN</td>\n",
       "      <td>$5.85</td>\n",
       "      <td>$878.00</td>\n",
       "    </tr>\n",
       "    <tr>\n",
       "      <th>24</th>\n",
       "      <td>WMB</td>\n",
       "      <td>$39.16</td>\n",
       "      <td>$5,874.61</td>\n",
       "    </tr>\n",
       "    <tr>\n",
       "      <th>25</th>\n",
       "      <td>WY</td>\n",
       "      <td>$25.72</td>\n",
       "      <td>$514.40</td>\n",
       "    </tr>\n",
       "    <tr>\n",
       "      <th>26</th>\n",
       "      <td>XOM</td>\n",
       "      <td>$75.53</td>\n",
       "      <td>$3,776.50</td>\n",
       "    </tr>\n",
       "  </tbody>\n",
       "</table>\n",
       "</div>"
      ],
      "text/plain": [
       "   Symbol Unit Cost  Cost Basis\n",
       "22   VTR    $54.45   $4,356.06 \n",
       "23   WIN     $5.85     $878.00 \n",
       "24   WMB    $39.16   $5,874.61 \n",
       "25    WY    $25.72     $514.40 \n",
       "26   XOM    $75.53   $3,776.50 "
      ]
     },
     "execution_count": 31,
     "metadata": {},
     "output_type": "execute_result"
    }
   ],
   "source": [
    "stock_cost.tail()"
   ]
  },
  {
   "cell_type": "code",
   "execution_count": 32,
   "metadata": {
    "collapsed": false
   },
   "outputs": [
    {
     "data": {
      "text/html": [
       "<div>\n",
       "<table border=\"1\" class=\"dataframe\">\n",
       "  <thead>\n",
       "    <tr style=\"text-align: right;\">\n",
       "      <th></th>\n",
       "      <th>Symbol</th>\n",
       "      <th>Description</th>\n",
       "      <th>Quantity</th>\n",
       "      <th>Price</th>\n",
       "      <th>Value</th>\n",
       "      <th>BofAML Rating</th>\n",
       "      <th>type</th>\n",
       "      <th>Unit Cost</th>\n",
       "      <th>Cost Basis</th>\n",
       "    </tr>\n",
       "  </thead>\n",
       "  <tbody>\n",
       "    <tr>\n",
       "      <th>0</th>\n",
       "      <td>PJT</td>\n",
       "      <td>PJT PARTNERS INC SHS</td>\n",
       "      <td>1</td>\n",
       "      <td>$27.38</td>\n",
       "      <td>$27.38</td>\n",
       "      <td>--</td>\n",
       "      <td>stock</td>\n",
       "      <td>$3.80</td>\n",
       "      <td>$3.80</td>\n",
       "    </tr>\n",
       "    <tr>\n",
       "      <th>1</th>\n",
       "      <td>RMR</td>\n",
       "      <td>RMR (THE) GROUP INC SHS</td>\n",
       "      <td>2</td>\n",
       "      <td>$23.09</td>\n",
       "      <td>$46.18</td>\n",
       "      <td>--</td>\n",
       "      <td>stock</td>\n",
       "      <td>$11.89</td>\n",
       "      <td>$23.78</td>\n",
       "    </tr>\n",
       "    <tr>\n",
       "      <th>2</th>\n",
       "      <td>O</td>\n",
       "      <td>REALTY INCM CRP MD PV$1.</td>\n",
       "      <td>210</td>\n",
       "      <td>$58.63</td>\n",
       "      <td>$12,312.30</td>\n",
       "      <td>Buy (B-1-7)</td>\n",
       "      <td>stock</td>\n",
       "      <td>$46.75</td>\n",
       "      <td>$9,817.42</td>\n",
       "    </tr>\n",
       "    <tr>\n",
       "      <th>3</th>\n",
       "      <td>CTL</td>\n",
       "      <td>CENTURYLINK INC SHS</td>\n",
       "      <td>30</td>\n",
       "      <td>$30.17</td>\n",
       "      <td>$905.10</td>\n",
       "      <td>Buy (B-1-7)</td>\n",
       "      <td>stock</td>\n",
       "      <td>$24.13</td>\n",
       "      <td>$724.00</td>\n",
       "    </tr>\n",
       "    <tr>\n",
       "      <th>4</th>\n",
       "      <td>FTR</td>\n",
       "      <td>FRONTIER COMMUNICATIONS</td>\n",
       "      <td>150</td>\n",
       "      <td>$5.43</td>\n",
       "      <td>$814.50</td>\n",
       "      <td>Buy (B-1-7)</td>\n",
       "      <td>stock</td>\n",
       "      <td>$4.35</td>\n",
       "      <td>$652.88</td>\n",
       "    </tr>\n",
       "  </tbody>\n",
       "</table>\n",
       "</div>"
      ],
      "text/plain": [
       "  Symbol                Description Quantity    Price        Value  \\\n",
       "0   PJT       PJT PARTNERS INC SHS        1   $27.38       $27.38    \n",
       "1   RMR    RMR (THE) GROUP INC SHS        2   $23.09       $46.18    \n",
       "2     O   REALTY INCM CRP MD PV$1.      210   $58.63   $12,312.30    \n",
       "3   CTL        CENTURYLINK INC SHS       30   $30.17      $905.10    \n",
       "4   FTR    FRONTIER COMMUNICATIONS      150    $5.43      $814.50    \n",
       "\n",
       "  BofAML Rating   type Unit Cost  Cost Basis  \n",
       "0           --   stock    $3.80       $3.80   \n",
       "1           --   stock   $11.89      $23.78   \n",
       "2  Buy (B-1-7)   stock   $46.75   $9,817.42   \n",
       "3  Buy (B-1-7)   stock   $24.13     $724.00   \n",
       "4  Buy (B-1-7)   stock    $4.35     $652.88   "
      ]
     },
     "execution_count": 32,
     "metadata": {},
     "output_type": "execute_result"
    }
   ],
   "source": [
    "s = pd.merge(stock,stock_cost,on='Symbol')\n",
    "s.head()"
   ]
  }
 ],
 "metadata": {
  "kernelspec": {
   "display_name": "Python 3",
   "language": "python",
   "name": "python3"
  },
  "language_info": {
   "codemirror_mode": {
    "name": "ipython",
    "version": 3
   },
   "file_extension": ".py",
   "mimetype": "text/x-python",
   "name": "python",
   "nbconvert_exporter": "python",
   "pygments_lexer": "ipython3",
   "version": "3.4.3"
  }
 },
 "nbformat": 4,
 "nbformat_minor": 0
}
