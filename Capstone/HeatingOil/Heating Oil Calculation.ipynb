{
 "cells": [
  {
   "cell_type": "markdown",
   "metadata": {},
   "source": [
    "http://mathworld.wolfram.com/HorizontalCylindricalSegment.html\n",
    "\n",
    "Calculating the volume of oil left in the Heating oil tank based on depth of fuel as measured by a tape measure.\n",
    "![Formula from Wolfram](http://mathworld.wolfram.com/images/equations/HorizontalCylindricalSegment/NumberedEquation1.gif)"
   ]
  },
  {
   "cell_type": "code",
   "execution_count": 1,
   "metadata": {
    "collapsed": true
   },
   "outputs": [],
   "source": [
    "import math"
   ]
  },
  {
   "cell_type": "code",
   "execution_count": 2,
   "metadata": {
    "collapsed": true
   },
   "outputs": [],
   "source": [
    "# Radius of circular segment in inches\n",
    "R = 11\n",
    "# Length of the tank\n",
    "L = 72"
   ]
  },
  {
   "cell_type": "code",
   "execution_count": 3,
   "metadata": {
    "collapsed": true
   },
   "outputs": [],
   "source": [
    "# Height of oil on 1/2/2016\n",
    "h = 5.125"
   ]
  },
  {
   "cell_type": "code",
   "execution_count": 4,
   "metadata": {
    "collapsed": false
   },
   "outputs": [
    {
     "data": {
      "text/plain": [
       "20.96270677027843"
      ]
     },
     "execution_count": 4,
     "metadata": {},
     "output_type": "execute_result"
    }
   ],
   "source": [
    "# Volume in cubic inches\n",
    "V = L * (R**2 * math.acos( (R-h)/R ) - (R-h) * math.sqrt(2*R*h - h**2))\n",
    "# Volume in gallons - 231 in**3 == 1 Gallon\n",
    "V/231"
   ]
  },
  {
   "cell_type": "code",
   "execution_count": 5,
   "metadata": {
    "collapsed": true
   },
   "outputs": [],
   "source": [
    "def tank_volume(R,L,h):\n",
    "    return (L * (R**2 * math.acos( (R-h)/R ) - (R-h) * math.sqrt(2*R*h - h**2)))/231\n"
   ]
  },
  {
   "cell_type": "code",
   "execution_count": 6,
   "metadata": {
    "collapsed": false
   },
   "outputs": [
    {
     "data": {
      "text/plain": [
       "20.96270677027843"
      ]
     },
     "execution_count": 6,
     "metadata": {},
     "output_type": "execute_result"
    }
   ],
   "source": [
    "h02 = h\n",
    "tank_volume(R,L,h02)"
   ]
  },
  {
   "cell_type": "markdown",
   "metadata": {},
   "source": [
    "Weather Yesterday [1/2/2016](http://www.wunderground.com/history/airport/KPHL/2016/1/2/DailyHistory.html?req_city=Ardmore&req_state=PA&req_statename=Pennsylvania&reqdb.zip=19003&reqdb.magic=1&reqdb.wmo=99999)  \n",
    "Heating Degree Days (base 65) = 27  \n",
    "Minimum Temperature = -1C  \n",
    "Maximum Temperature = 7C  \n",
    "Mean Temperature = 3C   "
   ]
  },
  {
   "cell_type": "code",
   "execution_count": 7,
   "metadata": {
    "collapsed": true
   },
   "outputs": [],
   "source": [
    "# Height of oil on morning of 1/3/2016\n",
    "h03 = 4.5"
   ]
  },
  {
   "cell_type": "code",
   "execution_count": 8,
   "metadata": {
    "collapsed": false
   },
   "outputs": [
    {
     "data": {
      "text/plain": [
       "3.5423963599123844"
      ]
     },
     "execution_count": 8,
     "metadata": {},
     "output_type": "execute_result"
    }
   ],
   "source": [
    "# Gallons burned on 1/2/2016\n",
    "tank_volume(R,L,h02)-tank_volume(R,L,h03)"
   ]
  },
  {
   "cell_type": "code",
   "execution_count": 9,
   "metadata": {
    "collapsed": false
   },
   "outputs": [
    {
     "name": "stdout",
     "output_type": "stream",
     "text": [
      "4.92 days left if temperatures are the same\n"
     ]
    }
   ],
   "source": [
    "# days left with similar temperature\n",
    "tv = tank_volume(R,L,h03) / (tank_volume(R,L,h02)-tank_volume(R,L,h03))\n",
    "print('{0:.2f} days left if temperatures are the same'.format(tv))"
   ]
  },
  {
   "cell_type": "markdown",
   "metadata": {
    "collapsed": true
   },
   "source": [
    "Weather Yesterday [1/3/2016](http://www.wunderground.com/history/airport/KPHL/2016/1/3/DailyHistory.html?req_city=Ardmore&req_state=PA&req_statename=Pennsylvania&reqdb.zip=19003&reqdb.magic=1&reqdb.wmo=99999)  \n",
    "Heating Degree Days (base 65) = 25  \n",
    "Minimum Temperature = -1C  \n",
    "Maximum Temperature = 10C  \n",
    "Mean Temperature = 4C  "
   ]
  },
  {
   "cell_type": "code",
   "execution_count": 10,
   "metadata": {
    "collapsed": false
   },
   "outputs": [
    {
     "data": {
      "text/plain": [
       "13.407765495786903"
      ]
     },
     "execution_count": 10,
     "metadata": {},
     "output_type": "execute_result"
    }
   ],
   "source": [
    "# Monday January 4th 2016\n",
    "h04 = 3.75 # inches\n",
    "tank_volume(R,L,h04)"
   ]
  },
  {
   "cell_type": "code",
   "execution_count": 11,
   "metadata": {
    "collapsed": false
   },
   "outputs": [
    {
     "data": {
      "text/plain": [
       "4.012544914579143"
      ]
     },
     "execution_count": 11,
     "metadata": {},
     "output_type": "execute_result"
    }
   ],
   "source": [
    "# Gallons burned on 1/3/2016\n",
    "tank_volume(R,L,h03)-tank_volume(R,L,h04)"
   ]
  },
  {
   "cell_type": "code",
   "execution_count": 12,
   "metadata": {
    "collapsed": false
   },
   "outputs": [
    {
     "data": {
      "text/plain": [
       "3.3414617857787094"
      ]
     },
     "execution_count": 12,
     "metadata": {},
     "output_type": "execute_result"
    }
   ],
   "source": [
    "today = h04\n",
    "yesterday = h03\n",
    "# days left with similar temperature\n",
    "tank_volume(R,L,today) / (tank_volume(R,L,yesterday)-tank_volume(R,L,today))"
   ]
  },
  {
   "cell_type": "markdown",
   "metadata": {},
   "source": [
    "Today (Monday 01/04/16) is forecast to be Much Cooler than yesterday.  \n",
    "Today: High -1 | Low -9 °C  \n",
    "0% Chance of Precip.  \n",
    "Yesterday: High 10.4 | Low -3.1 °C  \n",
    "Precip. 0 mm  \n",
    "Tuesday similar  \n",
    "Wednesday like today.  "
   ]
  },
  {
   "cell_type": "code",
   "execution_count": 13,
   "metadata": {
    "collapsed": false
   },
   "outputs": [
    {
     "name": "stdout",
     "output_type": "stream",
     "text": [
      "2016-01-07 18:09:36\n"
     ]
    }
   ],
   "source": [
    "# predicted time of empty tank based on gallons burned 1/3\n",
    "import datetime\n",
    "print(datetime.datetime(2016,1,4,10,0) + datetime.timedelta(hours=3.34*24))"
   ]
  },
  {
   "cell_type": "code",
   "execution_count": 14,
   "metadata": {
    "collapsed": false
   },
   "outputs": [
    {
     "name": "stdout",
     "output_type": "stream",
     "text": [
      "2016-01-07 01:19:12\n"
     ]
    }
   ],
   "source": [
    "# expect burn of at least 5 gallons due to sub-zero temperatures (c)\n",
    "day3 = tank_volume(R,L,today)/5 - 2\n",
    "# predicted time with 2 days extra burn and 1 day similar to 1/3\n",
    "print(datetime.datetime(2016,1,6,9,0) + datetime.timedelta(hours=round(day3,2)*24))"
   ]
  },
  {
   "cell_type": "code",
   "execution_count": null,
   "metadata": {
    "collapsed": true
   },
   "outputs": [],
   "source": []
  }
 ],
 "metadata": {
  "kernelspec": {
   "display_name": "Python 2",
   "language": "python",
   "name": "python2"
  },
  "language_info": {
   "codemirror_mode": {
    "name": "ipython",
    "version": 2
   },
   "file_extension": ".py",
   "mimetype": "text/x-python",
   "name": "python",
   "nbconvert_exporter": "python",
   "pygments_lexer": "ipython2",
   "version": "2.7.6"
  }
 },
 "nbformat": 4,
 "nbformat_minor": 0
}
