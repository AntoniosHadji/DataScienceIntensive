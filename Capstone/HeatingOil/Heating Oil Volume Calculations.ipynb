{
 "cells": [
  {
   "cell_type": "markdown",
   "metadata": {},
   "source": [
    "http://mathworld.wolfram.com/HorizontalCylindricalSegment.html\n",
    "\n",
    "Calculating the volume of oil left in the Heating oil tank based on depth of fuel as measured by a tape measure.\n",
    "![Formula from Wolfram](http://mathworld.wolfram.com/images/equations/HorizontalCylindricalSegment/NumberedEquation1.gif)"
   ]
  },
  {
   "cell_type": "code",
   "execution_count": 1,
   "metadata": {
    "collapsed": true
   },
   "outputs": [],
   "source": [
    "import math\n",
    "import datetime"
   ]
  },
  {
   "cell_type": "code",
   "execution_count": 2,
   "metadata": {
    "collapsed": true
   },
   "outputs": [],
   "source": [
    "# Radius of circular segment in inches\n",
    "R = 11\n",
    "# Length of the tank\n",
    "L = 72"
   ]
  },
  {
   "cell_type": "code",
   "execution_count": 3,
   "metadata": {
    "collapsed": false
   },
   "outputs": [
    {
     "data": {
      "text/html": [
       "<div>\n",
       "<table border=\"1\" class=\"dataframe\">\n",
       "  <thead>\n",
       "    <tr style=\"text-align: right;\">\n",
       "      <th></th>\n",
       "      <th>height</th>\n",
       "      <th>gallons</th>\n",
       "      <th>temp-min</th>\n",
       "      <th>temp-mean</th>\n",
       "      <th>temp-max</th>\n",
       "      <th>hdd</th>\n",
       "      <th>prediction</th>\n",
       "    </tr>\n",
       "  </thead>\n",
       "  <tbody>\n",
       "    <tr>\n",
       "      <th>2015-01-02 09:00:00</th>\n",
       "      <td>5.125</td>\n",
       "      <td>NaN</td>\n",
       "      <td>NaN</td>\n",
       "      <td>NaN</td>\n",
       "      <td>NaN</td>\n",
       "      <td>NaN</td>\n",
       "      <td>NaN</td>\n",
       "    </tr>\n",
       "  </tbody>\n",
       "</table>\n",
       "</div>"
      ],
      "text/plain": [
       "                    height gallons temp-min temp-mean temp-max  hdd prediction\n",
       "2015-01-02 09:00:00  5.125     NaN      NaN       NaN      NaN  NaN        NaN"
      ]
     },
     "execution_count": 3,
     "metadata": {},
     "output_type": "execute_result"
    }
   ],
   "source": [
    "# Height of oil on 1/2/2016\n",
    "h = 5.125\n",
    "# setup dataframe to collect daily data\n",
    "index = pd.date_range(datetime.datetime(2015,1,2,9,0), periods=1, freq='D')\n",
    "columns = ['height','gallons','temp-min','temp-mean','temp-max','hdd','prediction']\n",
    "df = pd.DataFrame(index=index, columns=columns)\n",
    "df.set_value(index=df.index[0],col='height', value=h)\n",
    "df"
   ]
  },
  {
   "cell_type": "code",
   "execution_count": 4,
   "metadata": {
    "collapsed": true
   },
   "outputs": [],
   "source": [
    "def tank_volume(R,L,h):\n",
    "    ''' Calculate volume in cubic inches and convert to gallons\n",
    "     231 cubic inches = 1 gallon \n",
    "     R = Radius of circular section\n",
    "     L = Length of tank\n",
    "     h = height of liquid in tank\n",
    "    '''\n",
    "    \n",
    "    V = L * (R**2 * math.acos( (R-h)/R ) - (R-h) * math.sqrt(2*R*h - h**2))\n",
    "    return V/231\n"
   ]
  },
  {
   "cell_type": "code",
   "execution_count": 5,
   "metadata": {
    "collapsed": false
   },
   "outputs": [
    {
     "data": {
      "text/html": [
       "<div>\n",
       "<table border=\"1\" class=\"dataframe\">\n",
       "  <thead>\n",
       "    <tr style=\"text-align: right;\">\n",
       "      <th></th>\n",
       "      <th>height</th>\n",
       "      <th>gallons</th>\n",
       "      <th>temp-min</th>\n",
       "      <th>temp-mean</th>\n",
       "      <th>temp-max</th>\n",
       "      <th>hdd</th>\n",
       "      <th>prediction</th>\n",
       "    </tr>\n",
       "  </thead>\n",
       "  <tbody>\n",
       "    <tr>\n",
       "      <th>2015-01-02 09:00:00</th>\n",
       "      <td>5.125</td>\n",
       "      <td>20.9627</td>\n",
       "      <td>NaN</td>\n",
       "      <td>NaN</td>\n",
       "      <td>NaN</td>\n",
       "      <td>NaN</td>\n",
       "      <td>NaN</td>\n",
       "    </tr>\n",
       "  </tbody>\n",
       "</table>\n",
       "</div>"
      ],
      "text/plain": [
       "                    height  gallons temp-min temp-mean temp-max  hdd  \\\n",
       "2015-01-02 09:00:00  5.125  20.9627      NaN       NaN      NaN  NaN   \n",
       "\n",
       "                    prediction  \n",
       "2015-01-02 09:00:00        NaN  "
      ]
     },
     "execution_count": 5,
     "metadata": {},
     "output_type": "execute_result"
    }
   ],
   "source": [
    "# test function m\n",
    "h02 = h\n",
    "tv = tank_volume(R,L,h02)\n",
    "df.set_value(index=df.index[0],col='gallons', value=tv)\n",
    "df"
   ]
  },
  {
   "cell_type": "markdown",
   "metadata": {},
   "source": [
    "Weather Yesterday [1/2/2016](http://www.wunderground.com/history/airport/KPHL/2016/1/2/DailyHistory.html?req_city=Ardmore&req_state=PA&req_statename=Pennsylvania&reqdb.zip=19003&reqdb.magic=1&reqdb.wmo=99999)  \n",
    "Heating Degree Days (base 65) = 27  \n",
    "Minimum Temperature = -1C  \n",
    "Maximum Temperature = 7C  \n",
    "Mean Temperature = 3C   "
   ]
  },
  {
   "cell_type": "code",
   "execution_count": 6,
   "metadata": {
    "collapsed": true
   },
   "outputs": [],
   "source": [
    "# Height of oil on morning of 1/3/2016\n",
    "h03 = 4.5"
   ]
  },
  {
   "cell_type": "code",
   "execution_count": 7,
   "metadata": {
    "collapsed": false
   },
   "outputs": [
    {
     "data": {
      "text/plain": [
       "3.5423963599123844"
      ]
     },
     "execution_count": 7,
     "metadata": {},
     "output_type": "execute_result"
    }
   ],
   "source": [
    "# Gallons burned on 1/2/2016\n",
    "tank_volume(R,L,h02)-tank_volume(R,L,h03)"
   ]
  },
  {
   "cell_type": "code",
   "execution_count": 8,
   "metadata": {
    "collapsed": false
   },
   "outputs": [
    {
     "name": "stdout",
     "output_type": "stream",
     "text": [
      "4.92 days left if temperatures are the same\n"
     ]
    }
   ],
   "source": [
    "# days left with similar temperature\n",
    "tv = tank_volume(R,L,h03) / (tank_volume(R,L,h02)-tank_volume(R,L,h03))\n",
    "print('{0:.2f} days left if temperatures are the same'.format(tv))"
   ]
  },
  {
   "cell_type": "markdown",
   "metadata": {
    "collapsed": true
   },
   "source": [
    "Weather Yesterday [1/3/2016](http://www.wunderground.com/history/airport/KPHL/2016/1/3/DailyHistory.html?req_city=Ardmore&req_state=PA&req_statename=Pennsylvania&reqdb.zip=19003&reqdb.magic=1&reqdb.wmo=99999)  \n",
    "Heating Degree Days (base 65) = 25  \n",
    "Minimum Temperature = -1C  \n",
    "Maximum Temperature = 10C  \n",
    "Mean Temperature = 4C  "
   ]
  },
  {
   "cell_type": "code",
   "execution_count": 9,
   "metadata": {
    "collapsed": false
   },
   "outputs": [
    {
     "data": {
      "text/plain": [
       "13.407765495786903"
      ]
     },
     "execution_count": 9,
     "metadata": {},
     "output_type": "execute_result"
    }
   ],
   "source": [
    "# Monday January 4th 2016\n",
    "h04 = 3.75 # inches\n",
    "tank_volume(R,L,h04)"
   ]
  },
  {
   "cell_type": "code",
   "execution_count": 10,
   "metadata": {
    "collapsed": false
   },
   "outputs": [
    {
     "data": {
      "text/plain": [
       "4.012544914579143"
      ]
     },
     "execution_count": 10,
     "metadata": {},
     "output_type": "execute_result"
    }
   ],
   "source": [
    "# Gallons burned on 1/3/2016\n",
    "tank_volume(R,L,h03)-tank_volume(R,L,h04)"
   ]
  },
  {
   "cell_type": "code",
   "execution_count": 11,
   "metadata": {
    "collapsed": false
   },
   "outputs": [
    {
     "data": {
      "text/plain": [
       "3.3414617857787094"
      ]
     },
     "execution_count": 11,
     "metadata": {},
     "output_type": "execute_result"
    }
   ],
   "source": [
    "today = h04\n",
    "yesterday = h03\n",
    "# days left with similar temperature\n",
    "tank_volume(R,L,today) / (tank_volume(R,L,yesterday)-tank_volume(R,L,today))"
   ]
  },
  {
   "cell_type": "markdown",
   "metadata": {},
   "source": [
    "Today (Monday 01/04/16) is forecast to be Much Cooler than yesterday.  \n",
    "Today: High -1 | Low -9 °C  \n",
    "0% Chance of Precip.  \n",
    "Yesterday: High 10.4 | Low -3.1 °C  \n",
    "Precip. 0 mm  \n",
    "Tuesday similar  \n",
    "Wednesday like today.  "
   ]
  },
  {
   "cell_type": "code",
   "execution_count": 12,
   "metadata": {
    "collapsed": false
   },
   "outputs": [
    {
     "name": "stdout",
     "output_type": "stream",
     "text": [
      "2016-01-07 18:09:36\n"
     ]
    }
   ],
   "source": [
    "# predicted time of empty tank based on gallons burned 1/3\n",
    "print(datetime.datetime(2016,1,4,10,0) + datetime.timedelta(hours=3.34*24))"
   ]
  },
  {
   "cell_type": "code",
   "execution_count": 13,
   "metadata": {
    "collapsed": false
   },
   "outputs": [
    {
     "name": "stdout",
     "output_type": "stream",
     "text": [
      "2016-01-07 01:19:12\n"
     ]
    }
   ],
   "source": [
    "# expect burn of at least 5 gallons due to sub-zero temperatures (c)\n",
    "day3 = tank_volume(R,L,today)/5 - 2\n",
    "# predicted time with 2 days extra burn and 1 day similar to 1/3\n",
    "print(datetime.datetime(2016,1,6,9,0) + datetime.timedelta(hours=round(day3,2)*24))"
   ]
  },
  {
   "cell_type": "code",
   "execution_count": 14,
   "metadata": {
    "collapsed": false
   },
   "outputs": [
    {
     "data": {
      "text/plain": [
       "5.860112426095328"
      ]
     },
     "execution_count": 14,
     "metadata": {},
     "output_type": "execute_result"
    }
   ],
   "source": [
    "# Tuesday January 5th 10am\n",
    "h05 = 2.125 # inches\n",
    "today = h05\n",
    "yesterday = h04\n",
    "tank_volume(R,L,today)"
   ]
  },
  {
   "cell_type": "code",
   "execution_count": 15,
   "metadata": {
    "collapsed": false
   },
   "outputs": [
    {
     "data": {
      "text/plain": [
       "7.547653069691575"
      ]
     },
     "execution_count": 15,
     "metadata": {},
     "output_type": "execute_result"
    }
   ],
   "source": [
    "# Gallons burned on 1/4/2016\n",
    "tank_volume(R,L,yesterday)-tank_volume(R,L,today)"
   ]
  },
  {
   "cell_type": "markdown",
   "metadata": {},
   "source": [
    "Weather Yesterday [1/4/2016](http://www.wunderground.com/history/airport/KPHL/2016/1/4/DailyHistory.html?req_city=Ardmore&req_state=PA&req_statename=Pennsylvania&reqdb.zip=19003&reqdb.magic=1&reqdb.wmo=99999)  \n",
    "Heating Degree Days (base 65) = 25  \n",
    "Minimum Temperature = -10C  \n",
    "Maximum Temperature = 3C  \n",
    "Mean Temperature = -3C  \n",
    "\n",
    "Predicted range for 1/5/16: High -1 | Low -8 °C  \n",
    "Predicted range for 1/6/16: High 5 | Low -4 °C  "
   ]
  },
  {
   "cell_type": "code",
   "execution_count": 16,
   "metadata": {
    "collapsed": false
   },
   "outputs": [
    {
     "name": "stdout",
     "output_type": "stream",
     "text": [
      "0.78 days to empty\n",
      "2016-01-06 04:43:12\n",
      "2016-01-06 06:24:00\n"
     ]
    }
   ],
   "source": [
    "# expect similar burn with todays cold weather\n",
    "burntimeleft = tank_volume(R,L,today) / (tank_volume(R,L,yesterday)-tank_volume(R,L,today))\n",
    "print(\"{0:.2f} days to empty\".format(burntimeleft))\n",
    "print(datetime.datetime(2016,1,5,10,0) + datetime.timedelta(hours=round(burntimeleft,2)*24))\n",
    "print(datetime.datetime(2016,1,5,10,0) + datetime.timedelta(hours=round(burntimeleft*1.1,2)*24))"
   ]
  },
  {
   "cell_type": "code",
   "execution_count": 17,
   "metadata": {
    "collapsed": false
   },
   "outputs": [
    {
     "data": {
      "text/plain": [
       "3.506861477509246"
      ]
     },
     "execution_count": 17,
     "metadata": {},
     "output_type": "execute_result"
    }
   ],
   "source": [
    "# Nozzle on tank is 1.5 inches off the bottom of the tank\n",
    "tank_volume(R,L,1.5)"
   ]
  },
  {
   "cell_type": "markdown",
   "metadata": {},
   "source": [
    "Drilled hole below outlet to tank and the oil is dripping slowly out of the tank.  I expected the rest of the oil to gush out into my waiting containers.  \n",
    "\n",
    "**Explanations**\n",
    " 1. The tank is not level.\n",
    " 2. The tank is dual wall tech and I have drilled between walls (unlikely due to age)\n",
    " 3. There is gunk blocking the flow of oil out of the tank. (this was verified)"
   ]
  },
  {
   "cell_type": "code",
   "execution_count": 18,
   "metadata": {
    "collapsed": false
   },
   "outputs": [
    {
     "data": {
      "text/plain": [
       "3.5185185185185186"
      ]
     },
     "execution_count": 18,
     "metadata": {},
     "output_type": "execute_result"
    }
   ],
   "source": [
    "# 5 gallons is at approximately 13.5 inches on the bucket\n",
    "5*(9.5/13.5)"
   ]
  },
  {
   "cell_type": "code",
   "execution_count": 19,
   "metadata": {
    "collapsed": false
   },
   "outputs": [
    {
     "name": "stdout",
     "output_type": "stream",
     "text": [
      "1 day, 11:30:00\n"
     ]
    }
   ],
   "source": [
    "print(datetime.datetime(2016,1,7,8,0) - datetime.datetime(2016,1,5,20,30))"
   ]
  },
  {
   "cell_type": "code",
   "execution_count": 20,
   "metadata": {
    "collapsed": false
   },
   "outputs": [
    {
     "data": {
      "text/plain": [
       "5.177083333333334"
      ]
     },
     "execution_count": 20,
     "metadata": {},
     "output_type": "execute_result"
    }
   ],
   "source": [
    "# predict required gallons\n",
    "3.5*(1+11.5/24)"
   ]
  },
  {
   "cell_type": "code",
   "execution_count": 21,
   "metadata": {
    "collapsed": false
   },
   "outputs": [
    {
     "data": {
      "text/plain": [
       "3.1739130434782608"
      ]
     },
     "execution_count": 21,
     "metadata": {},
     "output_type": "execute_result"
    }
   ],
   "source": [
    "# 2 gallons == 5.75 inches exact measurement after fuel fill up\n",
    "9.125/(5.75/2)"
   ]
  },
  {
   "cell_type": "markdown",
   "metadata": {},
   "source": [
    "as of 1/5/2016 21:00 there is a full 5 gallons + available to the burner.  \n",
    "The oil is dirty due to including the ~1 gallon that came out of the drilled holes.  I suspect the filter will be able to handle the dirt without getting totally clogged. The ratio of dirt to fuel must be less than if I had poured the new fuel into the tank.  "
   ]
  },
  {
   "cell_type": "markdown",
   "metadata": {
    "collapsed": true
   },
   "source": [
    "The interior of the bucket is a conical frustrum.\n",
    "http://mathworld.wolfram.com/ConicalFrustum.html\n",
    "\n",
    "The volume is given by\n",
    "![VolumeFrustramWolfram](http://mathworld.wolfram.com/images/equations/ConicalFrustum/Inline18.gif)"
   ]
  },
  {
   "cell_type": "code",
   "execution_count": 27,
   "metadata": {
    "collapsed": true
   },
   "outputs": [],
   "source": [
    "# this is an orange homer bucket from Home Depot\n",
    "R1=11.25/2\n",
    "R2=9.875/2\n",
    "h=6.375\n",
    "def bucket_volume(h,R1,R2):\n",
    "    return ((1/3)*math.pi*h*(R1**2 + R1*R2 +R2**2))/231"
   ]
  },
  {
   "cell_type": "code",
   "execution_count": 28,
   "metadata": {
    "collapsed": false
   },
   "outputs": [
    {
     "data": {
      "text/plain": [
       "2.4216111340947752"
      ]
     },
     "execution_count": 28,
     "metadata": {},
     "output_type": "execute_result"
    }
   ],
   "source": [
    "bucket_volume(h,R1,R2) # 8:45am 1/6/2016"
   ]
  },
  {
   "cell_type": "code",
   "execution_count": 30,
   "metadata": {
    "collapsed": false
   },
   "outputs": [
    {
     "data": {
      "text/plain": [
       "1.6618899939866103"
      ]
     },
     "execution_count": 30,
     "metadata": {},
     "output_type": "execute_result"
    }
   ],
   "source": [
    "h=4.875-.5 # 10:20 1/6/2016\n",
    "bucket_volume(h,R1,R2)"
   ]
  },
  {
   "cell_type": "code",
   "execution_count": 32,
   "metadata": {
    "collapsed": false
   },
   "outputs": [
    {
     "data": {
      "text/plain": [
       "1.4719597089595693"
      ]
     },
     "execution_count": 32,
     "metadata": {},
     "output_type": "execute_result"
    }
   ],
   "source": [
    "h=4.375-.5 # 11:27 1/6/2016\n",
    "bucket_volume(h,R1,R2)"
   ]
  },
  {
   "cell_type": "code",
   "execution_count": 33,
   "metadata": {
    "collapsed": false
   },
   "outputs": [
    {
     "data": {
      "text/plain": [
       "7.3597985447978465"
      ]
     },
     "execution_count": 33,
     "metadata": {},
     "output_type": "execute_result"
    }
   ],
   "source": [
    "# Hours left prediction\n",
    "bucket_volume(h,R1,R2)/.2"
   ]
  },
  {
   "cell_type": "code",
   "execution_count": 35,
   "metadata": {
    "collapsed": false
   },
   "outputs": [
    {
     "data": {
      "text/plain": [
       "1.3295119951892884"
      ]
     },
     "execution_count": 35,
     "metadata": {},
     "output_type": "execute_result"
    }
   ],
   "source": [
    "h = 4 - 0.5 # 12:33 1/6/2016\n",
    "bucket_volume(h,R1,R2)"
   ]
  },
  {
   "cell_type": "code",
   "execution_count": 36,
   "metadata": {
    "collapsed": false
   },
   "outputs": [
    {
     "data": {
      "text/plain": [
       "9.496514251352059"
      ]
     },
     "execution_count": 36,
     "metadata": {},
     "output_type": "execute_result"
    }
   ],
   "source": [
    "# Hours left prediction\n",
    "bucket_volume(h,R1,R2)/.14"
   ]
  },
  {
   "cell_type": "code",
   "execution_count": 37,
   "metadata": {
    "collapsed": false
   },
   "outputs": [
    {
     "data": {
      "text/plain": [
       "1.282029423932528"
      ]
     },
     "execution_count": 37,
     "metadata": {},
     "output_type": "execute_result"
    }
   ],
   "source": [
    "h = 3.875 - 0.5 # 01:40 1/6/2016\n",
    "bucket_volume(h,R1,R2)"
   ]
  },
  {
   "cell_type": "code",
   "execution_count": 39,
   "metadata": {
    "collapsed": false
   },
   "outputs": [
    {
     "data": {
      "text/plain": [
       "6.41014711966264"
      ]
     },
     "execution_count": 39,
     "metadata": {},
     "output_type": "execute_result"
    }
   ],
   "source": [
    "# Hours left prediction\n",
    "bucket_volume(h,R1,R2)/.2"
   ]
  }
 ],
 "metadata": {
  "kernelspec": {
   "display_name": "Python 2",
   "language": "python",
   "name": "python2"
  },
  "language_info": {
   "codemirror_mode": {
    "name": "ipython",
    "version": 2
   },
   "file_extension": ".py",
   "mimetype": "text/x-python",
   "name": "python",
   "nbconvert_exporter": "python",
   "pygments_lexer": "ipython2",
   "version": "2.7.6"
  }
 },
 "nbformat": 4,
 "nbformat_minor": 0
}
